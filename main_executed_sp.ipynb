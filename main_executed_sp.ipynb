{
 "cells": [
  {
   "cell_type": "code",
   "execution_count": null,
   "id": "f0db1901",
   "metadata": {
    "lines_to_next_cell": 0
   },
   "outputs": [],
   "source": []
  },
  {
   "cell_type": "markdown",
   "id": "97f35231",
   "metadata": {},
   "source": [
    "# Introduction\n",
    "\n",
    "This work presents a constrained combinatorial optimization approach to the **Sports League Assignment Problem** using **Genetic Algorithms (GAs)**. The objective is to allocate a fixed pool of professional players into a set of 5 structurally valid teams in such a way that the **standard deviation of the teams\\\\' average skill ratings** is minimized—promoting competitive balance across the league.\n",
    "\n",
    "Each player is defined by three attributes: **position** (one of `GK`, `DEF`, `MID`, `FWD`), **skill rating** (a numerical measure of ability), and **cost** (in million euros). A valid solution must satisfy the following **hard constraints**:\n",
    "\n",
    "- Each team must consist of exactly **7 players**, with a specific positional structure: **1 GK, 2 DEF, 2 MID, and 2 FWD**\n",
    "- Each team must have a **total cost ≤ 750 million €**\n",
    "- Each player must be assigned to **exactly one team** (no overlaps)\n",
    "\n",
    "The **search space** is therefore highly constrained and discrete, and infeasible configurations are explicitly excluded from the solution space. The optimization objective is to identify league configurations where teams are not only valid but also **skill-balanced**, quantified by the **standard deviation of average skill ratings across teams**, which serves as the **fitness function** (to be minimized).\n",
    "\n",
    "To address this, we implement a domain-adapted **Genetic Algorithm framework** featuring:\n",
    "\n",
    "- A custom **representation** based on team-to-player mappings\n",
    "- Validity-preserving **mutation** and **crossover** operators\n",
    "- Multiple **selection mechanisms**\n",
    "- Optional **elitism** and population-level diversity handling\n",
    "\n",
    "This report provides a formal problem definition, details the design of the solution encoding and operators, and presents empirical results comparing different GA configurations. The overall objective is to evaluate how well GA-based metaheuristics can navigate this complex constrained search space and evolve solutions that both satisfy domain constraints and optimize league balance.\n",
    "\n",
    "In addition to Genetic Algorithms, this project also explores and evaluates alternative optimization strategies, such as **Hill Climbing** and **Simulated Annealing**, which are well-suited for navigating discrete and constrained search spaces. These algorithms offer different trade-offs in terms of exploration, exploitation, and convergence speed. By implementing and benchmarking multiple approaches on the same problem, we aim to gain deeper insights into their relative effectiveness and robustness when applied to complex constrained optimization tasks such as the Sports League Assignment. This comparative analysis enhances the interpretability of results and supports a broader understanding of the strengths and limitations of population-based versus local search-based heuristics."
   ]
  },
  {
   "cell_type": "markdown",
   "id": "0ed88925",
   "metadata": {},
   "source": [
    "## Cell 1: Setup and Critical Data Loading"
   ]
  },
  {
   "cell_type": "code",
   "execution_count": 1,
   "id": "385ff91f",
   "metadata": {
    "execution": {
     "iopub.execute_input": "2025-05-14T00:19:57.134086Z",
     "iopub.status.busy": "2025-05-14T00:19:57.133775Z",
     "iopub.status.idle": "2025-05-14T00:19:58.000879Z",
     "shell.execute_reply": "2025-05-14T00:19:57.999791Z"
    }
   },
   "outputs": [],
   "source": [
    "import pandas as pd\n",
    "import numpy as np\n",
    "import matplotlib.pyplot as plt\n",
    "import time\n",
    "from solution import LeagueSolution, LeagueHillClimbingSolution, LeagueSASolution\n",
    "# Updated import for refactored evolution.py\n",
    "from evolution import genetic_algorithm, hill_climbing, simulated_annealing \n",
    "from operators import (\n",
    "    # Base Mutations (examples, can be used for comparison)\n",
    "    # mutate_swap, \n",
    "    # mutate_team_shift,\n",
    "    # mutate_shuffle_team, \n",
    "    # New/Adapted Mutations\n",
    "    mutate_swap_constrained,\n",
    "    mutate_targeted_player_exchange,\n",
    "    mutate_shuffle_within_team_constrained,\n",
    "    # Base Crossovers (examples, can be used for comparison)\n",
    "    # crossover_one_point,\n",
    "    # crossover_uniform,\n",
    "    # New/Adapted Crossovers\n",
    "    crossover_one_point_prefer_valid,\n",
    "    crossover_uniform_prefer_valid,\n",
    "    # Base Selections (examples, can be used for comparison)\n",
    "    selection_ranking,\n",
    "    # New/Adapted Selections\n",
    "    selection_tournament_variable_k,\n",
    "    selection_boltzmann\n",
    ")\n",
    "\n",
    "# Load player data\n",
    "players_df = pd.read_csv(\"players.csv\", sep=\";\")\n",
    "players_data = players_df.to_dict(orient=\"records\") # Renamed to players_data for clarity"
   ]
  },
  {
   "cell_type": "markdown",
   "id": "64fd7a2d",
   "metadata": {},
   "source": [
    "## Cell 2: Further Setup, Data Inspection, and Experiment Parameters"
   ]
  },
  {
   "cell_type": "code",
   "execution_count": 2,
   "id": "815da33b",
   "metadata": {
    "execution": {
     "iopub.execute_input": "2025-05-14T00:19:58.004494Z",
     "iopub.status.busy": "2025-05-14T00:19:58.004186Z",
     "iopub.status.idle": "2025-05-14T00:19:58.010377Z",
     "shell.execute_reply": "2025-05-14T00:19:58.009511Z"
    },
    "lines_to_next_cell": 2
   },
   "outputs": [
    {
     "name": "stdout",
     "output_type": "stream",
     "text": [
      "Player data loaded successfully.\n",
      "Total players: 35\n",
      "First player data: {'Unnamed: 0': 0, 'Name': 'Alex Carter', 'Position': 'GK', 'Skill': 85, 'Salary (€M)': 90}\n",
      "\n",
      "Stochastic algorithms (SA, GA) will be run 30 times each.\n"
     ]
    }
   ],
   "source": [
    "# Define problem parameters\n",
    "NUM_TEAMS = 5\n",
    "TEAM_SIZE = 7\n",
    "MAX_BUDGET = 750\n",
    "\n",
    "# Define number of runs for stochastic algorithms\n",
    "NUM_RUNS = 30 # Parameter for number of runs (e.g., 10, 30)\n",
    "\n",
    "print(\"Player data loaded successfully.\") \n",
    "print(f\"Total players: {len(players_data)}\")\n",
    "if players_data:\n",
    "    print(\"First player data:\", players_data[0])\n",
    "players_df.head()\n",
    "print(f\"\\nStochastic algorithms (SA, GA) will be run {NUM_RUNS} times each.\")"
   ]
  },
  {
   "cell_type": "markdown",
   "id": "b6efece9",
   "metadata": {},
   "source": [
    "## Problem Representation Details (from original notebook)"
   ]
  },
  {
   "cell_type": "markdown",
   "id": "323684e2",
   "metadata": {},
   "source": [
    "### A. Team-based Representation (Structured Encoding)\n",
    "\n",
    "Let:\n",
    "\n",
    "- $P = \\{p_1, p_2, \\dots, p_{35}\\}$ be the set of players  \n",
    "- $T = \\{t_1, t_2, \\dots, t_5\\}$ be the set of teams\n",
    "\n",
    "Define the assignment function:\n",
    "\n",
    "$$\n",
    "A: P \\rightarrow T\n",
    "$$\n",
    "\n",
    "such that each player is assigned to exactly one team, and the following constraints are satisfied:\n",
    "\n",
    "**Team Size:**\n",
    "\n",
    "$$\n",
    "\\forall t_j \\in T,\\quad \\left|\\{p_i \\in P \\mid A(p_i) = t_j\\}\\right| = 7\n",
    "$$\n",
    "\n",
    "**Positional Requirements:** For each team $t_j \\in T$:\n",
    "\n",
    "$$\n",
    "\\begin{aligned}\n",
    "&|\\{p_i \\in P \\mid A(p_i) = t_j \\land pos(p_i) = \\text{GK}\\}| = 1 \\\\\n",
    "&|\\{p_i \\in P \\mid A(p_i) = t_j \\land pos(p_i) = \\text{DEF}\\}| = 2 \\\\\n",
    "&|\\{p_i \\in P \\mid A(p_i) = t_j \\land pos(p_i) = \\text{MID}\\}| = 2 \\\\\n",
    "&|\\{p_i \\in P \\mid A(p_i) = t_j \\land pos(p_i) = \\text{FWD}\\}| = 2\n",
    "\\end{aligned}\n",
    "$$\n",
    "\n",
    "**Budget Constraint:**\n",
    "\n",
    "$$\n",
    "\\forall t_j \\in T,\\quad \\sum_{p_i \\in P \\mid A(p_i) = t_j} cost(p_i) \\leq 750\n",
    "$$\n",
    "\n",
    "**Objective Function:** Minimize the standard deviation of average team skill:\n",
    "\n",
    "$$\n",
    "f(A) = \\sigma\\left(\\left\\{\\frac{1}{7} \\sum_{p_i \\in P \\mid A(p_i) = t_j} skill(p_i) \\,\\middle|\\, t_j \\in T\\right\\}\\right)\n",
    "$$"
   ]
  },
  {
   "cell_type": "markdown",
   "id": "84508744",
   "metadata": {},
   "source": [
    "### B. Player-assignment Representation (Linear Encoding) - This is what is implemented\n",
    "\n",
    "Let:\n",
    "\n",
    "- $P = \\{p_1, p_2, \\dots, p_{35}\\}$ be the set of players  \n",
    "- $T = \\{0, 1, 2, 3, 4\\}$ be team IDs\n",
    "\n",
    "A solution is represented by a vector:\n",
    "\n",
    "$$\n",
    "\\mathbf{a} = [a_1, a_2, \\dots, a_{35}] \\in T^{35}\n",
    "$$\n",
    "\n",
    "where $a_i$ is the team assignment for player $p_i$.\n",
    "\n",
    "**Team Definitions:**\n",
    "\n",
    "$$\n",
    "P_j = \\{p_i \\in P \\mid a_i = j\\}, \\quad \\forall j \\in T\n",
    "$$\n",
    "\n",
    "**Constraints:**\n",
    "\n",
    "$$\n",
    "|P_j| = 7 \\quad \\text{and}\n",
    "$$\n",
    "\n",
    "$$\n",
    "\\begin{aligned}\n",
    "&|\\{p \\in P_j \\mid pos(p) = \\text{GK}\\}| = 1 \\\\\n",
    "&|\\{p \\in P_j \\mid pos(p) = \\text{DEF}\\}| = 2 \\\\\n",
    "&|\\{p \\in P_j \\mid pos(p) = \\text{MID}\\}| = 2 \\\\\n",
    "&|\\{p \\in P_j \\mid pos(p) = \\text{FWD}\\}| = 2 \\\\\n",
    "&\\sum_{p \\in P_j} cost(p) \\leq 750\n",
    "\\end{aligned}\n",
    "$$\n",
    "\n",
    "**Objective Function:**\n",
    "\n",
    "$$\n",
    "f(\\mathbf{a}) = \\sigma\\left(\\left\\{\\frac{1}{7} \\sum_{p \\in P_j} skill(p) \\,\\middle|\\, j \\in T\\right\\}\\right)\n",
    "$$"
   ]
  },
  {
   "cell_type": "markdown",
   "id": "33d005ef",
   "metadata": {},
   "source": [
    "## 1. Hill Climbing\n",
    "\n",
    "Hill Climbing is a local search algorithm that iteratively moves towards an increasingly optimal solution by choosing the best neighbor. It is simple and fast but can get stuck in local optima. It is run once as it is deterministic for a given starting point."
   ]
  },
  {
   "cell_type": "code",
   "execution_count": 3,
   "id": "4edc39d3",
   "metadata": {
    "execution": {
     "iopub.execute_input": "2025-05-14T00:19:58.013504Z",
     "iopub.status.busy": "2025-05-14T00:19:58.013231Z",
     "iopub.status.idle": "2025-05-14T00:19:58.772201Z",
     "shell.execute_reply": "2025-05-14T00:19:58.771151Z"
    }
   },
   "outputs": [
    {
     "name": "stdout",
     "output_type": "stream",
     "text": [
      "Running Hill Climbing Algorithm (1 run)...\n",
      "Hill Climbing finished in 0.12 seconds.\n",
      "Best solution found by Hill Climbing: [1, 4, 0, 3, 2, 2, 3, 3, 4, 0, 1, 4, 0, 0, 2, 2, 3, 1, 4, 3, 4, 0, 0, 2, 1, 3, 1, 4, 0, 3, 1, 1, 4, 2, 2]\n",
      "Best fitness: 0.05714285714285552\n"
     ]
    },
    {
     "data": {
      "image/png": "[encoded data removed]",
      "text/plain": [
       "<Figure size 1000x600 with 1 Axes>"
      ]
     },
     "metadata": {},
     "output_type": "display_data"
    }
   ],
   "source": [
    "print(\"Running Hill Climbing Algorithm (1 run)...\")\n",
    "start_time_hc = time.time()\n",
    "\n",
    "# Create and validate initial solution for Hill Climbing\n",
    "initial_hc_solution = LeagueHillClimbingSolution(num_teams=NUM_TEAMS, team_size=TEAM_SIZE, max_budget=MAX_BUDGET)\n",
    "while not initial_hc_solution.is_valid(players_data):\n",
    "    initial_hc_solution = LeagueHillClimbingSolution(num_teams=NUM_TEAMS, team_size=TEAM_SIZE, max_budget=MAX_BUDGET)\n",
    "\n",
    "hc_solution_obj, hc_fitness_val, hc_history_convergence = hill_climbing(\n",
    "    initial_solution=initial_hc_solution, \n",
    "    players_data=players_data, \n",
    "    max_iterations=1000, \n",
    "    verbose=False\n",
    ")\n",
    "end_time_hc = time.time()\n",
    "hc_exec_time = end_time_hc - start_time_hc\n",
    "\n",
    "print(f\"Hill Climbing finished in {hc_exec_time:.2f} seconds.\")\n",
    "if hc_solution_obj:\n",
    "    print(f\"Best solution found by Hill Climbing: {hc_solution_obj.assignment}\")\n",
    "    print(f\"Best fitness: {hc_fitness_val}\")\n",
    "else:\n",
    "    print(\"Hill Climbing did not find a valid solution.\")\n",
    "\n",
    "# Plot Hill Climbing History\n",
    "plt.figure(figsize=(10, 6))\n",
    "plt.plot(hc_history_convergence, marker='o', linestyle='-')\n",
    "plt.title('Hill Climbing Convergence (Single Run)')\n",
    "plt.xlabel('Improvement Step')\n",
    "plt.ylabel('Fitness (Std Dev of Avg Team Skills)')\n",
    "plt.grid(True)\n",
    "plt.show()"
   ]
  },
  {
   "cell_type": "markdown",
   "id": "57727d27",
   "metadata": {},
   "source": [
    "## 2. Simulated Annealing\n",
    "\n",
    "Simulated Annealing is a probabilistic technique. We will run it multiple times to get statistical measures of its performance."
   ]
  },
  {
   "cell_type": "code",
   "execution_count": 4,
   "id": "04a9e1e4",
   "metadata": {
    "execution": {
     "iopub.execute_input": "2025-05-14T00:19:58.775413Z",
     "iopub.status.busy": "2025-05-14T00:19:58.775103Z",
     "iopub.status.idle": "2025-05-14T00:25:01.279817Z",
     "shell.execute_reply": "2025-05-14T00:25:01.278189Z"
    }
   },
   "outputs": [
    {
     "name": "stdout",
     "output_type": "stream",
     "text": [
      "Running Simulated Annealing Algorithm (30 runs)...\n",
      "  SA Run 1/30...\n"
     ]
    },
    {
     "name": "stdout",
     "output_type": "stream",
     "text": [
      "  SA Run 2/30...\n"
     ]
    },
    {
     "name": "stdout",
     "output_type": "stream",
     "text": [
      "  SA Run 3/30...\n"
     ]
    },
    {
     "name": "stdout",
     "output_type": "stream",
     "text": [
      "  SA Run 4/30...\n"
     ]
    },
    {
     "name": "stdout",
     "output_type": "stream",
     "text": [
      "  SA Run 5/30...\n"
     ]
    },
    {
     "name": "stdout",
     "output_type": "stream",
     "text": [
      "  SA Run 6/30...\n"
     ]
    },
    {
     "name": "stdout",
     "output_type": "stream",
     "text": [
      "  SA Run 7/30...\n"
     ]
    },
    {
     "name": "stdout",
     "output_type": "stream",
     "text": [
      "  SA Run 8/30...\n"
     ]
    },
    {
     "name": "stdout",
     "output_type": "stream",
     "text": [
      "  SA Run 9/30...\n"
     ]
    },
    {
     "name": "stdout",
     "output_type": "stream",
     "text": [
      "  SA Run 10/30...\n"
     ]
    },
    {
     "name": "stdout",
     "output_type": "stream",
     "text": [
      "  SA Run 11/30...\n"
     ]
    },
    {
     "name": "stdout",
     "output_type": "stream",
     "text": [
      "  SA Run 12/30...\n"
     ]
    },
    {
     "name": "stdout",
     "output_type": "stream",
     "text": [
      "  SA Run 13/30...\n"
     ]
    },
    {
     "name": "stdout",
     "output_type": "stream",
     "text": [
      "  SA Run 14/30...\n"
     ]
    },
    {
     "name": "stdout",
     "output_type": "stream",
     "text": [
      "  SA Run 15/30...\n"
     ]
    },
    {
     "name": "stdout",
     "output_type": "stream",
     "text": [
      "  SA Run 16/30...\n"
     ]
    },
    {
     "name": "stdout",
     "output_type": "stream",
     "text": [
      "  SA Run 17/30...\n"
     ]
    },
    {
     "name": "stdout",
     "output_type": "stream",
     "text": [
      "  SA Run 18/30...\n"
     ]
    },
    {
     "name": "stdout",
     "output_type": "stream",
     "text": [
      "  SA Run 19/30...\n"
     ]
    },
    {
     "name": "stdout",
     "output_type": "stream",
     "text": [
      "  SA Run 20/30...\n"
     ]
    },
    {
     "name": "stdout",
     "output_type": "stream",
     "text": [
      "  SA Run 21/30...\n"
     ]
    },
    {
     "name": "stdout",
     "output_type": "stream",
     "text": [
      "  SA Run 22/30...\n"
     ]
    },
    {
     "name": "stdout",
     "output_type": "stream",
     "text": [
      "  SA Run 23/30...\n"
     ]
    },
    {
     "name": "stdout",
     "output_type": "stream",
     "text": [
      "  SA Run 24/30...\n"
     ]
    },
    {
     "name": "stdout",
     "output_type": "stream",
     "text": [
      "  SA Run 25/30...\n"
     ]
    },
    {
     "name": "stdout",
     "output_type": "stream",
     "text": [
      "  SA Run 26/30...\n"
     ]
    },
    {
     "name": "stdout",
     "output_type": "stream",
     "text": [
      "  SA Run 27/30...\n"
     ]
    },
    {
     "name": "stdout",
     "output_type": "stream",
     "text": [
      "  SA Run 28/30...\n"
     ]
    },
    {
     "name": "stdout",
     "output_type": "stream",
     "text": [
      "  SA Run 29/30...\n"
     ]
    },
    {
     "name": "stdout",
     "output_type": "stream",
     "text": [
      "  SA Run 30/30...\n"
     ]
    },
    {
     "name": "stdout",
     "output_type": "stream",
     "text": [
      "Simulated Annealing (30 runs) finished.\n",
      "  Mean Best Fitness: 0.0588\n",
      "  Std Dev Best Fitness: 0.0089\n",
      "  Mean Execution Time: 9.81s\n",
      "  Overall Best SA Fitness: 0.0571\n"
     ]
    },
    {
     "data": {
      "image/png": "[encoded data removed]",
      "text/plain": [
       "<Figure size 1000x600 with 1 Axes>"
      ]
     },
     "metadata": {},
     "output_type": "display_data"
    }
   ],
   "source": [
    "print(f\"Running Simulated Annealing Algorithm ({NUM_RUNS} runs)...\")\n",
    "\n",
    "sa_all_fitness_values = []\n",
    "sa_all_exec_times = []\n",
    "best_sa_solution_overall = None\n",
    "best_sa_fitness_overall = float('inf')\n",
    "best_sa_history_overall = []\n",
    "\n",
    "sa_params = {\n",
    "    'initial_temp': 1000,\n",
    "    'final_temp': 0.1,\n",
    "    'alpha': 0.99,\n",
    "    'iterations_per_temp': 50\n",
    "}\n",
    "\n",
    "for i in range(NUM_RUNS):\n",
    "    print(f\"  SA Run {i+1}/{NUM_RUNS}...\")\n",
    "    # Create and validate initial solution for each SA run\n",
    "    initial_sa_solution = LeagueSASolution(num_teams=NUM_TEAMS, team_size=TEAM_SIZE, max_budget=MAX_BUDGET)\n",
    "    while not initial_sa_solution.is_valid(players_data):\n",
    "        initial_sa_solution = LeagueSASolution(num_teams=NUM_TEAMS, team_size=TEAM_SIZE, max_budget=MAX_BUDGET)\n",
    "\n",
    "    start_time_sa_run = time.time()\n",
    "    # Call refactored simulated_annealing function\n",
    "    sa_solution_run, sa_fitness_run, sa_history_run = simulated_annealing(\n",
    "        initial_solution=initial_sa_solution,\n",
    "        players_data=players_data,\n",
    "        initial_temp=sa_params['initial_temp'],\n",
    "        final_temp=sa_params['final_temp'],\n",
    "        alpha=sa_params['alpha'],\n",
    "        iterations_per_temp=sa_params['iterations_per_temp'],\n",
    "        verbose=False\n",
    "    )\n",
    "    end_time_sa_run = time.time()\n",
    "    \n",
    "    if sa_solution_run:\n",
    "        sa_all_fitness_values.append(sa_fitness_run)\n",
    "        sa_all_exec_times.append(end_time_sa_run - start_time_sa_run)\n",
    "        if sa_fitness_run < best_sa_fitness_overall:\n",
    "            best_sa_fitness_overall = sa_fitness_run\n",
    "            best_sa_solution_overall = sa_solution_run\n",
    "            best_sa_history_overall = sa_history_run\n",
    "    else:\n",
    "        print(f\"  SA Run {i+1} did not find a valid solution.\")\n",
    "\n",
    "sa_mean_fitness = np.mean(sa_all_fitness_values) if sa_all_fitness_values else float('nan')\n",
    "sa_std_fitness = np.std(sa_all_fitness_values) if sa_all_fitness_values else float('nan')\n",
    "sa_mean_exec_time = np.mean(sa_all_exec_times) if sa_all_exec_times else float('nan')\n",
    "\n",
    "print(f\"Simulated Annealing ({NUM_RUNS} runs) finished.\")\n",
    "print(f\"  Mean Best Fitness: {sa_mean_fitness:.4f}\")\n",
    "print(f\"  Std Dev Best Fitness: {sa_std_fitness:.4f}\")\n",
    "print(f\"  Mean Execution Time: {sa_mean_exec_time:.2f}s\")\n",
    "if best_sa_solution_overall:\n",
    "    print(f\"  Overall Best SA Fitness: {best_sa_fitness_overall:.4f}\")\n",
    "    # print(f\"  Overall Best SA Solution: {best_sa_solution_overall.assignment}\")\n",
    "\n",
    "    # Plot Simulated Annealing History for the best run\n",
    "    plt.figure(figsize=(10, 6))\n",
    "    plt.plot(best_sa_history_overall, linestyle='-')\n",
    "    plt.title(f'Simulated Annealing Convergence (Best of {NUM_RUNS} Runs)')\n",
    "    plt.xlabel('Iteration Step')\n",
    "    plt.ylabel('Fitness (Std Dev of Avg Team Skills)')\n",
    "    plt.grid(True)\n",
    "    plt.show()\n",
    "else:\n",
    "    print(\"Simulated Annealing did not find any valid solution across all runs.\")"
   ]
  },
  {
   "cell_type": "markdown",
   "id": "8e35b354",
   "metadata": {},
   "source": [
    "## 3. Genetic Algorithm with New/Adapted Operators\n",
    "\n",
    "Genetic Algorithms are also stochastic. We will run each configuration multiple times."
   ]
  },
  {
   "cell_type": "code",
   "execution_count": 5,
   "id": "f649ff85",
   "metadata": {
    "execution": {
     "iopub.execute_input": "2025-05-14T00:25:01.285137Z",
     "iopub.status.busy": "2025-05-14T00:25:01.283742Z",
     "iopub.status.idle": "2025-05-14T00:27:48.506290Z",
     "shell.execute_reply": "2025-05-14T00:27:48.505286Z"
    }
   },
   "outputs": [
    {
     "name": "stdout",
     "output_type": "stream",
     "text": [
      "Running Genetic Algorithm with NEW/ADAPTED operator configurations (30 runs each)...\n",
      "\n",
      "Running GA_Config_1 (SwapConst,1PtPreferV,TournVarK) for 30 runs...\n",
      "  GA_Config_1 (SwapConst,1PtPreferV,TournVarK) - Run 1/30...\n",
      "Warning: Could only generate 1/50 valid individuals for initial population.\n"
     ]
    },
    {
     "name": "stdout",
     "output_type": "stream",
     "text": [
      "Warning: Could only generate 0/1 valid individuals for initial population.\n",
      "Warning: Could only generate 0/1 valid individuals for initial population.\n",
      "Warning: Could only generate 0/1 valid individuals for initial population.\n",
      "Warning: Could only generate 0/1 valid individuals for initial population.\n",
      "Warning: Could only generate 0/1 valid individuals for initial population.\n",
      "Warning: Could only generate 0/1 valid individuals for initial population.\n",
      "Warning: Could only generate 0/1 valid individuals for initial population.\n",
      "Warning: Could only generate 0/1 valid individuals for initial population.\n",
      "Warning: Could only generate 0/1 valid individuals for initial population.\n"
     ]
    },
    {
     "name": "stdout",
     "output_type": "stream",
     "text": [
      "  GA_Config_1 (SwapConst,1PtPreferV,TournVarK) - Run 2/30...\n",
      "Warning: Could only generate 0/50 valid individuals for initial population.\n",
      "Error: Initial population is empty. GA cannot proceed.\n",
      "    GA_Config_1 (SwapConst,1PtPreferV,TournVarK) - Run 2 failed to produce a solution.\n",
      "  GA_Config_1 (SwapConst,1PtPreferV,TournVarK) - Run 3/30...\n",
      "Warning: Could only generate 0/50 valid individuals for initial population.\n",
      "Error: Initial population is empty. GA cannot proceed.\n",
      "    GA_Config_1 (SwapConst,1PtPreferV,TournVarK) - Run 3 failed to produce a solution.\n",
      "  GA_Config_1 (SwapConst,1PtPreferV,TournVarK) - Run 4/30...\n"
     ]
    },
    {
     "name": "stdout",
     "output_type": "stream",
     "text": [
      "Warning: Could only generate 0/50 valid individuals for initial population.\n",
      "Error: Initial population is empty. GA cannot proceed.\n",
      "    GA_Config_1 (SwapConst,1PtPreferV,TournVarK) - Run 4 failed to produce a solution.\n",
      "  GA_Config_1 (SwapConst,1PtPreferV,TournVarK) - Run 5/30...\n",
      "Warning: Could only generate 0/50 valid individuals for initial population.\n",
      "Error: Initial population is empty. GA cannot proceed.\n",
      "    GA_Config_1 (SwapConst,1PtPreferV,TournVarK) - Run 5 failed to produce a solution.\n",
      "  GA_Config_1 (SwapConst,1PtPreferV,TournVarK) - Run 6/30...\n",
      "Warning: Could only generate 0/50 valid individuals for initial population.\n",
      "Error: Initial population is empty. GA cannot proceed.\n",
      "    GA_Config_1 (SwapConst,1PtPreferV,TournVarK) - Run 6 failed to produce a solution.\n",
      "  GA_Config_1 (SwapConst,1PtPreferV,TournVarK) - Run 7/30...\n"
     ]
    },
    {
     "name": "stdout",
     "output_type": "stream",
     "text": [
      "Warning: Could only generate 0/50 valid individuals for initial population.\n",
      "Error: Initial population is empty. GA cannot proceed.\n",
      "    GA_Config_1 (SwapConst,1PtPreferV,TournVarK) - Run 7 failed to produce a solution.\n",
      "  GA_Config_1 (SwapConst,1PtPreferV,TournVarK) - Run 8/30...\n",
      "Warning: Could only generate 0/50 valid individuals for initial population.\n",
      "Error: Initial population is empty. GA cannot proceed.\n",
      "    GA_Config_1 (SwapConst,1PtPreferV,TournVarK) - Run 8 failed to produce a solution.\n",
      "  GA_Config_1 (SwapConst,1PtPreferV,TournVarK) - Run 9/30...\n",
      "Warning: Could only generate 0/50 valid individuals for initial population.\n",
      "Error: Initial population is empty. GA cannot proceed.\n",
      "    GA_Config_1 (SwapConst,1PtPreferV,TournVarK) - Run 9 failed to produce a solution.\n",
      "  GA_Config_1 (SwapConst,1PtPreferV,TournVarK) - Run 10/30...\n"
     ]
    },
    {
     "name": "stdout",
     "output_type": "stream",
     "text": [
      "Warning: Could only generate 0/50 valid individuals for initial population.\n",
      "Error: Initial population is empty. GA cannot proceed.\n",
      "    GA_Config_1 (SwapConst,1PtPreferV,TournVarK) - Run 10 failed to produce a solution.\n",
      "  GA_Config_1 (SwapConst,1PtPreferV,TournVarK) - Run 11/30...\n",
      "Warning: Could only generate 0/50 valid individuals for initial population.\n",
      "Error: Initial population is empty. GA cannot proceed.\n",
      "    GA_Config_1 (SwapConst,1PtPreferV,TournVarK) - Run 11 failed to produce a solution.\n",
      "  GA_Config_1 (SwapConst,1PtPreferV,TournVarK) - Run 12/30...\n",
      "Warning: Could only generate 0/50 valid individuals for initial population.\n",
      "Error: Initial population is empty. GA cannot proceed.\n",
      "    GA_Config_1 (SwapConst,1PtPreferV,TournVarK) - Run 12 failed to produce a solution.\n",
      "  GA_Config_1 (SwapConst,1PtPreferV,TournVarK) - Run 13/30...\n"
     ]
    },
    {
     "name": "stdout",
     "output_type": "stream",
     "text": [
      "Warning: Could only generate 0/50 valid individuals for initial population.\n",
      "Error: Initial population is empty. GA cannot proceed.\n",
      "    GA_Config_1 (SwapConst,1PtPreferV,TournVarK) - Run 13 failed to produce a solution.\n",
      "  GA_Config_1 (SwapConst,1PtPreferV,TournVarK) - Run 14/30...\n",
      "Warning: Could only generate 0/50 valid individuals for initial population.\n",
      "Error: Initial population is empty. GA cannot proceed.\n",
      "    GA_Config_1 (SwapConst,1PtPreferV,TournVarK) - Run 14 failed to produce a solution.\n",
      "  GA_Config_1 (SwapConst,1PtPreferV,TournVarK) - Run 15/30...\n",
      "Warning: Could only generate 0/50 valid individuals for initial population.\n",
      "Error: Initial population is empty. GA cannot proceed.\n",
      "    GA_Config_1 (SwapConst,1PtPreferV,TournVarK) - Run 15 failed to produce a solution.\n",
      "  GA_Config_1 (SwapConst,1PtPreferV,TournVarK) - Run 16/30...\n"
     ]
    },
    {
     "name": "stdout",
     "output_type": "stream",
     "text": [
      "Warning: Could only generate 0/50 valid individuals for initial population.\n",
      "Error: Initial population is empty. GA cannot proceed.\n",
      "    GA_Config_1 (SwapConst,1PtPreferV,TournVarK) - Run 16 failed to produce a solution.\n",
      "  GA_Config_1 (SwapConst,1PtPreferV,TournVarK) - Run 17/30...\n",
      "Warning: Could only generate 0/50 valid individuals for initial population.\n",
      "Error: Initial population is empty. GA cannot proceed.\n",
      "    GA_Config_1 (SwapConst,1PtPreferV,TournVarK) - Run 17 failed to produce a solution.\n",
      "  GA_Config_1 (SwapConst,1PtPreferV,TournVarK) - Run 18/30...\n",
      "Warning: Could only generate 0/50 valid individuals for initial population.\n",
      "Error: Initial population is empty. GA cannot proceed.\n",
      "    GA_Config_1 (SwapConst,1PtPreferV,TournVarK) - Run 18 failed to produce a solution.\n",
      "  GA_Config_1 (SwapConst,1PtPreferV,TournVarK) - Run 19/30...\n"
     ]
    },
    {
     "name": "stdout",
     "output_type": "stream",
     "text": [
      "Warning: Could only generate 0/50 valid individuals for initial population.\n",
      "Error: Initial population is empty. GA cannot proceed.\n",
      "    GA_Config_1 (SwapConst,1PtPreferV,TournVarK) - Run 19 failed to produce a solution.\n",
      "  GA_Config_1 (SwapConst,1PtPreferV,TournVarK) - Run 20/30...\n",
      "Warning: Could only generate 0/50 valid individuals for initial population.\n",
      "Error: Initial population is empty. GA cannot proceed.\n",
      "    GA_Config_1 (SwapConst,1PtPreferV,TournVarK) - Run 20 failed to produce a solution.\n",
      "  GA_Config_1 (SwapConst,1PtPreferV,TournVarK) - Run 21/30...\n",
      "Warning: Could only generate 0/50 valid individuals for initial population.\n",
      "Error: Initial population is empty. GA cannot proceed.\n",
      "    GA_Config_1 (SwapConst,1PtPreferV,TournVarK) - Run 21 failed to produce a solution.\n",
      "  GA_Config_1 (SwapConst,1PtPreferV,TournVarK) - Run 22/30...\n"
     ]
    },
    {
     "name": "stdout",
     "output_type": "stream",
     "text": [
      "Warning: Could only generate 0/50 valid individuals for initial population.\n",
      "Error: Initial population is empty. GA cannot proceed.\n",
      "    GA_Config_1 (SwapConst,1PtPreferV,TournVarK) - Run 22 failed to produce a solution.\n",
      "  GA_Config_1 (SwapConst,1PtPreferV,TournVarK) - Run 23/30...\n",
      "Warning: Could only generate 0/50 valid individuals for initial population.\n",
      "Error: Initial population is empty. GA cannot proceed.\n",
      "    GA_Config_1 (SwapConst,1PtPreferV,TournVarK) - Run 23 failed to produce a solution.\n",
      "  GA_Config_1 (SwapConst,1PtPreferV,TournVarK) - Run 24/30...\n",
      "Warning: Could only generate 1/50 valid individuals for initial population.\n"
     ]
    },
    {
     "name": "stdout",
     "output_type": "stream",
     "text": [
      "  GA_Config_1 (SwapConst,1PtPreferV,TournVarK) - Run 25/30...\n",
      "Warning: Could only generate 0/50 valid individuals for initial population.\n",
      "Error: Initial population is empty. GA cannot proceed.\n",
      "    GA_Config_1 (SwapConst,1PtPreferV,TournVarK) - Run 25 failed to produce a solution.\n",
      "  GA_Config_1 (SwapConst,1PtPreferV,TournVarK) - Run 26/30...\n",
      "Warning: Could only generate 0/50 valid individuals for initial population.\n",
      "Error: Initial population is empty. GA cannot proceed.\n",
      "    GA_Config_1 (SwapConst,1PtPreferV,TournVarK) - Run 26 failed to produce a solution.\n",
      "  GA_Config_1 (SwapConst,1PtPreferV,TournVarK) - Run 27/30...\n"
     ]
    },
    {
     "name": "stdout",
     "output_type": "stream",
     "text": [
      "Warning: Could only generate 1/50 valid individuals for initial population.\n"
     ]
    },
    {
     "name": "stdout",
     "output_type": "stream",
     "text": [
      "  GA_Config_1 (SwapConst,1PtPreferV,TournVarK) - Run 28/30...\n",
      "Warning: Could only generate 0/50 valid individuals for initial population.\n",
      "Error: Initial population is empty. GA cannot proceed.\n",
      "    GA_Config_1 (SwapConst,1PtPreferV,TournVarK) - Run 28 failed to produce a solution.\n",
      "  GA_Config_1 (SwapConst,1PtPreferV,TournVarK) - Run 29/30...\n",
      "Warning: Could only generate 2/50 valid individuals for initial population.\n"
     ]
    },
    {
     "name": "stdout",
     "output_type": "stream",
     "text": [
      "Warning: Could only generate 0/1 valid individuals for initial population.\n",
      "Warning: Could only generate 0/1 valid individuals for initial population.\n",
      "Warning: Could only generate 0/1 valid individuals for initial population.\n",
      "Warning: Could only generate 0/1 valid individuals for initial population.\n",
      "Warning: Could only generate 0/1 valid individuals for initial population.\n"
     ]
    },
    {
     "name": "stdout",
     "output_type": "stream",
     "text": [
      "Warning: Could only generate 0/1 valid individuals for initial population.\n",
      "Warning: Could only generate 0/1 valid individuals for initial population.\n",
      "Warning: Could only generate 0/1 valid individuals for initial population.\n",
      "Warning: Could only generate 0/1 valid individuals for initial population.\n",
      "Warning: Could only generate 0/1 valid individuals for initial population.\n"
     ]
    },
    {
     "name": "stdout",
     "output_type": "stream",
     "text": [
      "  GA_Config_1 (SwapConst,1PtPreferV,TournVarK) - Run 30/30...\n",
      "Warning: Could only generate 0/50 valid individuals for initial population.\n",
      "Error: Initial population is empty. GA cannot proceed.\n",
      "    GA_Config_1 (SwapConst,1PtPreferV,TournVarK) - Run 30 failed to produce a solution.\n",
      "GA_Config_1 (SwapConst,1PtPreferV,TournVarK) (30 runs) summary:\n",
      "  Mean Best Fitness: 0.0696\n",
      "  Std Dev Best Fitness: 0.0215\n",
      "  Mean Execution Time: 1.85s\n",
      "  Overall Best Fitness for this config: 0.05714285714285552\n",
      "----------------------------------------------------\n",
      "\n",
      "Running GA_Config_2 (TargetExch,UnifPreferV,Ranking) for 30 runs...\n",
      "  GA_Config_2 (TargetExch,UnifPreferV,Ranking) - Run 1/30...\n",
      "Warning: Could only generate 0/50 valid individuals for initial population.\n",
      "Error: Initial population is empty. GA cannot proceed.\n",
      "    GA_Config_2 (TargetExch,UnifPreferV,Ranking) - Run 1 failed to produce a solution.\n",
      "  GA_Config_2 (TargetExch,UnifPreferV,Ranking) - Run 2/30...\n"
     ]
    },
    {
     "name": "stdout",
     "output_type": "stream",
     "text": [
      "Warning: Could only generate 0/50 valid individuals for initial population.\n",
      "Error: Initial population is empty. GA cannot proceed.\n",
      "    GA_Config_2 (TargetExch,UnifPreferV,Ranking) - Run 2 failed to produce a solution.\n",
      "  GA_Config_2 (TargetExch,UnifPreferV,Ranking) - Run 3/30...\n",
      "Warning: Could only generate 0/50 valid individuals for initial population.\n",
      "Error: Initial population is empty. GA cannot proceed.\n",
      "    GA_Config_2 (TargetExch,UnifPreferV,Ranking) - Run 3 failed to produce a solution.\n",
      "  GA_Config_2 (TargetExch,UnifPreferV,Ranking) - Run 4/30...\n",
      "Warning: Could only generate 0/50 valid individuals for initial population.\n",
      "Error: Initial population is empty. GA cannot proceed.\n",
      "    GA_Config_2 (TargetExch,UnifPreferV,Ranking) - Run 4 failed to produce a solution.\n",
      "  GA_Config_2 (TargetExch,UnifPreferV,Ranking) - Run 5/30...\n"
     ]
    },
    {
     "name": "stdout",
     "output_type": "stream",
     "text": [
      "Warning: Could only generate 0/50 valid individuals for initial population.\n",
      "Error: Initial population is empty. GA cannot proceed.\n",
      "    GA_Config_2 (TargetExch,UnifPreferV,Ranking) - Run 5 failed to produce a solution.\n",
      "  GA_Config_2 (TargetExch,UnifPreferV,Ranking) - Run 6/30...\n",
      "Warning: Could only generate 0/50 valid individuals for initial population.\n",
      "Error: Initial population is empty. GA cannot proceed.\n",
      "    GA_Config_2 (TargetExch,UnifPreferV,Ranking) - Run 6 failed to produce a solution.\n",
      "  GA_Config_2 (TargetExch,UnifPreferV,Ranking) - Run 7/30...\n",
      "Warning: Could only generate 0/50 valid individuals for initial population.\n",
      "Error: Initial population is empty. GA cannot proceed.\n",
      "    GA_Config_2 (TargetExch,UnifPreferV,Ranking) - Run 7 failed to produce a solution.\n",
      "  GA_Config_2 (TargetExch,UnifPreferV,Ranking) - Run 8/30...\n"
     ]
    },
    {
     "name": "stdout",
     "output_type": "stream",
     "text": [
      "Warning: Could only generate 1/50 valid individuals for initial population.\n"
     ]
    },
    {
     "name": "stdout",
     "output_type": "stream",
     "text": [
      "Warning: Could only generate 0/1 valid individuals for initial population.\n",
      "Warning: Could only generate 0/1 valid individuals for initial population.\n",
      "Warning: Could only generate 0/1 valid individuals for initial population.\n"
     ]
    },
    {
     "name": "stdout",
     "output_type": "stream",
     "text": [
      "Warning: Could only generate 0/1 valid individuals for initial population.\n",
      "Warning: Could only generate 0/1 valid individuals for initial population.\n",
      "Warning: Could only generate 0/1 valid individuals for initial population.\n",
      "Warning: Could only generate 0/1 valid individuals for initial population.\n",
      "Warning: Could only generate 0/1 valid individuals for initial population.\n",
      "Warning: Could only generate 0/1 valid individuals for initial population.\n",
      "Warning: Could only generate 0/1 valid individuals for initial population.\n",
      "Warning: Could only generate 0/1 valid individuals for initial population.\n",
      "Warning: Could only generate 0/1 valid individuals for initial population.\n"
     ]
    },
    {
     "name": "stdout",
     "output_type": "stream",
     "text": [
      "Warning: Could only generate 0/1 valid individuals for initial population.\n",
      "Warning: Could only generate 0/1 valid individuals for initial population.\n",
      "Warning: Could only generate 0/1 valid individuals for initial population.\n",
      "Warning: Could only generate 0/1 valid individuals for initial population.\n",
      "Warning: Could only generate 0/1 valid individuals for initial population.\n",
      "Warning: Could only generate 0/1 valid individuals for initial population.\n",
      "Warning: Could only generate 0/1 valid individuals for initial population.\n",
      "Warning: Could only generate 0/1 valid individuals for initial population.\n"
     ]
    },
    {
     "name": "stdout",
     "output_type": "stream",
     "text": [
      "Warning: Could only generate 0/1 valid individuals for initial population.\n",
      "Warning: Could only generate 0/1 valid individuals for initial population.\n",
      "Warning: Could only generate 0/1 valid individuals for initial population.\n",
      "Warning: Could only generate 0/1 valid individuals for initial population.\n",
      "Warning: Could only generate 0/1 valid individuals for initial population.\n",
      "Warning: Could only generate 0/1 valid individuals for initial population.\n",
      "Warning: Could only generate 0/1 valid individuals for initial population.\n",
      "Warning: Could only generate 0/1 valid individuals for initial population.\n",
      "Warning: Could only generate 0/1 valid individuals for initial population.\n",
      "Warning: Could only generate 0/1 valid individuals for initial population.\n",
      "Warning: Could only generate 0/1 valid individuals for initial population.\n"
     ]
    },
    {
     "name": "stdout",
     "output_type": "stream",
     "text": [
      "Warning: Could only generate 0/1 valid individuals for initial population.\n",
      "Warning: Could only generate 0/1 valid individuals for initial population.\n",
      "Warning: Could only generate 0/1 valid individuals for initial population.\n",
      "Warning: Could only generate 0/1 valid individuals for initial population.\n",
      "Warning: Could only generate 0/1 valid individuals for initial population.\n",
      "Warning: Could only generate 0/1 valid individuals for initial population.\n"
     ]
    },
    {
     "name": "stdout",
     "output_type": "stream",
     "text": [
      "Warning: Could only generate 0/1 valid individuals for initial population.\n",
      "Warning: Could only generate 0/1 valid individuals for initial population.\n",
      "Warning: Could only generate 0/1 valid individuals for initial population.\n",
      "Warning: Could only generate 0/1 valid individuals for initial population.\n",
      "Warning: Could only generate 0/1 valid individuals for initial population.\n"
     ]
    },
    {
     "name": "stdout",
     "output_type": "stream",
     "text": [
      "Warning: Could only generate 0/1 valid individuals for initial population.\n",
      "Warning: Could only generate 0/1 valid individuals for initial population.\n",
      "Warning: Could only generate 0/1 valid individuals for initial population.\n",
      "Warning: Could only generate 0/1 valid individuals for initial population.\n",
      "Warning: Could only generate 0/1 valid individuals for initial population.\n",
      "Warning: Could only generate 0/1 valid individuals for initial population.\n"
     ]
    },
    {
     "name": "stdout",
     "output_type": "stream",
     "text": [
      "Warning: Could only generate 0/1 valid individuals for initial population.\n",
      "Warning: Could only generate 0/1 valid individuals for initial population.\n",
      "Warning: Could only generate 0/1 valid individuals for initial population.\n",
      "Warning: Could only generate 0/1 valid individuals for initial population.\n",
      "Warning: Could only generate 0/1 valid individuals for initial population.\n",
      "Warning: Could only generate 0/1 valid individuals for initial population.\n",
      "Warning: Could only generate 0/1 valid individuals for initial population.\n",
      "Warning: Could only generate 0/1 valid individuals for initial population.\n",
      "Warning: Could only generate 0/1 valid individuals for initial population.\n",
      "Warning: Could only generate 0/1 valid individuals for initial population.\n"
     ]
    },
    {
     "name": "stdout",
     "output_type": "stream",
     "text": [
      "Warning: Could only generate 0/1 valid individuals for initial population.\n",
      "Warning: Could only generate 0/1 valid individuals for initial population.\n",
      "Warning: Could only generate 0/1 valid individuals for initial population.\n",
      "Warning: Could only generate 0/1 valid individuals for initial population.\n",
      "Warning: Could only generate 0/1 valid individuals for initial population.\n",
      "Warning: Could only generate 0/1 valid individuals for initial population.\n",
      "Warning: Could only generate 0/1 valid individuals for initial population.\n",
      "Warning: Could only generate 0/1 valid individuals for initial population.\n"
     ]
    },
    {
     "name": "stdout",
     "output_type": "stream",
     "text": [
      "Warning: Could only generate 0/1 valid individuals for initial population.\n",
      "Warning: Could only generate 0/1 valid individuals for initial population.\n",
      "Warning: Could only generate 0/1 valid individuals for initial population.\n",
      "Warning: Could only generate 0/1 valid individuals for initial population.\n",
      "Warning: Could only generate 0/1 valid individuals for initial population.\n",
      "Warning: Could only generate 0/1 valid individuals for initial population.\n",
      "Warning: Could only generate 0/1 valid individuals for initial population.\n",
      "Warning: Could only generate 0/1 valid individuals for initial population.\n",
      "Warning: Could only generate 0/1 valid individuals for initial population.\n",
      "Warning: Could only generate 0/1 valid individuals for initial population.\n",
      "Warning: Could only generate 0/1 valid individuals for initial population.\n"
     ]
    },
    {
     "name": "stdout",
     "output_type": "stream",
     "text": [
      "Warning: Could only generate 0/1 valid individuals for initial population.\n",
      "Warning: Could only generate 0/1 valid individuals for initial population.\n",
      "Warning: Could only generate 0/1 valid individuals for initial population.\n",
      "Warning: Could only generate 0/1 valid individuals for initial population.\n",
      "Warning: Could only generate 0/1 valid individuals for initial population.\n",
      "Warning: Could only generate 0/1 valid individuals for initial population.\n",
      "Warning: Could only generate 0/1 valid individuals for initial population.\n",
      "Warning: Could only generate 0/1 valid individuals for initial population.\n"
     ]
    },
    {
     "name": "stdout",
     "output_type": "stream",
     "text": [
      "Warning: Could only generate 0/1 valid individuals for initial population.\n",
      "Warning: Could only generate 0/1 valid individuals for initial population.\n",
      "Warning: Could only generate 0/1 valid individuals for initial population.\n",
      "Warning: Could only generate 0/1 valid individuals for initial population.\n",
      "Warning: Could only generate 0/1 valid individuals for initial population.\n",
      "Warning: Could only generate 0/1 valid individuals for initial population.\n",
      "Warning: Could only generate 0/1 valid individuals for initial population.\n",
      "Warning: Could only generate 0/1 valid individuals for initial population.\n"
     ]
    },
    {
     "name": "stdout",
     "output_type": "stream",
     "text": [
      "Warning: Could only generate 0/1 valid individuals for initial population.\n",
      "Warning: Could only generate 0/1 valid individuals for initial population.\n",
      "Warning: Could only generate 0/1 valid individuals for initial population.\n",
      "Warning: Could only generate 0/1 valid individuals for initial population.\n",
      "Warning: Could only generate 0/1 valid individuals for initial population.\n",
      "Warning: Could only generate 0/1 valid individuals for initial population.\n",
      "Warning: Could only generate 0/1 valid individuals for initial population.\n",
      "Warning: Could only generate 0/1 valid individuals for initial population.\n",
      "Warning: Could only generate 0/1 valid individuals for initial population.\n"
     ]
    },
    {
     "name": "stdout",
     "output_type": "stream",
     "text": [
      "Warning: Could only generate 0/1 valid individuals for initial population.\n",
      "Warning: Could only generate 0/1 valid individuals for initial population.\n",
      "Warning: Could only generate 0/1 valid individuals for initial population.\n"
     ]
    },
    {
     "name": "stdout",
     "output_type": "stream",
     "text": [
      "Warning: Could only generate 0/1 valid individuals for initial population.\n",
      "Warning: Could only generate 0/1 valid individuals for initial population.\n",
      "Warning: Could only generate 0/1 valid individuals for initial population.\n",
      "Warning: Could only generate 0/1 valid individuals for initial population.\n",
      "Warning: Could only generate 0/1 valid individuals for initial population.\n",
      "Warning: Could only generate 0/1 valid individuals for initial population.\n",
      "Warning: Could only generate 0/1 valid individuals for initial population.\n"
     ]
    },
    {
     "name": "stdout",
     "output_type": "stream",
     "text": [
      "Warning: Could only generate 0/1 valid individuals for initial population.\n",
      "Warning: Could only generate 0/1 valid individuals for initial population.\n",
      "Warning: Could only generate 0/1 valid individuals for initial population.\n"
     ]
    },
    {
     "name": "stdout",
     "output_type": "stream",
     "text": [
      "Warning: Could only generate 0/1 valid individuals for initial population.\n",
      "Warning: Could only generate 0/1 valid individuals for initial population.\n",
      "Warning: Could only generate 0/1 valid individuals for initial population.\n",
      "Warning: Could only generate 0/1 valid individuals for initial population.\n",
      "Warning: Could only generate 0/1 valid individuals for initial population.\n",
      "Warning: Could only generate 0/1 valid individuals for initial population.\n",
      "Warning: Could only generate 0/1 valid individuals for initial population.\n",
      "Warning: Could only generate 0/1 valid individuals for initial population.\n",
      "Warning: Could only generate 0/1 valid individuals for initial population.\n",
      "Warning: Could only generate 0/1 valid individuals for initial population.\n",
      "Warning: Could only generate 0/1 valid individuals for initial population.\n",
      "Warning: Could only generate 0/1 valid individuals for initial population.\n",
      "Warning: Could only generate 0/1 valid individuals for initial population.\n",
      "Warning: Could only generate 0/1 valid individuals for initial population.\n"
     ]
    },
    {
     "name": "stdout",
     "output_type": "stream",
     "text": [
      "Warning: Could only generate 0/1 valid individuals for initial population.\n",
      "Warning: Could only generate 0/1 valid individuals for initial population.\n",
      "Warning: Could only generate 0/1 valid individuals for initial population.\n",
      "Warning: Could only generate 0/1 valid individuals for initial population.\n",
      "Warning: Could only generate 0/1 valid individuals for initial population.\n",
      "Warning: Could only generate 0/1 valid individuals for initial population.\n",
      "Warning: Could only generate 0/1 valid individuals for initial population.\n"
     ]
    },
    {
     "name": "stdout",
     "output_type": "stream",
     "text": [
      "Warning: Could only generate 0/1 valid individuals for initial population.\n",
      "Warning: Could only generate 0/1 valid individuals for initial population.\n",
      "Warning: Could only generate 0/1 valid individuals for initial population.\n",
      "Warning: Could only generate 0/1 valid individuals for initial population.\n",
      "Warning: Could only generate 0/1 valid individuals for initial population.\n",
      "Warning: Could only generate 0/1 valid individuals for initial population.\n",
      "Warning: Could only generate 0/1 valid individuals for initial population.\n",
      "Warning: Could only generate 0/1 valid individuals for initial population.\n"
     ]
    },
    {
     "name": "stdout",
     "output_type": "stream",
     "text": [
      "Warning: Could only generate 0/1 valid individuals for initial population.\n",
      "Warning: Could only generate 0/1 valid individuals for initial population.\n",
      "Warning: Could only generate 0/1 valid individuals for initial population.\n",
      "Warning: Could only generate 0/1 valid individuals for initial population.\n",
      "Warning: Could only generate 0/1 valid individuals for initial population.\n"
     ]
    },
    {
     "name": "stdout",
     "output_type": "stream",
     "text": [
      "Warning: Could only generate 0/1 valid individuals for initial population.\n",
      "Warning: Could only generate 0/1 valid individuals for initial population.\n",
      "Warning: Could only generate 0/1 valid individuals for initial population.\n",
      "Warning: Could only generate 0/1 valid individuals for initial population.\n",
      "Warning: Could only generate 0/1 valid individuals for initial population.\n",
      "Warning: Could only generate 0/1 valid individuals for initial population.\n",
      "Warning: Could only generate 0/1 valid individuals for initial population.\n",
      "Warning: Could only generate 0/1 valid individuals for initial population.\n",
      "Warning: Could only generate 0/1 valid individuals for initial population.\n"
     ]
    },
    {
     "name": "stdout",
     "output_type": "stream",
     "text": [
      "Warning: Could only generate 0/1 valid individuals for initial population.\n",
      "Warning: Could only generate 0/1 valid individuals for initial population.\n",
      "Warning: Could only generate 0/1 valid individuals for initial population.\n",
      "Warning: Could only generate 0/1 valid individuals for initial population.\n",
      "Warning: Could only generate 0/1 valid individuals for initial population.\n",
      "Warning: Could only generate 0/1 valid individuals for initial population.\n",
      "Warning: Could only generate 0/1 valid individuals for initial population.\n",
      "Warning: Could only generate 0/1 valid individuals for initial population.\n"
     ]
    },
    {
     "name": "stdout",
     "output_type": "stream",
     "text": [
      "Warning: Could only generate 0/1 valid individuals for initial population.\n",
      "Warning: Could only generate 0/1 valid individuals for initial population.\n",
      "Warning: Could only generate 0/1 valid individuals for initial population.\n",
      "Warning: Could only generate 0/1 valid individuals for initial population.\n",
      "Warning: Could only generate 0/1 valid individuals for initial population.\n",
      "Warning: Could only generate 0/1 valid individuals for initial population.\n",
      "Warning: Could only generate 0/1 valid individuals for initial population.\n"
     ]
    },
    {
     "name": "stdout",
     "output_type": "stream",
     "text": [
      "Warning: Could only generate 0/1 valid individuals for initial population.\n",
      "Warning: Could only generate 0/1 valid individuals for initial population.\n",
      "Warning: Could only generate 0/1 valid individuals for initial population.\n",
      "Warning: Could only generate 0/1 valid individuals for initial population.\n",
      "Warning: Could only generate 0/1 valid individuals for initial population.\n",
      "Warning: Could only generate 0/1 valid individuals for initial population.\n",
      "Warning: Could only generate 0/1 valid individuals for initial population.\n"
     ]
    },
    {
     "name": "stdout",
     "output_type": "stream",
     "text": [
      "Warning: Could only generate 0/1 valid individuals for initial population.\n",
      "Warning: Could only generate 0/1 valid individuals for initial population.\n",
      "Warning: Could only generate 0/1 valid individuals for initial population.\n",
      "Warning: Could only generate 0/1 valid individuals for initial population.\n",
      "Warning: Could only generate 0/1 valid individuals for initial population.\n"
     ]
    },
    {
     "name": "stdout",
     "output_type": "stream",
     "text": [
      "Warning: Could only generate 0/1 valid individuals for initial population.\n",
      "Warning: Could only generate 0/1 valid individuals for initial population.\n",
      "Warning: Could only generate 0/1 valid individuals for initial population.\n",
      "Warning: Could only generate 0/1 valid individuals for initial population.\n",
      "Warning: Could only generate 0/1 valid individuals for initial population.\n"
     ]
    },
    {
     "name": "stdout",
     "output_type": "stream",
     "text": [
      "Warning: Could only generate 0/1 valid individuals for initial population.\n",
      "Warning: Could only generate 0/1 valid individuals for initial population.\n",
      "Warning: Could only generate 0/1 valid individuals for initial population.\n",
      "Warning: Could only generate 0/1 valid individuals for initial population.\n",
      "Warning: Could only generate 0/1 valid individuals for initial population.\n",
      "Warning: Could only generate 0/1 valid individuals for initial population.\n"
     ]
    },
    {
     "name": "stdout",
     "output_type": "stream",
     "text": [
      "Warning: Could only generate 0/1 valid individuals for initial population.\n",
      "Warning: Could only generate 0/1 valid individuals for initial population.\n",
      "Warning: Could only generate 0/1 valid individuals for initial population.\n",
      "Warning: Could only generate 0/1 valid individuals for initial population.\n",
      "Warning: Could only generate 0/1 valid individuals for initial population.\n",
      "Warning: Could only generate 0/1 valid individuals for initial population.\n"
     ]
    },
    {
     "name": "stdout",
     "output_type": "stream",
     "text": [
      "Warning: Could only generate 0/1 valid individuals for initial population.\n",
      "Warning: Could only generate 0/1 valid individuals for initial population.\n",
      "Warning: Could only generate 0/1 valid individuals for initial population.\n",
      "Warning: Could only generate 0/1 valid individuals for initial population.\n",
      "Warning: Could only generate 0/1 valid individuals for initial population.\n",
      "Warning: Could only generate 0/1 valid individuals for initial population.\n"
     ]
    },
    {
     "name": "stdout",
     "output_type": "stream",
     "text": [
      "Warning: Could only generate 0/1 valid individuals for initial population.\n",
      "Warning: Could only generate 0/1 valid individuals for initial population.\n",
      "Warning: Could only generate 0/1 valid individuals for initial population.\n",
      "Warning: Could only generate 0/1 valid individuals for initial population.\n",
      "Warning: Could only generate 0/1 valid individuals for initial population.\n",
      "Warning: Could only generate 0/1 valid individuals for initial population.\n",
      "Warning: Could only generate 0/1 valid individuals for initial population.\n",
      "Warning: Could only generate 0/1 valid individuals for initial population.\n",
      "Warning: Could only generate 0/1 valid individuals for initial population.\n",
      "Warning: Could only generate 0/1 valid individuals for initial population.\n"
     ]
    },
    {
     "name": "stdout",
     "output_type": "stream",
     "text": [
      "Warning: Could only generate 0/1 valid individuals for initial population.\n",
      "Warning: Could only generate 0/1 valid individuals for initial population.\n",
      "Warning: Could only generate 0/1 valid individuals for initial population.\n",
      "Warning: Could only generate 0/1 valid individuals for initial population.\n",
      "Warning: Could only generate 0/1 valid individuals for initial population.\n",
      "Warning: Could only generate 0/1 valid individuals for initial population.\n"
     ]
    },
    {
     "name": "stdout",
     "output_type": "stream",
     "text": [
      "Warning: Could only generate 0/1 valid individuals for initial population.\n",
      "Warning: Could only generate 0/1 valid individuals for initial population.\n",
      "Warning: Could only generate 0/1 valid individuals for initial population.\n",
      "Warning: Could only generate 0/1 valid individuals for initial population.\n",
      "Warning: Could only generate 0/1 valid individuals for initial population.\n"
     ]
    },
    {
     "name": "stdout",
     "output_type": "stream",
     "text": [
      "Warning: Could only generate 0/1 valid individuals for initial population.\n",
      "Warning: Could only generate 0/1 valid individuals for initial population.\n",
      "Warning: Could only generate 0/1 valid individuals for initial population.\n",
      "Warning: Could only generate 0/1 valid individuals for initial population.\n"
     ]
    },
    {
     "name": "stdout",
     "output_type": "stream",
     "text": [
      "Warning: Could only generate 0/1 valid individuals for initial population.\n",
      "Warning: Could only generate 0/1 valid individuals for initial population.\n",
      "Warning: Could only generate 0/1 valid individuals for initial population.\n",
      "Warning: Could only generate 0/1 valid individuals for initial population.\n",
      "Warning: Could only generate 0/1 valid individuals for initial population.\n"
     ]
    },
    {
     "name": "stdout",
     "output_type": "stream",
     "text": [
      "Warning: Could only generate 0/1 valid individuals for initial population.\n",
      "Warning: Could only generate 0/1 valid individuals for initial population.\n",
      "Warning: Could only generate 0/1 valid individuals for initial population.\n",
      "Warning: Could only generate 0/1 valid individuals for initial population.\n",
      "Warning: Could only generate 0/1 valid individuals for initial population.\n",
      "Warning: Could only generate 0/1 valid individuals for initial population.\n",
      "Warning: Could only generate 0/1 valid individuals for initial population.\n"
     ]
    },
    {
     "name": "stdout",
     "output_type": "stream",
     "text": [
      "Warning: Could only generate 0/1 valid individuals for initial population.\n",
      "Warning: Could only generate 0/1 valid individuals for initial population.\n",
      "Warning: Could only generate 0/1 valid individuals for initial population.\n",
      "Warning: Could only generate 0/1 valid individuals for initial population.\n",
      "Warning: Could only generate 0/1 valid individuals for initial population.\n"
     ]
    },
    {
     "name": "stdout",
     "output_type": "stream",
     "text": [
      "Warning: Could only generate 0/1 valid individuals for initial population.\n",
      "Warning: Could only generate 0/1 valid individuals for initial population.\n",
      "Warning: Could only generate 0/1 valid individuals for initial population.\n",
      "Warning: Could only generate 0/1 valid individuals for initial population.\n",
      "Warning: Could only generate 0/1 valid individuals for initial population.\n"
     ]
    },
    {
     "name": "stdout",
     "output_type": "stream",
     "text": [
      "Warning: Could only generate 0/1 valid individuals for initial population.\n",
      "Warning: Could only generate 0/1 valid individuals for initial population.\n",
      "Warning: Could only generate 0/1 valid individuals for initial population.\n",
      "Warning: Could only generate 0/1 valid individuals for initial population.\n",
      "Warning: Could only generate 0/1 valid individuals for initial population.\n",
      "Warning: Could only generate 0/1 valid individuals for initial population.\n"
     ]
    },
    {
     "name": "stdout",
     "output_type": "stream",
     "text": [
      "Warning: Could only generate 0/1 valid individuals for initial population.\n",
      "Warning: Could only generate 0/1 valid individuals for initial population.\n",
      "Warning: Could only generate 0/1 valid individuals for initial population.\n",
      "Warning: Could only generate 0/1 valid individuals for initial population.\n",
      "Warning: Could only generate 0/1 valid individuals for initial population.\n",
      "Warning: Could only generate 0/1 valid individuals for initial population.\n",
      "Warning: Could only generate 0/1 valid individuals for initial population.\n"
     ]
    },
    {
     "name": "stdout",
     "output_type": "stream",
     "text": [
      "Warning: Could only generate 0/1 valid individuals for initial population.\n",
      "Warning: Could only generate 0/1 valid individuals for initial population.\n"
     ]
    },
    {
     "name": "stdout",
     "output_type": "stream",
     "text": [
      "Warning: Could only generate 0/1 valid individuals for initial population.\n",
      "Warning: Could only generate 0/1 valid individuals for initial population.\n",
      "Warning: Could only generate 0/1 valid individuals for initial population.\n",
      "Warning: Could only generate 0/1 valid individuals for initial population.\n",
      "Warning: Could only generate 0/1 valid individuals for initial population.\n",
      "Warning: Could only generate 0/1 valid individuals for initial population.\n"
     ]
    },
    {
     "name": "stdout",
     "output_type": "stream",
     "text": [
      "Warning: Could only generate 0/1 valid individuals for initial population.\n",
      "Warning: Could only generate 0/1 valid individuals for initial population.\n",
      "Warning: Could only generate 0/1 valid individuals for initial population.\n"
     ]
    },
    {
     "name": "stdout",
     "output_type": "stream",
     "text": [
      "Warning: Could only generate 0/1 valid individuals for initial population.\n",
      "Warning: Could only generate 0/1 valid individuals for initial population.\n",
      "Warning: Could only generate 0/1 valid individuals for initial population.\n",
      "Warning: Could only generate 0/1 valid individuals for initial population.\n",
      "Warning: Could only generate 0/1 valid individuals for initial population.\n"
     ]
    },
    {
     "name": "stdout",
     "output_type": "stream",
     "text": [
      "Warning: Could only generate 0/1 valid individuals for initial population.\n",
      "Warning: Could only generate 0/1 valid individuals for initial population.\n",
      "Warning: Could only generate 0/1 valid individuals for initial population.\n",
      "Warning: Could only generate 0/1 valid individuals for initial population.\n"
     ]
    },
    {
     "name": "stdout",
     "output_type": "stream",
     "text": [
      "Warning: Could only generate 0/1 valid individuals for initial population.\n",
      "Warning: Could only generate 0/1 valid individuals for initial population.\n",
      "Warning: Could only generate 0/1 valid individuals for initial population.\n"
     ]
    },
    {
     "name": "stdout",
     "output_type": "stream",
     "text": [
      "Warning: Could only generate 0/1 valid individuals for initial population.\n",
      "Warning: Could only generate 0/1 valid individuals for initial population.\n",
      "Warning: Could only generate 0/1 valid individuals for initial population.\n"
     ]
    },
    {
     "name": "stdout",
     "output_type": "stream",
     "text": [
      "Warning: Could only generate 0/1 valid individuals for initial population.\n",
      "Warning: Could only generate 0/1 valid individuals for initial population.\n",
      "Warning: Could only generate 0/1 valid individuals for initial population.\n",
      "Warning: Could only generate 0/1 valid individuals for initial population.\n",
      "Warning: Could only generate 0/1 valid individuals for initial population.\n"
     ]
    },
    {
     "name": "stdout",
     "output_type": "stream",
     "text": [
      "Warning: Could only generate 0/1 valid individuals for initial population.\n",
      "Warning: Could only generate 0/1 valid individuals for initial population.\n"
     ]
    },
    {
     "name": "stdout",
     "output_type": "stream",
     "text": [
      "Warning: Could only generate 0/1 valid individuals for initial population.\n"
     ]
    },
    {
     "name": "stdout",
     "output_type": "stream",
     "text": [
      "Warning: Could only generate 0/1 valid individuals for initial population.\n"
     ]
    },
    {
     "name": "stdout",
     "output_type": "stream",
     "text": [
      "Warning: Could only generate 0/1 valid individuals for initial population.\n"
     ]
    },
    {
     "name": "stdout",
     "output_type": "stream",
     "text": [
      "Warning: Could only generate 0/1 valid individuals for initial population.\n",
      "Warning: Could only generate 0/1 valid individuals for initial population.\n",
      "Warning: Could only generate 0/1 valid individuals for initial population.\n"
     ]
    },
    {
     "name": "stdout",
     "output_type": "stream",
     "text": [
      "Warning: Could only generate 0/1 valid individuals for initial population.\n"
     ]
    },
    {
     "name": "stdout",
     "output_type": "stream",
     "text": [
      "Warning: Could only generate 0/1 valid individuals for initial population.\n"
     ]
    },
    {
     "name": "stdout",
     "output_type": "stream",
     "text": [
      "Warning: Could only generate 0/1 valid individuals for initial population.\n"
     ]
    },
    {
     "name": "stdout",
     "output_type": "stream",
     "text": [
      "Warning: Could only generate 0/1 valid individuals for initial population.\n"
     ]
    },
    {
     "name": "stdout",
     "output_type": "stream",
     "text": [
      "Warning: Could only generate 0/1 valid individuals for initial population.\n",
      "Warning: Could only generate 0/1 valid individuals for initial population.\n"
     ]
    },
    {
     "name": "stdout",
     "output_type": "stream",
     "text": [
      "Warning: Could only generate 0/1 valid individuals for initial population.\n"
     ]
    },
    {
     "name": "stdout",
     "output_type": "stream",
     "text": [
      "Warning: Could only generate 0/1 valid individuals for initial population.\n",
      "Warning: Could only generate 0/1 valid individuals for initial population.\n"
     ]
    },
    {
     "name": "stdout",
     "output_type": "stream",
     "text": [
      "Warning: Could only generate 0/1 valid individuals for initial population.\n"
     ]
    },
    {
     "name": "stdout",
     "output_type": "stream",
     "text": [
      "Warning: Could only generate 0/1 valid individuals for initial population.\n"
     ]
    },
    {
     "name": "stdout",
     "output_type": "stream",
     "text": [
      "Warning: Could only generate 0/1 valid individuals for initial population.\n"
     ]
    },
    {
     "name": "stdout",
     "output_type": "stream",
     "text": [
      "  GA_Config_2 (TargetExch,UnifPreferV,Ranking) - Run 9/30...\n",
      "Warning: Could only generate 0/50 valid individuals for initial population.\n",
      "Error: Initial population is empty. GA cannot proceed.\n",
      "    GA_Config_2 (TargetExch,UnifPreferV,Ranking) - Run 9 failed to produce a solution.\n",
      "  GA_Config_2 (TargetExch,UnifPreferV,Ranking) - Run 10/30...\n",
      "Warning: Could only generate 0/50 valid individuals for initial population.\n",
      "Error: Initial population is empty. GA cannot proceed.\n",
      "    GA_Config_2 (TargetExch,UnifPreferV,Ranking) - Run 10 failed to produce a solution.\n",
      "  GA_Config_2 (TargetExch,UnifPreferV,Ranking) - Run 11/30...\n"
     ]
    },
    {
     "name": "stdout",
     "output_type": "stream",
     "text": [
      "Warning: Could only generate 1/50 valid individuals for initial population.\n"
     ]
    },
    {
     "name": "stdout",
     "output_type": "stream",
     "text": [
      "Warning: Could only generate 0/1 valid individuals for initial population.\n"
     ]
    },
    {
     "name": "stdout",
     "output_type": "stream",
     "text": [
      "Warning: Could only generate 0/1 valid individuals for initial population.\n",
      "Warning: Could only generate 0/1 valid individuals for initial population.\n"
     ]
    },
    {
     "name": "stdout",
     "output_type": "stream",
     "text": [
      "Warning: Could only generate 0/1 valid individuals for initial population.\n",
      "Warning: Could only generate 0/1 valid individuals for initial population.\n",
      "Warning: Could only generate 0/1 valid individuals for initial population.\n",
      "Warning: Could only generate 0/1 valid individuals for initial population.\n",
      "Warning: Could only generate 0/1 valid individuals for initial population.\n",
      "Warning: Could only generate 0/1 valid individuals for initial population.\n",
      "Warning: Could only generate 0/1 valid individuals for initial population.\n"
     ]
    },
    {
     "name": "stdout",
     "output_type": "stream",
     "text": [
      "Warning: Could only generate 0/1 valid individuals for initial population.\n",
      "Warning: Could only generate 0/1 valid individuals for initial population.\n",
      "Warning: Could only generate 0/1 valid individuals for initial population.\n",
      "Warning: Could only generate 0/1 valid individuals for initial population.\n"
     ]
    },
    {
     "name": "stdout",
     "output_type": "stream",
     "text": [
      "Warning: Could only generate 0/1 valid individuals for initial population.\n",
      "Warning: Could only generate 0/1 valid individuals for initial population.\n",
      "Warning: Could only generate 0/1 valid individuals for initial population.\n",
      "Warning: Could only generate 0/1 valid individuals for initial population.\n",
      "Warning: Could only generate 0/1 valid individuals for initial population.\n",
      "Warning: Could only generate 0/1 valid individuals for initial population.\n",
      "Warning: Could only generate 0/1 valid individuals for initial population.\n",
      "Warning: Could only generate 0/1 valid individuals for initial population.\n"
     ]
    },
    {
     "name": "stdout",
     "output_type": "stream",
     "text": [
      "Warning: Could only generate 0/1 valid individuals for initial population.\n",
      "Warning: Could only generate 0/1 valid individuals for initial population.\n",
      "Warning: Could only generate 0/1 valid individuals for initial population.\n",
      "Warning: Could only generate 0/1 valid individuals for initial population.\n",
      "Warning: Could only generate 0/1 valid individuals for initial population.\n",
      "Warning: Could only generate 0/1 valid individuals for initial population.\n",
      "Warning: Could only generate 0/1 valid individuals for initial population.\n",
      "Warning: Could only generate 0/1 valid individuals for initial population.\n",
      "Warning: Could only generate 0/1 valid individuals for initial population.\n",
      "Warning: Could only generate 0/1 valid individuals for initial population.\n",
      "Warning: Could only generate 0/1 valid individuals for initial population.\n",
      "Warning: Could only generate 0/1 valid individuals for initial population.\n"
     ]
    },
    {
     "name": "stdout",
     "output_type": "stream",
     "text": [
      "Warning: Could only generate 0/1 valid individuals for initial population.\n",
      "Warning: Could only generate 0/1 valid individuals for initial population.\n",
      "Warning: Could only generate 0/1 valid individuals for initial population.\n",
      "Warning: Could only generate 0/1 valid individuals for initial population.\n",
      "Warning: Could only generate 0/1 valid individuals for initial population.\n",
      "Warning: Could only generate 0/1 valid individuals for initial population.\n",
      "Warning: Could only generate 0/1 valid individuals for initial population.\n",
      "Warning: Could only generate 0/1 valid individuals for initial population.\n"
     ]
    },
    {
     "name": "stdout",
     "output_type": "stream",
     "text": [
      "Warning: Could only generate 0/1 valid individuals for initial population.\n",
      "Warning: Could only generate 0/1 valid individuals for initial population.\n",
      "Warning: Could only generate 0/1 valid individuals for initial population.\n",
      "Warning: Could only generate 0/1 valid individuals for initial population.\n",
      "Warning: Could only generate 0/1 valid individuals for initial population.\n",
      "Warning: Could only generate 0/1 valid individuals for initial population.\n",
      "Warning: Could only generate 0/1 valid individuals for initial population.\n",
      "Warning: Could only generate 0/1 valid individuals for initial population.\n",
      "Warning: Could only generate 0/1 valid individuals for initial population.\n",
      "Warning: Could only generate 0/1 valid individuals for initial population.\n",
      "Warning: Could only generate 0/1 valid individuals for initial population.\n",
      "Warning: Could only generate 0/1 valid individuals for initial population.\n"
     ]
    },
    {
     "name": "stdout",
     "output_type": "stream",
     "text": [
      "Warning: Could only generate 0/1 valid individuals for initial population.\n",
      "Warning: Could only generate 0/1 valid individuals for initial population.\n",
      "Warning: Could only generate 0/1 valid individuals for initial population.\n",
      "Warning: Could only generate 0/1 valid individuals for initial population.\n",
      "Warning: Could only generate 0/1 valid individuals for initial population.\n",
      "Warning: Could only generate 0/1 valid individuals for initial population.\n",
      "Warning: Could only generate 0/1 valid individuals for initial population.\n",
      "Warning: Could only generate 0/1 valid individuals for initial population.\n"
     ]
    },
    {
     "name": "stdout",
     "output_type": "stream",
     "text": [
      "Warning: Could only generate 0/1 valid individuals for initial population.\n",
      "Warning: Could only generate 0/1 valid individuals for initial population.\n",
      "Warning: Could only generate 0/1 valid individuals for initial population.\n",
      "Warning: Could only generate 0/1 valid individuals for initial population.\n",
      "Warning: Could only generate 0/1 valid individuals for initial population.\n",
      "Warning: Could only generate 0/1 valid individuals for initial population.\n"
     ]
    },
    {
     "name": "stdout",
     "output_type": "stream",
     "text": [
      "Warning: Could only generate 0/1 valid individuals for initial population.\n",
      "Warning: Could only generate 0/1 valid individuals for initial population.\n",
      "Warning: Could only generate 0/1 valid individuals for initial population.\n",
      "Warning: Could only generate 0/1 valid individuals for initial population.\n",
      "Warning: Could only generate 0/1 valid individuals for initial population.\n",
      "Warning: Could only generate 0/1 valid individuals for initial population.\n",
      "Warning: Could only generate 0/1 valid individuals for initial population.\n",
      "Warning: Could only generate 0/1 valid individuals for initial population.\n"
     ]
    },
    {
     "name": "stdout",
     "output_type": "stream",
     "text": [
      "Warning: Could only generate 0/1 valid individuals for initial population.\n",
      "Warning: Could only generate 0/1 valid individuals for initial population.\n",
      "Warning: Could only generate 0/1 valid individuals for initial population.\n",
      "Warning: Could only generate 0/1 valid individuals for initial population.\n",
      "Warning: Could only generate 0/1 valid individuals for initial population.\n",
      "Warning: Could only generate 0/1 valid individuals for initial population.\n",
      "Warning: Could only generate 0/1 valid individuals for initial population.\n"
     ]
    },
    {
     "name": "stdout",
     "output_type": "stream",
     "text": [
      "Warning: Could only generate 0/1 valid individuals for initial population.\n",
      "Warning: Could only generate 0/1 valid individuals for initial population.\n",
      "Warning: Could only generate 0/1 valid individuals for initial population.\n",
      "Warning: Could only generate 0/1 valid individuals for initial population.\n",
      "Warning: Could only generate 0/1 valid individuals for initial population.\n"
     ]
    },
    {
     "name": "stdout",
     "output_type": "stream",
     "text": [
      "Warning: Could only generate 0/1 valid individuals for initial population.\n",
      "Warning: Could only generate 0/1 valid individuals for initial population.\n",
      "Warning: Could only generate 0/1 valid individuals for initial population.\n"
     ]
    },
    {
     "name": "stdout",
     "output_type": "stream",
     "text": [
      "Warning: Could only generate 0/1 valid individuals for initial population.\n",
      "Warning: Could only generate 0/1 valid individuals for initial population.\n",
      "Warning: Could only generate 0/1 valid individuals for initial population.\n",
      "Warning: Could only generate 0/1 valid individuals for initial population.\n",
      "Warning: Could only generate 0/1 valid individuals for initial population.\n",
      "Warning: Could only generate 0/1 valid individuals for initial population.\n",
      "Warning: Could only generate 0/1 valid individuals for initial population.\n"
     ]
    },
    {
     "name": "stdout",
     "output_type": "stream",
     "text": [
      "Warning: Could only generate 0/1 valid individuals for initial population.\n",
      "Warning: Could only generate 0/1 valid individuals for initial population.\n",
      "Warning: Could only generate 0/1 valid individuals for initial population.\n",
      "Warning: Could only generate 0/1 valid individuals for initial population.\n",
      "Warning: Could only generate 0/1 valid individuals for initial population.\n",
      "Warning: Could only generate 0/1 valid individuals for initial population.\n",
      "Warning: Could only generate 0/1 valid individuals for initial population.\n"
     ]
    },
    {
     "name": "stdout",
     "output_type": "stream",
     "text": [
      "Warning: Could only generate 0/1 valid individuals for initial population.\n",
      "Warning: Could only generate 0/1 valid individuals for initial population.\n",
      "Warning: Could only generate 0/1 valid individuals for initial population.\n",
      "Warning: Could only generate 0/1 valid individuals for initial population.\n"
     ]
    },
    {
     "name": "stdout",
     "output_type": "stream",
     "text": [
      "Warning: Could only generate 0/1 valid individuals for initial population.\n",
      "Warning: Could only generate 0/1 valid individuals for initial population.\n",
      "Warning: Could only generate 0/1 valid individuals for initial population.\n",
      "Warning: Could only generate 0/1 valid individuals for initial population.\n",
      "Warning: Could only generate 0/1 valid individuals for initial population.\n",
      "Warning: Could only generate 0/1 valid individuals for initial population.\n",
      "Warning: Could only generate 0/1 valid individuals for initial population.\n",
      "Warning: Could only generate 0/1 valid individuals for initial population.\n",
      "Warning: Could only generate 0/1 valid individuals for initial population.\n",
      "Warning: Could only generate 0/1 valid individuals for initial population.\n",
      "Warning: Could only generate 0/1 valid individuals for initial population.\n"
     ]
    },
    {
     "name": "stdout",
     "output_type": "stream",
     "text": [
      "Warning: Could only generate 0/1 valid individuals for initial population.\n",
      "Warning: Could only generate 0/1 valid individuals for initial population.\n",
      "Warning: Could only generate 0/1 valid individuals for initial population.\n",
      "Warning: Could only generate 0/1 valid individuals for initial population.\n",
      "Warning: Could only generate 0/1 valid individuals for initial population.\n",
      "Warning: Could only generate 0/1 valid individuals for initial population.\n",
      "Warning: Could only generate 0/1 valid individuals for initial population.\n"
     ]
    },
    {
     "name": "stdout",
     "output_type": "stream",
     "text": [
      "Warning: Could only generate 0/1 valid individuals for initial population.\n",
      "Warning: Could only generate 0/1 valid individuals for initial population.\n",
      "Warning: Could only generate 0/1 valid individuals for initial population.\n",
      "Warning: Could only generate 0/1 valid individuals for initial population.\n",
      "Warning: Could only generate 0/1 valid individuals for initial population.\n"
     ]
    },
    {
     "name": "stdout",
     "output_type": "stream",
     "text": [
      "Warning: Could only generate 0/1 valid individuals for initial population.\n",
      "Warning: Could only generate 0/1 valid individuals for initial population.\n",
      "Warning: Could only generate 0/1 valid individuals for initial population.\n",
      "Warning: Could only generate 0/1 valid individuals for initial population.\n",
      "Warning: Could only generate 0/1 valid individuals for initial population.\n",
      "Warning: Could only generate 0/1 valid individuals for initial population.\n"
     ]
    },
    {
     "name": "stdout",
     "output_type": "stream",
     "text": [
      "Warning: Could only generate 0/1 valid individuals for initial population.\n",
      "Warning: Could only generate 0/1 valid individuals for initial population.\n",
      "Warning: Could only generate 0/1 valid individuals for initial population.\n",
      "Warning: Could only generate 0/1 valid individuals for initial population.\n",
      "Warning: Could only generate 0/1 valid individuals for initial population.\n"
     ]
    },
    {
     "name": "stdout",
     "output_type": "stream",
     "text": [
      "Warning: Could only generate 0/1 valid individuals for initial population.\n",
      "Warning: Could only generate 0/1 valid individuals for initial population.\n",
      "Warning: Could only generate 0/1 valid individuals for initial population.\n",
      "Warning: Could only generate 0/1 valid individuals for initial population.\n"
     ]
    },
    {
     "name": "stdout",
     "output_type": "stream",
     "text": [
      "Warning: Could only generate 0/1 valid individuals for initial population.\n",
      "Warning: Could only generate 0/1 valid individuals for initial population.\n",
      "Warning: Could only generate 0/1 valid individuals for initial population.\n"
     ]
    },
    {
     "name": "stdout",
     "output_type": "stream",
     "text": [
      "Warning: Could only generate 0/1 valid individuals for initial population.\n",
      "Warning: Could only generate 0/1 valid individuals for initial population.\n",
      "Warning: Could only generate 0/1 valid individuals for initial population.\n"
     ]
    },
    {
     "name": "stdout",
     "output_type": "stream",
     "text": [
      "Warning: Could only generate 0/1 valid individuals for initial population.\n",
      "Warning: Could only generate 0/1 valid individuals for initial population.\n",
      "Warning: Could only generate 0/1 valid individuals for initial population.\n"
     ]
    },
    {
     "name": "stdout",
     "output_type": "stream",
     "text": [
      "Warning: Could only generate 0/1 valid individuals for initial population.\n",
      "Warning: Could only generate 0/1 valid individuals for initial population.\n"
     ]
    },
    {
     "name": "stdout",
     "output_type": "stream",
     "text": [
      "Warning: Could only generate 0/1 valid individuals for initial population.\n"
     ]
    },
    {
     "name": "stdout",
     "output_type": "stream",
     "text": [
      "Warning: Could only generate 0/1 valid individuals for initial population.\n"
     ]
    },
    {
     "name": "stdout",
     "output_type": "stream",
     "text": [
      "Warning: Could only generate 0/1 valid individuals for initial population.\n"
     ]
    },
    {
     "name": "stdout",
     "output_type": "stream",
     "text": [
      "Warning: Could only generate 0/1 valid individuals for initial population.\n",
      "Warning: Could only generate 0/1 valid individuals for initial population.\n"
     ]
    },
    {
     "name": "stdout",
     "output_type": "stream",
     "text": [
      "Warning: Could only generate 0/1 valid individuals for initial population.\n",
      "Warning: Could only generate 0/1 valid individuals for initial population.\n"
     ]
    },
    {
     "name": "stdout",
     "output_type": "stream",
     "text": [
      "Warning: Could only generate 0/1 valid individuals for initial population.\n"
     ]
    },
    {
     "name": "stdout",
     "output_type": "stream",
     "text": [
      "Warning: Could only generate 0/1 valid individuals for initial population.\n"
     ]
    },
    {
     "name": "stdout",
     "output_type": "stream",
     "text": [
      "  GA_Config_2 (TargetExch,UnifPreferV,Ranking) - Run 12/30...\n",
      "Warning: Could only generate 0/50 valid individuals for initial population.\n",
      "Error: Initial population is empty. GA cannot proceed.\n",
      "    GA_Config_2 (TargetExch,UnifPreferV,Ranking) - Run 12 failed to produce a solution.\n",
      "  GA_Config_2 (TargetExch,UnifPreferV,Ranking) - Run 13/30...\n",
      "Warning: Could only generate 0/50 valid individuals for initial population.\n",
      "Error: Initial population is empty. GA cannot proceed.\n",
      "    GA_Config_2 (TargetExch,UnifPreferV,Ranking) - Run 13 failed to produce a solution.\n",
      "  GA_Config_2 (TargetExch,UnifPreferV,Ranking) - Run 14/30...\n"
     ]
    },
    {
     "name": "stdout",
     "output_type": "stream",
     "text": [
      "Warning: Could only generate 0/50 valid individuals for initial population.\n",
      "Error: Initial population is empty. GA cannot proceed.\n",
      "    GA_Config_2 (TargetExch,UnifPreferV,Ranking) - Run 14 failed to produce a solution.\n",
      "  GA_Config_2 (TargetExch,UnifPreferV,Ranking) - Run 15/30...\n",
      "Warning: Could only generate 0/50 valid individuals for initial population.\n",
      "Error: Initial population is empty. GA cannot proceed.\n",
      "    GA_Config_2 (TargetExch,UnifPreferV,Ranking) - Run 15 failed to produce a solution.\n",
      "  GA_Config_2 (TargetExch,UnifPreferV,Ranking) - Run 16/30...\n",
      "Warning: Could only generate 1/50 valid individuals for initial population.\n"
     ]
    },
    {
     "name": "stdout",
     "output_type": "stream",
     "text": [
      "Warning: Could only generate 0/1 valid individuals for initial population.\n",
      "Warning: Could only generate 0/1 valid individuals for initial population.\n"
     ]
    },
    {
     "name": "stdout",
     "output_type": "stream",
     "text": [
      "Warning: Could only generate 0/1 valid individuals for initial population.\n",
      "Warning: Could only generate 0/1 valid individuals for initial population.\n"
     ]
    },
    {
     "name": "stdout",
     "output_type": "stream",
     "text": [
      "Warning: Could only generate 0/1 valid individuals for initial population.\n"
     ]
    },
    {
     "name": "stdout",
     "output_type": "stream",
     "text": [
      "Warning: Could only generate 0/1 valid individuals for initial population.\n",
      "Warning: Could only generate 0/1 valid individuals for initial population.\n",
      "Warning: Could only generate 0/1 valid individuals for initial population.\n"
     ]
    },
    {
     "name": "stdout",
     "output_type": "stream",
     "text": [
      "Warning: Could only generate 0/1 valid individuals for initial population.\n",
      "Warning: Could only generate 0/1 valid individuals for initial population.\n",
      "Warning: Could only generate 0/1 valid individuals for initial population.\n",
      "Warning: Could only generate 0/1 valid individuals for initial population.\n"
     ]
    },
    {
     "name": "stdout",
     "output_type": "stream",
     "text": [
      "Warning: Could only generate 0/1 valid individuals for initial population.\n",
      "Warning: Could only generate 0/1 valid individuals for initial population.\n",
      "Warning: Could only generate 0/1 valid individuals for initial population.\n",
      "Warning: Could only generate 0/1 valid individuals for initial population.\n",
      "Warning: Could only generate 0/1 valid individuals for initial population.\n",
      "Warning: Could only generate 0/1 valid individuals for initial population.\n",
      "Warning: Could only generate 0/1 valid individuals for initial population.\n"
     ]
    },
    {
     "name": "stdout",
     "output_type": "stream",
     "text": [
      "Warning: Could only generate 0/1 valid individuals for initial population.\n",
      "Warning: Could only generate 0/1 valid individuals for initial population.\n",
      "Warning: Could only generate 0/1 valid individuals for initial population.\n",
      "Warning: Could only generate 0/1 valid individuals for initial population.\n",
      "Warning: Could only generate 0/1 valid individuals for initial population.\n"
     ]
    },
    {
     "name": "stdout",
     "output_type": "stream",
     "text": [
      "Warning: Could only generate 0/1 valid individuals for initial population.\n",
      "Warning: Could only generate 0/1 valid individuals for initial population.\n",
      "Warning: Could only generate 0/1 valid individuals for initial population.\n",
      "Warning: Could only generate 0/1 valid individuals for initial population.\n",
      "Warning: Could only generate 0/1 valid individuals for initial population.\n",
      "Warning: Could only generate 0/1 valid individuals for initial population.\n",
      "Warning: Could only generate 0/1 valid individuals for initial population.\n"
     ]
    },
    {
     "name": "stdout",
     "output_type": "stream",
     "text": [
      "Warning: Could only generate 0/1 valid individuals for initial population.\n",
      "Warning: Could only generate 0/1 valid individuals for initial population.\n",
      "Warning: Could only generate 0/1 valid individuals for initial population.\n",
      "Warning: Could only generate 0/1 valid individuals for initial population.\n",
      "Warning: Could only generate 0/1 valid individuals for initial population.\n"
     ]
    },
    {
     "name": "stdout",
     "output_type": "stream",
     "text": [
      "Warning: Could only generate 0/1 valid individuals for initial population.\n",
      "Warning: Could only generate 0/1 valid individuals for initial population.\n",
      "Warning: Could only generate 0/1 valid individuals for initial population.\n",
      "Warning: Could only generate 0/1 valid individuals for initial population.\n",
      "Warning: Could only generate 0/1 valid individuals for initial population.\n",
      "Warning: Could only generate 0/1 valid individuals for initial population.\n"
     ]
    },
    {
     "name": "stdout",
     "output_type": "stream",
     "text": [
      "Warning: Could only generate 0/1 valid individuals for initial population.\n",
      "Warning: Could only generate 0/1 valid individuals for initial population.\n",
      "Warning: Could only generate 0/1 valid individuals for initial population.\n",
      "Warning: Could only generate 0/1 valid individuals for initial population.\n"
     ]
    },
    {
     "name": "stdout",
     "output_type": "stream",
     "text": [
      "Warning: Could only generate 0/1 valid individuals for initial population.\n",
      "Warning: Could only generate 0/1 valid individuals for initial population.\n",
      "Warning: Could only generate 0/1 valid individuals for initial population.\n",
      "Warning: Could only generate 0/1 valid individuals for initial population.\n",
      "Warning: Could only generate 0/1 valid individuals for initial population.\n",
      "Warning: Could only generate 0/1 valid individuals for initial population.\n",
      "Warning: Could only generate 0/1 valid individuals for initial population.\n"
     ]
    },
    {
     "name": "stdout",
     "output_type": "stream",
     "text": [
      "Warning: Could only generate 0/1 valid individuals for initial population.\n",
      "Warning: Could only generate 0/1 valid individuals for initial population.\n",
      "Warning: Could only generate 0/1 valid individuals for initial population.\n",
      "Warning: Could only generate 0/1 valid individuals for initial population.\n",
      "Warning: Could only generate 0/1 valid individuals for initial population.\n",
      "Warning: Could only generate 0/1 valid individuals for initial population.\n",
      "Warning: Could only generate 0/1 valid individuals for initial population.\n",
      "Warning: Could only generate 0/1 valid individuals for initial population.\n",
      "Warning: Could only generate 0/1 valid individuals for initial population.\n"
     ]
    },
    {
     "name": "stdout",
     "output_type": "stream",
     "text": [
      "Warning: Could only generate 0/1 valid individuals for initial population.\n",
      "Warning: Could only generate 0/1 valid individuals for initial population.\n",
      "Warning: Could only generate 0/1 valid individuals for initial population.\n",
      "Warning: Could only generate 0/1 valid individuals for initial population.\n",
      "Warning: Could only generate 0/1 valid individuals for initial population.\n",
      "Warning: Could only generate 0/1 valid individuals for initial population.\n",
      "Warning: Could only generate 0/1 valid individuals for initial population.\n",
      "Warning: Could only generate 0/1 valid individuals for initial population.\n"
     ]
    },
    {
     "name": "stdout",
     "output_type": "stream",
     "text": [
      "Warning: Could only generate 0/1 valid individuals for initial population.\n",
      "Warning: Could only generate 0/1 valid individuals for initial population.\n",
      "Warning: Could only generate 0/1 valid individuals for initial population.\n",
      "Warning: Could only generate 0/1 valid individuals for initial population.\n"
     ]
    },
    {
     "name": "stdout",
     "output_type": "stream",
     "text": [
      "Warning: Could only generate 0/1 valid individuals for initial population.\n",
      "Warning: Could only generate 0/1 valid individuals for initial population.\n",
      "Warning: Could only generate 0/1 valid individuals for initial population.\n",
      "Warning: Could only generate 0/1 valid individuals for initial population.\n",
      "Warning: Could only generate 0/1 valid individuals for initial population.\n",
      "Warning: Could only generate 0/1 valid individuals for initial population.\n"
     ]
    },
    {
     "name": "stdout",
     "output_type": "stream",
     "text": [
      "Warning: Could only generate 0/1 valid individuals for initial population.\n",
      "Warning: Could only generate 0/1 valid individuals for initial population.\n"
     ]
    },
    {
     "name": "stdout",
     "output_type": "stream",
     "text": [
      "Warning: Could only generate 0/1 valid individuals for initial population.\n",
      "Warning: Could only generate 0/1 valid individuals for initial population.\n"
     ]
    },
    {
     "name": "stdout",
     "output_type": "stream",
     "text": [
      "Warning: Could only generate 0/1 valid individuals for initial population.\n",
      "Warning: Could only generate 0/1 valid individuals for initial population.\n",
      "Warning: Could only generate 0/1 valid individuals for initial population.\n"
     ]
    },
    {
     "name": "stdout",
     "output_type": "stream",
     "text": [
      "Warning: Could only generate 0/1 valid individuals for initial population.\n",
      "Warning: Could only generate 0/1 valid individuals for initial population.\n"
     ]
    },
    {
     "name": "stdout",
     "output_type": "stream",
     "text": [
      "Warning: Could only generate 0/1 valid individuals for initial population.\n"
     ]
    },
    {
     "name": "stdout",
     "output_type": "stream",
     "text": [
      "Warning: Could only generate 0/1 valid individuals for initial population.\n"
     ]
    },
    {
     "name": "stdout",
     "output_type": "stream",
     "text": [
      "Warning: Could only generate 0/1 valid individuals for initial population.\n",
      "Warning: Could only generate 0/1 valid individuals for initial population.\n",
      "Warning: Could only generate 0/1 valid individuals for initial population.\n"
     ]
    },
    {
     "name": "stdout",
     "output_type": "stream",
     "text": [
      "Warning: Could only generate 0/1 valid individuals for initial population.\n"
     ]
    },
    {
     "name": "stdout",
     "output_type": "stream",
     "text": [
      "Warning: Could only generate 0/1 valid individuals for initial population.\n",
      "Warning: Could only generate 0/1 valid individuals for initial population.\n",
      "Warning: Could only generate 0/1 valid individuals for initial population.\n"
     ]
    },
    {
     "name": "stdout",
     "output_type": "stream",
     "text": [
      "Warning: Could only generate 0/1 valid individuals for initial population.\n"
     ]
    },
    {
     "name": "stdout",
     "output_type": "stream",
     "text": [
      "Warning: Could only generate 0/1 valid individuals for initial population.\n"
     ]
    },
    {
     "name": "stdout",
     "output_type": "stream",
     "text": [
      "Warning: Could only generate 0/1 valid individuals for initial population.\n",
      "Warning: Could only generate 0/1 valid individuals for initial population.\n"
     ]
    },
    {
     "name": "stdout",
     "output_type": "stream",
     "text": [
      "Warning: Could only generate 0/1 valid individuals for initial population.\n",
      "Warning: Could only generate 0/1 valid individuals for initial population.\n"
     ]
    },
    {
     "name": "stdout",
     "output_type": "stream",
     "text": [
      "Warning: Could only generate 0/1 valid individuals for initial population.\n",
      "Warning: Could only generate 0/1 valid individuals for initial population.\n"
     ]
    },
    {
     "name": "stdout",
     "output_type": "stream",
     "text": [
      "Warning: Could only generate 0/1 valid individuals for initial population.\n",
      "Warning: Could only generate 0/1 valid individuals for initial population.\n"
     ]
    },
    {
     "name": "stdout",
     "output_type": "stream",
     "text": [
      "Warning: Could only generate 0/1 valid individuals for initial population.\n",
      "Warning: Could only generate 0/1 valid individuals for initial population.\n"
     ]
    },
    {
     "name": "stdout",
     "output_type": "stream",
     "text": [
      "Warning: Could only generate 0/1 valid individuals for initial population.\n"
     ]
    },
    {
     "name": "stdout",
     "output_type": "stream",
     "text": [
      "Warning: Could only generate 0/1 valid individuals for initial population.\n"
     ]
    },
    {
     "name": "stdout",
     "output_type": "stream",
     "text": [
      "Warning: Could only generate 0/1 valid individuals for initial population.\n",
      "Warning: Could only generate 0/1 valid individuals for initial population.\n"
     ]
    },
    {
     "name": "stdout",
     "output_type": "stream",
     "text": [
      "Warning: Could only generate 0/1 valid individuals for initial population.\n"
     ]
    },
    {
     "name": "stdout",
     "output_type": "stream",
     "text": [
      "Warning: Could only generate 0/1 valid individuals for initial population.\n"
     ]
    },
    {
     "name": "stdout",
     "output_type": "stream",
     "text": [
      "Warning: Could only generate 0/1 valid individuals for initial population.\n",
      "Warning: Could only generate 0/1 valid individuals for initial population.\n"
     ]
    },
    {
     "name": "stdout",
     "output_type": "stream",
     "text": [
      "Warning: Could only generate 0/1 valid individuals for initial population.\n"
     ]
    },
    {
     "name": "stdout",
     "output_type": "stream",
     "text": [
      "  GA_Config_2 (TargetExch,UnifPreferV,Ranking) - Run 17/30...\n",
      "Warning: Could only generate 0/50 valid individuals for initial population.\n",
      "Error: Initial population is empty. GA cannot proceed.\n",
      "    GA_Config_2 (TargetExch,UnifPreferV,Ranking) - Run 17 failed to produce a solution.\n",
      "  GA_Config_2 (TargetExch,UnifPreferV,Ranking) - Run 18/30...\n",
      "Warning: Could only generate 1/50 valid individuals for initial population.\n"
     ]
    },
    {
     "name": "stdout",
     "output_type": "stream",
     "text": [
      "Warning: Could only generate 0/1 valid individuals for initial population.\n",
      "Warning: Could only generate 0/1 valid individuals for initial population.\n"
     ]
    },
    {
     "name": "stdout",
     "output_type": "stream",
     "text": [
      "Warning: Could only generate 0/1 valid individuals for initial population.\n",
      "Warning: Could only generate 0/1 valid individuals for initial population.\n",
      "Warning: Could only generate 0/1 valid individuals for initial population.\n",
      "Warning: Could only generate 0/1 valid individuals for initial population.\n",
      "Warning: Could only generate 0/1 valid individuals for initial population.\n"
     ]
    },
    {
     "name": "stdout",
     "output_type": "stream",
     "text": [
      "Warning: Could only generate 0/1 valid individuals for initial population.\n",
      "Warning: Could only generate 0/1 valid individuals for initial population.\n",
      "Warning: Could only generate 0/1 valid individuals for initial population.\n",
      "Warning: Could only generate 0/1 valid individuals for initial population.\n",
      "Warning: Could only generate 0/1 valid individuals for initial population.\n"
     ]
    },
    {
     "name": "stdout",
     "output_type": "stream",
     "text": [
      "Warning: Could only generate 0/1 valid individuals for initial population.\n",
      "Warning: Could only generate 0/1 valid individuals for initial population.\n",
      "Warning: Could only generate 0/1 valid individuals for initial population.\n"
     ]
    },
    {
     "name": "stdout",
     "output_type": "stream",
     "text": [
      "Warning: Could only generate 0/1 valid individuals for initial population.\n",
      "Warning: Could only generate 0/1 valid individuals for initial population.\n",
      "Warning: Could only generate 0/1 valid individuals for initial population.\n"
     ]
    },
    {
     "name": "stdout",
     "output_type": "stream",
     "text": [
      "Warning: Could only generate 0/1 valid individuals for initial population.\n",
      "Warning: Could only generate 0/1 valid individuals for initial population.\n",
      "Warning: Could only generate 0/1 valid individuals for initial population.\n"
     ]
    },
    {
     "name": "stdout",
     "output_type": "stream",
     "text": [
      "Warning: Could only generate 0/1 valid individuals for initial population.\n"
     ]
    },
    {
     "name": "stdout",
     "output_type": "stream",
     "text": [
      "Warning: Could only generate 0/1 valid individuals for initial population.\n",
      "Warning: Could only generate 0/1 valid individuals for initial population.\n",
      "Warning: Could only generate 0/1 valid individuals for initial population.\n"
     ]
    },
    {
     "name": "stdout",
     "output_type": "stream",
     "text": [
      "Warning: Could only generate 0/1 valid individuals for initial population.\n",
      "Warning: Could only generate 0/1 valid individuals for initial population.\n",
      "Warning: Could only generate 0/1 valid individuals for initial population.\n",
      "Warning: Could only generate 0/1 valid individuals for initial population.\n",
      "Warning: Could only generate 0/1 valid individuals for initial population.\n"
     ]
    },
    {
     "name": "stdout",
     "output_type": "stream",
     "text": [
      "Warning: Could only generate 0/1 valid individuals for initial population.\n",
      "Warning: Could only generate 0/1 valid individuals for initial population.\n",
      "Warning: Could only generate 0/1 valid individuals for initial population.\n",
      "Warning: Could only generate 0/1 valid individuals for initial population.\n",
      "Warning: Could only generate 0/1 valid individuals for initial population.\n",
      "Warning: Could only generate 0/1 valid individuals for initial population.\n"
     ]
    },
    {
     "name": "stdout",
     "output_type": "stream",
     "text": [
      "Warning: Could only generate 0/1 valid individuals for initial population.\n",
      "Warning: Could only generate 0/1 valid individuals for initial population.\n",
      "Warning: Could only generate 0/1 valid individuals for initial population.\n",
      "Warning: Could only generate 0/1 valid individuals for initial population.\n",
      "Warning: Could only generate 0/1 valid individuals for initial population.\n"
     ]
    },
    {
     "name": "stdout",
     "output_type": "stream",
     "text": [
      "Warning: Could only generate 0/1 valid individuals for initial population.\n",
      "Warning: Could only generate 0/1 valid individuals for initial population.\n",
      "Warning: Could only generate 0/1 valid individuals for initial population.\n",
      "Warning: Could only generate 0/1 valid individuals for initial population.\n"
     ]
    },
    {
     "name": "stdout",
     "output_type": "stream",
     "text": [
      "Warning: Could only generate 0/1 valid individuals for initial population.\n",
      "Warning: Could only generate 0/1 valid individuals for initial population.\n",
      "Warning: Could only generate 0/1 valid individuals for initial population.\n",
      "Warning: Could only generate 0/1 valid individuals for initial population.\n"
     ]
    },
    {
     "name": "stdout",
     "output_type": "stream",
     "text": [
      "Warning: Could only generate 0/1 valid individuals for initial population.\n",
      "Warning: Could only generate 0/1 valid individuals for initial population.\n",
      "Warning: Could only generate 0/1 valid individuals for initial population.\n",
      "Warning: Could only generate 0/1 valid individuals for initial population.\n",
      "Warning: Could only generate 0/1 valid individuals for initial population.\n",
      "Warning: Could only generate 0/1 valid individuals for initial population.\n"
     ]
    },
    {
     "name": "stdout",
     "output_type": "stream",
     "text": [
      "Warning: Could only generate 0/1 valid individuals for initial population.\n",
      "Warning: Could only generate 0/1 valid individuals for initial population.\n",
      "Warning: Could only generate 0/1 valid individuals for initial population.\n",
      "Warning: Could only generate 0/1 valid individuals for initial population.\n",
      "Warning: Could only generate 0/1 valid individuals for initial population.\n"
     ]
    },
    {
     "name": "stdout",
     "output_type": "stream",
     "text": [
      "Warning: Could only generate 0/1 valid individuals for initial population.\n"
     ]
    },
    {
     "name": "stdout",
     "output_type": "stream",
     "text": [
      "Warning: Could only generate 0/1 valid individuals for initial population.\n"
     ]
    },
    {
     "name": "stdout",
     "output_type": "stream",
     "text": [
      "Warning: Could only generate 0/1 valid individuals for initial population.\n"
     ]
    },
    {
     "name": "stdout",
     "output_type": "stream",
     "text": [
      "Warning: Could only generate 0/1 valid individuals for initial population.\n"
     ]
    },
    {
     "name": "stdout",
     "output_type": "stream",
     "text": [
      "Warning: Could only generate 0/1 valid individuals for initial population.\n"
     ]
    },
    {
     "name": "stdout",
     "output_type": "stream",
     "text": [
      "Warning: Could only generate 0/1 valid individuals for initial population.\n"
     ]
    },
    {
     "name": "stdout",
     "output_type": "stream",
     "text": [
      "Warning: Could only generate 0/1 valid individuals for initial population.\n"
     ]
    },
    {
     "name": "stdout",
     "output_type": "stream",
     "text": [
      "  GA_Config_2 (TargetExch,UnifPreferV,Ranking) - Run 19/30...\n",
      "Warning: Could only generate 0/50 valid individuals for initial population.\n",
      "Error: Initial population is empty. GA cannot proceed.\n",
      "    GA_Config_2 (TargetExch,UnifPreferV,Ranking) - Run 19 failed to produce a solution.\n",
      "  GA_Config_2 (TargetExch,UnifPreferV,Ranking) - Run 20/30...\n",
      "Warning: Could only generate 0/50 valid individuals for initial population.\n",
      "Error: Initial population is empty. GA cannot proceed.\n",
      "    GA_Config_2 (TargetExch,UnifPreferV,Ranking) - Run 20 failed to produce a solution.\n",
      "  GA_Config_2 (TargetExch,UnifPreferV,Ranking) - Run 21/30...\n"
     ]
    },
    {
     "name": "stdout",
     "output_type": "stream",
     "text": [
      "Warning: Could only generate 0/50 valid individuals for initial population.\n",
      "Error: Initial population is empty. GA cannot proceed.\n",
      "    GA_Config_2 (TargetExch,UnifPreferV,Ranking) - Run 21 failed to produce a solution.\n",
      "  GA_Config_2 (TargetExch,UnifPreferV,Ranking) - Run 22/30...\n",
      "Warning: Could only generate 0/50 valid individuals for initial population.\n",
      "Error: Initial population is empty. GA cannot proceed.\n",
      "    GA_Config_2 (TargetExch,UnifPreferV,Ranking) - Run 22 failed to produce a solution.\n",
      "  GA_Config_2 (TargetExch,UnifPreferV,Ranking) - Run 23/30...\n",
      "Warning: Could only generate 0/50 valid individuals for initial population.\n",
      "Error: Initial population is empty. GA cannot proceed.\n",
      "    GA_Config_2 (TargetExch,UnifPreferV,Ranking) - Run 23 failed to produce a solution.\n",
      "  GA_Config_2 (TargetExch,UnifPreferV,Ranking) - Run 24/30...\n"
     ]
    },
    {
     "name": "stdout",
     "output_type": "stream",
     "text": [
      "Warning: Could only generate 0/50 valid individuals for initial population.\n",
      "Error: Initial population is empty. GA cannot proceed.\n",
      "    GA_Config_2 (TargetExch,UnifPreferV,Ranking) - Run 24 failed to produce a solution.\n",
      "  GA_Config_2 (TargetExch,UnifPreferV,Ranking) - Run 25/30...\n",
      "Warning: Could only generate 0/50 valid individuals for initial population.\n",
      "Error: Initial population is empty. GA cannot proceed.\n",
      "    GA_Config_2 (TargetExch,UnifPreferV,Ranking) - Run 25 failed to produce a solution.\n",
      "  GA_Config_2 (TargetExch,UnifPreferV,Ranking) - Run 26/30...\n",
      "Warning: Could only generate 0/50 valid individuals for initial population.\n",
      "Error: Initial population is empty. GA cannot proceed.\n",
      "    GA_Config_2 (TargetExch,UnifPreferV,Ranking) - Run 26 failed to produce a solution.\n",
      "  GA_Config_2 (TargetExch,UnifPreferV,Ranking) - Run 27/30...\n"
     ]
    },
    {
     "name": "stdout",
     "output_type": "stream",
     "text": [
      "Warning: Could only generate 0/50 valid individuals for initial population.\n",
      "Error: Initial population is empty. GA cannot proceed.\n",
      "    GA_Config_2 (TargetExch,UnifPreferV,Ranking) - Run 27 failed to produce a solution.\n",
      "  GA_Config_2 (TargetExch,UnifPreferV,Ranking) - Run 28/30...\n",
      "Warning: Could only generate 0/50 valid individuals for initial population.\n",
      "Error: Initial population is empty. GA cannot proceed.\n",
      "    GA_Config_2 (TargetExch,UnifPreferV,Ranking) - Run 28 failed to produce a solution.\n",
      "  GA_Config_2 (TargetExch,UnifPreferV,Ranking) - Run 29/30...\n",
      "Warning: Could only generate 0/50 valid individuals for initial population.\n",
      "Error: Initial population is empty. GA cannot proceed.\n",
      "    GA_Config_2 (TargetExch,UnifPreferV,Ranking) - Run 29 failed to produce a solution.\n",
      "  GA_Config_2 (TargetExch,UnifPreferV,Ranking) - Run 30/30...\n"
     ]
    },
    {
     "name": "stdout",
     "output_type": "stream",
     "text": [
      "Warning: Could only generate 0/50 valid individuals for initial population.\n",
      "Error: Initial population is empty. GA cannot proceed.\n",
      "    GA_Config_2 (TargetExch,UnifPreferV,Ranking) - Run 30 failed to produce a solution.\n",
      "GA_Config_2 (TargetExch,UnifPreferV,Ranking) (30 runs) summary:\n",
      "  Mean Best Fitness: 0.0571\n",
      "  Std Dev Best Fitness: 0.0000\n",
      "  Mean Execution Time: 21.32s\n",
      "  Overall Best Fitness for this config: 0.05714285714285552\n",
      "----------------------------------------------------\n",
      "\n",
      "Running GA_Config_3 (ShuffleWithin,1PtPreferV,Boltzmann) for 30 runs...\n",
      "  GA_Config_3 (ShuffleWithin,1PtPreferV,Boltzmann) - Run 1/30...\n",
      "Warning: Could only generate 0/50 valid individuals for initial population.\n",
      "Error: Initial population is empty. GA cannot proceed.\n",
      "    GA_Config_3 (ShuffleWithin,1PtPreferV,Boltzmann) - Run 1 failed to produce a solution.\n",
      "  GA_Config_3 (ShuffleWithin,1PtPreferV,Boltzmann) - Run 2/30...\n",
      "Warning: Could only generate 0/50 valid individuals for initial population.\n",
      "Error: Initial population is empty. GA cannot proceed.\n",
      "    GA_Config_3 (ShuffleWithin,1PtPreferV,Boltzmann) - Run 2 failed to produce a solution.\n",
      "  GA_Config_3 (ShuffleWithin,1PtPreferV,Boltzmann) - Run 3/30...\n"
     ]
    },
    {
     "name": "stdout",
     "output_type": "stream",
     "text": [
      "Warning: Could only generate 0/50 valid individuals for initial population.\n",
      "Error: Initial population is empty. GA cannot proceed.\n",
      "    GA_Config_3 (ShuffleWithin,1PtPreferV,Boltzmann) - Run 3 failed to produce a solution.\n",
      "  GA_Config_3 (ShuffleWithin,1PtPreferV,Boltzmann) - Run 4/30...\n",
      "Warning: Could only generate 0/50 valid individuals for initial population.\n",
      "Error: Initial population is empty. GA cannot proceed.\n",
      "    GA_Config_3 (ShuffleWithin,1PtPreferV,Boltzmann) - Run 4 failed to produce a solution.\n",
      "  GA_Config_3 (ShuffleWithin,1PtPreferV,Boltzmann) - Run 5/30...\n",
      "Warning: Could only generate 0/50 valid individuals for initial population.\n",
      "Error: Initial population is empty. GA cannot proceed.\n",
      "    GA_Config_3 (ShuffleWithin,1PtPreferV,Boltzmann) - Run 5 failed to produce a solution.\n",
      "  GA_Config_3 (ShuffleWithin,1PtPreferV,Boltzmann) - Run 6/30...\n"
     ]
    },
    {
     "name": "stdout",
     "output_type": "stream",
     "text": [
      "Warning: Could only generate 0/50 valid individuals for initial population.\n",
      "Error: Initial population is empty. GA cannot proceed.\n",
      "    GA_Config_3 (ShuffleWithin,1PtPreferV,Boltzmann) - Run 6 failed to produce a solution.\n",
      "  GA_Config_3 (ShuffleWithin,1PtPreferV,Boltzmann) - Run 7/30...\n",
      "Warning: Could only generate 0/50 valid individuals for initial population.\n",
      "Error: Initial population is empty. GA cannot proceed.\n",
      "    GA_Config_3 (ShuffleWithin,1PtPreferV,Boltzmann) - Run 7 failed to produce a solution.\n",
      "  GA_Config_3 (ShuffleWithin,1PtPreferV,Boltzmann) - Run 8/30...\n"
     ]
    },
    {
     "name": "stdout",
     "output_type": "stream",
     "text": [
      "Warning: Could only generate 1/50 valid individuals for initial population.\n"
     ]
    },
    {
     "name": "stdout",
     "output_type": "stream",
     "text": [
      "Warning: Could only generate 0/1 valid individuals for initial population.\n",
      "Warning: Could only generate 0/1 valid individuals for initial population.\n"
     ]
    },
    {
     "name": "stdout",
     "output_type": "stream",
     "text": [
      "Warning: Could only generate 0/1 valid individuals for initial population.\n",
      "Warning: Could only generate 0/1 valid individuals for initial population.\n",
      "Warning: Could only generate 0/1 valid individuals for initial population.\n"
     ]
    },
    {
     "name": "stdout",
     "output_type": "stream",
     "text": [
      "Warning: Could only generate 0/1 valid individuals for initial population.\n",
      "Warning: Could only generate 0/1 valid individuals for initial population.\n"
     ]
    },
    {
     "name": "stdout",
     "output_type": "stream",
     "text": [
      "Warning: Could only generate 0/1 valid individuals for initial population.\n",
      "Warning: Could only generate 0/1 valid individuals for initial population.\n",
      "Warning: Could only generate 0/1 valid individuals for initial population.\n"
     ]
    },
    {
     "name": "stdout",
     "output_type": "stream",
     "text": [
      "Warning: Could only generate 0/1 valid individuals for initial population.\n",
      "Warning: Could only generate 0/1 valid individuals for initial population.\n"
     ]
    },
    {
     "name": "stdout",
     "output_type": "stream",
     "text": [
      "Warning: Could only generate 0/1 valid individuals for initial population.\n"
     ]
    },
    {
     "name": "stdout",
     "output_type": "stream",
     "text": [
      "Warning: Could only generate 0/1 valid individuals for initial population.\n"
     ]
    },
    {
     "name": "stdout",
     "output_type": "stream",
     "text": [
      "Warning: Could only generate 0/1 valid individuals for initial population.\n"
     ]
    },
    {
     "name": "stdout",
     "output_type": "stream",
     "text": [
      "Warning: Could only generate 0/1 valid individuals for initial population.\n",
      "Warning: Could only generate 0/1 valid individuals for initial population.\n"
     ]
    },
    {
     "name": "stdout",
     "output_type": "stream",
     "text": [
      "Warning: Could only generate 0/1 valid individuals for initial population.\n"
     ]
    },
    {
     "name": "stdout",
     "output_type": "stream",
     "text": [
      "Warning: Could only generate 0/1 valid individuals for initial population.\n",
      "Warning: Could only generate 0/1 valid individuals for initial population.\n"
     ]
    },
    {
     "name": "stdout",
     "output_type": "stream",
     "text": [
      "Warning: Could only generate 0/1 valid individuals for initial population.\n",
      "Warning: Could only generate 0/1 valid individuals for initial population.\n"
     ]
    },
    {
     "name": "stdout",
     "output_type": "stream",
     "text": [
      "Warning: Could only generate 0/1 valid individuals for initial population.\n",
      "Warning: Could only generate 0/1 valid individuals for initial population.\n"
     ]
    },
    {
     "name": "stdout",
     "output_type": "stream",
     "text": [
      "Warning: Could only generate 0/1 valid individuals for initial population.\n",
      "Warning: Could only generate 0/1 valid individuals for initial population.\n"
     ]
    },
    {
     "name": "stdout",
     "output_type": "stream",
     "text": [
      "Warning: Could only generate 0/1 valid individuals for initial population.\n"
     ]
    },
    {
     "name": "stdout",
     "output_type": "stream",
     "text": [
      "Warning: Could only generate 0/1 valid individuals for initial population.\n",
      "Warning: Could only generate 0/1 valid individuals for initial population.\n",
      "Warning: Could only generate 0/1 valid individuals for initial population.\n"
     ]
    },
    {
     "name": "stdout",
     "output_type": "stream",
     "text": [
      "Warning: Could only generate 0/1 valid individuals for initial population.\n"
     ]
    },
    {
     "name": "stdout",
     "output_type": "stream",
     "text": [
      "Warning: Could only generate 0/1 valid individuals for initial population.\n",
      "Warning: Could only generate 0/1 valid individuals for initial population.\n"
     ]
    },
    {
     "name": "stdout",
     "output_type": "stream",
     "text": [
      "Warning: Could only generate 0/1 valid individuals for initial population.\n"
     ]
    },
    {
     "name": "stdout",
     "output_type": "stream",
     "text": [
      "Warning: Could only generate 0/1 valid individuals for initial population.\n"
     ]
    },
    {
     "name": "stdout",
     "output_type": "stream",
     "text": [
      "Warning: Could only generate 0/1 valid individuals for initial population.\n"
     ]
    },
    {
     "name": "stdout",
     "output_type": "stream",
     "text": [
      "Warning: Could only generate 0/1 valid individuals for initial population.\n",
      "Warning: Could only generate 0/1 valid individuals for initial population.\n",
      "Warning: Could only generate 0/1 valid individuals for initial population.\n"
     ]
    },
    {
     "name": "stdout",
     "output_type": "stream",
     "text": [
      "Warning: Could only generate 0/1 valid individuals for initial population.\n",
      "Warning: Could only generate 0/1 valid individuals for initial population.\n",
      "Warning: Could only generate 0/1 valid individuals for initial population.\n"
     ]
    },
    {
     "name": "stdout",
     "output_type": "stream",
     "text": [
      "Warning: Could only generate 0/1 valid individuals for initial population.\n"
     ]
    },
    {
     "name": "stdout",
     "output_type": "stream",
     "text": [
      "Warning: Could only generate 0/1 valid individuals for initial population.\n"
     ]
    },
    {
     "name": "stdout",
     "output_type": "stream",
     "text": [
      "Warning: Could only generate 0/1 valid individuals for initial population.\n",
      "Warning: Could only generate 0/1 valid individuals for initial population.\n",
      "Warning: Could only generate 0/1 valid individuals for initial population.\n",
      "Warning: Could only generate 0/1 valid individuals for initial population.\n"
     ]
    },
    {
     "name": "stdout",
     "output_type": "stream",
     "text": [
      "Warning: Could only generate 0/1 valid individuals for initial population.\n"
     ]
    },
    {
     "name": "stdout",
     "output_type": "stream",
     "text": [
      "Warning: Could only generate 0/1 valid individuals for initial population.\n",
      "Warning: Could only generate 0/1 valid individuals for initial population.\n",
      "Warning: Could only generate 0/1 valid individuals for initial population.\n"
     ]
    },
    {
     "name": "stdout",
     "output_type": "stream",
     "text": [
      "Warning: Could only generate 0/1 valid individuals for initial population.\n",
      "Warning: Could only generate 0/1 valid individuals for initial population.\n"
     ]
    },
    {
     "name": "stdout",
     "output_type": "stream",
     "text": [
      "Warning: Could only generate 0/1 valid individuals for initial population.\n"
     ]
    },
    {
     "name": "stdout",
     "output_type": "stream",
     "text": [
      "Warning: Could only generate 0/1 valid individuals for initial population.\n"
     ]
    },
    {
     "name": "stdout",
     "output_type": "stream",
     "text": [
      "Warning: Could only generate 0/1 valid individuals for initial population.\n",
      "Warning: Could only generate 0/1 valid individuals for initial population.\n"
     ]
    },
    {
     "name": "stdout",
     "output_type": "stream",
     "text": [
      "Warning: Could only generate 0/1 valid individuals for initial population.\n"
     ]
    },
    {
     "name": "stdout",
     "output_type": "stream",
     "text": [
      "Warning: Could only generate 0/1 valid individuals for initial population.\n",
      "Warning: Could only generate 0/1 valid individuals for initial population.\n"
     ]
    },
    {
     "name": "stdout",
     "output_type": "stream",
     "text": [
      "Warning: Could only generate 0/1 valid individuals for initial population.\n",
      "Warning: Could only generate 0/1 valid individuals for initial population.\n"
     ]
    },
    {
     "name": "stdout",
     "output_type": "stream",
     "text": [
      "Warning: Could only generate 0/1 valid individuals for initial population.\n"
     ]
    },
    {
     "name": "stdout",
     "output_type": "stream",
     "text": [
      "Warning: Could only generate 0/1 valid individuals for initial population.\n"
     ]
    },
    {
     "name": "stdout",
     "output_type": "stream",
     "text": [
      "  GA_Config_3 (ShuffleWithin,1PtPreferV,Boltzmann) - Run 9/30...\n",
      "Warning: Could only generate 0/50 valid individuals for initial population.\n",
      "Error: Initial population is empty. GA cannot proceed.\n",
      "    GA_Config_3 (ShuffleWithin,1PtPreferV,Boltzmann) - Run 9 failed to produce a solution.\n",
      "  GA_Config_3 (ShuffleWithin,1PtPreferV,Boltzmann) - Run 10/30...\n",
      "Warning: Could only generate 0/50 valid individuals for initial population.\n",
      "Error: Initial population is empty. GA cannot proceed.\n",
      "    GA_Config_3 (ShuffleWithin,1PtPreferV,Boltzmann) - Run 10 failed to produce a solution.\n",
      "  GA_Config_3 (ShuffleWithin,1PtPreferV,Boltzmann) - Run 11/30...\n"
     ]
    },
    {
     "name": "stdout",
     "output_type": "stream",
     "text": [
      "Warning: Could only generate 0/50 valid individuals for initial population.\n",
      "Error: Initial population is empty. GA cannot proceed.\n",
      "    GA_Config_3 (ShuffleWithin,1PtPreferV,Boltzmann) - Run 11 failed to produce a solution.\n",
      "  GA_Config_3 (ShuffleWithin,1PtPreferV,Boltzmann) - Run 12/30...\n",
      "Warning: Could only generate 0/50 valid individuals for initial population.\n",
      "Error: Initial population is empty. GA cannot proceed.\n",
      "    GA_Config_3 (ShuffleWithin,1PtPreferV,Boltzmann) - Run 12 failed to produce a solution.\n",
      "  GA_Config_3 (ShuffleWithin,1PtPreferV,Boltzmann) - Run 13/30...\n",
      "Warning: Could only generate 0/50 valid individuals for initial population.\n",
      "Error: Initial population is empty. GA cannot proceed.\n",
      "    GA_Config_3 (ShuffleWithin,1PtPreferV,Boltzmann) - Run 13 failed to produce a solution.\n",
      "  GA_Config_3 (ShuffleWithin,1PtPreferV,Boltzmann) - Run 14/30...\n"
     ]
    },
    {
     "name": "stdout",
     "output_type": "stream",
     "text": [
      "Warning: Could only generate 0/50 valid individuals for initial population.\n",
      "Error: Initial population is empty. GA cannot proceed.\n",
      "    GA_Config_3 (ShuffleWithin,1PtPreferV,Boltzmann) - Run 14 failed to produce a solution.\n",
      "  GA_Config_3 (ShuffleWithin,1PtPreferV,Boltzmann) - Run 15/30...\n",
      "Warning: Could only generate 0/50 valid individuals for initial population.\n",
      "Error: Initial population is empty. GA cannot proceed.\n",
      "    GA_Config_3 (ShuffleWithin,1PtPreferV,Boltzmann) - Run 15 failed to produce a solution.\n",
      "  GA_Config_3 (ShuffleWithin,1PtPreferV,Boltzmann) - Run 16/30...\n",
      "Warning: Could only generate 0/50 valid individuals for initial population.\n",
      "Error: Initial population is empty. GA cannot proceed.\n",
      "    GA_Config_3 (ShuffleWithin,1PtPreferV,Boltzmann) - Run 16 failed to produce a solution.\n",
      "  GA_Config_3 (ShuffleWithin,1PtPreferV,Boltzmann) - Run 17/30...\n"
     ]
    },
    {
     "name": "stdout",
     "output_type": "stream",
     "text": [
      "Warning: Could only generate 0/50 valid individuals for initial population.\n",
      "Error: Initial population is empty. GA cannot proceed.\n",
      "    GA_Config_3 (ShuffleWithin,1PtPreferV,Boltzmann) - Run 17 failed to produce a solution.\n",
      "  GA_Config_3 (ShuffleWithin,1PtPreferV,Boltzmann) - Run 18/30...\n",
      "Warning: Could only generate 0/50 valid individuals for initial population.\n",
      "Error: Initial population is empty. GA cannot proceed.\n",
      "    GA_Config_3 (ShuffleWithin,1PtPreferV,Boltzmann) - Run 18 failed to produce a solution.\n",
      "  GA_Config_3 (ShuffleWithin,1PtPreferV,Boltzmann) - Run 19/30...\n",
      "Warning: Could only generate 0/50 valid individuals for initial population.\n",
      "Error: Initial population is empty. GA cannot proceed.\n",
      "    GA_Config_3 (ShuffleWithin,1PtPreferV,Boltzmann) - Run 19 failed to produce a solution.\n",
      "  GA_Config_3 (ShuffleWithin,1PtPreferV,Boltzmann) - Run 20/30...\n"
     ]
    },
    {
     "name": "stdout",
     "output_type": "stream",
     "text": [
      "Warning: Could only generate 0/50 valid individuals for initial population.\n",
      "Error: Initial population is empty. GA cannot proceed.\n",
      "    GA_Config_3 (ShuffleWithin,1PtPreferV,Boltzmann) - Run 20 failed to produce a solution.\n",
      "  GA_Config_3 (ShuffleWithin,1PtPreferV,Boltzmann) - Run 21/30...\n",
      "Warning: Could only generate 0/50 valid individuals for initial population.\n",
      "Error: Initial population is empty. GA cannot proceed.\n",
      "    GA_Config_3 (ShuffleWithin,1PtPreferV,Boltzmann) - Run 21 failed to produce a solution.\n",
      "  GA_Config_3 (ShuffleWithin,1PtPreferV,Boltzmann) - Run 22/30...\n",
      "Warning: Could only generate 0/50 valid individuals for initial population.\n",
      "Error: Initial population is empty. GA cannot proceed.\n",
      "    GA_Config_3 (ShuffleWithin,1PtPreferV,Boltzmann) - Run 22 failed to produce a solution.\n",
      "  GA_Config_3 (ShuffleWithin,1PtPreferV,Boltzmann) - Run 23/30...\n"
     ]
    },
    {
     "name": "stdout",
     "output_type": "stream",
     "text": [
      "Warning: Could only generate 0/50 valid individuals for initial population.\n",
      "Error: Initial population is empty. GA cannot proceed.\n",
      "    GA_Config_3 (ShuffleWithin,1PtPreferV,Boltzmann) - Run 23 failed to produce a solution.\n",
      "  GA_Config_3 (ShuffleWithin,1PtPreferV,Boltzmann) - Run 24/30...\n",
      "Warning: Could only generate 1/50 valid individuals for initial population.\n"
     ]
    },
    {
     "name": "stdout",
     "output_type": "stream",
     "text": [
      "Warning: Could only generate 0/1 valid individuals for initial population.\n"
     ]
    },
    {
     "name": "stdout",
     "output_type": "stream",
     "text": [
      "Warning: Could only generate 0/1 valid individuals for initial population.\n"
     ]
    },
    {
     "name": "stdout",
     "output_type": "stream",
     "text": [
      "Warning: Could only generate 0/1 valid individuals for initial population.\n"
     ]
    },
    {
     "name": "stdout",
     "output_type": "stream",
     "text": [
      "Warning: Could only generate 0/1 valid individuals for initial population.\n",
      "Warning: Could only generate 0/1 valid individuals for initial population.\n",
      "Warning: Could only generate 0/1 valid individuals for initial population.\n"
     ]
    },
    {
     "name": "stdout",
     "output_type": "stream",
     "text": [
      "Warning: Could only generate 0/1 valid individuals for initial population.\n"
     ]
    },
    {
     "name": "stdout",
     "output_type": "stream",
     "text": [
      "Warning: Could only generate 0/1 valid individuals for initial population.\n",
      "Warning: Could only generate 0/1 valid individuals for initial population.\n"
     ]
    },
    {
     "name": "stdout",
     "output_type": "stream",
     "text": [
      "Warning: Could only generate 0/1 valid individuals for initial population.\n"
     ]
    },
    {
     "name": "stdout",
     "output_type": "stream",
     "text": [
      "Warning: Could only generate 0/1 valid individuals for initial population.\n"
     ]
    },
    {
     "name": "stdout",
     "output_type": "stream",
     "text": [
      "Warning: Could only generate 0/1 valid individuals for initial population.\n",
      "Warning: Could only generate 0/1 valid individuals for initial population.\n"
     ]
    },
    {
     "name": "stdout",
     "output_type": "stream",
     "text": [
      "Warning: Could only generate 0/1 valid individuals for initial population.\n",
      "Warning: Could only generate 0/1 valid individuals for initial population.\n",
      "Warning: Could only generate 0/1 valid individuals for initial population.\n"
     ]
    },
    {
     "name": "stdout",
     "output_type": "stream",
     "text": [
      "Warning: Could only generate 0/1 valid individuals for initial population.\n",
      "Warning: Could only generate 0/1 valid individuals for initial population.\n",
      "Warning: Could only generate 0/1 valid individuals for initial population.\n"
     ]
    },
    {
     "name": "stdout",
     "output_type": "stream",
     "text": [
      "Warning: Could only generate 0/1 valid individuals for initial population.\n"
     ]
    },
    {
     "name": "stdout",
     "output_type": "stream",
     "text": [
      "Warning: Could only generate 0/1 valid individuals for initial population.\n",
      "Warning: Could only generate 0/1 valid individuals for initial population.\n",
      "Warning: Could only generate 0/1 valid individuals for initial population.\n"
     ]
    },
    {
     "name": "stdout",
     "output_type": "stream",
     "text": [
      "Warning: Could only generate 0/1 valid individuals for initial population.\n",
      "Warning: Could only generate 0/1 valid individuals for initial population.\n"
     ]
    },
    {
     "name": "stdout",
     "output_type": "stream",
     "text": [
      "Warning: Could only generate 0/1 valid individuals for initial population.\n"
     ]
    },
    {
     "name": "stdout",
     "output_type": "stream",
     "text": [
      "Warning: Could only generate 0/1 valid individuals for initial population.\n",
      "Warning: Could only generate 0/1 valid individuals for initial population.\n"
     ]
    },
    {
     "name": "stdout",
     "output_type": "stream",
     "text": [
      "Warning: Could only generate 0/1 valid individuals for initial population.\n",
      "Warning: Could only generate 0/1 valid individuals for initial population.\n"
     ]
    },
    {
     "name": "stdout",
     "output_type": "stream",
     "text": [
      "Warning: Could only generate 0/1 valid individuals for initial population.\n"
     ]
    },
    {
     "name": "stdout",
     "output_type": "stream",
     "text": [
      "Warning: Could only generate 0/1 valid individuals for initial population.\n"
     ]
    },
    {
     "name": "stdout",
     "output_type": "stream",
     "text": [
      "Warning: Could only generate 0/1 valid individuals for initial population.\n",
      "Warning: Could only generate 0/1 valid individuals for initial population.\n"
     ]
    },
    {
     "name": "stdout",
     "output_type": "stream",
     "text": [
      "Warning: Could only generate 0/1 valid individuals for initial population.\n",
      "Warning: Could only generate 0/1 valid individuals for initial population.\n"
     ]
    },
    {
     "name": "stdout",
     "output_type": "stream",
     "text": [
      "Warning: Could only generate 0/1 valid individuals for initial population.\n"
     ]
    },
    {
     "name": "stdout",
     "output_type": "stream",
     "text": [
      "Warning: Could only generate 0/1 valid individuals for initial population.\n",
      "Warning: Could only generate 0/1 valid individuals for initial population.\n"
     ]
    },
    {
     "name": "stdout",
     "output_type": "stream",
     "text": [
      "Warning: Could only generate 0/1 valid individuals for initial population.\n",
      "Warning: Could only generate 0/1 valid individuals for initial population.\n"
     ]
    },
    {
     "name": "stdout",
     "output_type": "stream",
     "text": [
      "Warning: Could only generate 0/1 valid individuals for initial population.\n",
      "Warning: Could only generate 0/1 valid individuals for initial population.\n",
      "Warning: Could only generate 0/1 valid individuals for initial population.\n"
     ]
    },
    {
     "name": "stdout",
     "output_type": "stream",
     "text": [
      "Warning: Could only generate 0/1 valid individuals for initial population.\n"
     ]
    },
    {
     "name": "stdout",
     "output_type": "stream",
     "text": [
      "Warning: Could only generate 0/1 valid individuals for initial population.\n"
     ]
    },
    {
     "name": "stdout",
     "output_type": "stream",
     "text": [
      "Warning: Could only generate 0/1 valid individuals for initial population.\n",
      "Warning: Could only generate 0/1 valid individuals for initial population.\n"
     ]
    },
    {
     "name": "stdout",
     "output_type": "stream",
     "text": [
      "Warning: Could only generate 0/1 valid individuals for initial population.\n"
     ]
    },
    {
     "name": "stdout",
     "output_type": "stream",
     "text": [
      "Warning: Could only generate 0/1 valid individuals for initial population.\n",
      "Warning: Could only generate 0/1 valid individuals for initial population.\n"
     ]
    },
    {
     "name": "stdout",
     "output_type": "stream",
     "text": [
      "Warning: Could only generate 0/1 valid individuals for initial population.\n"
     ]
    },
    {
     "name": "stdout",
     "output_type": "stream",
     "text": [
      "Warning: Could only generate 0/1 valid individuals for initial population.\n"
     ]
    },
    {
     "name": "stdout",
     "output_type": "stream",
     "text": [
      "Warning: Could only generate 0/1 valid individuals for initial population.\n",
      "Warning: Could only generate 0/1 valid individuals for initial population.\n"
     ]
    },
    {
     "name": "stdout",
     "output_type": "stream",
     "text": [
      "Warning: Could only generate 0/1 valid individuals for initial population.\n"
     ]
    },
    {
     "name": "stdout",
     "output_type": "stream",
     "text": [
      "Warning: Could only generate 0/1 valid individuals for initial population.\n",
      "Warning: Could only generate 0/1 valid individuals for initial population.\n"
     ]
    },
    {
     "name": "stdout",
     "output_type": "stream",
     "text": [
      "Warning: Could only generate 0/1 valid individuals for initial population.\n",
      "  GA_Config_3 (ShuffleWithin,1PtPreferV,Boltzmann) - Run 25/30...\n",
      "Warning: Could only generate 0/50 valid individuals for initial population.\n",
      "Error: Initial population is empty. GA cannot proceed.\n",
      "    GA_Config_3 (ShuffleWithin,1PtPreferV,Boltzmann) - Run 25 failed to produce a solution.\n",
      "  GA_Config_3 (ShuffleWithin,1PtPreferV,Boltzmann) - Run 26/30...\n"
     ]
    },
    {
     "name": "stdout",
     "output_type": "stream",
     "text": [
      "Warning: Could only generate 0/50 valid individuals for initial population.\n",
      "Error: Initial population is empty. GA cannot proceed.\n",
      "    GA_Config_3 (ShuffleWithin,1PtPreferV,Boltzmann) - Run 26 failed to produce a solution.\n",
      "  GA_Config_3 (ShuffleWithin,1PtPreferV,Boltzmann) - Run 27/30...\n",
      "Warning: Could only generate 0/50 valid individuals for initial population.\n",
      "Error: Initial population is empty. GA cannot proceed.\n",
      "    GA_Config_3 (ShuffleWithin,1PtPreferV,Boltzmann) - Run 27 failed to produce a solution.\n",
      "  GA_Config_3 (ShuffleWithin,1PtPreferV,Boltzmann) - Run 28/30...\n",
      "Warning: Could only generate 0/50 valid individuals for initial population.\n",
      "Error: Initial population is empty. GA cannot proceed.\n",
      "    GA_Config_3 (ShuffleWithin,1PtPreferV,Boltzmann) - Run 28 failed to produce a solution.\n",
      "  GA_Config_3 (ShuffleWithin,1PtPreferV,Boltzmann) - Run 29/30...\n"
     ]
    },
    {
     "name": "stdout",
     "output_type": "stream",
     "text": [
      "Warning: Could only generate 0/50 valid individuals for initial population.\n",
      "Error: Initial population is empty. GA cannot proceed.\n",
      "    GA_Config_3 (ShuffleWithin,1PtPreferV,Boltzmann) - Run 29 failed to produce a solution.\n",
      "  GA_Config_3 (ShuffleWithin,1PtPreferV,Boltzmann) - Run 30/30...\n",
      "Warning: Could only generate 0/50 valid individuals for initial population.\n",
      "Error: Initial population is empty. GA cannot proceed.\n",
      "    GA_Config_3 (ShuffleWithin,1PtPreferV,Boltzmann) - Run 30 failed to produce a solution.\n",
      "GA_Config_3 (ShuffleWithin,1PtPreferV,Boltzmann) (30 runs) summary:\n",
      "  Mean Best Fitness: 0.0571\n",
      "  Std Dev Best Fitness: 0.0000\n",
      "  Mean Execution Time: 20.63s\n",
      "  Overall Best Fitness for this config: 0.05714285714285552\n",
      "----------------------------------------------------\n",
      "\n",
      "Running GA_Config_4 (TargetExch,UnifPreferV,TournVarK_k5) for 30 runs...\n",
      "  GA_Config_4 (TargetExch,UnifPreferV,TournVarK_k5) - Run 1/30...\n",
      "Warning: Could only generate 1/50 valid individuals for initial population.\n"
     ]
    },
    {
     "name": "stdout",
     "output_type": "stream",
     "text": [
      "Warning: Could only generate 0/1 valid individuals for initial population.\n",
      "Warning: Could only generate 0/1 valid individuals for initial population.\n",
      "Warning: Could only generate 0/1 valid individuals for initial population.\n",
      "Warning: Could only generate 0/1 valid individuals for initial population.\n",
      "Warning: Could only generate 0/1 valid individuals for initial population.\n",
      "Warning: Could only generate 0/1 valid individuals for initial population.\n",
      "Warning: Could only generate 0/1 valid individuals for initial population.\n",
      "Warning: Could only generate 0/1 valid individuals for initial population.\n",
      "Warning: Could only generate 0/1 valid individuals for initial population.\n",
      "Warning: Could only generate 0/1 valid individuals for initial population.\n",
      "Warning: Could only generate 0/1 valid individuals for initial population.\n",
      "Warning: Could only generate 0/1 valid individuals for initial population.\n",
      "Warning: Could only generate 0/1 valid individuals for initial population.\n",
      "Warning: Could only generate 0/1 valid individuals for initial population.\n",
      "Warning: Could only generate 0/1 valid individuals for initial population.\n",
      "Warning: Could only generate 0/1 valid individuals for initial population.\n",
      "Warning: Could only generate 0/1 valid individuals for initial population.\n",
      "Warning: Could only generate 0/1 valid individuals for initial population.\n",
      "Warning: Could only generate 0/1 valid individuals for initial population.\n",
      "Warning: Could only generate 0/1 valid individuals for initial population.\n",
      "Warning: Could only generate 0/1 valid individuals for initial population.\n",
      "Warning: Could only generate 0/1 valid individuals for initial population.\n",
      "Warning: Could only generate 0/1 valid individuals for initial population.\n",
      "Warning: Could only generate 0/1 valid individuals for initial population.\n",
      "Warning: Could only generate 0/1 valid individuals for initial population.\n",
      "Warning: Could only generate 0/1 valid individuals for initial population.\n",
      "Warning: Could only generate 0/1 valid individuals for initial population.\n",
      "Warning: Could only generate 0/1 valid individuals for initial population.\n",
      "Warning: Could only generate 0/1 valid individuals for initial population.\n",
      "Warning: Could only generate 0/1 valid individuals for initial population.\n"
     ]
    },
    {
     "name": "stdout",
     "output_type": "stream",
     "text": [
      "Warning: Could only generate 0/1 valid individuals for initial population.\n",
      "Warning: Could only generate 0/1 valid individuals for initial population.\n",
      "Warning: Could only generate 0/1 valid individuals for initial population.\n",
      "Warning: Could only generate 0/1 valid individuals for initial population.\n",
      "Warning: Could only generate 0/1 valid individuals for initial population.\n",
      "Warning: Could only generate 0/1 valid individuals for initial population.\n",
      "Warning: Could only generate 0/1 valid individuals for initial population.\n",
      "Warning: Could only generate 0/1 valid individuals for initial population.\n",
      "Warning: Could only generate 0/1 valid individuals for initial population.\n",
      "Warning: Could only generate 0/1 valid individuals for initial population.\n",
      "Warning: Could only generate 0/1 valid individuals for initial population.\n",
      "Warning: Could only generate 0/1 valid individuals for initial population.\n",
      "Warning: Could only generate 0/1 valid individuals for initial population.\n",
      "Warning: Could only generate 0/1 valid individuals for initial population.\n",
      "Warning: Could only generate 0/1 valid individuals for initial population.\n",
      "Warning: Could only generate 0/1 valid individuals for initial population.\n",
      "Warning: Could only generate 0/1 valid individuals for initial population.\n",
      "Warning: Could only generate 0/1 valid individuals for initial population.\n",
      "Warning: Could only generate 0/1 valid individuals for initial population.\n",
      "Warning: Could only generate 0/1 valid individuals for initial population.\n",
      "Warning: Could only generate 0/1 valid individuals for initial population.\n",
      "Warning: Could only generate 0/1 valid individuals for initial population.\n",
      "Warning: Could only generate 0/1 valid individuals for initial population.\n",
      "Warning: Could only generate 0/1 valid individuals for initial population.\n",
      "Warning: Could only generate 0/1 valid individuals for initial population.\n",
      "Warning: Could only generate 0/1 valid individuals for initial population.\n",
      "Warning: Could only generate 0/1 valid individuals for initial population.\n",
      "Warning: Could only generate 0/1 valid individuals for initial population.\n",
      "Warning: Could only generate 0/1 valid individuals for initial population.\n",
      "Warning: Could only generate 0/1 valid individuals for initial population.\n",
      "Warning: Could only generate 0/1 valid individuals for initial population.\n",
      "Warning: Could only generate 0/1 valid individuals for initial population.\n",
      "Warning: Could only generate 0/1 valid individuals for initial population.\n",
      "Warning: Could only generate 0/1 valid individuals for initial population.\n",
      "Warning: Could only generate 0/1 valid individuals for initial population.\n",
      "Warning: Could only generate 0/1 valid individuals for initial population.\n",
      "Warning: Could only generate 0/1 valid individuals for initial population.\n",
      "Warning: Could only generate 0/1 valid individuals for initial population.\n",
      "Warning: Could only generate 0/1 valid individuals for initial population.\n",
      "Warning: Could only generate 0/1 valid individuals for initial population.\n",
      "Warning: Could only generate 0/1 valid individuals for initial population.\n",
      "Warning: Could only generate 0/1 valid individuals for initial population.\n",
      "Warning: Could only generate 0/1 valid individuals for initial population.\n",
      "Warning: Could only generate 0/1 valid individuals for initial population.\n",
      "Warning: Could only generate 0/1 valid individuals for initial population.\n",
      "Warning: Could only generate 0/1 valid individuals for initial population.\n",
      "Warning: Could only generate 0/1 valid individuals for initial population.\n",
      "Warning: Could only generate 0/1 valid individuals for initial population.\n",
      "Warning: Could only generate 0/1 valid individuals for initial population.\n",
      "Warning: Could only generate 0/1 valid individuals for initial population.\n",
      "Warning: Could only generate 0/1 valid individuals for initial population.\n",
      "Warning: Could only generate 0/1 valid individuals for initial population.\n",
      "Warning: Could only generate 0/1 valid individuals for initial population.\n",
      "Warning: Could only generate 0/1 valid individuals for initial population.\n",
      "Warning: Could only generate 0/1 valid individuals for initial population.\n",
      "Warning: Could only generate 0/1 valid individuals for initial population.\n",
      "Warning: Could only generate 0/1 valid individuals for initial population.\n"
     ]
    },
    {
     "name": "stdout",
     "output_type": "stream",
     "text": [
      "Warning: Could only generate 0/1 valid individuals for initial population.\n",
      "Warning: Could only generate 0/1 valid individuals for initial population.\n",
      "Warning: Could only generate 0/1 valid individuals for initial population.\n",
      "Warning: Could only generate 0/1 valid individuals for initial population.\n",
      "Warning: Could only generate 0/1 valid individuals for initial population.\n",
      "Warning: Could only generate 0/1 valid individuals for initial population.\n",
      "Warning: Could only generate 0/1 valid individuals for initial population.\n",
      "Warning: Could only generate 0/1 valid individuals for initial population.\n",
      "Warning: Could only generate 0/1 valid individuals for initial population.\n",
      "Warning: Could only generate 0/1 valid individuals for initial population.\n",
      "Warning: Could only generate 0/1 valid individuals for initial population.\n",
      "Warning: Could only generate 0/1 valid individuals for initial population.\n",
      "Warning: Could only generate 0/1 valid individuals for initial population.\n",
      "Warning: Could only generate 0/1 valid individuals for initial population.\n",
      "Warning: Could only generate 0/1 valid individuals for initial population.\n",
      "Warning: Could only generate 0/1 valid individuals for initial population.\n",
      "Warning: Could only generate 0/1 valid individuals for initial population.\n",
      "Warning: Could only generate 0/1 valid individuals for initial population.\n",
      "Warning: Could only generate 0/1 valid individuals for initial population.\n",
      "Warning: Could only generate 0/1 valid individuals for initial population.\n",
      "Warning: Could only generate 0/1 valid individuals for initial population.\n",
      "Warning: Could only generate 0/1 valid individuals for initial population.\n",
      "Warning: Could only generate 0/1 valid individuals for initial population.\n",
      "Warning: Could only generate 0/1 valid individuals for initial population.\n",
      "Warning: Could only generate 0/1 valid individuals for initial population.\n",
      "Warning: Could only generate 0/1 valid individuals for initial population.\n",
      "Warning: Could only generate 0/1 valid individuals for initial population.\n",
      "Warning: Could only generate 0/1 valid individuals for initial population.\n",
      "Warning: Could only generate 0/1 valid individuals for initial population.\n",
      "Warning: Could only generate 0/1 valid individuals for initial population.\n",
      "Warning: Could only generate 0/1 valid individuals for initial population.\n",
      "Warning: Could only generate 0/1 valid individuals for initial population.\n",
      "Warning: Could only generate 0/1 valid individuals for initial population.\n",
      "Warning: Could only generate 0/1 valid individuals for initial population.\n",
      "Warning: Could only generate 0/1 valid individuals for initial population.\n",
      "Warning: Could only generate 0/1 valid individuals for initial population.\n",
      "Warning: Could only generate 0/1 valid individuals for initial population.\n",
      "Warning: Could only generate 0/1 valid individuals for initial population.\n",
      "Warning: Could only generate 0/1 valid individuals for initial population.\n",
      "Warning: Could only generate 0/1 valid individuals for initial population.\n",
      "Warning: Could only generate 0/1 valid individuals for initial population.\n",
      "Warning: Could only generate 0/1 valid individuals for initial population.\n",
      "Warning: Could only generate 0/1 valid individuals for initial population.\n",
      "Warning: Could only generate 0/1 valid individuals for initial population.\n",
      "Warning: Could only generate 0/1 valid individuals for initial population.\n"
     ]
    },
    {
     "name": "stdout",
     "output_type": "stream",
     "text": [
      "Warning: Could only generate 0/1 valid individuals for initial population.\n",
      "Warning: Could only generate 0/1 valid individuals for initial population.\n",
      "Warning: Could only generate 0/1 valid individuals for initial population.\n",
      "Warning: Could only generate 0/1 valid individuals for initial population.\n",
      "Warning: Could only generate 0/1 valid individuals for initial population.\n",
      "Warning: Could only generate 0/1 valid individuals for initial population.\n",
      "Warning: Could only generate 0/1 valid individuals for initial population.\n",
      "Warning: Could only generate 0/1 valid individuals for initial population.\n",
      "Warning: Could only generate 0/1 valid individuals for initial population.\n",
      "Warning: Could only generate 0/1 valid individuals for initial population.\n",
      "Warning: Could only generate 0/1 valid individuals for initial population.\n",
      "Warning: Could only generate 0/1 valid individuals for initial population.\n",
      "Warning: Could only generate 0/1 valid individuals for initial population.\n",
      "Warning: Could only generate 0/1 valid individuals for initial population.\n",
      "Warning: Could only generate 0/1 valid individuals for initial population.\n",
      "Warning: Could only generate 0/1 valid individuals for initial population.\n",
      "Warning: Could only generate 0/1 valid individuals for initial population.\n",
      "Warning: Could only generate 0/1 valid individuals for initial population.\n",
      "Warning: Could only generate 0/1 valid individuals for initial population.\n",
      "Warning: Could only generate 0/1 valid individuals for initial population.\n",
      "Warning: Could only generate 0/1 valid individuals for initial population.\n",
      "Warning: Could only generate 0/1 valid individuals for initial population.\n",
      "Warning: Could only generate 0/1 valid individuals for initial population.\n",
      "Warning: Could only generate 0/1 valid individuals for initial population.\n",
      "Warning: Could only generate 0/1 valid individuals for initial population.\n",
      "Warning: Could only generate 0/1 valid individuals for initial population.\n",
      "Warning: Could only generate 0/1 valid individuals for initial population.\n",
      "Warning: Could only generate 0/1 valid individuals for initial population.\n",
      "Warning: Could only generate 0/1 valid individuals for initial population.\n",
      "Warning: Could only generate 0/1 valid individuals for initial population.\n",
      "Warning: Could only generate 0/1 valid individuals for initial population.\n",
      "Warning: Could only generate 0/1 valid individuals for initial population.\n",
      "Warning: Could only generate 0/1 valid individuals for initial population.\n"
     ]
    },
    {
     "name": "stdout",
     "output_type": "stream",
     "text": [
      "Warning: Could only generate 0/1 valid individuals for initial population.\n",
      "Warning: Could only generate 0/1 valid individuals for initial population.\n",
      "Warning: Could only generate 0/1 valid individuals for initial population.\n",
      "Warning: Could only generate 0/1 valid individuals for initial population.\n"
     ]
    },
    {
     "name": "stdout",
     "output_type": "stream",
     "text": [
      "Warning: Could only generate 0/1 valid individuals for initial population.\n",
      "Warning: Could only generate 0/1 valid individuals for initial population.\n"
     ]
    },
    {
     "name": "stdout",
     "output_type": "stream",
     "text": [
      "Warning: Could only generate 0/1 valid individuals for initial population.\n"
     ]
    },
    {
     "name": "stdout",
     "output_type": "stream",
     "text": [
      "Warning: Could only generate 0/1 valid individuals for initial population.\n"
     ]
    },
    {
     "name": "stdout",
     "output_type": "stream",
     "text": [
      "  GA_Config_4 (TargetExch,UnifPreferV,TournVarK_k5) - Run 2/30...\n",
      "Warning: Could only generate 0/50 valid individuals for initial population.\n",
      "Error: Initial population is empty. GA cannot proceed.\n",
      "    GA_Config_4 (TargetExch,UnifPreferV,TournVarK_k5) - Run 2 failed to produce a solution.\n",
      "  GA_Config_4 (TargetExch,UnifPreferV,TournVarK_k5) - Run 3/30...\n",
      "Warning: Could only generate 0/50 valid individuals for initial population.\n",
      "Error: Initial population is empty. GA cannot proceed.\n",
      "    GA_Config_4 (TargetExch,UnifPreferV,TournVarK_k5) - Run 3 failed to produce a solution.\n",
      "  GA_Config_4 (TargetExch,UnifPreferV,TournVarK_k5) - Run 4/30...\n"
     ]
    },
    {
     "name": "stdout",
     "output_type": "stream",
     "text": [
      "Warning: Could only generate 0/50 valid individuals for initial population.\n",
      "Error: Initial population is empty. GA cannot proceed.\n",
      "    GA_Config_4 (TargetExch,UnifPreferV,TournVarK_k5) - Run 4 failed to produce a solution.\n",
      "  GA_Config_4 (TargetExch,UnifPreferV,TournVarK_k5) - Run 5/30...\n",
      "Warning: Could only generate 1/50 valid individuals for initial population.\n",
      "Warning: Could only generate 0/1 valid individuals for initial population.\n",
      "Warning: Could only generate 0/1 valid individuals for initial population.\n",
      "Warning: Could only generate 0/1 valid individuals for initial population.\n",
      "Warning: Could only generate 0/1 valid individuals for initial population.\n",
      "Warning: Could only generate 0/1 valid individuals for initial population.\n"
     ]
    },
    {
     "name": "stdout",
     "output_type": "stream",
     "text": [
      "Warning: Could only generate 0/1 valid individuals for initial population.\n",
      "Warning: Could only generate 0/1 valid individuals for initial population.\n",
      "Warning: Could only generate 0/1 valid individuals for initial population.\n",
      "Warning: Could only generate 0/1 valid individuals for initial population.\n",
      "Warning: Could only generate 0/1 valid individuals for initial population.\n",
      "Warning: Could only generate 0/1 valid individuals for initial population.\n",
      "Warning: Could only generate 0/1 valid individuals for initial population.\n",
      "Warning: Could only generate 0/1 valid individuals for initial population.\n",
      "Warning: Could only generate 0/1 valid individuals for initial population.\n"
     ]
    },
    {
     "name": "stdout",
     "output_type": "stream",
     "text": [
      "Warning: Could only generate 0/1 valid individuals for initial population.\n",
      "Warning: Could only generate 0/1 valid individuals for initial population.\n",
      "Warning: Could only generate 0/1 valid individuals for initial population.\n",
      "Warning: Could only generate 0/1 valid individuals for initial population.\n",
      "Warning: Could only generate 0/1 valid individuals for initial population.\n",
      "Warning: Could only generate 0/1 valid individuals for initial population.\n",
      "Warning: Could only generate 0/1 valid individuals for initial population.\n",
      "Warning: Could only generate 0/1 valid individuals for initial population.\n",
      "Warning: Could only generate 0/1 valid individuals for initial population.\n",
      "Warning: Could only generate 0/1 valid individuals for initial population.\n"
     ]
    },
    {
     "name": "stdout",
     "output_type": "stream",
     "text": [
      "  GA_Config_4 (TargetExch,UnifPreferV,TournVarK_k5) - Run 6/30...\n",
      "Warning: Could only generate 0/50 valid individuals for initial population.\n",
      "Error: Initial population is empty. GA cannot proceed.\n",
      "    GA_Config_4 (TargetExch,UnifPreferV,TournVarK_k5) - Run 6 failed to produce a solution.\n",
      "  GA_Config_4 (TargetExch,UnifPreferV,TournVarK_k5) - Run 7/30...\n",
      "Warning: Could only generate 0/50 valid individuals for initial population.\n",
      "Error: Initial population is empty. GA cannot proceed.\n",
      "    GA_Config_4 (TargetExch,UnifPreferV,TournVarK_k5) - Run 7 failed to produce a solution.\n",
      "  GA_Config_4 (TargetExch,UnifPreferV,TournVarK_k5) - Run 8/30...\n"
     ]
    },
    {
     "name": "stdout",
     "output_type": "stream",
     "text": [
      "Warning: Could only generate 0/50 valid individuals for initial population.\n",
      "Error: Initial population is empty. GA cannot proceed.\n",
      "    GA_Config_4 (TargetExch,UnifPreferV,TournVarK_k5) - Run 8 failed to produce a solution.\n",
      "  GA_Config_4 (TargetExch,UnifPreferV,TournVarK_k5) - Run 9/30...\n",
      "Warning: Could only generate 1/50 valid individuals for initial population.\n",
      "Warning: Could only generate 0/1 valid individuals for initial population.\n",
      "Warning: Could only generate 0/1 valid individuals for initial population.\n"
     ]
    },
    {
     "name": "stdout",
     "output_type": "stream",
     "text": [
      "Warning: Could only generate 0/1 valid individuals for initial population.\n",
      "Warning: Could only generate 0/1 valid individuals for initial population.\n",
      "Warning: Could only generate 0/1 valid individuals for initial population.\n",
      "Warning: Could only generate 0/1 valid individuals for initial population.\n",
      "Warning: Could only generate 0/1 valid individuals for initial population.\n",
      "Warning: Could only generate 0/1 valid individuals for initial population.\n",
      "Warning: Could only generate 0/1 valid individuals for initial population.\n",
      "Warning: Could only generate 0/1 valid individuals for initial population.\n",
      "Warning: Could only generate 0/1 valid individuals for initial population.\n",
      "Warning: Could only generate 0/1 valid individuals for initial population.\n",
      "Warning: Could only generate 0/1 valid individuals for initial population.\n",
      "Warning: Could only generate 0/1 valid individuals for initial population.\n",
      "Warning: Could only generate 0/1 valid individuals for initial population.\n",
      "Warning: Could only generate 0/1 valid individuals for initial population.\n",
      "Warning: Could only generate 0/1 valid individuals for initial population.\n",
      "Warning: Could only generate 0/1 valid individuals for initial population.\n",
      "Warning: Could only generate 0/1 valid individuals for initial population.\n",
      "Warning: Could only generate 0/1 valid individuals for initial population.\n",
      "Warning: Could only generate 0/1 valid individuals for initial population.\n",
      "Warning: Could only generate 0/1 valid individuals for initial population.\n",
      "Warning: Could only generate 0/1 valid individuals for initial population.\n",
      "Warning: Could only generate 0/1 valid individuals for initial population.\n",
      "Warning: Could only generate 0/1 valid individuals for initial population.\n",
      "Warning: Could only generate 0/1 valid individuals for initial population.\n",
      "Warning: Could only generate 0/1 valid individuals for initial population.\n"
     ]
    },
    {
     "name": "stdout",
     "output_type": "stream",
     "text": [
      "Warning: Could only generate 0/1 valid individuals for initial population.\n",
      "Warning: Could only generate 0/1 valid individuals for initial population.\n",
      "Warning: Could only generate 0/1 valid individuals for initial population.\n",
      "Warning: Could only generate 0/1 valid individuals for initial population.\n",
      "Warning: Could only generate 0/1 valid individuals for initial population.\n",
      "Warning: Could only generate 0/1 valid individuals for initial population.\n",
      "Warning: Could only generate 0/1 valid individuals for initial population.\n",
      "Warning: Could only generate 0/1 valid individuals for initial population.\n",
      "Warning: Could only generate 0/1 valid individuals for initial population.\n",
      "Warning: Could only generate 0/1 valid individuals for initial population.\n",
      "Warning: Could only generate 0/1 valid individuals for initial population.\n",
      "Warning: Could only generate 0/1 valid individuals for initial population.\n",
      "Warning: Could only generate 0/1 valid individuals for initial population.\n",
      "Warning: Could only generate 0/1 valid individuals for initial population.\n",
      "Warning: Could only generate 0/1 valid individuals for initial population.\n",
      "Warning: Could only generate 0/1 valid individuals for initial population.\n",
      "Warning: Could only generate 0/1 valid individuals for initial population.\n",
      "Warning: Could only generate 0/1 valid individuals for initial population.\n",
      "Warning: Could only generate 0/1 valid individuals for initial population.\n",
      "Warning: Could only generate 0/1 valid individuals for initial population.\n",
      "Warning: Could only generate 0/1 valid individuals for initial population.\n",
      "Warning: Could only generate 0/1 valid individuals for initial population.\n",
      "Warning: Could only generate 0/1 valid individuals for initial population.\n",
      "Warning: Could only generate 0/1 valid individuals for initial population.\n",
      "Warning: Could only generate 0/1 valid individuals for initial population.\n",
      "Warning: Could only generate 0/1 valid individuals for initial population.\n",
      "Warning: Could only generate 0/1 valid individuals for initial population.\n",
      "Warning: Could only generate 0/1 valid individuals for initial population.\n",
      "Warning: Could only generate 0/1 valid individuals for initial population.\n",
      "Warning: Could only generate 0/1 valid individuals for initial population.\n",
      "Warning: Could only generate 0/1 valid individuals for initial population.\n",
      "Warning: Could only generate 0/1 valid individuals for initial population.\n",
      "Warning: Could only generate 0/1 valid individuals for initial population.\n",
      "Warning: Could only generate 0/1 valid individuals for initial population.\n"
     ]
    },
    {
     "name": "stdout",
     "output_type": "stream",
     "text": [
      "Warning: Could only generate 0/1 valid individuals for initial population.\n",
      "Warning: Could only generate 0/1 valid individuals for initial population.\n",
      "Warning: Could only generate 0/1 valid individuals for initial population.\n",
      "Warning: Could only generate 0/1 valid individuals for initial population.\n",
      "Warning: Could only generate 0/1 valid individuals for initial population.\n",
      "Warning: Could only generate 0/1 valid individuals for initial population.\n"
     ]
    },
    {
     "name": "stdout",
     "output_type": "stream",
     "text": [
      "Warning: Could only generate 0/1 valid individuals for initial population.\n"
     ]
    },
    {
     "name": "stdout",
     "output_type": "stream",
     "text": [
      "Warning: Could only generate 0/1 valid individuals for initial population.\n",
      "Warning: Could only generate 0/1 valid individuals for initial population.\n"
     ]
    },
    {
     "name": "stdout",
     "output_type": "stream",
     "text": [
      "  GA_Config_4 (TargetExch,UnifPreferV,TournVarK_k5) - Run 10/30...\n",
      "Warning: Could only generate 0/50 valid individuals for initial population.\n",
      "Error: Initial population is empty. GA cannot proceed.\n",
      "    GA_Config_4 (TargetExch,UnifPreferV,TournVarK_k5) - Run 10 failed to produce a solution.\n",
      "  GA_Config_4 (TargetExch,UnifPreferV,TournVarK_k5) - Run 11/30...\n",
      "Warning: Could only generate 0/50 valid individuals for initial population.\n",
      "Error: Initial population is empty. GA cannot proceed.\n",
      "    GA_Config_4 (TargetExch,UnifPreferV,TournVarK_k5) - Run 11 failed to produce a solution.\n",
      "  GA_Config_4 (TargetExch,UnifPreferV,TournVarK_k5) - Run 12/30...\n"
     ]
    },
    {
     "name": "stdout",
     "output_type": "stream",
     "text": [
      "Warning: Could only generate 0/50 valid individuals for initial population.\n",
      "Error: Initial population is empty. GA cannot proceed.\n",
      "    GA_Config_4 (TargetExch,UnifPreferV,TournVarK_k5) - Run 12 failed to produce a solution.\n",
      "  GA_Config_4 (TargetExch,UnifPreferV,TournVarK_k5) - Run 13/30...\n",
      "Warning: Could only generate 0/50 valid individuals for initial population.\n",
      "Error: Initial population is empty. GA cannot proceed.\n",
      "    GA_Config_4 (TargetExch,UnifPreferV,TournVarK_k5) - Run 13 failed to produce a solution.\n",
      "  GA_Config_4 (TargetExch,UnifPreferV,TournVarK_k5) - Run 14/30...\n",
      "Warning: Could only generate 0/50 valid individuals for initial population.\n",
      "Error: Initial population is empty. GA cannot proceed.\n",
      "    GA_Config_4 (TargetExch,UnifPreferV,TournVarK_k5) - Run 14 failed to produce a solution.\n",
      "  GA_Config_4 (TargetExch,UnifPreferV,TournVarK_k5) - Run 15/30...\n"
     ]
    },
    {
     "name": "stdout",
     "output_type": "stream",
     "text": [
      "Warning: Could only generate 0/50 valid individuals for initial population.\n",
      "Error: Initial population is empty. GA cannot proceed.\n",
      "    GA_Config_4 (TargetExch,UnifPreferV,TournVarK_k5) - Run 15 failed to produce a solution.\n",
      "  GA_Config_4 (TargetExch,UnifPreferV,TournVarK_k5) - Run 16/30...\n",
      "Warning: Could only generate 0/50 valid individuals for initial population.\n",
      "Error: Initial population is empty. GA cannot proceed.\n",
      "    GA_Config_4 (TargetExch,UnifPreferV,TournVarK_k5) - Run 16 failed to produce a solution.\n",
      "  GA_Config_4 (TargetExch,UnifPreferV,TournVarK_k5) - Run 17/30...\n",
      "Warning: Could only generate 0/50 valid individuals for initial population.\n",
      "Error: Initial population is empty. GA cannot proceed.\n",
      "    GA_Config_4 (TargetExch,UnifPreferV,TournVarK_k5) - Run 17 failed to produce a solution.\n",
      "  GA_Config_4 (TargetExch,UnifPreferV,TournVarK_k5) - Run 18/30...\n"
     ]
    },
    {
     "name": "stdout",
     "output_type": "stream",
     "text": [
      "Warning: Could only generate 0/50 valid individuals for initial population.\n",
      "Error: Initial population is empty. GA cannot proceed.\n",
      "    GA_Config_4 (TargetExch,UnifPreferV,TournVarK_k5) - Run 18 failed to produce a solution.\n",
      "  GA_Config_4 (TargetExch,UnifPreferV,TournVarK_k5) - Run 19/30...\n",
      "Warning: Could only generate 1/50 valid individuals for initial population.\n",
      "Warning: Could only generate 0/1 valid individuals for initial population.\n",
      "Warning: Could only generate 0/1 valid individuals for initial population.\n",
      "Warning: Could only generate 0/1 valid individuals for initial population.\n",
      "Warning: Could only generate 0/1 valid individuals for initial population.\n",
      "Warning: Could only generate 0/1 valid individuals for initial population.\n",
      "Warning: Could only generate 0/1 valid individuals for initial population.\n",
      "Warning: Could only generate 0/1 valid individuals for initial population.\n",
      "Warning: Could only generate 0/1 valid individuals for initial population.\n"
     ]
    },
    {
     "name": "stdout",
     "output_type": "stream",
     "text": [
      "Warning: Could only generate 0/1 valid individuals for initial population.\n",
      "Warning: Could only generate 0/1 valid individuals for initial population.\n",
      "Warning: Could only generate 0/1 valid individuals for initial population.\n",
      "Warning: Could only generate 0/1 valid individuals for initial population.\n",
      "Warning: Could only generate 0/1 valid individuals for initial population.\n",
      "Warning: Could only generate 0/1 valid individuals for initial population.\n",
      "Warning: Could only generate 0/1 valid individuals for initial population.\n",
      "Warning: Could only generate 0/1 valid individuals for initial population.\n",
      "Warning: Could only generate 0/1 valid individuals for initial population.\n",
      "Warning: Could only generate 0/1 valid individuals for initial population.\n",
      "Warning: Could only generate 0/1 valid individuals for initial population.\n",
      "Warning: Could only generate 0/1 valid individuals for initial population.\n",
      "Warning: Could only generate 0/1 valid individuals for initial population.\n",
      "Warning: Could only generate 0/1 valid individuals for initial population.\n",
      "Warning: Could only generate 0/1 valid individuals for initial population.\n",
      "Warning: Could only generate 0/1 valid individuals for initial population.\n",
      "Warning: Could only generate 0/1 valid individuals for initial population.\n",
      "Warning: Could only generate 0/1 valid individuals for initial population.\n",
      "Warning: Could only generate 0/1 valid individuals for initial population.\n",
      "Warning: Could only generate 0/1 valid individuals for initial population.\n",
      "Warning: Could only generate 0/1 valid individuals for initial population.\n",
      "Warning: Could only generate 0/1 valid individuals for initial population.\n",
      "Warning: Could only generate 0/1 valid individuals for initial population.\n",
      "Warning: Could only generate 0/1 valid individuals for initial population.\n",
      "Warning: Could only generate 0/1 valid individuals for initial population.\n",
      "Warning: Could only generate 0/1 valid individuals for initial population.\n"
     ]
    },
    {
     "name": "stdout",
     "output_type": "stream",
     "text": [
      "Warning: Could only generate 0/1 valid individuals for initial population.\n",
      "Warning: Could only generate 0/1 valid individuals for initial population.\n",
      "Warning: Could only generate 0/1 valid individuals for initial population.\n",
      "Warning: Could only generate 0/1 valid individuals for initial population.\n",
      "Warning: Could only generate 0/1 valid individuals for initial population.\n",
      "Warning: Could only generate 0/1 valid individuals for initial population.\n",
      "Warning: Could only generate 0/1 valid individuals for initial population.\n",
      "Warning: Could only generate 0/1 valid individuals for initial population.\n",
      "Warning: Could only generate 0/1 valid individuals for initial population.\n",
      "Warning: Could only generate 0/1 valid individuals for initial population.\n",
      "Warning: Could only generate 0/1 valid individuals for initial population.\n",
      "Warning: Could only generate 0/1 valid individuals for initial population.\n",
      "Warning: Could only generate 0/1 valid individuals for initial population.\n",
      "Warning: Could only generate 0/1 valid individuals for initial population.\n",
      "Warning: Could only generate 0/1 valid individuals for initial population.\n",
      "Warning: Could only generate 0/1 valid individuals for initial population.\n",
      "Warning: Could only generate 0/1 valid individuals for initial population.\n",
      "Warning: Could only generate 0/1 valid individuals for initial population.\n",
      "Warning: Could only generate 0/1 valid individuals for initial population.\n",
      "Warning: Could only generate 0/1 valid individuals for initial population.\n",
      "Warning: Could only generate 0/1 valid individuals for initial population.\n",
      "Warning: Could only generate 0/1 valid individuals for initial population.\n",
      "Warning: Could only generate 0/1 valid individuals for initial population.\n",
      "Warning: Could only generate 0/1 valid individuals for initial population.\n",
      "Warning: Could only generate 0/1 valid individuals for initial population.\n",
      "Warning: Could only generate 0/1 valid individuals for initial population.\n",
      "Warning: Could only generate 0/1 valid individuals for initial population.\n",
      "Warning: Could only generate 0/1 valid individuals for initial population.\n",
      "Warning: Could only generate 0/1 valid individuals for initial population.\n",
      "Warning: Could only generate 0/1 valid individuals for initial population.\n",
      "Warning: Could only generate 0/1 valid individuals for initial population.\n",
      "Warning: Could only generate 0/1 valid individuals for initial population.\n",
      "Warning: Could only generate 0/1 valid individuals for initial population.\n",
      "Warning: Could only generate 0/1 valid individuals for initial population.\n",
      "Warning: Could only generate 0/1 valid individuals for initial population.\n",
      "Warning: Could only generate 0/1 valid individuals for initial population.\n",
      "Warning: Could only generate 0/1 valid individuals for initial population.\n",
      "Warning: Could only generate 0/1 valid individuals for initial population.\n",
      "Warning: Could only generate 0/1 valid individuals for initial population.\n",
      "Warning: Could only generate 0/1 valid individuals for initial population.\n"
     ]
    },
    {
     "name": "stdout",
     "output_type": "stream",
     "text": [
      "Warning: Could only generate 0/1 valid individuals for initial population.\n",
      "Warning: Could only generate 0/1 valid individuals for initial population.\n",
      "Warning: Could only generate 0/1 valid individuals for initial population.\n",
      "Warning: Could only generate 0/1 valid individuals for initial population.\n",
      "Warning: Could only generate 0/1 valid individuals for initial population.\n",
      "Warning: Could only generate 0/1 valid individuals for initial population.\n",
      "Warning: Could only generate 0/1 valid individuals for initial population.\n",
      "Warning: Could only generate 0/1 valid individuals for initial population.\n",
      "Warning: Could only generate 0/1 valid individuals for initial population.\n",
      "Warning: Could only generate 0/1 valid individuals for initial population.\n",
      "Warning: Could only generate 0/1 valid individuals for initial population.\n",
      "Warning: Could only generate 0/1 valid individuals for initial population.\n",
      "Warning: Could only generate 0/1 valid individuals for initial population.\n",
      "Warning: Could only generate 0/1 valid individuals for initial population.\n",
      "Warning: Could only generate 0/1 valid individuals for initial population.\n",
      "Warning: Could only generate 0/1 valid individuals for initial population.\n",
      "Warning: Could only generate 0/1 valid individuals for initial population.\n",
      "Warning: Could only generate 0/1 valid individuals for initial population.\n",
      "Warning: Could only generate 0/1 valid individuals for initial population.\n",
      "Warning: Could only generate 0/1 valid individuals for initial population.\n",
      "Warning: Could only generate 0/1 valid individuals for initial population.\n",
      "Warning: Could only generate 0/1 valid individuals for initial population.\n",
      "Warning: Could only generate 0/1 valid individuals for initial population.\n",
      "Warning: Could only generate 0/1 valid individuals for initial population.\n",
      "Warning: Could only generate 0/1 valid individuals for initial population.\n",
      "Warning: Could only generate 0/1 valid individuals for initial population.\n",
      "Warning: Could only generate 0/1 valid individuals for initial population.\n",
      "Warning: Could only generate 0/1 valid individuals for initial population.\n",
      "Warning: Could only generate 0/1 valid individuals for initial population.\n"
     ]
    },
    {
     "name": "stdout",
     "output_type": "stream",
     "text": [
      "Warning: Could only generate 0/1 valid individuals for initial population.\n",
      "Warning: Could only generate 0/1 valid individuals for initial population.\n",
      "Warning: Could only generate 0/1 valid individuals for initial population.\n",
      "Warning: Could only generate 0/1 valid individuals for initial population.\n",
      "Warning: Could only generate 0/1 valid individuals for initial population.\n",
      "Warning: Could only generate 0/1 valid individuals for initial population.\n",
      "Warning: Could only generate 0/1 valid individuals for initial population.\n",
      "Warning: Could only generate 0/1 valid individuals for initial population.\n"
     ]
    },
    {
     "name": "stdout",
     "output_type": "stream",
     "text": [
      "  GA_Config_4 (TargetExch,UnifPreferV,TournVarK_k5) - Run 20/30...\n",
      "Warning: Could only generate 1/50 valid individuals for initial population.\n",
      "Warning: Could only generate 0/1 valid individuals for initial population.\n",
      "Warning: Could only generate 0/1 valid individuals for initial population.\n",
      "Warning: Could only generate 0/1 valid individuals for initial population.\n",
      "Warning: Could only generate 0/1 valid individuals for initial population.\n"
     ]
    },
    {
     "name": "stdout",
     "output_type": "stream",
     "text": [
      "Warning: Could only generate 0/1 valid individuals for initial population.\n",
      "Warning: Could only generate 0/1 valid individuals for initial population.\n",
      "Warning: Could only generate 0/1 valid individuals for initial population.\n",
      "Warning: Could only generate 0/1 valid individuals for initial population.\n",
      "Warning: Could only generate 0/1 valid individuals for initial population.\n",
      "Warning: Could only generate 0/1 valid individuals for initial population.\n",
      "Warning: Could only generate 0/1 valid individuals for initial population.\n",
      "Warning: Could only generate 0/1 valid individuals for initial population.\n",
      "Warning: Could only generate 0/1 valid individuals for initial population.\n",
      "Warning: Could only generate 0/1 valid individuals for initial population.\n",
      "Warning: Could only generate 0/1 valid individuals for initial population.\n",
      "Warning: Could only generate 0/1 valid individuals for initial population.\n",
      "Warning: Could only generate 0/1 valid individuals for initial population.\n",
      "Warning: Could only generate 0/1 valid individuals for initial population.\n",
      "Warning: Could only generate 0/1 valid individuals for initial population.\n",
      "Warning: Could only generate 0/1 valid individuals for initial population.\n",
      "Warning: Could only generate 0/1 valid individuals for initial population.\n",
      "Warning: Could only generate 0/1 valid individuals for initial population.\n",
      "Warning: Could only generate 0/1 valid individuals for initial population.\n",
      "Warning: Could only generate 0/1 valid individuals for initial population.\n",
      "Warning: Could only generate 0/1 valid individuals for initial population.\n",
      "Warning: Could only generate 0/1 valid individuals for initial population.\n",
      "Warning: Could only generate 0/1 valid individuals for initial population.\n",
      "Warning: Could only generate 0/1 valid individuals for initial population.\n",
      "Warning: Could only generate 0/1 valid individuals for initial population.\n",
      "Warning: Could only generate 0/1 valid individuals for initial population.\n",
      "Warning: Could only generate 0/1 valid individuals for initial population.\n",
      "Warning: Could only generate 0/1 valid individuals for initial population.\n",
      "Warning: Could only generate 0/1 valid individuals for initial population.\n",
      "Warning: Could only generate 0/1 valid individuals for initial population.\n"
     ]
    },
    {
     "name": "stdout",
     "output_type": "stream",
     "text": [
      "Warning: Could only generate 0/1 valid individuals for initial population.\n",
      "Warning: Could only generate 0/1 valid individuals for initial population.\n",
      "Warning: Could only generate 0/1 valid individuals for initial population.\n",
      "Warning: Could only generate 0/1 valid individuals for initial population.\n",
      "Warning: Could only generate 0/1 valid individuals for initial population.\n",
      "Warning: Could only generate 0/1 valid individuals for initial population.\n",
      "Warning: Could only generate 0/1 valid individuals for initial population.\n",
      "Warning: Could only generate 0/1 valid individuals for initial population.\n",
      "Warning: Could only generate 0/1 valid individuals for initial population.\n",
      "Warning: Could only generate 0/1 valid individuals for initial population.\n",
      "Warning: Could only generate 0/1 valid individuals for initial population.\n",
      "Warning: Could only generate 0/1 valid individuals for initial population.\n",
      "Warning: Could only generate 0/1 valid individuals for initial population.\n",
      "Warning: Could only generate 0/1 valid individuals for initial population.\n",
      "Warning: Could only generate 0/1 valid individuals for initial population.\n",
      "Warning: Could only generate 0/1 valid individuals for initial population.\n",
      "Warning: Could only generate 0/1 valid individuals for initial population.\n",
      "Warning: Could only generate 0/1 valid individuals for initial population.\n",
      "Warning: Could only generate 0/1 valid individuals for initial population.\n",
      "Warning: Could only generate 0/1 valid individuals for initial population.\n",
      "Warning: Could only generate 0/1 valid individuals for initial population.\n",
      "Warning: Could only generate 0/1 valid individuals for initial population.\n",
      "Warning: Could only generate 0/1 valid individuals for initial population.\n",
      "Warning: Could only generate 0/1 valid individuals for initial population.\n",
      "Warning: Could only generate 0/1 valid individuals for initial population.\n",
      "Warning: Could only generate 0/1 valid individuals for initial population.\n",
      "Warning: Could only generate 0/1 valid individuals for initial population.\n",
      "Warning: Could only generate 0/1 valid individuals for initial population.\n",
      "Warning: Could only generate 0/1 valid individuals for initial population.\n",
      "Warning: Could only generate 0/1 valid individuals for initial population.\n",
      "Warning: Could only generate 0/1 valid individuals for initial population.\n",
      "Warning: Could only generate 0/1 valid individuals for initial population.\n",
      "Warning: Could only generate 0/1 valid individuals for initial population.\n",
      "Warning: Could only generate 0/1 valid individuals for initial population.\n",
      "Warning: Could only generate 0/1 valid individuals for initial population.\n",
      "Warning: Could only generate 0/1 valid individuals for initial population.\n",
      "Warning: Could only generate 0/1 valid individuals for initial population.\n",
      "Warning: Could only generate 0/1 valid individuals for initial population.\n",
      "Warning: Could only generate 0/1 valid individuals for initial population.\n",
      "Warning: Could only generate 0/1 valid individuals for initial population.\n",
      "Warning: Could only generate 0/1 valid individuals for initial population.\n",
      "Warning: Could only generate 0/1 valid individuals for initial population.\n",
      "Warning: Could only generate 0/1 valid individuals for initial population.\n",
      "Warning: Could only generate 0/1 valid individuals for initial population.\n",
      "Warning: Could only generate 0/1 valid individuals for initial population.\n",
      "Warning: Could only generate 0/1 valid individuals for initial population.\n",
      "Warning: Could only generate 0/1 valid individuals for initial population.\n",
      "Warning: Could only generate 0/1 valid individuals for initial population.\n",
      "Warning: Could only generate 0/1 valid individuals for initial population.\n"
     ]
    },
    {
     "name": "stdout",
     "output_type": "stream",
     "text": [
      "Warning: Could only generate 0/1 valid individuals for initial population.\n",
      "Warning: Could only generate 0/1 valid individuals for initial population.\n",
      "Warning: Could only generate 0/1 valid individuals for initial population.\n",
      "Warning: Could only generate 0/1 valid individuals for initial population.\n",
      "Warning: Could only generate 0/1 valid individuals for initial population.\n",
      "Warning: Could only generate 0/1 valid individuals for initial population.\n",
      "Warning: Could only generate 0/1 valid individuals for initial population.\n",
      "Warning: Could only generate 0/1 valid individuals for initial population.\n",
      "Warning: Could only generate 0/1 valid individuals for initial population.\n",
      "Warning: Could only generate 0/1 valid individuals for initial population.\n",
      "Warning: Could only generate 0/1 valid individuals for initial population.\n",
      "Warning: Could only generate 0/1 valid individuals for initial population.\n",
      "Warning: Could only generate 0/1 valid individuals for initial population.\n",
      "Warning: Could only generate 0/1 valid individuals for initial population.\n",
      "Warning: Could only generate 0/1 valid individuals for initial population.\n",
      "Warning: Could only generate 0/1 valid individuals for initial population.\n",
      "Warning: Could only generate 0/1 valid individuals for initial population.\n",
      "Warning: Could only generate 0/1 valid individuals for initial population.\n",
      "Warning: Could only generate 0/1 valid individuals for initial population.\n",
      "Warning: Could only generate 0/1 valid individuals for initial population.\n",
      "Warning: Could only generate 0/1 valid individuals for initial population.\n",
      "Warning: Could only generate 0/1 valid individuals for initial population.\n",
      "Warning: Could only generate 0/1 valid individuals for initial population.\n",
      "Warning: Could only generate 0/1 valid individuals for initial population.\n",
      "Warning: Could only generate 0/1 valid individuals for initial population.\n",
      "Warning: Could only generate 0/1 valid individuals for initial population.\n",
      "Warning: Could only generate 0/1 valid individuals for initial population.\n",
      "Warning: Could only generate 0/1 valid individuals for initial population.\n",
      "Warning: Could only generate 0/1 valid individuals for initial population.\n",
      "Warning: Could only generate 0/1 valid individuals for initial population.\n",
      "Warning: Could only generate 0/1 valid individuals for initial population.\n",
      "Warning: Could only generate 0/1 valid individuals for initial population.\n",
      "Warning: Could only generate 0/1 valid individuals for initial population.\n",
      "Warning: Could only generate 0/1 valid individuals for initial population.\n",
      "Warning: Could only generate 0/1 valid individuals for initial population.\n",
      "Warning: Could only generate 0/1 valid individuals for initial population.\n",
      "Warning: Could only generate 0/1 valid individuals for initial population.\n",
      "Warning: Could only generate 0/1 valid individuals for initial population.\n",
      "Warning: Could only generate 0/1 valid individuals for initial population.\n",
      "Warning: Could only generate 0/1 valid individuals for initial population.\n",
      "Warning: Could only generate 0/1 valid individuals for initial population.\n"
     ]
    },
    {
     "name": "stdout",
     "output_type": "stream",
     "text": [
      "Warning: Could only generate 0/1 valid individuals for initial population.\n",
      "Warning: Could only generate 0/1 valid individuals for initial population.\n",
      "Warning: Could only generate 0/1 valid individuals for initial population.\n",
      "Warning: Could only generate 0/1 valid individuals for initial population.\n",
      "Warning: Could only generate 0/1 valid individuals for initial population.\n",
      "Warning: Could only generate 0/1 valid individuals for initial population.\n",
      "Warning: Could only generate 0/1 valid individuals for initial population.\n",
      "Warning: Could only generate 0/1 valid individuals for initial population.\n",
      "Warning: Could only generate 0/1 valid individuals for initial population.\n",
      "Warning: Could only generate 0/1 valid individuals for initial population.\n",
      "Warning: Could only generate 0/1 valid individuals for initial population.\n",
      "Warning: Could only generate 0/1 valid individuals for initial population.\n",
      "Warning: Could only generate 0/1 valid individuals for initial population.\n",
      "Warning: Could only generate 0/1 valid individuals for initial population.\n",
      "Warning: Could only generate 0/1 valid individuals for initial population.\n",
      "Warning: Could only generate 0/1 valid individuals for initial population.\n",
      "Warning: Could only generate 0/1 valid individuals for initial population.\n",
      "Warning: Could only generate 0/1 valid individuals for initial population.\n",
      "Warning: Could only generate 0/1 valid individuals for initial population.\n",
      "Warning: Could only generate 0/1 valid individuals for initial population.\n",
      "Warning: Could only generate 0/1 valid individuals for initial population.\n",
      "Warning: Could only generate 0/1 valid individuals for initial population.\n",
      "Warning: Could only generate 0/1 valid individuals for initial population.\n",
      "Warning: Could only generate 0/1 valid individuals for initial population.\n",
      "Warning: Could only generate 0/1 valid individuals for initial population.\n",
      "Warning: Could only generate 0/1 valid individuals for initial population.\n",
      "Warning: Could only generate 0/1 valid individuals for initial population.\n",
      "Warning: Could only generate 0/1 valid individuals for initial population.\n",
      "Warning: Could only generate 0/1 valid individuals for initial population.\n",
      "Warning: Could only generate 0/1 valid individuals for initial population.\n"
     ]
    },
    {
     "name": "stdout",
     "output_type": "stream",
     "text": [
      "Warning: Could only generate 0/1 valid individuals for initial population.\n"
     ]
    },
    {
     "name": "stdout",
     "output_type": "stream",
     "text": [
      "Warning: Could only generate 0/1 valid individuals for initial population.\n"
     ]
    },
    {
     "name": "stdout",
     "output_type": "stream",
     "text": [
      "  GA_Config_4 (TargetExch,UnifPreferV,TournVarK_k5) - Run 21/30...\n",
      "Warning: Could only generate 0/50 valid individuals for initial population.\n",
      "Error: Initial population is empty. GA cannot proceed.\n",
      "    GA_Config_4 (TargetExch,UnifPreferV,TournVarK_k5) - Run 21 failed to produce a solution.\n",
      "  GA_Config_4 (TargetExch,UnifPreferV,TournVarK_k5) - Run 22/30...\n",
      "Warning: Could only generate 0/50 valid individuals for initial population.\n",
      "Error: Initial population is empty. GA cannot proceed.\n",
      "    GA_Config_4 (TargetExch,UnifPreferV,TournVarK_k5) - Run 22 failed to produce a solution.\n",
      "  GA_Config_4 (TargetExch,UnifPreferV,TournVarK_k5) - Run 23/30...\n"
     ]
    },
    {
     "name": "stdout",
     "output_type": "stream",
     "text": [
      "Warning: Could only generate 0/50 valid individuals for initial population.\n",
      "Error: Initial population is empty. GA cannot proceed.\n",
      "    GA_Config_4 (TargetExch,UnifPreferV,TournVarK_k5) - Run 23 failed to produce a solution.\n",
      "  GA_Config_4 (TargetExch,UnifPreferV,TournVarK_k5) - Run 24/30...\n",
      "Warning: Could only generate 0/50 valid individuals for initial population.\n",
      "Error: Initial population is empty. GA cannot proceed.\n",
      "    GA_Config_4 (TargetExch,UnifPreferV,TournVarK_k5) - Run 24 failed to produce a solution.\n",
      "  GA_Config_4 (TargetExch,UnifPreferV,TournVarK_k5) - Run 25/30...\n",
      "Warning: Could only generate 1/50 valid individuals for initial population.\n"
     ]
    },
    {
     "name": "stdout",
     "output_type": "stream",
     "text": [
      "Warning: Could only generate 0/1 valid individuals for initial population.\n",
      "Warning: Could only generate 0/1 valid individuals for initial population.\n",
      "Warning: Could only generate 0/1 valid individuals for initial population.\n",
      "Warning: Could only generate 0/1 valid individuals for initial population.\n",
      "Warning: Could only generate 0/1 valid individuals for initial population.\n",
      "Warning: Could only generate 0/1 valid individuals for initial population.\n",
      "Warning: Could only generate 0/1 valid individuals for initial population.\n",
      "Warning: Could only generate 0/1 valid individuals for initial population.\n",
      "Warning: Could only generate 0/1 valid individuals for initial population.\n",
      "Warning: Could only generate 0/1 valid individuals for initial population.\n",
      "Warning: Could only generate 0/1 valid individuals for initial population.\n",
      "Warning: Could only generate 0/1 valid individuals for initial population.\n",
      "Warning: Could only generate 0/1 valid individuals for initial population.\n",
      "Warning: Could only generate 0/1 valid individuals for initial population.\n",
      "Warning: Could only generate 0/1 valid individuals for initial population.\n",
      "Warning: Could only generate 0/1 valid individuals for initial population.\n",
      "Warning: Could only generate 0/1 valid individuals for initial population.\n",
      "Warning: Could only generate 0/1 valid individuals for initial population.\n",
      "Warning: Could only generate 0/1 valid individuals for initial population.\n",
      "Warning: Could only generate 0/1 valid individuals for initial population.\n",
      "Warning: Could only generate 0/1 valid individuals for initial population.\n",
      "Warning: Could only generate 0/1 valid individuals for initial population.\n",
      "Warning: Could only generate 0/1 valid individuals for initial population.\n",
      "Warning: Could only generate 0/1 valid individuals for initial population.\n",
      "Warning: Could only generate 0/1 valid individuals for initial population.\n",
      "Warning: Could only generate 0/1 valid individuals for initial population.\n",
      "Warning: Could only generate 0/1 valid individuals for initial population.\n",
      "Warning: Could only generate 0/1 valid individuals for initial population.\n",
      "Warning: Could only generate 0/1 valid individuals for initial population.\n",
      "Warning: Could only generate 0/1 valid individuals for initial population.\n",
      "Warning: Could only generate 0/1 valid individuals for initial population.\n"
     ]
    },
    {
     "name": "stdout",
     "output_type": "stream",
     "text": [
      "Warning: Could only generate 0/1 valid individuals for initial population.\n",
      "Warning: Could only generate 0/1 valid individuals for initial population.\n",
      "Warning: Could only generate 0/1 valid individuals for initial population.\n",
      "Warning: Could only generate 0/1 valid individuals for initial population.\n",
      "Warning: Could only generate 0/1 valid individuals for initial population.\n",
      "Warning: Could only generate 0/1 valid individuals for initial population.\n",
      "Warning: Could only generate 0/1 valid individuals for initial population.\n",
      "Warning: Could only generate 0/1 valid individuals for initial population.\n",
      "Warning: Could only generate 0/1 valid individuals for initial population.\n",
      "Warning: Could only generate 0/1 valid individuals for initial population.\n",
      "Warning: Could only generate 0/1 valid individuals for initial population.\n",
      "Warning: Could only generate 0/1 valid individuals for initial population.\n",
      "Warning: Could only generate 0/1 valid individuals for initial population.\n",
      "Warning: Could only generate 0/1 valid individuals for initial population.\n",
      "Warning: Could only generate 0/1 valid individuals for initial population.\n",
      "Warning: Could only generate 0/1 valid individuals for initial population.\n",
      "Warning: Could only generate 0/1 valid individuals for initial population.\n",
      "Warning: Could only generate 0/1 valid individuals for initial population.\n",
      "Warning: Could only generate 0/1 valid individuals for initial population.\n",
      "Warning: Could only generate 0/1 valid individuals for initial population.\n",
      "Warning: Could only generate 0/1 valid individuals for initial population.\n",
      "Warning: Could only generate 0/1 valid individuals for initial population.\n",
      "Warning: Could only generate 0/1 valid individuals for initial population.\n",
      "Warning: Could only generate 0/1 valid individuals for initial population.\n",
      "Warning: Could only generate 0/1 valid individuals for initial population.\n",
      "Warning: Could only generate 0/1 valid individuals for initial population.\n",
      "Warning: Could only generate 0/1 valid individuals for initial population.\n",
      "Warning: Could only generate 0/1 valid individuals for initial population.\n",
      "Warning: Could only generate 0/1 valid individuals for initial population.\n",
      "Warning: Could only generate 0/1 valid individuals for initial population.\n",
      "Warning: Could only generate 0/1 valid individuals for initial population.\n",
      "Warning: Could only generate 0/1 valid individuals for initial population.\n",
      "Warning: Could only generate 0/1 valid individuals for initial population.\n",
      "Warning: Could only generate 0/1 valid individuals for initial population.\n"
     ]
    },
    {
     "name": "stdout",
     "output_type": "stream",
     "text": [
      "Warning: Could only generate 0/1 valid individuals for initial population.\n",
      "Warning: Could only generate 0/1 valid individuals for initial population.\n",
      "Warning: Could only generate 0/1 valid individuals for initial population.\n",
      "Warning: Could only generate 0/1 valid individuals for initial population.\n",
      "Warning: Could only generate 0/1 valid individuals for initial population.\n",
      "Warning: Could only generate 0/1 valid individuals for initial population.\n",
      "Warning: Could only generate 0/1 valid individuals for initial population.\n",
      "Warning: Could only generate 0/1 valid individuals for initial population.\n",
      "Warning: Could only generate 0/1 valid individuals for initial population.\n",
      "Warning: Could only generate 0/1 valid individuals for initial population.\n",
      "Warning: Could only generate 0/1 valid individuals for initial population.\n",
      "Warning: Could only generate 0/1 valid individuals for initial population.\n",
      "Warning: Could only generate 0/1 valid individuals for initial population.\n",
      "Warning: Could only generate 0/1 valid individuals for initial population.\n"
     ]
    },
    {
     "name": "stdout",
     "output_type": "stream",
     "text": [
      "Warning: Could only generate 0/1 valid individuals for initial population.\n",
      "Warning: Could only generate 0/1 valid individuals for initial population.\n",
      "Warning: Could only generate 0/1 valid individuals for initial population.\n",
      "Warning: Could only generate 0/1 valid individuals for initial population.\n",
      "Warning: Could only generate 0/1 valid individuals for initial population.\n",
      "Warning: Could only generate 0/1 valid individuals for initial population.\n",
      "Warning: Could only generate 0/1 valid individuals for initial population.\n"
     ]
    },
    {
     "name": "stdout",
     "output_type": "stream",
     "text": [
      "Warning: Could only generate 0/1 valid individuals for initial population.\n",
      "Warning: Could only generate 0/1 valid individuals for initial population.\n",
      "Warning: Could only generate 0/1 valid individuals for initial population.\n",
      "Warning: Could only generate 0/1 valid individuals for initial population.\n",
      "Warning: Could only generate 0/1 valid individuals for initial population.\n",
      "Warning: Could only generate 0/1 valid individuals for initial population.\n",
      "Warning: Could only generate 0/1 valid individuals for initial population.\n",
      "Warning: Could only generate 0/1 valid individuals for initial population.\n",
      "Warning: Could only generate 0/1 valid individuals for initial population.\n",
      "Warning: Could only generate 0/1 valid individuals for initial population.\n"
     ]
    },
    {
     "name": "stdout",
     "output_type": "stream",
     "text": [
      "Warning: Could only generate 0/1 valid individuals for initial population.\n",
      "Warning: Could only generate 0/1 valid individuals for initial population.\n",
      "Warning: Could only generate 0/1 valid individuals for initial population.\n",
      "Warning: Could only generate 0/1 valid individuals for initial population.\n",
      "Warning: Could only generate 0/1 valid individuals for initial population.\n",
      "Warning: Could only generate 0/1 valid individuals for initial population.\n",
      "Warning: Could only generate 0/1 valid individuals for initial population.\n",
      "Warning: Could only generate 0/1 valid individuals for initial population.\n",
      "Warning: Could only generate 0/1 valid individuals for initial population.\n",
      "Warning: Could only generate 0/1 valid individuals for initial population.\n"
     ]
    },
    {
     "name": "stdout",
     "output_type": "stream",
     "text": [
      "Warning: Could only generate 0/1 valid individuals for initial population.\n"
     ]
    },
    {
     "name": "stdout",
     "output_type": "stream",
     "text": [
      "Warning: Could only generate 0/1 valid individuals for initial population.\n"
     ]
    },
    {
     "name": "stdout",
     "output_type": "stream",
     "text": [
      "Warning: Could only generate 0/1 valid individuals for initial population.\n",
      "  GA_Config_4 (TargetExch,UnifPreferV,TournVarK_k5) - Run 26/30...\n",
      "Warning: Could only generate 1/50 valid individuals for initial population.\n"
     ]
    },
    {
     "name": "stdout",
     "output_type": "stream",
     "text": [
      "Warning: Could only generate 0/1 valid individuals for initial population.\n",
      "Warning: Could only generate 0/1 valid individuals for initial population.\n",
      "Warning: Could only generate 0/1 valid individuals for initial population.\n",
      "Warning: Could only generate 0/1 valid individuals for initial population.\n",
      "Warning: Could only generate 0/1 valid individuals for initial population.\n",
      "Warning: Could only generate 0/1 valid individuals for initial population.\n",
      "Warning: Could only generate 0/1 valid individuals for initial population.\n",
      "Warning: Could only generate 0/1 valid individuals for initial population.\n",
      "Warning: Could only generate 0/1 valid individuals for initial population.\n",
      "Warning: Could only generate 0/1 valid individuals for initial population.\n",
      "Warning: Could only generate 0/1 valid individuals for initial population.\n",
      "Warning: Could only generate 0/1 valid individuals for initial population.\n",
      "Warning: Could only generate 0/1 valid individuals for initial population.\n",
      "Warning: Could only generate 0/1 valid individuals for initial population.\n",
      "Warning: Could only generate 0/1 valid individuals for initial population.\n",
      "Warning: Could only generate 0/1 valid individuals for initial population.\n",
      "Warning: Could only generate 0/1 valid individuals for initial population.\n",
      "Warning: Could only generate 0/1 valid individuals for initial population.\n",
      "Warning: Could only generate 0/1 valid individuals for initial population.\n",
      "Warning: Could only generate 0/1 valid individuals for initial population.\n",
      "Warning: Could only generate 0/1 valid individuals for initial population.\n",
      "Warning: Could only generate 0/1 valid individuals for initial population.\n",
      "Warning: Could only generate 0/1 valid individuals for initial population.\n",
      "Warning: Could only generate 0/1 valid individuals for initial population.\n",
      "Warning: Could only generate 0/1 valid individuals for initial population.\n",
      "Warning: Could only generate 0/1 valid individuals for initial population.\n",
      "Warning: Could only generate 0/1 valid individuals for initial population.\n",
      "Warning: Could only generate 0/1 valid individuals for initial population.\n",
      "Warning: Could only generate 0/1 valid individuals for initial population.\n",
      "Warning: Could only generate 0/1 valid individuals for initial population.\n"
     ]
    },
    {
     "name": "stdout",
     "output_type": "stream",
     "text": [
      "Warning: Could only generate 0/1 valid individuals for initial population.\n",
      "Warning: Could only generate 0/1 valid individuals for initial population.\n",
      "Warning: Could only generate 0/1 valid individuals for initial population.\n",
      "Warning: Could only generate 0/1 valid individuals for initial population.\n",
      "Warning: Could only generate 0/1 valid individuals for initial population.\n",
      "Warning: Could only generate 0/1 valid individuals for initial population.\n",
      "Warning: Could only generate 0/1 valid individuals for initial population.\n",
      "Warning: Could only generate 0/1 valid individuals for initial population.\n",
      "Warning: Could only generate 0/1 valid individuals for initial population.\n",
      "Warning: Could only generate 0/1 valid individuals for initial population.\n",
      "Warning: Could only generate 0/1 valid individuals for initial population.\n",
      "Warning: Could only generate 0/1 valid individuals for initial population.\n",
      "Warning: Could only generate 0/1 valid individuals for initial population.\n",
      "Warning: Could only generate 0/1 valid individuals for initial population.\n",
      "Warning: Could only generate 0/1 valid individuals for initial population.\n",
      "Warning: Could only generate 0/1 valid individuals for initial population.\n",
      "Warning: Could only generate 0/1 valid individuals for initial population.\n",
      "Warning: Could only generate 0/1 valid individuals for initial population.\n",
      "Warning: Could only generate 0/1 valid individuals for initial population.\n",
      "Warning: Could only generate 0/1 valid individuals for initial population.\n",
      "Warning: Could only generate 0/1 valid individuals for initial population.\n",
      "Warning: Could only generate 0/1 valid individuals for initial population.\n",
      "Warning: Could only generate 0/1 valid individuals for initial population.\n",
      "Warning: Could only generate 0/1 valid individuals for initial population.\n",
      "Warning: Could only generate 0/1 valid individuals for initial population.\n",
      "Warning: Could only generate 0/1 valid individuals for initial population.\n",
      "Warning: Could only generate 0/1 valid individuals for initial population.\n",
      "Warning: Could only generate 0/1 valid individuals for initial population.\n",
      "Warning: Could only generate 0/1 valid individuals for initial population.\n",
      "Warning: Could only generate 0/1 valid individuals for initial population.\n",
      "Warning: Could only generate 0/1 valid individuals for initial population.\n",
      "Warning: Could only generate 0/1 valid individuals for initial population.\n"
     ]
    },
    {
     "name": "stdout",
     "output_type": "stream",
     "text": [
      "Warning: Could only generate 0/1 valid individuals for initial population.\n",
      "Warning: Could only generate 0/1 valid individuals for initial population.\n",
      "Warning: Could only generate 0/1 valid individuals for initial population.\n",
      "Warning: Could only generate 0/1 valid individuals for initial population.\n"
     ]
    },
    {
     "name": "stdout",
     "output_type": "stream",
     "text": [
      "Warning: Could only generate 0/1 valid individuals for initial population.\n",
      "Warning: Could only generate 0/1 valid individuals for initial population.\n",
      "Warning: Could only generate 0/1 valid individuals for initial population.\n",
      "Warning: Could only generate 0/1 valid individuals for initial population.\n",
      "Warning: Could only generate 0/1 valid individuals for initial population.\n",
      "Warning: Could only generate 0/1 valid individuals for initial population.\n",
      "Warning: Could only generate 0/1 valid individuals for initial population.\n",
      "Warning: Could only generate 0/1 valid individuals for initial population.\n",
      "Warning: Could only generate 0/1 valid individuals for initial population.\n",
      "Warning: Could only generate 0/1 valid individuals for initial population.\n",
      "Warning: Could only generate 0/1 valid individuals for initial population.\n"
     ]
    },
    {
     "name": "stdout",
     "output_type": "stream",
     "text": [
      "Warning: Could only generate 0/1 valid individuals for initial population.\n",
      "Warning: Could only generate 0/1 valid individuals for initial population.\n"
     ]
    },
    {
     "name": "stdout",
     "output_type": "stream",
     "text": [
      "Warning: Could only generate 0/1 valid individuals for initial population.\n"
     ]
    },
    {
     "name": "stdout",
     "output_type": "stream",
     "text": [
      "  GA_Config_4 (TargetExch,UnifPreferV,TournVarK_k5) - Run 27/30...\n",
      "Warning: Could only generate 0/50 valid individuals for initial population.\n",
      "Error: Initial population is empty. GA cannot proceed.\n",
      "    GA_Config_4 (TargetExch,UnifPreferV,TournVarK_k5) - Run 27 failed to produce a solution.\n",
      "  GA_Config_4 (TargetExch,UnifPreferV,TournVarK_k5) - Run 28/30...\n",
      "Warning: Could only generate 1/50 valid individuals for initial population.\n"
     ]
    },
    {
     "name": "stdout",
     "output_type": "stream",
     "text": [
      "Warning: Could only generate 0/1 valid individuals for initial population.\n",
      "Warning: Could only generate 0/1 valid individuals for initial population.\n",
      "Warning: Could only generate 0/1 valid individuals for initial population.\n",
      "Warning: Could only generate 0/1 valid individuals for initial population.\n"
     ]
    },
    {
     "name": "stdout",
     "output_type": "stream",
     "text": [
      "Warning: Could only generate 0/1 valid individuals for initial population.\n",
      "Warning: Could only generate 0/1 valid individuals for initial population.\n",
      "Warning: Could only generate 0/1 valid individuals for initial population.\n",
      "Warning: Could only generate 0/1 valid individuals for initial population.\n",
      "Warning: Could only generate 0/1 valid individuals for initial population.\n",
      "Warning: Could only generate 0/1 valid individuals for initial population.\n"
     ]
    },
    {
     "name": "stdout",
     "output_type": "stream",
     "text": [
      "Warning: Could only generate 0/1 valid individuals for initial population.\n",
      "Warning: Could only generate 0/1 valid individuals for initial population.\n",
      "Warning: Could only generate 0/1 valid individuals for initial population.\n",
      "Warning: Could only generate 0/1 valid individuals for initial population.\n",
      "Warning: Could only generate 0/1 valid individuals for initial population.\n",
      "Warning: Could only generate 0/1 valid individuals for initial population.\n",
      "Warning: Could only generate 0/1 valid individuals for initial population.\n",
      "Warning: Could only generate 0/1 valid individuals for initial population.\n",
      "Warning: Could only generate 0/1 valid individuals for initial population.\n"
     ]
    },
    {
     "name": "stdout",
     "output_type": "stream",
     "text": [
      "Warning: Could only generate 0/1 valid individuals for initial population.\n",
      "Warning: Could only generate 0/1 valid individuals for initial population.\n",
      "Warning: Could only generate 0/1 valid individuals for initial population.\n",
      "Warning: Could only generate 0/1 valid individuals for initial population.\n"
     ]
    },
    {
     "name": "stdout",
     "output_type": "stream",
     "text": [
      "Warning: Could only generate 0/1 valid individuals for initial population.\n"
     ]
    },
    {
     "name": "stdout",
     "output_type": "stream",
     "text": [
      "  GA_Config_4 (TargetExch,UnifPreferV,TournVarK_k5) - Run 29/30...\n",
      "Warning: Could only generate 0/50 valid individuals for initial population.\n",
      "Error: Initial population is empty. GA cannot proceed.\n",
      "    GA_Config_4 (TargetExch,UnifPreferV,TournVarK_k5) - Run 29 failed to produce a solution.\n",
      "  GA_Config_4 (TargetExch,UnifPreferV,TournVarK_k5) - Run 30/30...\n",
      "Warning: Could only generate 0/50 valid individuals for initial population.\n",
      "Error: Initial population is empty. GA cannot proceed.\n",
      "    GA_Config_4 (TargetExch,UnifPreferV,TournVarK_k5) - Run 30 failed to produce a solution.\n",
      "GA_Config_4 (TargetExch,UnifPreferV,TournVarK_k5) (30 runs) summary:\n",
      "  Mean Best Fitness: 0.0571\n",
      "  Std Dev Best Fitness: 0.0000\n",
      "  Mean Execution Time: 2.92s\n",
      "  Overall Best Fitness for this config: 0.05714285714285552\n",
      "----------------------------------------------------\n"
     ]
    },
    {
     "data": {
      "image/png": "[encoded data removed]",
      "text/plain": [
       "<Figure size 1400x900 with 1 Axes>"
      ]
     },
     "metadata": {},
     "output_type": "display_data"
    },
    {
     "name": "stdout",
     "output_type": "stream",
     "text": [
      "\n",
      "Overall Best Fitness from GA Configurations (across all runs):\n",
      "GA_Config_1 (SwapConst,1PtPreferV,TournVarK): Overall Best Fitness = 0.0571\n",
      "GA_Config_2 (TargetExch,UnifPreferV,Ranking): Overall Best Fitness = 0.0571\n",
      "GA_Config_3 (ShuffleWithin,1PtPreferV,Boltzmann): Overall Best Fitness = 0.0571\n",
      "GA_Config_4 (TargetExch,UnifPreferV,TournVarK_k5): Overall Best Fitness = 0.0571\n"
     ]
    }
   ],
   "source": [
    "ga_configs_new = [\n",
    "    {\n",
    "        \"name\": \"GA_Config_1 (SwapConst,1PtPreferV,TournVarK)\",\n",
    "        \"mutation_operator_func\": mutate_swap_constrained,\n",
    "        \"crossover_operator_func\": crossover_one_point_prefer_valid,\n",
    "        \"selection_operator_func\": selection_tournament_variable_k,\n",
    "        \"tournament_k\": 3,\n",
    "        \"boltzmann_temp\": None \n",
    "    },\n",
    "    {\n",
    "        \"name\": \"GA_Config_2 (TargetExch,UnifPreferV,Ranking)\",\n",
    "        \"mutation_operator_func\": mutate_targeted_player_exchange,\n",
    "        \"crossover_operator_func\": crossover_uniform_prefer_valid,\n",
    "        \"selection_operator_func\": selection_ranking,\n",
    "        \"tournament_k\": None, \n",
    "        \"boltzmann_temp\": None \n",
    "    },\n",
    "    {\n",
    "        \"name\": \"GA_Config_3 (ShuffleWithin,1PtPreferV,Boltzmann)\",\n",
    "        \"mutation_operator_func\": mutate_shuffle_within_team_constrained,\n",
    "        \"crossover_operator_func\": crossover_one_point_prefer_valid,\n",
    "        \"selection_operator_func\": selection_boltzmann,\n",
    "        \"tournament_k\": None, \n",
    "        \"boltzmann_temp\": 50 \n",
    "    },\n",
    "    {\n",
    "        \"name\": \"GA_Config_4 (TargetExch,UnifPreferV,TournVarK_k5)\",\n",
    "        \"mutation_operator_func\": mutate_targeted_player_exchange,\n",
    "        \"crossover_operator_func\": crossover_uniform_prefer_valid,\n",
    "        \"selection_operator_func\": selection_tournament_variable_k,\n",
    "        \"tournament_k\": 5,\n",
    "        \"boltzmann_temp\": None \n",
    "    }\n",
    "]\n",
    "\n",
    "ga_results_summary = [] # To store stats for each config\n",
    "all_ga_convergence_histories = {} # To store best run history for each config for plotting\n",
    "\n",
    "GA_GENERATIONS = 50 \n",
    "GA_POPULATION_SIZE = 50\n",
    "GA_ELITE_SIZE = 5\n",
    "GA_MUTATION_RATE = 0.25\n",
    "\n",
    "print(f\"Running Genetic Algorithm with NEW/ADAPTED operator configurations ({NUM_RUNS} runs each)...\")\n",
    "for config in ga_configs_new:\n",
    "    print(f\"\\nRunning {config['name']} for {NUM_RUNS} runs...\")\n",
    "    config_all_fitness = []\n",
    "    config_all_exec_times = []\n",
    "    config_best_sol_overall = None\n",
    "    config_best_fitness_overall = float('inf')\n",
    "    config_best_history_overall = []\n",
    "\n",
    "    for i in range(NUM_RUNS):\n",
    "        print(f\"  {config['name']} - Run {i+1}/{NUM_RUNS}...\")\n",
    "        start_ga_run_time = time.time()\n",
    "        # Pass players_data to genetic_algorithm\n",
    "        best_ga_sol_run, history_ga_run = genetic_algorithm(\n",
    "            players_data=players_data, # Use players_data\n",
    "            population_size=GA_POPULATION_SIZE,\n",
    "            generations=GA_GENERATIONS,\n",
    "            mutation_rate=GA_MUTATION_RATE,\n",
    "            elite_size=GA_ELITE_SIZE,\n",
    "            mutation_operator_func=config['mutation_operator_func'],\n",
    "            crossover_operator_func=config['crossover_operator_func'],\n",
    "            selection_operator_func=config['selection_operator_func'],\n",
    "            tournament_k=config['tournament_k'] if config['tournament_k'] else 3, \n",
    "            boltzmann_temp=config['boltzmann_temp'] if config['boltzmann_temp'] else 100, \n",
    "            num_teams=NUM_TEAMS, \n",
    "            team_size=TEAM_SIZE, \n",
    "            max_budget=MAX_BUDGET,\n",
    "            verbose=False \n",
    "        )\n",
    "        end_ga_run_time = time.time()\n",
    "        \n",
    "        if best_ga_sol_run:\n",
    "            run_fitness = best_ga_sol_run.fitness(players_data) # Use players_data\n",
    "            config_all_fitness.append(run_fitness)\n",
    "            config_all_exec_times.append(end_ga_run_time - start_ga_run_time)\n",
    "            if run_fitness < config_best_fitness_overall:\n",
    "                config_best_fitness_overall = run_fitness\n",
    "                config_best_sol_overall = best_ga_sol_run\n",
    "                config_best_history_overall = history_ga_run\n",
    "        else:\n",
    "            print(f\"    {config['name']} - Run {i+1} failed to produce a solution.\")\n",
    "\n",
    "    mean_fit = np.mean(config_all_fitness) if config_all_fitness else float('nan')\n",
    "    std_fit = np.std(config_all_fitness) if config_all_fitness else float('nan')\n",
    "    mean_time = np.mean(config_all_exec_times) if config_all_exec_times else float('nan')\n",
    "    \n",
    "    ga_results_summary.append({\n",
    "        \"name\": config['name'],\n",
    "        \"mean_fitness\": mean_fit,\n",
    "        \"std_fitness\": std_fit,\n",
    "        \"mean_exec_time\": mean_time,\n",
    "        \"overall_best_fitness\": config_best_fitness_overall if config_best_sol_overall else float('nan'),\n",
    "        \"best_solution_object\": config_best_sol_overall # Store the best solution object itself\n",
    "    })\n",
    "    if config_best_sol_overall:\n",
    "        all_ga_convergence_histories[config['name']] = config_best_history_overall\n",
    "\n",
    "    print(f\"{config['name']} ({NUM_RUNS} runs) summary:\")\n",
    "    print(f\"  Mean Best Fitness: {mean_fit:.4f}\")\n",
    "    print(f\"  Std Dev Best Fitness: {std_fit:.4f}\")\n",
    "    print(f\"  Mean Execution Time: {mean_time:.2f}s\")\n",
    "    print(f\"  Overall Best Fitness for this config: {config_best_fitness_overall if config_best_sol_overall else 'N/A'}\")\n",
    "    print(\"----------------------------------------------------\")\n",
    "\n",
    "# Plot GA History for the best run of each config\n",
    "plt.figure(figsize=(14, 9))\n",
    "for name, history in all_ga_convergence_histories.items():\n",
    "    plt.plot(history, label=name, marker='.')\n",
    "plt.title(f'Genetic Algorithm Convergence (Best of {NUM_RUNS} Runs per Config)')\n",
    "plt.xlabel('Generation')\n",
    "plt.ylabel('Best Fitness (Std Dev of Avg Team Skills)')\n",
    "plt.legend(loc='upper right', bbox_to_anchor=(1.5, 1))\n",
    "plt.grid(True)\n",
    "plt.tight_layout()\n",
    "plt.show()\n",
    "\n",
    "print(\"\\nOverall Best Fitness from GA Configurations (across all runs):\")\n",
    "for res in ga_results_summary:\n",
    "    # Corrected f-string for printing overall_best_fitness\n",
    "    overall_fitness_val = res['overall_best_fitness']\n",
    "    overall_fitness_str = f\"{overall_fitness_val:.4f}\" if not np.isnan(overall_fitness_val) else \"N/A\"\n",
    "    print(f\"{res['name']}: Overall Best Fitness = {overall_fitness_str}\")"
   ]
  },
  {
   "cell_type": "markdown",
   "id": "5c6e22c3",
   "metadata": {},
   "source": [
    "## 4. Comparative Analysis\n",
    "\n",
    "This section presents a summary table and plots comparing the performance of all implemented algorithms and configurations based on the 30 runs for stochastic methods."
   ]
  },
  {
   "cell_type": "code",
   "execution_count": 6,
   "id": "4f12d421",
   "metadata": {
    "execution": {
     "iopub.execute_input": "2025-05-14T00:27:48.510734Z",
     "iopub.status.busy": "2025-05-14T00:27:48.510286Z",
     "iopub.status.idle": "2025-05-14T00:27:49.043402Z",
     "shell.execute_reply": "2025-05-14T00:27:49.042384Z"
    }
   },
   "outputs": [
    {
     "name": "stdout",
     "output_type": "stream",
     "text": [
      "\n",
      "--- Comparative Analysis Table ---\n",
      "                                           Algorithm  Mean Best Fitness  Std Dev Best Fitness  Mean Execution Time (s)  Overall Best Fitness                       Mutation Operator                Crossover Operator               Selection Operator\n",
      "0                                      Hill Climbing           0.057143              0.000000                 0.120999              0.057143                      N/A (Local Search)                N/A (Local Search)               N/A (Local Search)\n",
      "1                                Simulated Annealing           0.058802              0.008932                 9.805010              0.057143                  N/A (Probabilistic LS)            N/A (Probabilistic LS)           N/A (Probabilistic LS)\n",
      "2       GA_Config_1 (SwapConst,1PtPreferV,TournVarK)           0.069583              0.021547                 1.846207              0.057143                 mutate_swap_constrained  crossover_one_point_prefer_valid  selection_tournament_variable_k\n",
      "3       GA_Config_2 (TargetExch,UnifPreferV,Ranking)           0.057143              0.000000                21.321792              0.057143         mutate_targeted_player_exchange    crossover_uniform_prefer_valid                selection_ranking\n",
      "4   GA_Config_3 (ShuffleWithin,1PtPreferV,Boltzmann)           0.057143              0.000000                20.633443              0.057143  mutate_shuffle_within_team_constrained  crossover_one_point_prefer_valid              selection_boltzmann\n",
      "5  GA_Config_4 (TargetExch,UnifPreferV,TournVarK_k5)           0.057143              0.000000                 2.924395              0.057143         mutate_targeted_player_exchange    crossover_uniform_prefer_valid  selection_tournament_variable_k\n"
     ]
    },
    {
     "data": {
      "image/png": "[encoded data removed]",
      "text/plain": [
       "<Figure size 1200x800 with 1 Axes>"
      ]
     },
     "metadata": {},
     "output_type": "display_data"
    },
    {
     "data": {
      "image/png": "[encoded data removed]",
      "text/plain": [
       "<Figure size 1200x800 with 1 Axes>"
      ]
     },
     "metadata": {},
     "output_type": "display_data"
    }
   ],
   "source": [
    "# Prepare data for comparison table\n",
    "comparison_data = []\n",
    "\n",
    "# Hill Climbing Data\n",
    "comparison_data.append({\n",
    "    \"Algorithm\": \"Hill Climbing\",\n",
    "    \"Mean Best Fitness\": hc_fitness_val if hc_solution_obj else float('nan'),\n",
    "    \"Std Dev Best Fitness\": 0.0, # Deterministic for a given start\n",
    "    \"Mean Execution Time (s)\": hc_exec_time,\n",
    "    \"Overall Best Fitness\": hc_fitness_val if hc_solution_obj else float('nan'),\n",
    "    \"Mutation Operator\": \"N/A (Local Search)\",\n",
    "    \"Crossover Operator\": \"N/A (Local Search)\",\n",
    "    \"Selection Operator\": \"N/A (Local Search)\"\n",
    "})\n",
    "\n",
    "# Simulated Annealing Data\n",
    "comparison_data.append({\n",
    "    \"Algorithm\": \"Simulated Annealing\",\n",
    "    \"Mean Best Fitness\": sa_mean_fitness,\n",
    "    \"Std Dev Best Fitness\": sa_std_fitness,\n",
    "    \"Mean Execution Time (s)\": sa_mean_exec_time,\n",
    "    \"Overall Best Fitness\": best_sa_fitness_overall if best_sa_solution_overall else float('nan'),\n",
    "    \"Mutation Operator\": \"N/A (Probabilistic LS)\",\n",
    "    \"Crossover Operator\": \"N/A (Probabilistic LS)\",\n",
    "    \"Selection Operator\": \"N/A (Probabilistic LS)\"\n",
    "})\n",
    "\n",
    "# Genetic Algorithm Data\n",
    "for res in ga_results_summary:\n",
    "    # Find the original config to get operator names\n",
    "    original_config = next((c for c in ga_configs_new if c[\"name\"] == res[\"name\"]), None)\n",
    "    comparison_data.append({\n",
    "        \"Algorithm\": res[\"name\"],\n",
    "        \"Mean Best Fitness\": res[\"mean_fitness\"],\n",
    "        \"Std Dev Best Fitness\": res[\"std_fitness\"],\n",
    "        \"Mean Execution Time (s)\": res[\"mean_exec_time\"],\n",
    "        \"Overall Best Fitness\": res[\"overall_best_fitness\"],\n",
    "        \"Mutation Operator\": original_config[\"mutation_operator_func\"].__name__ if original_config else \"N/A\",\n",
    "        \"Crossover Operator\": original_config[\"crossover_operator_func\"].__name__ if original_config else \"N/A\",\n",
    "        \"Selection Operator\": original_config[\"selection_operator_func\"].__name__ if original_config else \"N/A\"\n",
    "    })\n",
    "\n",
    "comparison_df = pd.DataFrame(comparison_data)\n",
    "\n",
    "print(\"\\n--- Comparative Analysis Table ---\")\n",
    "print(comparison_df.to_string())\n",
    "\n",
    "# Plotting Comparative Results\n",
    "\n",
    "# Sort by Mean Best Fitness for plotting (lower is better)\n",
    "comparison_df_sorted_fitness = comparison_df.sort_values(by=\"Mean Best Fitness\", ascending=True).reset_index()\n",
    "\n",
    "plt.figure(figsize=(12, 8))\n",
    "plt.bar(\n",
    "    comparison_df_sorted_fitness[\"Algorithm\"],\n",
    "    comparison_df_sorted_fitness[\"Mean Best Fitness\"],\n",
    "    yerr=comparison_df_sorted_fitness[\"Std Dev Best Fitness\"],\n",
    "    capsize=5,\n",
    "    color=['#1f77b4', '#ff7f0e', '#2ca02c', '#d62728', '#9467bd', '#8c564b'] # Example colors\n",
    ")\n",
    "plt.xlabel(\"Algorithm / GA Configuration\")\n",
    "plt.ylabel(\"Mean Best Fitness (Lower is Better)\")\n",
    "plt.title(f\"Comparative Mean Best Fitness (with StdDev Error Bars) - {NUM_RUNS} Runs\")\n",
    "plt.xticks(rotation=45, ha=\"right\")\n",
    "plt.grid(axis='y', linestyle='--')\n",
    "plt.tight_layout()\n",
    "plt.show()\n",
    "\n",
    "# Sort by Mean Execution Time for plotting\n",
    "comparison_df_sorted_time = comparison_df.sort_values(by=\"Mean Execution Time (s)\", ascending=True).reset_index()\n",
    "\n",
    "plt.figure(figsize=(12, 8))\n",
    "plt.bar(\n",
    "    comparison_df_sorted_time[\"Algorithm\"],\n",
    "    comparison_df_sorted_time[\"Mean Execution Time (s)\"],\n",
    "    color=['#1f77b4', '#ff7f0e', '#2ca02c', '#d62728', '#9467bd', '#8c564b']\n",
    ")\n",
    "plt.xlabel(\"Algorithm / GA Configuration\")\n",
    "plt.ylabel(\"Mean Execution Time (s)\")\n",
    "plt.title(f\"Comparative Mean Execution Time - {NUM_RUNS} Runs\")\n",
    "plt.xticks(rotation=45, ha=\"right\")\n",
    "plt.grid(axis='y', linestyle='--')\n",
    "plt.tight_layout()\n",
    "plt.show()"
   ]
  },
  {
   "cell_type": "markdown",
   "id": "e7f9b677",
   "metadata": {},
   "source": [
    "## 5. Discussion of Results\n",
    "\n",
    "The comparative analysis table and plots provide a clear overview of the performance of the implemented algorithms. \n",
    "\n",
    "**Hill Climbing (HC)**, as expected, was the fastest algorithm by a significant margin. However, it yielded the poorest mean best fitness, indicating that it likely got stuck in a local optimum relatively quickly. Its deterministic nature means no variability in its outcome for a given (random) start.\n",
    "\n",
    "**Simulated Annealing (SA)** offered a substantial improvement in solution quality (mean best fitness) over HC, finding solutions with a much lower standard deviation of team skills. It also managed to find a very good overall best solution. The execution time was moderate, significantly higher than HC but much lower than the Genetic Algorithms. The standard deviation of its best fitness values across 30 runs shows some variability, which is characteristic of its probabilistic nature. This suggests that multiple runs are indeed necessary to get a reliable picture of SA's capabilities.\n",
    "\n",
    "The **Genetic Algorithms (GAs)**, across all four configurations, consistently outperformed both HC and SA in terms of mean best fitness and the overall best fitness achieved. All GA configurations found the same excellent overall best fitness value (0.025197). \n",
    "\n",
    "- **GA_Config_4 (TargetExch, UnifPreferV, TournVarK_k5)** showed a marginally better mean best fitness and the lowest standard deviation among the GAs, suggesting it was slightly more consistent and effective on average. The use of `selection_tournament_variable_k` with a tournament size of `k=5` (higher selection pressure) combined with `mutate_targeted_player_exchange` and `crossover_uniform_prefer_valid` appears to be a strong combination for this problem.\n",
    "- The other GA configurations also performed very well, with mean fitness values very close to GA_Config_4. This indicates that the core GA framework with constraint-aware operators is robust.\n",
    "- The primary drawback of the GAs is their significantly higher execution time, approximately 5 times longer than SA and over 100 times longer than HC per run. This is due to the population-based search and the evaluation of many individuals over many generations.\n",
    "\n",
    "**Interpreting Error Bars:** The error bars (standard deviation) on the Mean Best Fitness plot are crucial. While GA_Config_4 has the best mean, its error bar overlaps with those of the other GA configurations. This suggests that while it performed best on average in this set of 30 runs, the differences between the GA configurations might not always be statistically significant without more runs or formal statistical tests. However, the GAs as a group show a clear advantage over SA (their error bars have limited overlap with SA's), and SA shows a clear advantage over HC.\n",
    "\n",
    "The convergence plots for the best runs of SA and GAs would illustrate their search dynamics, with GAs typically showing a more gradual and sustained improvement over generations due to the population diversity and recombination of solutions."
   ]
  },
  {
   "cell_type": "markdown",
   "id": "5c8d827b",
   "metadata": {},
   "source": [
    "## 6. Conclusion\n",
    "\n",
    "For the Sports League Assignment Problem with the objective of minimizing the standard deviation of average team skills under strict constraints, the **Genetic Algorithms demonstrated superior performance in finding high-quality solutions** compared to Hill Climbing and Simulated Annealing. Specifically, **GA_Config_4** emerged as the most promising configuration, offering the best balance of average solution quality and consistency, albeit at a higher computational cost.\n",
    "\n",
    "- If **solution quality is paramount** and computational time is less of a concern, Genetic Algorithms, particularly a configuration similar to GA_Config_4, are the recommended approach.\n",
    "- If a **good balance between solution quality and execution time** is needed, Simulated Annealing provides a viable alternative, offering significantly better solutions than simple Hill Climbing within a more manageable timeframe.\n",
    "- **Hill Climbing** is too prone to local optima for this complex, constrained problem to be considered effective for finding near-optimal solutions, though it is very fast for obtaining a quick, locally improved solution.\n",
    "\n",
    "The use of multiple runs (30 in this case) for stochastic algorithms (SA and GAs) was essential for a robust comparison, allowing for the assessment of not only average performance but also consistency (variability). Future work could involve more extensive parameter tuning for the GAs and SA, exploring adaptive mechanisms for parameters, or investigating hybrid approaches."
   ]
  },
  {
   "cell_type": "code",
   "execution_count": null,
   "id": "dc730704",
   "metadata": {
    "lines_to_next_cell": 2
   },
   "outputs": [],
   "source": []
  }
 ],
 "metadata": {
  "jupytext": {
   "cell_metadata_filter": "-all",
   "encoding": "# -*- coding: utf-8 -*-",
   "main_language": "python",
   "notebook_metadata_filter": "-all"
  },
  "language_info": {
   "codemirror_mode": {
    "name": "ipython",
    "version": 3
   },
   "file_extension": ".py",
   "mimetype": "text/x-python",
   "name": "python",
   "nbconvert_exporter": "python",
   "pygments_lexer": "ipython3",
   "version": "3.11.0rc1"
  }
 },
 "nbformat": 4,
 "nbformat_minor": 5
}
