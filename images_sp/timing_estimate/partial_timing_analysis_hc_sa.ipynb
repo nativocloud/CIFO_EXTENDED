{
 "cells": [
  {
   "cell_type": "markdown",
   "metadata": {},
   "source": [
    "# Análise de Tempo de Execução: Hill Climbing vs. Simulated Annealing\n",
    "\n",
    "Este notebook apresenta uma análise comparativa dos tempos de execução observados para os algoritmos Hill Climbing (HC) e Simulated Annealing (SA) no problema de atribuição de jogadores a equipas desportivas. O objetivo é identificar diferenças de desempenho que possam sugerir áreas para otimização.\n",
    "\n",
    "Os algoritmos foram executados uma vez cada, com o profiling ativo (embora os resultados detalhados do profiling não tenham sido processados devido a um erro na geração do ficheiro de perfil)."
   ]
  },
  {
   "cell_type": "markdown",
   "metadata": {},
   "source": [
    "## 1. Configuração do Experimento\n",
    "\n",
    "- **Dataset:** `players.csv` (35 jogadores)\n",
    "- **Número de Equipas:** 5\n",
    "- **Tamanho da Equipa:** 7 jogadores\n",
    "- **Orçamento Máximo por Equipa:** 750M €\n",
    "- **Número de Execuções por Algoritmo:** 1"
   ]
  },
  {
   "cell_type": "markdown",
   "metadata": {},
   "source": [
    "## 2. Resultados Observados\n",
    "\n",
    "Os seguintes tempos de execução e valores de fitness foram registados durante a execução do script `main_script_sp_timing_estimate.py`."
   ]
  },
  {
   "cell_type": "code",
   "execution_count": null,
   "metadata": {},
   "outputs": [],
   "source": [
    "import pandas as pd\n",
    "import matplotlib.pyplot as plt\n",
    "import numpy as np\n",
    "\n",
    "# Dados resumidos da execução (baseados no output do script)\n",
    "results_summary = [\n",
    "    {'Algorithm': 'Hill Climbing', 'Mean Execution Time (s)': 0.76, 'Overall Best Fitness': 0.0571, 'Std Dev Fitness': 0.0000},
",
    "    {'Algorithm': 'Simulated Annealing', 'Mean Execution Time (s)': 75.10, 'Overall Best Fitness': 0.0571, 'Std Dev Fitness': 0.0000}
",
    "]\n",
    "\n",
    "df_results = pd.DataFrame(results_summary)\n",
    "\n",
    "print(\"Resumo dos Resultados:\")\n",
    "print(df_results)"
   ]
  },
  {
   "cell_type": "markdown",
   "metadata": {},
   "source": [
    "### 2.1. Hill Climbing (HC)\n",
    "\n",
    "- **Tempo Médio de Execução:** 0.76 segundos\n",
    "- **Melhor Fitness Encontrada:** 0.0571"
   ]
  },
  {
   "cell_type": "markdown",
   "metadata": {},
   "source": [
    "### 2.2. Simulated Annealing (SA)\n",
    "\n",
    "- **Tempo Médio de Execução:** 75.10 segundos\n",
    "- **Melhor Fitness Encontrada:** 0.0571"
   ]
  },
  {
   "cell_type": "markdown",
   "metadata": {},
   "source": [
    "## 3. Análise Comparativa dos Tempos de Execução"
   ]
  },
  {
   "cell_type": "code",
   "execution_count": null,
   "metadata": {},
   "outputs": [],
   "source": [
    "algorithms = df_results['Algorithm']\n",
    "times = df_results['Mean Execution Time (s)']\n",
    "\n",
    "plt.figure(figsize=(8, 6))\n",
    "bars = plt.bar(algorithms, times, color=['blue', 'orange'])\n",
    "plt.ylabel('Tempo Médio de Execução (s)')\n",
    "plt.title('Comparação de Tempo de Execução: HC vs. SA (1 execução)')\n",
    "plt.yscale('log') # Usar escala logarítmica devido à grande diferença\n",
    "\n",
    "# Adicionar etiquetas de valor nas barras\n",
    "for bar in bars:\n",
    "    yval = bar.get_height()\n",
    "    plt.text(bar.get_x() + bar.get_width()/2.0, yval, f'{yval:.2f}s', va='bottom', ha='center') # Coloca o texto um pouco acima da barra\n",
    "\n",
    "plt.show()\n",
    "\n",
    "# Calcular a diferença percentual\n",
    "time_hc = df_results[df_results['Algorithm'] == 'Hill Climbing']['Mean Execution Time (s)'].iloc[0]\n",
    "time_sa = df_results[df_results['Algorithm'] == 'Simulated Annealing']['Mean Execution Time (s)'].iloc[0]\n",
    "\n",
    "if time_hc > 0:\n",
    "    print(f\"O Simulated Annealing (SA) demorou {time_sa:.2f}s, enquanto o Hill Climbing (HC) demorou {time_hc:.2f}s.\")\n",
    "    print(f'O SA foi aproximadamente {time_sa/time_hc:.2f} vezes mais lento que o HC nesta execução.')\n",
    "else:\n",
    "    print(f\"Tempo de execução do HC foi zero ou inválido, não é possível calcular a diferença relativa.\")"
   ]
  },
  {
   "cell_type": "markdown",
   "metadata": {},
   "source": [
    "Como se pode observar no gráfico e nos cálculos, o algoritmo Simulated Annealing foi significativamente mais lento que o Hill Climbing, mesmo alcançando um valor de fitness similar nesta única execução. O SA demorou aproximadamente 75.10 segundos, enquanto o HC concluiu em cerca de 0.76 segundos. Isto representa uma diferença de quase 100 vezes no tempo de execução."
   ]
  },
  {
   "cell_type": "markdown",
   "metadata": {},
   "source": [
    "## 4. Conclusões e Próximos Passos\n",
    "\n",
    "A análise dos tempos de execução para uma única corrida de cada algoritmo revela uma disparidade considerável entre o Hill Climbing e o Simulated Annealing. Embora ambos os algoritmos tenham alcançado o mesmo valor de fitness (0.0571), o SA exigiu um tempo computacional muito superior.\n",
    "\n",
    "Esta observação sugere que:\n",
    "1. O algoritmo **Simulated Annealing**, na sua implementação atual e com os parâmetros utilizados, é computacionalmente intensivo para este problema.\n",
    "2. Existe uma oportunidade significativa para **otimizar o desempenho do Simulated Annealing**. Áreas potenciais para investigação incluem a eficiência da geração de vizinhos (`get_random_neighbor`), o número de iterações por temperatura, e a própria programação da função `simulated_annealing`. \n",
    "\n",
    "Os próximos passos deveriam incluir:\n",
    "- **Execução completa do script de profiling:** Corrigir os erros no script `main_script_sp_timing_estimate.py` para permitir a execução dos Algoritmos Genéticos e a geração correta do ficheiro `.prof`.\n",
    "- **Análise detalhada do profiling:** Utilizar os dados do `cProfile` para identificar os *hotspots* (funções que consomem mais tempo) dentro da implementação do SA.\n",
    "- **Implementação de estratégias de otimização:** Com base na análise de profiling, aplicar técnicas de otimização ao código do SA.\n",
    "- **Re-avaliação do desempenho:** Após as otimizações, executar novamente os testes de tempo para quantificar a melhoria."
   ]
  }
 ],
 "metadata": {
  "kernelspec": {
   "display_name": "Python 3",
   "language": "python",
   "name": "python3"
  },
  "language_info": {
   "codemirror_mode": {
    "name": "ipython",
    "version": 3
   },
   "file_extension": ".py",
   "mimetype": "text/x-python",
   "name": "python",
   "nbconvert_exporter": "python",
   "pygments_lexer": "ipython3",
   "version": "3.11.0rc1"
  }
 },
 "nbformat": 4,
 "nbformat_minor": 2
}

