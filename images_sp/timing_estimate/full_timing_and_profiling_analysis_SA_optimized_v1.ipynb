{
 "cells": [
  {
   "cell_type": "markdown",
   "metadata": {},
   "source": [
    "# Análise Completa de Desempenho e Profiling (Pós-Otimização Inicial do SA)\n",
    "\n",
    "Este notebook apresenta uma análise detalhada do desempenho dos algoritmos Hill Climbing (HC), Simulated Annealing (SA) **(após otimizações iniciais no uso de `deepcopy`)** e várias configurações de Algoritmos Genéticos (AG) para o problema de atribuição de jogadores a equipas desportivas. Inclui uma análise dos tempos de execução e dos dados de profiling obtidos com `cProfile` para identificar gargalos de desempenho e sugerir estratégias de otimização."
   ]
  },
  {
   "cell_type": "markdown",
   "metadata": {},
   "source": [
    "## 1. Configuração do Experimento\n",
    "\n",
    "- **Dataset:** `players.csv` (35 jogadores)\n",
    "- **Número de Equipas:** 5\n",
    "- **Tamanho da Equipa:** 7 jogadores\n",
    "- **Orçamento Máximo por Equipa:** 750M €\n",
    "- **Número de Execuções por Algoritmo:** 1\n",
    "- **Algoritmos Genéticos (AGs):** 1 geração para estimativa de tempo\n",
    "- **Profiling:** Ativado com `cProfile` para toda a execução do script `main_script_sp_timing_estimate.py` (versão com SA otimizado)."
   ]
  },
  {
   "cell_type": "markdown",
   "metadata": {},
   "source": [
    "## 2. Resultados de Tempo de Execução e Fitness (Pós-Otimização do SA)\n",
    "\n",
    "Os seguintes tempos de execução e valores de fitness foram registados durante a execução completa do script com o SA otimizado."
   ]
  },
  {
   "cell_type": "code",
   "execution_count": null,
   "metadata": {},
   "outputs": [],
   "source": [
    "import pandas as pd\n",
    "import matplotlib.pyplot as plt\n",
    "import numpy as np\n",
    "\n",
    "# Dados resumidos da execução completa (baseados no output do script com SA otimizado)\n",
    "results_data_optimized = {\n",
    "    'Algorithm': [\n",
    "        'Hill Climbing (SP-Timing)', \n",
    "        'Simulated Annealing (SP-Timing - Otimizado V1)',\n",
    "        'GA_Cfg1_AdSwapC_Ad1PtPV_SelTournK3 (SP-Timing)',\n",
    "        'GA_Cfg2_AdTargEx_AdUnifPV_SelRank (SP-Timing)',\n",
    "        'GA_Cfg3_AdShufWTC_Ad1PtPV_SelBoltz (SP-Timing)',\n",
    "        'GA_Cfg4_AdTargEx_AdUnifPV_SelTournK5 (SP-Timing)',\n",
    "        'GA_Cfg5_BaseSwap_Base1Pt_SelTournK4 (SP-Timing)',\n",
    "        'GA_Cfg6_BaseTeamShift_AdUnifPV_SelTournK3 (SP-Timing)',\n",
    "        'GA_Cfg7_BaseShuffle_Ad1PtPV_SelBoltz (SP-Timing)',\n",
    "        'GA_Cfg8_BaseShuffle_BaseUnif_SelTournK4 (SP-Timing)',\n",
    "        'GA_Cfg9_AdTargEx_Base1Pt_SelRank (SP-Timing)'\n",
    "    ], \n",
    "    'Mean Execution Time (s)": [\n",
    "        0.48,  # HC, valor da última execução bem sucedida\n",
    "        28.91, # SA Otimizado V1, valor da última execução bem sucedida (simulated_annealing function time)\n",
    "        0.14,  # GA_Cfg1, valor do CSV da última execução\n",
    "        0.38,  # GA_Cfg2, valor do CSV da última execução\n",
    "        0.28,  # GA_Cfg3, valor do CSV da última execução\n",
    "        0.31,  # GA_Cfg4, valor do CSV da última execução\n",
    "        0.17,  # GA_Cfg5, valor do CSV da última execução\n",
    "        0.16,  # GA_Cfg6, valor do CSV da última execução\n",
    "        0.37,  # GA_Cfg7, valor do CSV da última execução\n",
    "        0.14,  # GA_Cfg8, valor do CSV da última execução\n",
    "        0.25   # GA_Cfg9, valor do CSV da última execução\n",
    "    ], \n",
    "    'Overall Best Fitness': [\n",
    "        0.0571, 0.0571, 0.3876, 0.3769, 0.2770, 0.3051, 0.1723, 0.1606, 0.3659, 0.1410, 0.2458 # Valores do CSV da última execução\n",
    "    ]\n",
    "}\n",
    "df_results_optimized = pd.DataFrame(results_data_optimized)\n",
    "\n",
    "print(\"Resumo dos Resultados de Desempenho (SA Otimizado V1):\")\n",
    "print(df_results_optimized.to_string())\n",
    "\n",
    "# Gráfico comparativo de tempos de execução\n",
    "plt.figure(figsize=(12, 8))\n",
    "bars = plt.bar(df_results_optimized['Algorithm'], df_results_optimized['Mean Execution Time (s)'], color='lightcoral')\n",
    "plt.xlabel('Algoritmo')\n",
    "plt.ylabel('Tempo Médio de Execução (s) - Escala Log')\n",
    "plt.title('Comparação de Tempo de Execução (SA Otimizado V1, 1 execução, AGs 1 geração)')\n",
    "plt.xticks(rotation=90)\n",
    "plt.yscale('log') # Escala logarítmica devido à grande variação\n",
    "for bar in bars:\n",
    "    yval = bar.get_height()\n",
    "    plt.text(bar.get_x() + bar.get_width()/2.0, yval, f'{yval:.2f}s', va='bottom', ha='center')\n",
    "plt.tight_layout()\n",
    "plt.show()"
   ]
  },
  {
   "cell_type": "markdown",
   "metadata": {},
   "source": [
    "## 3. Análise Detalhada do Profiling com `cProfile` (Pós-Otimização do SA)\n",
    "\n",
    "O script `main_script_sp_timing_estimate.py` (com SA otimizado) foi executado com `cProfile`. O ficheiro de resultados do profiling (`timing_estimate_profile.prof`) foi analisado usando o script `analyze_profile.py`. Abaixo, apresentamos os principais resultados dessa nova análise."
   ]
  },
  {
   "cell_type": "code",
   "execution_count": null,
   "metadata": {},
   "outputs": [],
   "source": [
    "# Ler e apresentar o conteúdo do ficheiro de análise de profiling (versão otimizada)\n",
    "analysis_file_path_optimized = \"/home/ubuntu/CIFO_EXTENDED_Project/images_sp/timing_estimate/profiling_results/profile_analysis.txt\" # O script analyze_profile.py sobreescreve este ficheiro\n",
    "\n",
    "try:\n",
    "    with open(analysis_file_path_optimized, 'r') as f:\n",
    "        profile_analysis_content_optimized = f.read()\n",
    "    print(\"Análise do Profiling (SA Otimizado V1 - do ficheiro profile_analysis.txt):\n\")\n",
    "    print(profile_analysis_content_optimized)\n",
    "except FileNotFoundError:\n",
    "    print(f\"Erro: O ficheiro {analysis_file_path_optimized} não foi encontrado.\")"
   ]
  },
  {
   "cell_type": "markdown",
   "metadata": {},
   "source": [
    "### 3.1. Principais Observações do Profiling (Pós-Otimização do SA):\n",
    "\n",
    "A análise do ficheiro `profile_analysis.txt` (com SA otimizado) revela:\n",
    "\n",
    "1.  **Tempo Total do Script:** Reduzido para aproximadamente **41.42 segundos** (anteriormente 85.66s).\n",
    "2.  **Simulated Annealing (SA) Otimizado:** A função `simulated_annealing` agora consome **28.91 segundos** (anteriormente 73.17s). Continua a ser a mais lenta, mas a melhoria é substancial.\n",
    "3.  **`copy.deepcopy`:** O impacto de `deepcopy` foi significativamente reduzido. Agora consome **10.36 segundos** (anteriormente 53.49s), com o número de chamadas a diminuir de ~23.5M para ~4.4M. Esta redução deve-se principalmente à eliminação das cópias da `neighbor_solution` para `current_solution`. A chamada restante a `deepcopy` para a `best_solution` e as chamadas dentro de `get_random_neighbor` (para o `candidate_assignment`) são agora os principais contribuintes para este tempo.\n",
    "4.  **Funções da Solução no SA (Pós-Otimização):**\n",
    "    *   `solution.py:178(get_random_neighbor)`: Continua a ser dispendiosa, com **18.71 segundos** de tempo cumulativo. Esta função ainda usa `deepcopy` internamente.\n",
    "    *   `solution.py:122(fitness)`: Consumiu **15.41 segundos**.\n",
    "    *   `solution.py:85(is_valid)`: Consumiu **10.67 segundos**.\n",
    "5.  **Novos Gargalos Relativos:** Com a redução drástica do tempo de `deepcopy` nas atribuições da `current_solution`, as funções `get_random_neighbor`, `fitness` e `is_valid` tornam-se gargalos ainda mais proeminentes em termos percentuais dentro do tempo do SA. A otimização de `get_random_neighbor` (especificamente o `deepcopy` interno) e a vetorização de `fitness` e `is_valid` são os próximos passos lógicos para mais ganhos de desempenho."
   ]
  },
  {
   "cell_type": "markdown",
   "metadata": {},
   "source": [
    "## 4. Estratégias de Otimização Adicionais Sugeridas\n",
    "\n",
    "Com base na nova análise de profiling:\n",
    "\n",
    "1.  **Otimizar `get_random_neighbor` (Foco no `deepcopy` interno):**\n",
    "    *   A função `get_random_neighbor` ainda usa `deepcopy(self.assignment)` para criar `candidate_assignment`. Aplicar a técnica de **modificação e reversão** aqui poderia eliminar esta chamada a `deepcopy`. Isto envolveria modificar `self.assignment` diretamente, criar o `potential_neighbor` (que agora partilharia a referência ao `assignment` modificado), e se o vizinho não for válido ou se for preciso reverter, reverter a modificação em `self.assignment`. Isto é mais complexo de implementar corretamente para garantir que `self.assignment` original não seja corrompido se o vizinho for usado externamente, mas oferece o maior potencial de ganho para o `deepcopy` restante.\n",
    "\n",
    "2.  **Otimizar `is_valid()` e `fitness()` com Vetorização NumPy:**\n",
    "    *   Estas funções continuam a ser chamadas muitas vezes e consomem tempo significativo. A vetorização das suas lógicas internas (contagens, somas, verificações de restrições) pode reduzir o seu tempo de execução.\n",
    "\n",
    "3.  **Ajustar Parâmetros do SA:**\n",
    "    *   Com um SA mais rápido, poderíamos reavaliar se os parâmetros atuais (`iterations_per_temp`, `alpha`) ainda são os ideais ou se podem ser ajustados para uma exploração mais rápida sem grande perda de qualidade."
   ]
  },
  {
   "cell_type": "markdown",
   "metadata": {},
   "source": [
    "## 5. Conclusões (Pós-Otimização Inicial) e Próximos Passos\n",
    "\n",
    "A primeira ronda de otimizações no Simulated Annealing, focada na redução do `deepcopy` nas atribuições da `current_solution`, foi **altamente bem-sucedida**, resultando numa redução de mais de 50% no tempo total de execução do script e de mais de 60% no tempo do próprio SA, sem comprometer a qualidade da solução.\n",
    "\n",
    "No entanto, a análise de profiling atualizada mostra que ainda há espaço para melhorias significativas, nomeadamente:\n",
    "1.  Eliminar o `deepcopy` restante dentro de `get_random_neighbor`.\n",
    "2.  Otimizar as funções `is_valid` e `fitness` através de vetorização.\n",
    "\n",
    "Próximos passos recomendados dependem da decisão do utilizador:\n",
    "- **Continuar com mais otimizações:** Focar nos pontos acima.\n",
    "- **Considerar o desempenho atual como satisfatório:** Se o tempo de ~29 segundos para o SA for aceitável para os propósitos atuais."
   ]
  }
 ],
 "metadata": {
  "kernelspec": {
   "display_name": "Python 3",
   "language": "python",
   "name": "python3"
  },
  "language_info": {
   "codemirror_mode": {
    "name": "ipython",
    "version": 3
   },
   "file_extension": ".py",
   "mimetype": "text/x-python",
   "name": "python",
   "nbconvert_exporter": "python",
   "pygments_lexer": "ipython3",
   "version": "3.11.0rc1"
  }
 },
 "nbformat": 4,
 "nbformat_minor": 2
}

