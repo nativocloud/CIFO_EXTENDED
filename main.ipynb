{
 "cells": [
  {
   "cell_type": "markdown",
   "metadata": {},
   "source": [
    "# Introduction\n",
    "\n",
    "This work presents a constrained combinatorial optimization approach to the **Sports League Assignment Problem** using **Genetic Algorithms (GAs)**. The objective is to allocate a fixed pool of professional players into a set of 5 structurally valid teams in such a way that the **standard deviation of the teams' average skill ratings** is minimized—promoting competitive balance across the league.\n",
    "\n",
    "Each player is defined by three attributes: **position** (one of `GK`, `DEF`, `MID`, `FWD`), **skill rating** (a numerical measure of ability), and **cost** (in million euros). A valid solution must satisfy the following **hard constraints**:\n",
    "\n",
    "- Each team must consist of exactly **7 players**, with a specific positional structure: **1 GK, 2 DEF, 2 MID, and 2 FWD**\n",
    "- Each team must have a **total cost ≤ 750 million €**\n",
    "- Each player must be assigned to **exactly one team** (no overlaps)\n",
    "\n",
    "The **search space** is therefore highly constrained and discrete, and infeasible configurations are explicitly excluded from the solution space. The optimization objective is to identify league configurations where teams are not only valid but also **skill-balanced**, quantified by the **standard deviation of average skill ratings across teams**, which serves as the **fitness function** (to be minimized).\n",
    "\n",
    "To address this, we implement a domain-adapted **Genetic Algorithm framework** featuring:\n",
    "\n",
    "- A custom **representation** based on team-to-player mappings\n",
    "- Validity-preserving **mutation** and **crossover** operators\n",
    "- Multiple **selection mechanisms**\n",
    "- Optional **elitism** and population-level diversity handling\n",
    "\n",
    "This report provides a formal problem definition, details the design of the solution encoding and operators, and presents empirical results comparing different GA configurations. The overall objective is to evaluate how well GA-based metaheuristics can navigate this complex constrained search space and evolve solutions that both satisfy domain constraints and optimize league balance.\n",
    "\n",
    "In addition to Genetic Algorithms, this project also explores and evaluates alternative optimization strategies, such as **Hill Climbing** and **Simulated Annealing**, which are well-suited for navigating discrete and constrained search spaces. These algorithms offer different trade-offs in terms of exploration, exploitation, and convergence speed. By implementing and benchmarking multiple approaches on the same problem, we aim to gain deeper insights into their relative effectiveness and robustness when applied to complex constrained optimization tasks such as the Sports League Assignment. This comparative analysis enhances the interpretability of results and supports a broader understanding of the strengths and limitations of population-based versus local search-based heuristics.\n"
   ]
  },
  {
   "cell_type": "markdown",
   "metadata": {},
   "source": [
    "## Setup and Data Loading"
   ]
  },
  {
   "cell_type": "code",
   "execution_count": null,
   "metadata": {},
   "outputs": [],
   "source": [
    "import pandas as pd\n",
    "import numpy as np\n",
    "import matplotlib.pyplot as plt\n",
    "import time\n",
    "from solution import LeagueSolution, LeagueHillClimbingSolution\n",
    "from evolution import genetic_algorithm, hill_climbing\n",
    "from operators import (\n",
    "    mutate_swap,\n",
    "    mutate_team_shift,\n",
    "    mutate_shuffle_team,\n",
    "    crossover_one_point,\n",
    "    crossover_uniform,\n",
    "    selection_tournament,\n",
    "    selection_ranking\n",
    ")\n",
    "\n",
    "# Load player data\n",
    "players_df = pd.read_csv(\"players.csv\", sep=\";\")\n",
    "players = players_df.to_dict(orient=\"records\")\n",
    "\n",
    "print(\"Player data loaded successfully.\")\n",
    "print(f\"Total players: {len(players)}\")\n",
    "players_df.head()"
   ]
  },
  {
   "cell_type": "markdown",
   "metadata": {},
   "source": [
    "## Problem Representation Details (from original notebook)"
   ]
  },
  {
   "cell_type": "markdown",
   "metadata": {},
   "source": [
    "### A. Team-based Representation (Structured Encoding)\n",
    "\n",
    "Let:\n",
    "\n",
    "- $P = \\{p_1, p_2, \\dots, p_{35}\\}$ be the set of players  \n",
    "- $T = \\{t_1, t_2, \\dots, t_5\\}$ be the set of teams\n",
    "\n",
    "Define the assignment function:\n",
    "\n",
    "$$\n",
    "A: P \\rightarrow T\n",
    "$$\n",
    "\n",
    "such that each player is assigned to exactly one team, and the following constraints are satisfied:\n",
    "\n",
    "**Team Size:**\n",
    "\n",
    "$$\n",
    "\\forall t_j \\in T,\\quad \\left|\\{p_i \\in P \\mid A(p_i) = t_j\\}\\right| = 7\n",
    "$$\n",
    "\n",
    "**Positional Requirements:** For each team $t_j \\in T$:\n",
    "\n",
    "$$\n",
    "\\begin{aligned}\n",
    "&|\\{p_i \\in P \\mid A(p_i) = t_j \\land pos(p_i) = \\text{GK}\\}| = 1 \\\\\n",
    "&|\\{p_i \\in P \\mid A(p_i) = t_j \\land pos(p_i) = \\text{DEF}\\}| = 2 \\\\\n",
    "&|\\{p_i \\in P \\mid A(p_i) = t_j \\land pos(p_i) = \\text{MID}\\}| = 2 \\\\\n",
    "&|\\{p_i \\in P \\mid A(p_i) = t_j \\land pos(p_i) = \\text{FWD}\\}| = 2\n",
    "\\end{aligned}\n",
    "$$\n",
    "\n",
    "**Budget Constraint:**\n",
    "\n",
    "$$\n",
    "\\forall t_j \\in T,\\quad \\sum_{p_i \\in P \\mid A(p_i) = t_j} cost(p_i) \\leq 750\n",
    "$$\n",
    "\n",
    "**Objective Function:** Minimize the standard deviation of average team skill:\n",
    "\n",
    "$$\n",
    "f(A) = \\sigma\\left(\\left\\{\\frac{1}{7} \\sum_{p_i \\in P \\mid A(p_i) = t_j} skill(p_i) \\,\\middle|\\, t_j \\in T\\right\\}\\right)\n",
    "$$"
   ]
  },
  {
   "cell_type": "markdown",
   "metadata": {},
   "source": [
    "### B. Player-assignment Representation (Linear Encoding) - This is what is implemented\n",
    "\n",
    "Let:\n",
    "\n",
    "- $P = \\{p_1, p_2, \\dots, p_{35}\\}$ be the set of players  \n",
    "- $T = \\{0, 1, 2, 3, 4\\}$ be team IDs\n",
    "\n",
    "A solution is represented by a vector:\n",
    "\n",
    "$$\n",
    "\\mathbf{a} = [a_1, a_2, \\dots, a_{35}] \\in T^{35}\n",
    "$$\n",
    "\n",
    "where $a_i$ is the team assignment for player $p_i$.\n",
    "\n",
    "**Team Definitions:**\n",
    "\n",
    "$$\n",
    "P_j = \\{p_i \\in P \\mid a_i = j\\}, \\quad \\forall j \\in T\n",
    "$$\n",
    "\n",
    "**Constraints:**\n",
    "\n",
    "$$\n",
    "|P_j| = 7 \\quad \\text{and}\n",
    "$$\n",
    "\n",
    "$$\n",
    "\\begin{aligned}\n",
    "&|\\{p \\in P_j \\mid pos(p) = \\text{GK}\\}| = 1 \\\\\n",
    "&|\\{p \\in P_j \\mid pos(p) = \\text{DEF}\\}| = 2 \\\\\n",
    "&|\\{p \\in P_j \\mid pos(p) = \\text{MID}\\}| = 2 \\\\\n",
    "&|\\{p \\in P_j \\mid pos(p) = \\text{FWD}\\}| = 2 \\\\\n",
    "&\\sum_{p \\in P_j} cost(p) \\leq 750\n",
    "\\end{aligned}\n",
    "$$\n",
    "\n",
    "**Objective Function:**\n",
    "\n",
    "$$\n",
    "f(\\mathbf{a}) = \\sigma\\left(\\left\\{\\frac{1}{7} \\sum_{p \\in P_j} skill(p) \\,\\middle|\\, j \\in T\\right\\}\\right)\n",
    "$$"
   ]
  },
  {
   "cell_type": "markdown",
   "metadata": {},
   "source": [
    "## 1. Hill Climbing"
   ]
  },
  {
   "cell_type": "code",
   "execution_count": null,
   "metadata": {},
   "outputs": [],
   "source": [
    "print(\"Running Hill Climbing Algorithm...\")\n",
    "start_time_hc = time.time()\n",
    "hc_solution, hc_fitness, hc_history = hill_climbing(players, max_iterations=1000, verbose=True)\n",
    "end_time_hc = time.time()\n",
    "\n",
    "print(f\"Hill Climbing finished in {end_time_hc - start_time_hc:.2f} seconds.\")\n",
    "print(f\"Best solution found by Hill Climbing: {hc_solution.assignment}\")\n",
    "print(f\"Best fitness: {hc_fitness}\")\n",
    "\n",
    "# Plot Hill Climbing History\n",
    "plt.figure(figsize=(10, 6))\n",
    "plt.plot(hc_history, marker='o', linestyle='-')\n",
    "plt.title('Hill Climbing Convergence')\n",
    "plt.xlabel('Improvement Step')\n",
    "plt.ylabel('Fitness (Std Dev of Avg Team Skills)')\n",
    "plt.grid(True)\n",
    "plt.show()"
   ]
  },
  {
   "cell_type": "markdown",
   "metadata": {},
   "source": [
    "## 2. Simulated Annealing (To be implemented)"
   ]
  },
    {
   "cell_type": "markdown",
   "metadata": {},
   "source": [
    "## 3. Genetic Algorithm (Existing implementation from project files)"
   ]
  },
  {
   "cell_type": "code",
   "execution_count": null,
   "metadata": {},
   "outputs": [],
   "source": [
    "# Test configurations (3 mutations, 2 crossovers, 2 selections) - from original notebook\n",
    "configs = [\n",
    "    (mutate_swap, crossover_one_point, selection_tournament),\n",
    "    (mutate_team_shift, crossover_uniform, selection_ranking),\n",
    "    (mutate_shuffle_team, crossover_uniform, selection_tournament),\n",
    "    (mutate_swap, crossover_uniform, selection_ranking)\n",
    "]\n",
    "\n",
    "results_ga = []\n",
    "best_solutions_ga = []"
   ]
  },
  {
   "cell_type": "code",
   "execution_count": null,
   "metadata": {},
   "outputs": [],
   "source": [
    "#Running GA for each combination config - from original notebook\n",
    "print(\"Running Genetic Algorithm with different configurations...\")\n",
    "for i, (m_op, c_op, s_op) in enumerate(configs):\n",
    "    start_ga = time.time()\n",
    "    print(f\"GA Config {i+1} running ({m_op.__name__}, {c_op.__name__}, {s_op.__name__})...\")\n",
    "    best_ga, history_ga = genetic_algorithm(\n",
    "        players=players,\n",
    "        mutation_operator=m_op,\n",
    "        crossover_operator=c_op,\n",
    "        selection_operator=s_op,\n",
    "        generations=30,\n",
    "        population_size=50,\n",
    "        elite_size=5,\n",
    "        mutation_rate=0.2\n",
    "    )\n",
    "    results_ga.append((f\"Config {i+1}: {m_op.__name__}, {c_op.__name__}, {s_op.__name__}\", history_ga))\n",
    "    best_solutions_ga.append((f\"Config {i+1}\", best_ga, best_ga.fitness(players)))\n",
    "    print(f\"-------------- GA Config {i+1} Processing time: {time.time() - start_ga:.2f}s --------------\")\n",
    "\n",
    "# Plot GA History for all configs\n",
    "plt.figure(figsize=(12, 8))\n",
    "for name, history in results_ga:\n",
    "    plt.plot(history, label=name, marker='.')\n",
    "plt.title('Genetic Algorithm Convergence - Multiple Configurations')\n",
    "plt.xlabel('Generation')\n",
    "plt.ylabel('Best Fitness (Std Dev of Avg Team Skills)')\n",
    "plt.legend()\n",
    "plt.grid(True)\n",
    "plt.show()\n",
    "\n",
    "# Print best GA solutions\n",
    "print(\"\nBest Solutions from GA Configurations:\")\n",
    "for name, sol, fit in best_solutions_ga:\n",
    "    print(f\"{name}: Fitness = {fit:.4f}\")"
   ]
  },
  {
   "cell_type": "markdown",
   "metadata": {},
   "source": [
    "The standard deviation is related to optimization ability because it quantifies the dispersion or variability of a data set in relation to its mean. In optimization contexts, understanding variability can be crucial to identify the efficiency and accuracy of a process or model. (This was a comment in the original notebook)"
   ]
  }
 ],
 "metadata": {
  "kernelspec": {
   "display_name": "Python 3",
   "language": "python",
   "name": "python3"
  },
  "language_info": {
   "codemirror_mode": {
    "name": "ipython",
    "version": 3
   },
   "file_extension": ".py",
   "mimetype": "text/x-python",
   "name": "python",
   "nbconvert_exporter": "python",
   "pygments_lexer": "ipython3",
   "version": "3.11.0rc1"
  }
 },
 "nbformat": 4,
 "nbformat_minor": 2
}

