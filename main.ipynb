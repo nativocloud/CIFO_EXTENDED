{
 "cells": [
  {
   "cell_type": "code",
   "execution_count": null,
   "id": "a50cfbc2",
   "metadata": {
    "lines_to_next_cell": 0
   },
   "outputs": [],
   "source": []
  },
  {
   "cell_type": "markdown",
   "id": "2c7a1561",
   "metadata": {},
   "source": [
    "# Introduction\n",
    "\n",
    "This work presents a constrained combinatorial optimization approach to the **Sports League Assignment Problem** using **Genetic Algorithms (GAs)**. The objective is to allocate a fixed pool of professional players into a set of 5 structurally valid teams in such a way that the **standard deviation of the teams\\\\\\\\' average skill ratings** is minimized—promoting competitive balance across the league.\n",
    "\n",
    "Each player is defined by three attributes: **position** (one of `GK`, `DEF`, `MID`, `FWD`), **skill rating** (a numerical measure of ability), and **cost** (in million euros). A valid solution must satisfy the following **hard constraints**:\n",
    "\n",
    "- Each team must consist of exactly **7 players**, with a specific positional structure: **1 GK, 2 DEF, 2 MID, and 2 FWD**\n",
    "- Each team must have a **total cost ≤ 750 million €**\n",
    "- Each player must be assigned to **exactly one team** (no overlaps)\n",
    "\n",
    "The **search space** is therefore highly constrained and discrete, and infeasible configurations are explicitly excluded from the solution space. The optimization objective is to identify league configurations where teams are not only valid but also **skill-balanced**, quantified by the **standard deviation of average skill ratings across teams**, which serves as the **fitness function** (to be minimized).\n",
    "\n",
    "To address this, we implement a domain-adapted **Genetic Algorithm framework** featuring:\n",
    "\n",
    "- A custom **representation** based on team-to-player mappings\n",
    "- Validity-preserving **mutation** and **crossover** operators\n",
    "- Multiple **selection mechanisms**\n",
    "- Optional **elitism** and population-level diversity handling\n",
    "\n",
    "This report provides a formal problem definition, details the design of the solution encoding and operators, and presents empirical results comparing different GA configurations. The overall objective is to evaluate how well GA-based metaheuristics can navigate this complex constrained search space and evolve solutions that both satisfy domain constraints and optimize league balance.\n",
    "\n",
    "In addition to Genetic Algorithms, this project also explores and evaluates alternative optimization strategies, such as **Hill Climbing** and **Simulated Annealing**, which are well-suited for navigating discrete and constrained search spaces. These algorithms offer different trade-offs in terms of exploration, exploitation, and convergence speed. By implementing and benchmarking multiple approaches on the same problem, we aim to gain deeper insights into their relative effectiveness and robustness when applied to complex constrained optimization tasks such as the Sports League Assignment. This comparative analysis enhances the interpretability of results and supports a broader understanding of the strengths and limitations of population-based versus local search-based heuristics."
   ]
  },
  {
   "cell_type": "markdown",
   "id": "823a884e",
   "metadata": {},
   "source": [
    "## Cell 1: Setup and Critical Data Loading"
   ]
  },
  {
   "cell_type": "code",
   "execution_count": 1,
   "id": "4a8f013d",
   "metadata": {
    "execution": {
     "iopub.execute_input": "2025-05-13T23:30:02.686051Z",
     "iopub.status.busy": "2025-05-13T23:30:02.685072Z",
     "iopub.status.idle": "2025-05-13T23:30:03.626188Z",
     "shell.execute_reply": "2025-05-13T23:30:03.625054Z"
    }
   },
   "outputs": [],
   "source": [
    "import pandas as pd\n",
    "import numpy as np\n",
    "import matplotlib.pyplot as plt\n",
    "import time\n",
    "from solution import LeagueSolution, LeagueHillClimbingSolution, LeagueSASolution\n",
    "from evolution import genetic_algorithm, hill_climbing, simulated_annealing_for_league\n",
    "from operators import (\n",
    "    # Base Mutations (examples, can be used for comparison)\n",
    "    mutate_swap, \n",
    "    mutate_team_shift,\n",
    "    mutate_shuffle_team, \n",
    "    # New/Adapted Mutations\n",
    "    mutate_swap_constrained,\n",
    "    mutate_targeted_player_exchange,\n",
    "    mutate_shuffle_within_team_constrained,\n",
    "    # Base Crossovers (examples, can be used for comparison)\n",
    "    crossover_one_point,\n",
    "    crossover_uniform,\n",
    "    # New/Adapted Crossovers\n",
    "    crossover_one_point_prefer_valid,\n",
    "    crossover_uniform_prefer_valid,\n",
    "    # Base Selections (examples, can be used for comparison)\n",
    "    selection_ranking,\n",
    "    # New/Adapted Selections\n",
    "    selection_tournament_variable_k,\n",
    "    selection_boltzmann\n",
    ")\n",
    "\n",
    "# Load player data\n",
    "players_df = pd.read_csv(\"players.csv\", sep=\";\")\n",
    "players = players_df.to_dict(orient=\"records\")"
   ]
  },
  {
   "cell_type": "markdown",
   "id": "a9fc07f2",
   "metadata": {},
   "source": [
    "## Cell 2: Further Setup, Data Inspection, and Experiment Parameters"
   ]
  },
  {
   "cell_type": "code",
   "execution_count": 2,
   "id": "46711402",
   "metadata": {
    "execution": {
     "iopub.execute_input": "2025-05-13T23:30:03.630494Z",
     "iopub.status.busy": "2025-05-13T23:30:03.629645Z",
     "iopub.status.idle": "2025-05-13T23:30:03.636556Z",
     "shell.execute_reply": "2025-05-13T23:30:03.635333Z"
    },
    "lines_to_next_cell": 2
   },
   "outputs": [
    {
     "name": "stdout",
     "output_type": "stream",
     "text": [
      "Player data loaded successfully.\n",
      "Total players: 35\n",
      "First player data: {'Unnamed: 0': 0, 'Name': 'Alex Carter', 'Position': 'GK', 'Skill': 85, 'Salary (€M)': 90}\n",
      "\n",
      "Stochastic algorithms (SA, GA) will be run 30 times each.\n"
     ]
    }
   ],
   "source": [
    "# Define problem parameters\n",
    "NUM_TEAMS = 5\n",
    "TEAM_SIZE = 7\n",
    "MAX_BUDGET = 750\n",
    "\n",
    "# Define number of runs for stochastic algorithms\n",
    "NUM_RUNS = 30 # Parameter for number of runs (e.g., 10, 30)\n",
    "\n",
    "print(\"Player data loaded successfully.\") \n",
    "print(f\"Total players: {len(players)}\")\n",
    "if players:\n",
    "    print(\"First player data:\", players[0])\n",
    "players_df.head()\n",
    "print(f\"\\nStochastic algorithms (SA, GA) will be run {NUM_RUNS} times each.\")"
   ]
  },
  {
   "cell_type": "markdown",
   "id": "9aea98e5",
   "metadata": {},
   "source": [
    "## Problem Representation Details (from original notebook)"
   ]
  },
  {
   "cell_type": "markdown",
   "id": "6c57a70b",
   "metadata": {},
   "source": [
    "### A. Team-based Representation (Structured Encoding)\n",
    "\n",
    "Let:\n",
    "\n",
    "- $P = \\{p_1, p_2, \\dots, p_{35}\\}$ be the set of players  \n",
    "- $T = \\{t_1, t_2, \\dots, t_5\\}$ be the set of teams\n",
    "\n",
    "Define the assignment function:\n",
    "\n",
    "$$\n",
    "A: P \\rightarrow T\n",
    "$$\n",
    "\n",
    "such that each player is assigned to exactly one team, and the following constraints are satisfied:\n",
    "\n",
    "**Team Size:**\n",
    "\n",
    "$$\n",
    "\\forall t_j \\in T,\\quad \\left|\\{p_i \\in P \\mid A(p_i) = t_j\\}\\right| = 7\n",
    "$$\n",
    "\n",
    "**Positional Requirements:** For each team $t_j \\in T$:\n",
    "\n",
    "$$\n",
    "\\begin{aligned}\n",
    "&|\\{p_i \\in P \\mid A(p_i) = t_j \\land pos(p_i) = \\text{GK}\\}| = 1 \\\\\\n# &|\\{p_i \\in P \\mid A(p_i) = t_j \\land pos(p_i) = \\text{DEF}\\}| = 2 \\\\\\n# &|\\{p_i \\in P \\mid A(p_i) = t_j \\land pos(p_i) = \\text{MID}\\}| = 2 \\\\\\n# &|\\{p_i \\in P \\mid A(p_i) = t_j \\land pos(p_i) = \\text{FWD}\\}| = 2\n",
    "\\end{aligned}\n",
    "$$\n",
    "\n",
    "**Budget Constraint:**\n",
    "\n",
    "$$\n",
    "\\forall t_j \\in T,\\quad \\sum_{p_i \\in P \\mid A(p_i) = t_j} cost(p_i) \\leq 750\n",
    "$$\n",
    "\n",
    "**Objective Function:** Minimize the standard deviation of average team skill:\n",
    "\n",
    "$$\n",
    "f(A) = \\sigma\\left(\\left\\{\\frac{1}{7} \\sum_{p_i \\in P \\mid A(p_i) = t_j} skill(p_i) \\,\\middle|\\, t_j \\in T\\right\\}\\right)\n",
    "$$"
   ]
  },
  {
   "cell_type": "markdown",
   "id": "8e14a812",
   "metadata": {},
   "source": [
    "### B. Player-assignment Representation (Linear Encoding) - This is what is implemented\n",
    "\n",
    "Let:\n",
    "\n",
    "- $P = \\{p_1, p_2, \\dots, p_{35}\\}$ be the set of players  \n",
    "- $T = \\{0, 1, 2, 3, 4\\}$ be team IDs\n",
    "\n",
    "A solution is represented by a vector:\n",
    "\n",
    "$$\n",
    "\\mathbf{a} = [a_1, a_2, \\dots, a_{35}] \\in T^{35}\n",
    "$$\n",
    "\n",
    "where $a_i$ is the team assignment for player $p_i$.\n",
    "\n",
    "**Team Definitions:**\n",
    "\n",
    "$$\n",
    "P_j = \\{p_i \\in P \\mid a_i = j\\}, \\quad \\forall j \\in T\n",
    "$$\n",
    "\n",
    "**Constraints:**\n",
    "\n",
    "$$\n",
    "|P_j| = 7 \\quad \\text{and}\n",
    "$$\n",
    "\n",
    "$$\n",
    "\\begin{aligned}\n",
    "&|\\{p \\in P_j \\mid pos(p) = \\text{GK}\\}| = 1 \\\\\\n# &|\\{p \\in P_j \\mid pos(p) = \\text{DEF}\\}| = 2 \\\\\\n# &|\\{p \\in P_j \\mid pos(p) = \\text{MID}\\}| = 2 \\\\\\n# &|\\{p \\in P_j \\mid pos(p) = \\text{FWD}\\}| = 2 \\\\\\n# &\\sum_{p \\in P_j} cost(p) \\leq 750\n",
    "\\end{aligned}\n",
    "$$\n",
    "\n",
    "**Objective Function:**\n",
    "\n",
    "$$\n",
    "f(\\mathbf{a}) = \\sigma\\left(\\left\\{\\frac{1}{7} \\sum_{p \\in P_j} skill(p) \\,\\middle|\\, j \\in T\\right\\}\\right)\n",
    "$$"
   ]
  },
  {
   "cell_type": "markdown",
   "id": "5c58866b",
   "metadata": {},
   "source": [
    "## 1. Hill Climbing\n",
    "\n",
    "Hill Climbing is a local search algorithm that iteratively moves towards an increasingly optimal solution by choosing the best neighbor. It is simple and fast but can get stuck in local optima. It is run once as it is deterministic for a given starting point."
   ]
  },
  {
   "cell_type": "code",
   "execution_count": 3,
   "id": "53cc414f",
   "metadata": {
    "execution": {
     "iopub.execute_input": "2025-05-13T23:30:03.639814Z",
     "iopub.status.busy": "2025-05-13T23:30:03.639157Z",
     "iopub.status.idle": "2025-05-13T23:30:05.130013Z",
     "shell.execute_reply": "2025-05-13T23:30:05.129051Z"
    }
   },
   "outputs": [
    {
     "name": "stdout",
     "output_type": "stream",
     "text": [
      "Running Hill Climbing Algorithm (1 run)...\n"
     ]
    },
    {
     "name": "stdout",
     "output_type": "stream",
     "text": [
      "Hill Climbing finished in 0.81 seconds.\n",
      "Best solution found by Hill Climbing: [3, 4, 1, 0, 2, 3, 0, 4, 0, 4, 3, 1, 4, 3, 2, 4, 2, 1, 3, 1, 0, 2, 3, 4, 2, 1, 0, 0, 1, 1, 2, 0, 4, 2, 3]\n",
      "Best fitness: 0.05714285714285552\n"
     ]
    },
    {
     "data": {
      "image/png": "[encoded data removed]",
      "text/plain": [
       "<Figure size 1000x600 with 1 Axes>"
      ]
     },
     "metadata": {},
     "output_type": "display_data"
    }
   ],
   "source": [
    "print(\"Running Hill Climbing Algorithm (1 run)...\")\n",
    "start_time_hc = time.time()\n",
    "hc_solution_obj, hc_fitness_val, hc_history_convergence = hill_climbing(players, max_iterations=1000, verbose=False) # Verbose set to False for cleaner output during multiple runs elsewhere\n",
    "end_time_hc = time.time()\n",
    "hc_exec_time = end_time_hc - start_time_hc\n",
    "\n",
    "print(f\"Hill Climbing finished in {hc_exec_time:.2f} seconds.\")\n",
    "if hc_solution_obj:\n",
    "    print(f\"Best solution found by Hill Climbing: {hc_solution_obj.assignment}\")\n",
    "    print(f\"Best fitness: {hc_fitness_val}\")\n",
    "else:\n",
    "    print(\"Hill Climbing did not find a valid solution.\")\n",
    "\n",
    "# Plot Hill Climbing History\n",
    "plt.figure(figsize=(10, 6))\n",
    "plt.plot(hc_history_convergence, marker='o', linestyle='-')\n",
    "plt.title('Hill Climbing Convergence (Single Run)')\n",
    "plt.xlabel('Improvement Step')\n",
    "plt.ylabel('Fitness (Std Dev of Avg Team Skills)')\n",
    "plt.grid(True)\n",
    "plt.show()"
   ]
  },
  {
   "cell_type": "markdown",
   "id": "cbaf14ee",
   "metadata": {},
   "source": [
    "## 2. Simulated Annealing\n",
    "\n",
    "Simulated Annealing is a probabilistic technique. We will run it multiple times to get statistical measures of its performance."
   ]
  },
  {
   "cell_type": "code",
   "execution_count": 4,
   "id": "919ba940",
   "metadata": {
    "execution": {
     "iopub.execute_input": "2025-05-13T23:30:05.133802Z",
     "iopub.status.busy": "2025-05-13T23:30:05.133082Z",
     "iopub.status.idle": "2025-05-13T23:35:17.040893Z",
     "shell.execute_reply": "2025-05-13T23:35:17.039676Z"
    }
   },
   "outputs": [
    {
     "name": "stdout",
     "output_type": "stream",
     "text": [
      "Running Simulated Annealing Algorithm (30 runs)...\n",
      "  SA Run 1/30...\n"
     ]
    },
    {
     "name": "stdout",
     "output_type": "stream",
     "text": [
      "  SA Run 2/30...\n"
     ]
    },
    {
     "name": "stdout",
     "output_type": "stream",
     "text": [
      "  SA Run 3/30...\n"
     ]
    },
    {
     "name": "stdout",
     "output_type": "stream",
     "text": [
      "  SA Run 4/30...\n"
     ]
    },
    {
     "name": "stdout",
     "output_type": "stream",
     "text": [
      "  SA Run 5/30...\n"
     ]
    },
    {
     "name": "stdout",
     "output_type": "stream",
     "text": [
      "  SA Run 6/30...\n"
     ]
    },
    {
     "name": "stdout",
     "output_type": "stream",
     "text": [
      "  SA Run 7/30...\n"
     ]
    },
    {
     "name": "stdout",
     "output_type": "stream",
     "text": [
      "  SA Run 8/30...\n"
     ]
    },
    {
     "name": "stdout",
     "output_type": "stream",
     "text": [
      "  SA Run 9/30...\n"
     ]
    },
    {
     "name": "stdout",
     "output_type": "stream",
     "text": [
      "  SA Run 10/30...\n"
     ]
    },
    {
     "name": "stdout",
     "output_type": "stream",
     "text": [
      "  SA Run 11/30...\n"
     ]
    },
    {
     "name": "stdout",
     "output_type": "stream",
     "text": [
      "  SA Run 12/30...\n"
     ]
    },
    {
     "name": "stdout",
     "output_type": "stream",
     "text": [
      "  SA Run 13/30...\n"
     ]
    },
    {
     "name": "stdout",
     "output_type": "stream",
     "text": [
      "  SA Run 14/30...\n"
     ]
    },
    {
     "name": "stdout",
     "output_type": "stream",
     "text": [
      "  SA Run 15/30...\n"
     ]
    },
    {
     "name": "stdout",
     "output_type": "stream",
     "text": [
      "  SA Run 16/30...\n"
     ]
    },
    {
     "name": "stdout",
     "output_type": "stream",
     "text": [
      "  SA Run 17/30...\n"
     ]
    },
    {
     "name": "stdout",
     "output_type": "stream",
     "text": [
      "  SA Run 18/30...\n"
     ]
    },
    {
     "name": "stdout",
     "output_type": "stream",
     "text": [
      "  SA Run 19/30...\n"
     ]
    },
    {
     "name": "stdout",
     "output_type": "stream",
     "text": [
      "  SA Run 20/30...\n"
     ]
    },
    {
     "name": "stdout",
     "output_type": "stream",
     "text": [
      "  SA Run 21/30...\n"
     ]
    },
    {
     "name": "stdout",
     "output_type": "stream",
     "text": [
      "  SA Run 22/30...\n"
     ]
    },
    {
     "name": "stdout",
     "output_type": "stream",
     "text": [
      "  SA Run 23/30...\n"
     ]
    },
    {
     "name": "stdout",
     "output_type": "stream",
     "text": [
      "  SA Run 24/30...\n"
     ]
    },
    {
     "name": "stdout",
     "output_type": "stream",
     "text": [
      "  SA Run 25/30...\n"
     ]
    },
    {
     "name": "stdout",
     "output_type": "stream",
     "text": [
      "  SA Run 26/30...\n"
     ]
    },
    {
     "name": "stdout",
     "output_type": "stream",
     "text": [
      "  SA Run 27/30...\n"
     ]
    },
    {
     "name": "stdout",
     "output_type": "stream",
     "text": [
      "  SA Run 28/30...\n"
     ]
    },
    {
     "name": "stdout",
     "output_type": "stream",
     "text": [
      "  SA Run 29/30...\n"
     ]
    },
    {
     "name": "stdout",
     "output_type": "stream",
     "text": [
      "  SA Run 30/30...\n"
     ]
    },
    {
     "name": "stdout",
     "output_type": "stream",
     "text": [
      "Simulated Annealing (30 runs) finished.\n",
      "  Mean Best Fitness: 0.0571\n",
      "  Std Dev Best Fitness: 0.0000\n",
      "  Mean Execution Time: 10.39s\n",
      "  Overall Best SA Fitness: 0.0571\n"
     ]
    },
    {
     "data": {
      "image/png": "[encoded data removed]",
      "text/plain": [
       "<Figure size 1000x600 with 1 Axes>"
      ]
     },
     "metadata": {},
     "output_type": "display_data"
    }
   ],
   "source": [
    "print(f\"Running Simulated Annealing Algorithm ({NUM_RUNS} runs)...\")\n",
    "\n",
    "sa_all_fitness_values = []\n",
    "sa_all_exec_times = []\n",
    "best_sa_solution_overall = None\n",
    "best_sa_fitness_overall = float('inf')\n",
    "best_sa_history_overall = []\n",
    "\n",
    "sa_params = {\n",
    "    'initial_temp': 1000,\n",
    "    'final_temp': 0.1,\n",
    "    'alpha': 0.99,\n",
    "    'iterations_per_temp': 50\n",
    "}\n",
    "\n",
    "for i in range(NUM_RUNS):\n",
    "    print(f\"  SA Run {i+1}/{NUM_RUNS}...\")\n",
    "    start_time_sa_run = time.time()\n",
    "    sa_solution_run, sa_fitness_run, sa_history_run = simulated_annealing_for_league(\n",
    "        players,\n",
    "        initial_temp=sa_params['initial_temp'],\n",
    "        final_temp=sa_params['final_temp'],\n",
    "        alpha=sa_params['alpha'],\n",
    "        iterations_per_temp=sa_params['iterations_per_temp'],\n",
    "        verbose=False # Keep verbose False for multiple runs\n",
    "    )\n",
    "    end_time_sa_run = time.time()\n",
    "    \n",
    "    if sa_solution_run:\n",
    "        sa_all_fitness_values.append(sa_fitness_run)\n",
    "        sa_all_exec_times.append(end_time_sa_run - start_time_sa_run)\n",
    "        if sa_fitness_run < best_sa_fitness_overall:\n",
    "            best_sa_fitness_overall = sa_fitness_run\n",
    "            best_sa_solution_overall = sa_solution_run\n",
    "            best_sa_history_overall = sa_history_run\n",
    "    else:\n",
    "        print(f\"  SA Run {i+1} did not find a valid solution.\")\n",
    "\n",
    "sa_mean_fitness = np.mean(sa_all_fitness_values) if sa_all_fitness_values else float('nan')\n",
    "sa_std_fitness = np.std(sa_all_fitness_values) if sa_all_fitness_values else float('nan')\n",
    "sa_mean_exec_time = np.mean(sa_all_exec_times) if sa_all_exec_times else float('nan')\n",
    "\n",
    "print(f\"Simulated Annealing ({NUM_RUNS} runs) finished.\")\n",
    "print(f\"  Mean Best Fitness: {sa_mean_fitness:.4f}\")\n",
    "print(f\"  Std Dev Best Fitness: {sa_std_fitness:.4f}\")\n",
    "print(f\"  Mean Execution Time: {sa_mean_exec_time:.2f}s\")\n",
    "if best_sa_solution_overall:\n",
    "    print(f\"  Overall Best SA Fitness: {best_sa_fitness_overall:.4f}\")\n",
    "    # print(f\"  Overall Best SA Solution: {best_sa_solution_overall.assignment}\")\n",
    "\n",
    "    # Plot Simulated Annealing History for the best run\n",
    "    plt.figure(figsize=(10, 6))\n",
    "    plt.plot(best_sa_history_overall, linestyle='-')\n",
    "    plt.title(f'Simulated Annealing Convergence (Best of {NUM_RUNS} Runs)')\n",
    "    plt.xlabel('Iteration Step')\n",
    "    plt.ylabel('Fitness (Std Dev of Avg Team Skills)')\n",
    "    plt.grid(True)\n",
    "    plt.show()\n",
    "else:\n",
    "    print(\"Simulated Annealing did not find any valid solution across all runs.\")"
   ]
  },
  {
   "cell_type": "markdown",
   "id": "8c1bd2c7",
   "metadata": {},
   "source": [
    "## 3. Genetic Algorithm with New/Adapted Operators\n",
    "\n",
    "Genetic Algorithms are also stochastic. We will run each configuration multiple times."
   ]
  },
  {
   "cell_type": "code",
   "execution_count": 5,
   "id": "aca390a9",
   "metadata": {
    "execution": {
     "iopub.execute_input": "2025-05-13T23:35:17.045455Z",
     "iopub.status.busy": "2025-05-13T23:35:17.044447Z",
     "iopub.status.idle": "2025-05-13T23:38:33.101764Z",
     "shell.execute_reply": "2025-05-13T23:38:33.100696Z"
    }
   },
   "outputs": [
    {
     "name": "stdout",
     "output_type": "stream",
     "text": [
      "Running Genetic Algorithm with NEW/ADAPTED operator configurations (30 runs each)...\n",
      "\n",
      "Running GA_Config_1 (SwapConst,1PtPreferV,TournVarK) for 30 runs...\n",
      "  GA_Config_1 (SwapConst,1PtPreferV,TournVarK) - Run 1/30...\n",
      "Warning: Could only generate 0/50 valid individuals for initial population.\n",
      "Error: Initial population is empty. GA cannot proceed.\n",
      "    GA_Config_1 (SwapConst,1PtPreferV,TournVarK) - Run 1 failed to produce a solution.\n",
      "  GA_Config_1 (SwapConst,1PtPreferV,TournVarK) - Run 2/30...\n",
      "Warning: Could only generate 0/50 valid individuals for initial population.\n",
      "Error: Initial population is empty. GA cannot proceed.\n",
      "    GA_Config_1 (SwapConst,1PtPreferV,TournVarK) - Run 2 failed to produce a solution.\n",
      "  GA_Config_1 (SwapConst,1PtPreferV,TournVarK) - Run 3/30...\n"
     ]
    },
    {
     "name": "stdout",
     "output_type": "stream",
     "text": [
      "Warning: Could only generate 0/50 valid individuals for initial population.\n",
      "Error: Initial population is empty. GA cannot proceed.\n",
      "    GA_Config_1 (SwapConst,1PtPreferV,TournVarK) - Run 3 failed to produce a solution.\n",
      "  GA_Config_1 (SwapConst,1PtPreferV,TournVarK) - Run 4/30...\n",
      "Warning: Could only generate 0/50 valid individuals for initial population.\n",
      "Error: Initial population is empty. GA cannot proceed.\n",
      "    GA_Config_1 (SwapConst,1PtPreferV,TournVarK) - Run 4 failed to produce a solution.\n",
      "  GA_Config_1 (SwapConst,1PtPreferV,TournVarK) - Run 5/30...\n",
      "Warning: Could only generate 0/50 valid individuals for initial population.\n",
      "Error: Initial population is empty. GA cannot proceed.\n",
      "    GA_Config_1 (SwapConst,1PtPreferV,TournVarK) - Run 5 failed to produce a solution.\n",
      "  GA_Config_1 (SwapConst,1PtPreferV,TournVarK) - Run 6/30...\n"
     ]
    },
    {
     "name": "stdout",
     "output_type": "stream",
     "text": [
      "Warning: Could only generate 1/50 valid individuals for initial population.\n",
      "Warning: Could only generate 0/1 valid individuals for initial population.\n",
      "Warning: Could only generate 0/1 valid individuals for initial population.\n",
      "Warning: Could only generate 0/1 valid individuals for initial population.\n",
      "Warning: Could only generate 0/1 valid individuals for initial population.\n"
     ]
    },
    {
     "name": "stdout",
     "output_type": "stream",
     "text": [
      "Warning: Could only generate 0/1 valid individuals for initial population.\n"
     ]
    },
    {
     "name": "stdout",
     "output_type": "stream",
     "text": [
      "Warning: Could only generate 0/1 valid individuals for initial population.\n"
     ]
    },
    {
     "name": "stdout",
     "output_type": "stream",
     "text": [
      "Warning: Could only generate 0/1 valid individuals for initial population.\n"
     ]
    },
    {
     "name": "stdout",
     "output_type": "stream",
     "text": [
      "  GA_Config_1 (SwapConst,1PtPreferV,TournVarK) - Run 7/30...\n",
      "Warning: Could only generate 0/50 valid individuals for initial population.\n",
      "Error: Initial population is empty. GA cannot proceed.\n",
      "    GA_Config_1 (SwapConst,1PtPreferV,TournVarK) - Run 7 failed to produce a solution.\n",
      "  GA_Config_1 (SwapConst,1PtPreferV,TournVarK) - Run 8/30...\n",
      "Warning: Could only generate 0/50 valid individuals for initial population.\n",
      "Error: Initial population is empty. GA cannot proceed.\n",
      "    GA_Config_1 (SwapConst,1PtPreferV,TournVarK) - Run 8 failed to produce a solution.\n",
      "  GA_Config_1 (SwapConst,1PtPreferV,TournVarK) - Run 9/30...\n"
     ]
    },
    {
     "name": "stdout",
     "output_type": "stream",
     "text": [
      "Warning: Could only generate 0/50 valid individuals for initial population.\n",
      "Error: Initial population is empty. GA cannot proceed.\n",
      "    GA_Config_1 (SwapConst,1PtPreferV,TournVarK) - Run 9 failed to produce a solution.\n",
      "  GA_Config_1 (SwapConst,1PtPreferV,TournVarK) - Run 10/30...\n",
      "Warning: Could only generate 0/50 valid individuals for initial population.\n",
      "Error: Initial population is empty. GA cannot proceed.\n",
      "    GA_Config_1 (SwapConst,1PtPreferV,TournVarK) - Run 10 failed to produce a solution.\n",
      "  GA_Config_1 (SwapConst,1PtPreferV,TournVarK) - Run 11/30...\n",
      "Warning: Could only generate 0/50 valid individuals for initial population.\n",
      "Error: Initial population is empty. GA cannot proceed.\n",
      "    GA_Config_1 (SwapConst,1PtPreferV,TournVarK) - Run 11 failed to produce a solution.\n",
      "  GA_Config_1 (SwapConst,1PtPreferV,TournVarK) - Run 12/30...\n"
     ]
    },
    {
     "name": "stdout",
     "output_type": "stream",
     "text": [
      "Warning: Could only generate 0/50 valid individuals for initial population.\n",
      "Error: Initial population is empty. GA cannot proceed.\n",
      "    GA_Config_1 (SwapConst,1PtPreferV,TournVarK) - Run 12 failed to produce a solution.\n",
      "  GA_Config_1 (SwapConst,1PtPreferV,TournVarK) - Run 13/30...\n",
      "Warning: Could only generate 0/50 valid individuals for initial population.\n",
      "Error: Initial population is empty. GA cannot proceed.\n",
      "    GA_Config_1 (SwapConst,1PtPreferV,TournVarK) - Run 13 failed to produce a solution.\n",
      "  GA_Config_1 (SwapConst,1PtPreferV,TournVarK) - Run 14/30...\n",
      "Warning: Could only generate 0/50 valid individuals for initial population.\n",
      "Error: Initial population is empty. GA cannot proceed.\n",
      "    GA_Config_1 (SwapConst,1PtPreferV,TournVarK) - Run 14 failed to produce a solution.\n",
      "  GA_Config_1 (SwapConst,1PtPreferV,TournVarK) - Run 15/30...\n"
     ]
    },
    {
     "name": "stdout",
     "output_type": "stream",
     "text": [
      "Warning: Could only generate 0/50 valid individuals for initial population.\n",
      "Error: Initial population is empty. GA cannot proceed.\n",
      "    GA_Config_1 (SwapConst,1PtPreferV,TournVarK) - Run 15 failed to produce a solution.\n",
      "  GA_Config_1 (SwapConst,1PtPreferV,TournVarK) - Run 16/30...\n",
      "Warning: Could only generate 0/50 valid individuals for initial population.\n",
      "Error: Initial population is empty. GA cannot proceed.\n",
      "    GA_Config_1 (SwapConst,1PtPreferV,TournVarK) - Run 16 failed to produce a solution.\n",
      "  GA_Config_1 (SwapConst,1PtPreferV,TournVarK) - Run 17/30...\n",
      "Warning: Could only generate 0/50 valid individuals for initial population.\n",
      "Error: Initial population is empty. GA cannot proceed.\n",
      "    GA_Config_1 (SwapConst,1PtPreferV,TournVarK) - Run 17 failed to produce a solution.\n",
      "  GA_Config_1 (SwapConst,1PtPreferV,TournVarK) - Run 18/30...\n"
     ]
    },
    {
     "name": "stdout",
     "output_type": "stream",
     "text": [
      "Warning: Could only generate 1/50 valid individuals for initial population.\n"
     ]
    },
    {
     "name": "stdout",
     "output_type": "stream",
     "text": [
      "  GA_Config_1 (SwapConst,1PtPreferV,TournVarK) - Run 19/30...\n",
      "Warning: Could only generate 0/50 valid individuals for initial population.\n",
      "Error: Initial population is empty. GA cannot proceed.\n",
      "    GA_Config_1 (SwapConst,1PtPreferV,TournVarK) - Run 19 failed to produce a solution.\n",
      "  GA_Config_1 (SwapConst,1PtPreferV,TournVarK) - Run 20/30...\n",
      "Warning: Could only generate 0/50 valid individuals for initial population.\n",
      "Error: Initial population is empty. GA cannot proceed.\n",
      "    GA_Config_1 (SwapConst,1PtPreferV,TournVarK) - Run 20 failed to produce a solution.\n",
      "  GA_Config_1 (SwapConst,1PtPreferV,TournVarK) - Run 21/30...\n"
     ]
    },
    {
     "name": "stdout",
     "output_type": "stream",
     "text": [
      "Warning: Could only generate 0/50 valid individuals for initial population.\n",
      "Error: Initial population is empty. GA cannot proceed.\n",
      "    GA_Config_1 (SwapConst,1PtPreferV,TournVarK) - Run 21 failed to produce a solution.\n",
      "  GA_Config_1 (SwapConst,1PtPreferV,TournVarK) - Run 22/30...\n",
      "Warning: Could only generate 0/50 valid individuals for initial population.\n",
      "Error: Initial population is empty. GA cannot proceed.\n",
      "    GA_Config_1 (SwapConst,1PtPreferV,TournVarK) - Run 22 failed to produce a solution.\n",
      "  GA_Config_1 (SwapConst,1PtPreferV,TournVarK) - Run 23/30...\n",
      "Warning: Could only generate 0/50 valid individuals for initial population.\n",
      "Error: Initial population is empty. GA cannot proceed.\n",
      "    GA_Config_1 (SwapConst,1PtPreferV,TournVarK) - Run 23 failed to produce a solution.\n",
      "  GA_Config_1 (SwapConst,1PtPreferV,TournVarK) - Run 24/30...\n"
     ]
    },
    {
     "name": "stdout",
     "output_type": "stream",
     "text": [
      "Warning: Could only generate 0/50 valid individuals for initial population.\n",
      "Error: Initial population is empty. GA cannot proceed.\n",
      "    GA_Config_1 (SwapConst,1PtPreferV,TournVarK) - Run 24 failed to produce a solution.\n",
      "  GA_Config_1 (SwapConst,1PtPreferV,TournVarK) - Run 25/30...\n",
      "Warning: Could only generate 0/50 valid individuals for initial population.\n",
      "Error: Initial population is empty. GA cannot proceed.\n",
      "    GA_Config_1 (SwapConst,1PtPreferV,TournVarK) - Run 25 failed to produce a solution.\n",
      "  GA_Config_1 (SwapConst,1PtPreferV,TournVarK) - Run 26/30...\n",
      "Warning: Could only generate 0/50 valid individuals for initial population.\n",
      "Error: Initial population is empty. GA cannot proceed.\n",
      "    GA_Config_1 (SwapConst,1PtPreferV,TournVarK) - Run 26 failed to produce a solution.\n",
      "  GA_Config_1 (SwapConst,1PtPreferV,TournVarK) - Run 27/30...\n"
     ]
    },
    {
     "name": "stdout",
     "output_type": "stream",
     "text": [
      "Warning: Could only generate 0/50 valid individuals for initial population.\n",
      "Error: Initial population is empty. GA cannot proceed.\n",
      "    GA_Config_1 (SwapConst,1PtPreferV,TournVarK) - Run 27 failed to produce a solution.\n",
      "  GA_Config_1 (SwapConst,1PtPreferV,TournVarK) - Run 28/30...\n",
      "Warning: Could only generate 0/50 valid individuals for initial population.\n",
      "Error: Initial population is empty. GA cannot proceed.\n",
      "    GA_Config_1 (SwapConst,1PtPreferV,TournVarK) - Run 28 failed to produce a solution.\n",
      "  GA_Config_1 (SwapConst,1PtPreferV,TournVarK) - Run 29/30...\n",
      "Warning: Could only generate 0/50 valid individuals for initial population.\n",
      "Error: Initial population is empty. GA cannot proceed.\n",
      "    GA_Config_1 (SwapConst,1PtPreferV,TournVarK) - Run 29 failed to produce a solution.\n",
      "  GA_Config_1 (SwapConst,1PtPreferV,TournVarK) - Run 30/30...\n"
     ]
    },
    {
     "name": "stdout",
     "output_type": "stream",
     "text": [
      "Warning: Could only generate 0/50 valid individuals for initial population.\n",
      "Error: Initial population is empty. GA cannot proceed.\n",
      "    GA_Config_1 (SwapConst,1PtPreferV,TournVarK) - Run 30 failed to produce a solution.\n",
      "GA_Config_1 (SwapConst,1PtPreferV,TournVarK) (30 runs) summary:\n",
      "  Mean Best Fitness: 0.0820\n",
      "  Std Dev Best Fitness: 0.0249\n",
      "  Mean Execution Time: 1.85s\n",
      "  Overall Best Fitness for this config: 0.05714285714285552\n",
      "----------------------------------------------------\n",
      "\n",
      "Running GA_Config_2 (TargetExch,UnifPreferV,Ranking) for 30 runs...\n",
      "  GA_Config_2 (TargetExch,UnifPreferV,Ranking) - Run 1/30...\n",
      "Warning: Could only generate 0/50 valid individuals for initial population.\n",
      "Error: Initial population is empty. GA cannot proceed.\n",
      "    GA_Config_2 (TargetExch,UnifPreferV,Ranking) - Run 1 failed to produce a solution.\n",
      "  GA_Config_2 (TargetExch,UnifPreferV,Ranking) - Run 2/30...\n",
      "Warning: Could only generate 0/50 valid individuals for initial population.\n",
      "Error: Initial population is empty. GA cannot proceed.\n",
      "    GA_Config_2 (TargetExch,UnifPreferV,Ranking) - Run 2 failed to produce a solution.\n",
      "  GA_Config_2 (TargetExch,UnifPreferV,Ranking) - Run 3/30...\n"
     ]
    },
    {
     "name": "stdout",
     "output_type": "stream",
     "text": [
      "Warning: Could only generate 0/50 valid individuals for initial population.\n",
      "Error: Initial population is empty. GA cannot proceed.\n",
      "    GA_Config_2 (TargetExch,UnifPreferV,Ranking) - Run 3 failed to produce a solution.\n",
      "  GA_Config_2 (TargetExch,UnifPreferV,Ranking) - Run 4/30...\n",
      "Warning: Could only generate 1/50 valid individuals for initial population.\n"
     ]
    },
    {
     "name": "stdout",
     "output_type": "stream",
     "text": [
      "Warning: Could only generate 0/1 valid individuals for initial population.\n"
     ]
    },
    {
     "name": "stdout",
     "output_type": "stream",
     "text": [
      "Warning: Could only generate 0/1 valid individuals for initial population.\n",
      "Warning: Could only generate 0/1 valid individuals for initial population.\n"
     ]
    },
    {
     "name": "stdout",
     "output_type": "stream",
     "text": [
      "Warning: Could only generate 0/1 valid individuals for initial population.\n",
      "Warning: Could only generate 0/1 valid individuals for initial population.\n",
      "Warning: Could only generate 0/1 valid individuals for initial population.\n"
     ]
    },
    {
     "name": "stdout",
     "output_type": "stream",
     "text": [
      "Warning: Could only generate 0/1 valid individuals for initial population.\n",
      "Warning: Could only generate 0/1 valid individuals for initial population.\n",
      "Warning: Could only generate 0/1 valid individuals for initial population.\n",
      "Warning: Could only generate 0/1 valid individuals for initial population.\n"
     ]
    },
    {
     "name": "stdout",
     "output_type": "stream",
     "text": [
      "Warning: Could only generate 0/1 valid individuals for initial population.\n",
      "Warning: Could only generate 0/1 valid individuals for initial population.\n",
      "Warning: Could only generate 0/1 valid individuals for initial population.\n",
      "Warning: Could only generate 0/1 valid individuals for initial population.\n",
      "Warning: Could only generate 0/1 valid individuals for initial population.\n"
     ]
    },
    {
     "name": "stdout",
     "output_type": "stream",
     "text": [
      "Warning: Could only generate 0/1 valid individuals for initial population.\n",
      "Warning: Could only generate 0/1 valid individuals for initial population.\n",
      "Warning: Could only generate 0/1 valid individuals for initial population.\n",
      "Warning: Could only generate 0/1 valid individuals for initial population.\n",
      "Warning: Could only generate 0/1 valid individuals for initial population.\n",
      "Warning: Could only generate 0/1 valid individuals for initial population.\n"
     ]
    },
    {
     "name": "stdout",
     "output_type": "stream",
     "text": [
      "Warning: Could only generate 0/1 valid individuals for initial population.\n",
      "Warning: Could only generate 0/1 valid individuals for initial population.\n",
      "Warning: Could only generate 0/1 valid individuals for initial population.\n",
      "Warning: Could only generate 0/1 valid individuals for initial population.\n",
      "Warning: Could only generate 0/1 valid individuals for initial population.\n",
      "Warning: Could only generate 0/1 valid individuals for initial population.\n",
      "Warning: Could only generate 0/1 valid individuals for initial population.\n"
     ]
    },
    {
     "name": "stdout",
     "output_type": "stream",
     "text": [
      "Warning: Could only generate 0/1 valid individuals for initial population.\n",
      "Warning: Could only generate 0/1 valid individuals for initial population.\n",
      "Warning: Could only generate 0/1 valid individuals for initial population.\n",
      "Warning: Could only generate 0/1 valid individuals for initial population.\n",
      "Warning: Could only generate 0/1 valid individuals for initial population.\n",
      "Warning: Could only generate 0/1 valid individuals for initial population.\n",
      "Warning: Could only generate 0/1 valid individuals for initial population.\n",
      "Warning: Could only generate 0/1 valid individuals for initial population.\n",
      "Warning: Could only generate 0/1 valid individuals for initial population.\n"
     ]
    },
    {
     "name": "stdout",
     "output_type": "stream",
     "text": [
      "Warning: Could only generate 0/1 valid individuals for initial population.\n",
      "Warning: Could only generate 0/1 valid individuals for initial population.\n",
      "Warning: Could only generate 0/1 valid individuals for initial population.\n",
      "Warning: Could only generate 0/1 valid individuals for initial population.\n",
      "Warning: Could only generate 0/1 valid individuals for initial population.\n",
      "Warning: Could only generate 0/1 valid individuals for initial population.\n",
      "Warning: Could only generate 0/1 valid individuals for initial population.\n",
      "Warning: Could only generate 0/1 valid individuals for initial population.\n"
     ]
    },
    {
     "name": "stdout",
     "output_type": "stream",
     "text": [
      "Warning: Could only generate 0/1 valid individuals for initial population.\n",
      "Warning: Could only generate 0/1 valid individuals for initial population.\n",
      "Warning: Could only generate 0/1 valid individuals for initial population.\n",
      "Warning: Could only generate 0/1 valid individuals for initial population.\n",
      "Warning: Could only generate 0/1 valid individuals for initial population.\n",
      "Warning: Could only generate 0/1 valid individuals for initial population.\n",
      "Warning: Could only generate 0/1 valid individuals for initial population.\n"
     ]
    },
    {
     "name": "stdout",
     "output_type": "stream",
     "text": [
      "Warning: Could only generate 0/1 valid individuals for initial population.\n",
      "Warning: Could only generate 0/1 valid individuals for initial population.\n",
      "Warning: Could only generate 0/1 valid individuals for initial population.\n"
     ]
    },
    {
     "name": "stdout",
     "output_type": "stream",
     "text": [
      "Warning: Could only generate 0/1 valid individuals for initial population.\n",
      "Warning: Could only generate 0/1 valid individuals for initial population.\n",
      "Warning: Could only generate 0/1 valid individuals for initial population.\n",
      "Warning: Could only generate 0/1 valid individuals for initial population.\n"
     ]
    },
    {
     "name": "stdout",
     "output_type": "stream",
     "text": [
      "Warning: Could only generate 0/1 valid individuals for initial population.\n",
      "Warning: Could only generate 0/1 valid individuals for initial population.\n",
      "Warning: Could only generate 0/1 valid individuals for initial population.\n",
      "Warning: Could only generate 0/1 valid individuals for initial population.\n",
      "Warning: Could only generate 0/1 valid individuals for initial population.\n"
     ]
    },
    {
     "name": "stdout",
     "output_type": "stream",
     "text": [
      "Warning: Could only generate 0/1 valid individuals for initial population.\n",
      "Warning: Could only generate 0/1 valid individuals for initial population.\n",
      "Warning: Could only generate 0/1 valid individuals for initial population.\n",
      "Warning: Could only generate 0/1 valid individuals for initial population.\n"
     ]
    },
    {
     "name": "stdout",
     "output_type": "stream",
     "text": [
      "Warning: Could only generate 0/1 valid individuals for initial population.\n",
      "Warning: Could only generate 0/1 valid individuals for initial population.\n",
      "Warning: Could only generate 0/1 valid individuals for initial population.\n",
      "Warning: Could only generate 0/1 valid individuals for initial population.\n"
     ]
    },
    {
     "name": "stdout",
     "output_type": "stream",
     "text": [
      "Warning: Could only generate 0/1 valid individuals for initial population.\n",
      "Warning: Could only generate 0/1 valid individuals for initial population.\n",
      "Warning: Could only generate 0/1 valid individuals for initial population.\n",
      "Warning: Could only generate 0/1 valid individuals for initial population.\n"
     ]
    },
    {
     "name": "stdout",
     "output_type": "stream",
     "text": [
      "Warning: Could only generate 0/1 valid individuals for initial population.\n",
      "Warning: Could only generate 0/1 valid individuals for initial population.\n",
      "Warning: Could only generate 0/1 valid individuals for initial population.\n",
      "Warning: Could only generate 0/1 valid individuals for initial population.\n",
      "Warning: Could only generate 0/1 valid individuals for initial population.\n",
      "Warning: Could only generate 0/1 valid individuals for initial population.\n",
      "Warning: Could only generate 0/1 valid individuals for initial population.\n"
     ]
    },
    {
     "name": "stdout",
     "output_type": "stream",
     "text": [
      "Warning: Could only generate 0/1 valid individuals for initial population.\n",
      "Warning: Could only generate 0/1 valid individuals for initial population.\n",
      "Warning: Could only generate 0/1 valid individuals for initial population.\n"
     ]
    },
    {
     "name": "stdout",
     "output_type": "stream",
     "text": [
      "Warning: Could only generate 0/1 valid individuals for initial population.\n",
      "Warning: Could only generate 0/1 valid individuals for initial population.\n",
      "Warning: Could only generate 0/1 valid individuals for initial population.\n"
     ]
    },
    {
     "name": "stdout",
     "output_type": "stream",
     "text": [
      "Warning: Could only generate 0/1 valid individuals for initial population.\n",
      "Warning: Could only generate 0/1 valid individuals for initial population.\n",
      "Warning: Could only generate 0/1 valid individuals for initial population.\n",
      "Warning: Could only generate 0/1 valid individuals for initial population.\n",
      "Warning: Could only generate 0/1 valid individuals for initial population.\n",
      "Warning: Could only generate 0/1 valid individuals for initial population.\n"
     ]
    },
    {
     "name": "stdout",
     "output_type": "stream",
     "text": [
      "Warning: Could only generate 0/1 valid individuals for initial population.\n",
      "Warning: Could only generate 0/1 valid individuals for initial population.\n"
     ]
    },
    {
     "name": "stdout",
     "output_type": "stream",
     "text": [
      "Warning: Could only generate 0/1 valid individuals for initial population.\n",
      "Warning: Could only generate 0/1 valid individuals for initial population.\n",
      "Warning: Could only generate 0/1 valid individuals for initial population.\n",
      "Warning: Could only generate 0/1 valid individuals for initial population.\n",
      "Warning: Could only generate 0/1 valid individuals for initial population.\n"
     ]
    },
    {
     "name": "stdout",
     "output_type": "stream",
     "text": [
      "Warning: Could only generate 0/1 valid individuals for initial population.\n",
      "Warning: Could only generate 0/1 valid individuals for initial population.\n",
      "Warning: Could only generate 0/1 valid individuals for initial population.\n"
     ]
    },
    {
     "name": "stdout",
     "output_type": "stream",
     "text": [
      "Warning: Could only generate 0/1 valid individuals for initial population.\n",
      "Warning: Could only generate 0/1 valid individuals for initial population.\n",
      "Warning: Could only generate 0/1 valid individuals for initial population.\n"
     ]
    },
    {
     "name": "stdout",
     "output_type": "stream",
     "text": [
      "Warning: Could only generate 0/1 valid individuals for initial population.\n"
     ]
    },
    {
     "name": "stdout",
     "output_type": "stream",
     "text": [
      "Warning: Could only generate 0/1 valid individuals for initial population.\n",
      "Warning: Could only generate 0/1 valid individuals for initial population.\n"
     ]
    },
    {
     "name": "stdout",
     "output_type": "stream",
     "text": [
      "Warning: Could only generate 0/1 valid individuals for initial population.\n",
      "Warning: Could only generate 0/1 valid individuals for initial population.\n",
      "Warning: Could only generate 0/1 valid individuals for initial population.\n"
     ]
    },
    {
     "name": "stdout",
     "output_type": "stream",
     "text": [
      "Warning: Could only generate 0/1 valid individuals for initial population.\n",
      "Warning: Could only generate 0/1 valid individuals for initial population.\n"
     ]
    },
    {
     "name": "stdout",
     "output_type": "stream",
     "text": [
      "Warning: Could only generate 0/1 valid individuals for initial population.\n",
      "Warning: Could only generate 0/1 valid individuals for initial population.\n",
      "Warning: Could only generate 0/1 valid individuals for initial population.\n"
     ]
    },
    {
     "name": "stdout",
     "output_type": "stream",
     "text": [
      "Warning: Could only generate 0/1 valid individuals for initial population.\n",
      "Warning: Could only generate 0/1 valid individuals for initial population.\n",
      "Warning: Could only generate 0/1 valid individuals for initial population.\n"
     ]
    },
    {
     "name": "stdout",
     "output_type": "stream",
     "text": [
      "Warning: Could only generate 0/1 valid individuals for initial population.\n",
      "Warning: Could only generate 0/1 valid individuals for initial population.\n",
      "Warning: Could only generate 0/1 valid individuals for initial population.\n",
      "Warning: Could only generate 0/1 valid individuals for initial population.\n",
      "Warning: Could only generate 0/1 valid individuals for initial population.\n",
      "Warning: Could only generate 0/1 valid individuals for initial population.\n"
     ]
    },
    {
     "name": "stdout",
     "output_type": "stream",
     "text": [
      "Warning: Could only generate 0/1 valid individuals for initial population.\n",
      "Warning: Could only generate 0/1 valid individuals for initial population.\n"
     ]
    },
    {
     "name": "stdout",
     "output_type": "stream",
     "text": [
      "Warning: Could only generate 0/1 valid individuals for initial population.\n",
      "Warning: Could only generate 0/1 valid individuals for initial population.\n"
     ]
    },
    {
     "name": "stdout",
     "output_type": "stream",
     "text": [
      "Warning: Could only generate 0/1 valid individuals for initial population.\n",
      "Warning: Could only generate 0/1 valid individuals for initial population.\n",
      "Warning: Could only generate 0/1 valid individuals for initial population.\n"
     ]
    },
    {
     "name": "stdout",
     "output_type": "stream",
     "text": [
      "Warning: Could only generate 0/1 valid individuals for initial population.\n",
      "Warning: Could only generate 0/1 valid individuals for initial population.\n"
     ]
    },
    {
     "name": "stdout",
     "output_type": "stream",
     "text": [
      "Warning: Could only generate 0/1 valid individuals for initial population.\n"
     ]
    },
    {
     "name": "stdout",
     "output_type": "stream",
     "text": [
      "Warning: Could only generate 0/1 valid individuals for initial population.\n",
      "Warning: Could only generate 0/1 valid individuals for initial population.\n"
     ]
    },
    {
     "name": "stdout",
     "output_type": "stream",
     "text": [
      "Warning: Could only generate 0/1 valid individuals for initial population.\n",
      "Warning: Could only generate 0/1 valid individuals for initial population.\n"
     ]
    },
    {
     "name": "stdout",
     "output_type": "stream",
     "text": [
      "Warning: Could only generate 0/1 valid individuals for initial population.\n",
      "Warning: Could only generate 0/1 valid individuals for initial population.\n"
     ]
    },
    {
     "name": "stdout",
     "output_type": "stream",
     "text": [
      "Warning: Could only generate 0/1 valid individuals for initial population.\n",
      "Warning: Could only generate 0/1 valid individuals for initial population.\n"
     ]
    },
    {
     "name": "stdout",
     "output_type": "stream",
     "text": [
      "Warning: Could only generate 0/1 valid individuals for initial population.\n"
     ]
    },
    {
     "name": "stdout",
     "output_type": "stream",
     "text": [
      "Warning: Could only generate 0/1 valid individuals for initial population.\n",
      "Warning: Could only generate 0/1 valid individuals for initial population.\n"
     ]
    },
    {
     "name": "stdout",
     "output_type": "stream",
     "text": [
      "Warning: Could only generate 0/1 valid individuals for initial population.\n"
     ]
    },
    {
     "name": "stdout",
     "output_type": "stream",
     "text": [
      "Warning: Could only generate 0/1 valid individuals for initial population.\n",
      "Warning: Could only generate 0/1 valid individuals for initial population.\n"
     ]
    },
    {
     "name": "stdout",
     "output_type": "stream",
     "text": [
      "Warning: Could only generate 0/1 valid individuals for initial population.\n",
      "Warning: Could only generate 0/1 valid individuals for initial population.\n"
     ]
    },
    {
     "name": "stdout",
     "output_type": "stream",
     "text": [
      "Warning: Could only generate 0/1 valid individuals for initial population.\n",
      "Warning: Could only generate 0/1 valid individuals for initial population.\n",
      "Warning: Could only generate 0/1 valid individuals for initial population.\n"
     ]
    },
    {
     "name": "stdout",
     "output_type": "stream",
     "text": [
      "Warning: Could only generate 0/1 valid individuals for initial population.\n",
      "Warning: Could only generate 0/1 valid individuals for initial population.\n",
      "Warning: Could only generate 0/1 valid individuals for initial population.\n"
     ]
    },
    {
     "name": "stdout",
     "output_type": "stream",
     "text": [
      "Warning: Could only generate 0/1 valid individuals for initial population.\n"
     ]
    },
    {
     "name": "stdout",
     "output_type": "stream",
     "text": [
      "Warning: Could only generate 0/1 valid individuals for initial population.\n"
     ]
    },
    {
     "name": "stdout",
     "output_type": "stream",
     "text": [
      "Warning: Could only generate 0/1 valid individuals for initial population.\n",
      "Warning: Could only generate 0/1 valid individuals for initial population.\n"
     ]
    },
    {
     "name": "stdout",
     "output_type": "stream",
     "text": [
      "Warning: Could only generate 0/1 valid individuals for initial population.\n",
      "Warning: Could only generate 0/1 valid individuals for initial population.\n",
      "Warning: Could only generate 0/1 valid individuals for initial population.\n",
      "Warning: Could only generate 0/1 valid individuals for initial population.\n",
      "Warning: Could only generate 0/1 valid individuals for initial population.\n"
     ]
    },
    {
     "name": "stdout",
     "output_type": "stream",
     "text": [
      "Warning: Could only generate 0/1 valid individuals for initial population.\n",
      "Warning: Could only generate 0/1 valid individuals for initial population.\n"
     ]
    },
    {
     "name": "stdout",
     "output_type": "stream",
     "text": [
      "Warning: Could only generate 0/1 valid individuals for initial population.\n"
     ]
    },
    {
     "name": "stdout",
     "output_type": "stream",
     "text": [
      "Warning: Could only generate 0/1 valid individuals for initial population.\n",
      "Warning: Could only generate 0/1 valid individuals for initial population.\n"
     ]
    },
    {
     "name": "stdout",
     "output_type": "stream",
     "text": [
      "  GA_Config_2 (TargetExch,UnifPreferV,Ranking) - Run 5/30...\n",
      "Warning: Could only generate 0/50 valid individuals for initial population.\n",
      "Error: Initial population is empty. GA cannot proceed.\n",
      "    GA_Config_2 (TargetExch,UnifPreferV,Ranking) - Run 5 failed to produce a solution.\n",
      "  GA_Config_2 (TargetExch,UnifPreferV,Ranking) - Run 6/30...\n",
      "Warning: Could only generate 1/50 valid individuals for initial population.\n"
     ]
    },
    {
     "name": "stdout",
     "output_type": "stream",
     "text": [
      "Warning: Could only generate 0/1 valid individuals for initial population.\n"
     ]
    },
    {
     "name": "stdout",
     "output_type": "stream",
     "text": [
      "Warning: Could only generate 0/1 valid individuals for initial population.\n",
      "Warning: Could only generate 0/1 valid individuals for initial population.\n"
     ]
    },
    {
     "name": "stdout",
     "output_type": "stream",
     "text": [
      "Warning: Could only generate 0/1 valid individuals for initial population.\n",
      "Warning: Could only generate 0/1 valid individuals for initial population.\n",
      "Warning: Could only generate 0/1 valid individuals for initial population.\n",
      "Warning: Could only generate 0/1 valid individuals for initial population.\n"
     ]
    },
    {
     "name": "stdout",
     "output_type": "stream",
     "text": [
      "Warning: Could only generate 0/1 valid individuals for initial population.\n",
      "Warning: Could only generate 0/1 valid individuals for initial population.\n",
      "Warning: Could only generate 0/1 valid individuals for initial population.\n",
      "Warning: Could only generate 0/1 valid individuals for initial population.\n",
      "Warning: Could only generate 0/1 valid individuals for initial population.\n",
      "Warning: Could only generate 0/1 valid individuals for initial population.\n",
      "Warning: Could only generate 0/1 valid individuals for initial population.\n",
      "Warning: Could only generate 0/1 valid individuals for initial population.\n"
     ]
    },
    {
     "name": "stdout",
     "output_type": "stream",
     "text": [
      "Warning: Could only generate 0/1 valid individuals for initial population.\n",
      "Warning: Could only generate 0/1 valid individuals for initial population.\n",
      "Warning: Could only generate 0/1 valid individuals for initial population.\n",
      "Warning: Could only generate 0/1 valid individuals for initial population.\n",
      "Warning: Could only generate 0/1 valid individuals for initial population.\n",
      "Warning: Could only generate 0/1 valid individuals for initial population.\n",
      "Warning: Could only generate 0/1 valid individuals for initial population."
     ]
    },
    {
     "name": "stdout",
     "output_type": "stream",
     "text": [
      "\n",
      "Warning: Could only generate 0/1 valid individuals for initial population.\n",
      "Warning: Could only generate 0/1 valid individuals for initial population.\n",
      "Warning: Could only generate 0/1 valid individuals for initial population.\n",
      "Warning: Could only generate 0/1 valid individuals for initial population.\n",
      "Warning: Could only generate 0/1 valid individuals for initial population.\n",
      "Warning: Could only generate 0/1 valid individuals for initial population.\n",
      "Warning: Could only generate 0/1 valid individuals for initial population.\n"
     ]
    },
    {
     "name": "stdout",
     "output_type": "stream",
     "text": [
      "Warning: Could only generate 0/1 valid individuals for initial population.\n",
      "Warning: Could only generate 0/1 valid individuals for initial population.\n",
      "Warning: Could only generate 0/1 valid individuals for initial population.\n",
      "Warning: Could only generate 0/1 valid individuals for initial population.\n",
      "Warning: Could only generate 0/1 valid individuals for initial population.\n",
      "Warning: Could only generate 0/1 valid individuals for initial population.\n",
      "Warning: Could only generate 0/1 valid individuals for initial population.\n"
     ]
    },
    {
     "name": "stdout",
     "output_type": "stream",
     "text": [
      "Warning: Could only generate 0/1 valid individuals for initial population.\n",
      "Warning: Could only generate 0/1 valid individuals for initial population.\n",
      "Warning: Could only generate 0/1 valid individuals for initial population.\n",
      "Warning: Could only generate 0/1 valid individuals for initial population.\n",
      "Warning: Could only generate 0/1 valid individuals for initial population.\n",
      "Warning: Could only generate 0/1 valid individuals for initial population.\n",
      "Warning: Could only generate 0/1 valid individuals for initial population.\n",
      "Warning: Could only generate 0/1 valid individuals for initial population.\n",
      "Warning: Could only generate 0/1 valid individuals for initial population.\n",
      "Warning: Could only generate 0/1 valid individuals for initial population.\n",
      "Warning: Could only generate 0/1 valid individuals for initial population.\n",
      "Warning: Could only generate 0/1 valid individuals for initial population.\n"
     ]
    },
    {
     "name": "stdout",
     "output_type": "stream",
     "text": [
      "Warning: Could only generate 0/1 valid individuals for initial population.\n",
      "Warning: Could only generate 0/1 valid individuals for initial population.\n",
      "Warning: Could only generate 0/1 valid individuals for initial population.\n",
      "Warning: Could only generate 0/1 valid individuals for initial population.\n",
      "Warning: Could only generate 0/1 valid individuals for initial population.\n",
      "Warning: Could only generate 0/1 valid individuals for initial population.\n",
      "Warning: Could only generate 0/1 valid individuals for initial population.\n"
     ]
    },
    {
     "name": "stdout",
     "output_type": "stream",
     "text": [
      "Warning: Could only generate 0/1 valid individuals for initial population.\n",
      "Warning: Could only generate 0/1 valid individuals for initial population.\n",
      "Warning: Could only generate 0/1 valid individuals for initial population.\n",
      "Warning: Could only generate 0/1 valid individuals for initial population.\n",
      "Warning: Could only generate 0/1 valid individuals for initial population.\n",
      "Warning: Could only generate 0/1 valid individuals for initial population.\n",
      "Warning: Could only generate 0/1 valid individuals for initial population.\n",
      "Warning: Could only generate 0/1 valid individuals for initial population.\n",
      "Warning: Could only generate 0/1 valid individuals for initial population.\n",
      "Warning: Could only generate 0/1 valid individuals for initial population.\n",
      "Warning: Could only generate 0/1 valid individuals for initial population.\n",
      "Warning: Could only generate 0/1 valid individuals for initial population.\n"
     ]
    },
    {
     "name": "stdout",
     "output_type": "stream",
     "text": [
      "Warning: Could only generate 0/1 valid individuals for initial population.\n",
      "Warning: Could only generate 0/1 valid individuals for initial population.\n",
      "Warning: Could only generate 0/1 valid individuals for initial population.\n",
      "Warning: Could only generate 0/1 valid individuals for initial population.\n",
      "Warning: Could only generate 0/1 valid individuals for initial population.\n",
      "Warning: Could only generate 0/1 valid individuals for initial population.\n",
      "Warning: Could only generate 0/1 valid individuals for initial population.\n",
      "Warning: Could only generate 0/1 valid individuals for initial population.\n",
      "Warning: Could only generate 0/1 valid individuals for initial population.\n",
      "Warning: Could only generate 0/1 valid individuals for initial population.\n"
     ]
    },
    {
     "name": "stdout",
     "output_type": "stream",
     "text": [
      "Warning: Could only generate 0/1 valid individuals for initial population.\n",
      "Warning: Could only generate 0/1 valid individuals for initial population.\n",
      "Warning: Could only generate 0/1 valid individuals for initial population.\n",
      "Warning: Could only generate 0/1 valid individuals for initial population.\n",
      "Warning: Could only generate 0/1 valid individuals for initial population.\n",
      "Warning: Could only generate 0/1 valid individuals for initial population.\n",
      "Warning: Could only generate 0/1 valid individuals for initial population.\n",
      "Warning: Could only generate 0/1 valid individuals for initial population.\n",
      "Warning: Could only generate 0/1 valid individuals for initial population.\n",
      "Warning: Could only generate 0/1 valid individuals for initial population.\n",
      "Warning: Could only generate 0/1 valid individuals for initial population.\n",
      "Warning: Could only generate 0/1 valid individuals for initial population.\n",
      "Warning: Could only generate 0/1 valid individuals for initial population.\n"
     ]
    },
    {
     "name": "stdout",
     "output_type": "stream",
     "text": [
      "Warning: Could only generate 0/1 valid individuals for initial population.\n",
      "Warning: Could only generate 0/1 valid individuals for initial population.\n",
      "Warning: Could only generate 0/1 valid individuals for initial population.\n",
      "Warning: Could only generate 0/1 valid individuals for initial population.\n",
      "Warning: Could only generate 0/1 valid individuals for initial population.\n",
      "Warning: Could only generate 0/1 valid individuals for initial population.\n",
      "Warning: Could only generate 0/1 valid individuals for initial population.\n",
      "Warning: Could only generate 0/1 valid individuals for initial population.\n",
      "Warning: Could only generate 0/1 valid individuals for initial population.\n",
      "Warning: Could only generate 0/1 valid individuals for initial population.\n",
      "Warning: Could only generate 0/1 valid individuals for initial population.\n",
      "Warning: Could only generate 0/1 valid individuals for initial population.\n",
      "Warning: Could only generate 0/1 valid individuals for initial population.\n"
     ]
    },
    {
     "name": "stdout",
     "output_type": "stream",
     "text": [
      "Warning: Could only generate 0/1 valid individuals for initial population.\n",
      "Warning: Could only generate 0/1 valid individuals for initial population.\n",
      "Warning: Could only generate 0/1 valid individuals for initial population.\n",
      "Warning: Could only generate 0/1 valid individuals for initial population.\n",
      "Warning: Could only generate 0/1 valid individuals for initial population.\n",
      "Warning: Could only generate 0/1 valid individuals for initial population.\n",
      "Warning: Could only generate 0/1 valid individuals for initial population.\n",
      "Warning: Could only generate 0/1 valid individuals for initial population.\n",
      "Warning: Could only generate 0/1 valid individuals for initial population.\n",
      "Warning: Could only generate 0/1 valid individuals for initial population.\n",
      "Warning: Could only generate 0/1 valid individuals for initial population.\n",
      "Warning: Could only generate 0/1 valid individuals for initial population.\n"
     ]
    },
    {
     "name": "stdout",
     "output_type": "stream",
     "text": [
      "Warning: Could only generate 0/1 valid individuals for initial population.\n",
      "Warning: Could only generate 0/1 valid individuals for initial population.\n",
      "Warning: Could only generate 0/1 valid individuals for initial population.\n",
      "Warning: Could only generate 0/1 valid individuals for initial population.\n",
      "Warning: Could only generate 0/1 valid individuals for initial population.\n",
      "Warning: Could only generate 0/1 valid individuals for initial population.\n",
      "Warning: Could only generate 0/1 valid individuals for initial population.\n",
      "Warning: Could only generate 0/1 valid individuals for initial population.\n",
      "Warning: Could only generate 0/1 valid individuals for initial population.\n",
      "Warning: Could only generate 0/1 valid individuals for initial population.\n"
     ]
    },
    {
     "name": "stdout",
     "output_type": "stream",
     "text": [
      "Warning: Could only generate 0/1 valid individuals for initial population.\n",
      "Warning: Could only generate 0/1 valid individuals for initial population.\n",
      "Warning: Could only generate 0/1 valid individuals for initial population.\n",
      "Warning: Could only generate 0/1 valid individuals for initial population.\n",
      "Warning: Could only generate 0/1 valid individuals for initial population.\n",
      "Warning: Could only generate 0/1 valid individuals for initial population.\n",
      "Warning: Could only generate 0/1 valid individuals for initial population.\n",
      "Warning: Could only generate 0/1 valid individuals for initial population.\n",
      "Warning: Could only generate 0/1 valid individuals for initial population.\n",
      "Warning: Could only generate 0/1 valid individuals for initial population.\n",
      "Warning: Could only generate 0/1 valid individuals for initial population.\n"
     ]
    },
    {
     "name": "stdout",
     "output_type": "stream",
     "text": [
      "Warning: Could only generate 0/1 valid individuals for initial population.\n",
      "Warning: Could only generate 0/1 valid individuals for initial population.\n",
      "Warning: Could only generate 0/1 valid individuals for initial population.\n",
      "Warning: Could only generate 0/1 valid individuals for initial population.\n",
      "Warning: Could only generate 0/1 valid individuals for initial population.\n",
      "Warning: Could only generate 0/1 valid individuals for initial population.\n",
      "Warning: Could only generate 0/1 valid individuals for initial population.\n"
     ]
    },
    {
     "name": "stdout",
     "output_type": "stream",
     "text": [
      "Warning: Could only generate 0/1 valid individuals for initial population.\n",
      "Warning: Could only generate 0/1 valid individuals for initial population.\n",
      "Warning: Could only generate 0/1 valid individuals for initial population.\n",
      "Warning: Could only generate 0/1 valid individuals for initial population.\n",
      "Warning: Could only generate 0/1 valid individuals for initial population.\n",
      "Warning: Could only generate 0/1 valid individuals for initial population.\n",
      "Warning: Could only generate 0/1 valid individuals for initial population.\n"
     ]
    },
    {
     "name": "stdout",
     "output_type": "stream",
     "text": [
      "Warning: Could only generate 0/1 valid individuals for initial population.\n",
      "Warning: Could only generate 0/1 valid individuals for initial population.\n",
      "Warning: Could only generate 0/1 valid individuals for initial population.\n",
      "Warning: Could only generate 0/1 valid individuals for initial population.\n",
      "Warning: Could only generate 0/1 valid individuals for initial population.\n",
      "Warning: Could only generate 0/1 valid individuals for initial population.\n",
      "Warning: Could only generate 0/1 valid individuals for initial population.\n",
      "Warning: Could only generate 0/1 valid individuals for initial population.\n",
      "Warning: Could only generate 0/1 valid individuals for initial population.\n",
      "Warning: Could only generate 0/1 valid individuals for initial population.\n",
      "Warning: Could only generate 0/1 valid individuals for initial population.\n"
     ]
    },
    {
     "name": "stdout",
     "output_type": "stream",
     "text": [
      "Warning: Could only generate 0/1 valid individuals for initial population.\n",
      "Warning: Could only generate 0/1 valid individuals for initial population.\n",
      "Warning: Could only generate 0/1 valid individuals for initial population.\n",
      "Warning: Could only generate 0/1 valid individuals for initial population.\n",
      "Warning: Could only generate 0/1 valid individuals for initial population.\n",
      "Warning: Could only generate 0/1 valid individuals for initial population.\n",
      "Warning: Could only generate 0/1 valid individuals for initial population.\n"
     ]
    },
    {
     "name": "stdout",
     "output_type": "stream",
     "text": [
      "Warning: Could only generate 0/1 valid individuals for initial population.\n",
      "Warning: Could only generate 0/1 valid individuals for initial population.\n",
      "Warning: Could only generate 0/1 valid individuals for initial population.\n",
      "Warning: Could only generate 0/1 valid individuals for initial population.\n",
      "Warning: Could only generate 0/1 valid individuals for initial population.\n",
      "Warning: Could only generate 0/1 valid individuals for initial population.\n",
      "Warning: Could only generate 0/1 valid individuals for initial population.\n",
      "Warning: Could only generate 0/1 valid individuals for initial population.\n",
      "Warning: Could only generate 0/1 valid individuals for initial population.\n"
     ]
    },
    {
     "name": "stdout",
     "output_type": "stream",
     "text": [
      "Warning: Could only generate 0/1 valid individuals for initial population.\n",
      "Warning: Could only generate 0/1 valid individuals for initial population.\n",
      "Warning: Could only generate 0/1 valid individuals for initial population.\n",
      "Warning: Could only generate 0/1 valid individuals for initial population.\n",
      "Warning: Could only generate 0/1 valid individuals for initial population.\n",
      "Warning: Could only generate 0/1 valid individuals for initial population.\n",
      "Warning: Could only generate 0/1 valid individuals for initial population.\n",
      "Warning: Could only generate 0/1 valid individuals for initial population.\n",
      "Warning: Could only generate 0/1 valid individuals for initial population.\n",
      "Warning: Could only generate 0/1 valid individuals for initial population.\n"
     ]
    },
    {
     "name": "stdout",
     "output_type": "stream",
     "text": [
      "Warning: Could only generate 0/1 valid individuals for initial population.\n",
      "Warning: Could only generate 0/1 valid individuals for initial population.\n",
      "Warning: Could only generate 0/1 valid individuals for initial population.\n",
      "Warning: Could only generate 0/1 valid individuals for initial population.\n",
      "Warning: Could only generate 0/1 valid individuals for initial population.\n",
      "Warning: Could only generate 0/1 valid individuals for initial population.\n",
      "Warning: Could only generate 0/1 valid individuals for initial population.\n",
      "Warning: Could only generate 0/1 valid individuals for initial population.\n",
      "Warning: Could only generate 0/1 valid individuals for initial population.\n",
      "Warning: Could only generate 0/1 valid individuals for initial population.\n",
      "Warning: Could only generate 0/1 valid individuals for initial population.\n",
      "Warning: Could only generate 0/1 valid individuals for initial population.\n",
      "Warning: Could only generate 0/1 valid individuals for initial population.\n",
      "Warning: Could only generate 0/1 valid individuals for initial population.\n"
     ]
    },
    {
     "name": "stdout",
     "output_type": "stream",
     "text": [
      "Warning: Could only generate 0/1 valid individuals for initial population.\n",
      "Warning: Could only generate 0/1 valid individuals for initial population.\n",
      "Warning: Could only generate 0/1 valid individuals for initial population.\n",
      "Warning: Could only generate 0/1 valid individuals for initial population.\n",
      "Warning: Could only generate 0/1 valid individuals for initial population.\n",
      "Warning: Could only generate 0/1 valid individuals for initial population.\n",
      "Warning: Could only generate 0/1 valid individuals for initial population.\n",
      "Warning: Could only generate 0/1 valid individuals for initial population.\n",
      "Warning: Could only generate 0/1 valid individuals for initial population.\n",
      "Warning: Could only generate 0/1 valid individuals for initial population.\n"
     ]
    },
    {
     "name": "stdout",
     "output_type": "stream",
     "text": [
      "Warning: Could only generate 0/1 valid individuals for initial population.\n",
      "Warning: Could only generate 0/1 valid individuals for initial population.\n",
      "Warning: Could only generate 0/1 valid individuals for initial population.\n",
      "Warning: Could only generate 0/1 valid individuals for initial population.\n",
      "Warning: Could only generate 0/1 valid individuals for initial population.\n",
      "Warning: Could only generate 0/1 valid individuals for initial population.\n",
      "Warning: Could only generate 0/1 valid individuals for initial population.\n",
      "Warning: Could only generate 0/1 valid individuals for initial population.\n",
      "Warning: Could only generate 0/1 valid individuals for initial population.\n",
      "Warning: Could only generate 0/1 valid individuals for initial population.\n",
      "Warning: Could only generate 0/1 valid individuals for initial population.\n",
      "Warning: Could only generate 0/1 valid individuals for initial population.\n",
      "Warning: Could only generate 0/1 valid individuals for initial population.\n"
     ]
    },
    {
     "name": "stdout",
     "output_type": "stream",
     "text": [
      "Warning: Could only generate 0/1 valid individuals for initial population.\n",
      "Warning: Could only generate 0/1 valid individuals for initial population.\n",
      "Warning: Could only generate 0/1 valid individuals for initial population.\n",
      "Warning: Could only generate 0/1 valid individuals for initial population.\n",
      "Warning: Could only generate 0/1 valid individuals for initial population.\n",
      "Warning: Could only generate 0/1 valid individuals for initial population.\n",
      "Warning: Could only generate 0/1 valid individuals for initial population.\n",
      "Warning: Could only generate 0/1 valid individuals for initial population.\n",
      "Warning: Could only generate 0/1 valid individuals for initial population.\n",
      "Warning: Could only generate 0/1 valid individuals for initial population.\n",
      "Warning: Could only generate 0/1 valid individuals for initial population.\n",
      "Warning: Could only generate 0/1 valid individuals for initial population.\n"
     ]
    },
    {
     "name": "stdout",
     "output_type": "stream",
     "text": [
      "Warning: Could only generate 0/1 valid individuals for initial population.\n",
      "Warning: Could only generate 0/1 valid individuals for initial population.\n",
      "Warning: Could only generate 0/1 valid individuals for initial population.\n",
      "Warning: Could only generate 0/1 valid individuals for initial population.\n",
      "Warning: Could only generate 0/1 valid individuals for initial population.\n",
      "Warning: Could only generate 0/1 valid individuals for initial population.\n",
      "Warning: Could only generate 0/1 valid individuals for initial population.\n",
      "Warning: Could only generate 0/1 valid individuals for initial population.\n"
     ]
    },
    {
     "name": "stdout",
     "output_type": "stream",
     "text": [
      "Warning: Could only generate 0/1 valid individuals for initial population.\n",
      "Warning: Could only generate 0/1 valid individuals for initial population.\n",
      "Warning: Could only generate 0/1 valid individuals for initial population.\n",
      "Warning: Could only generate 0/1 valid individuals for initial population.\n",
      "Warning: Could only generate 0/1 valid individuals for initial population.\n",
      "Warning: Could only generate 0/1 valid individuals for initial population.\n",
      "Warning: Could only generate 0/1 valid individuals for initial population.\n",
      "Warning: Could only generate 0/1 valid individuals for initial population.\n",
      "Warning: Could only generate 0/1 valid individuals for initial population.\n",
      "Warning: Could only generate 0/1 valid individuals for initial population.\n",
      "Warning: Could only generate 0/1 valid individuals for initial population.\n",
      "Warning: Could only generate 0/1 valid individuals for initial population.\n"
     ]
    },
    {
     "name": "stdout",
     "output_type": "stream",
     "text": [
      "Warning: Could only generate 0/1 valid individuals for initial population.\n",
      "Warning: Could only generate 0/1 valid individuals for initial population.\n",
      "Warning: Could only generate 0/1 valid individuals for initial population.\n",
      "Warning: Could only generate 0/1 valid individuals for initial population.\n",
      "Warning: Could only generate 0/1 valid individuals for initial population.\n",
      "Warning: Could only generate 0/1 valid individuals for initial population.\n",
      "Warning: Could only generate 0/1 valid individuals for initial population.\n",
      "Warning: Could only generate 0/1 valid individuals for initial population.\n",
      "Warning: Could only generate 0/1 valid individuals for initial population.\n"
     ]
    },
    {
     "name": "stdout",
     "output_type": "stream",
     "text": [
      "Warning: Could only generate 0/1 valid individuals for initial population.\n",
      "Warning: Could only generate 0/1 valid individuals for initial population.\n",
      "Warning: Could only generate 0/1 valid individuals for initial population.\n",
      "Warning: Could only generate 0/1 valid individuals for initial population.\n",
      "Warning: Could only generate 0/1 valid individuals for initial population.\n",
      "Warning: Could only generate 0/1 valid individuals for initial population.\n",
      "Warning: Could only generate 0/1 valid individuals for initial population.\n",
      "Warning: Could only generate 0/1 valid individuals for initial population.\n",
      "Warning: Could only generate 0/1 valid individuals for initial population.\n",
      "Warning: Could only generate 0/1 valid individuals for initial population.\n",
      "Warning: Could only generate 0/1 valid individuals for initial population.\n"
     ]
    },
    {
     "name": "stdout",
     "output_type": "stream",
     "text": [
      "Warning: Could only generate 0/1 valid individuals for initial population.\n",
      "Warning: Could only generate 0/1 valid individuals for initial population.\n",
      "Warning: Could only generate 0/1 valid individuals for initial population.\n",
      "Warning: Could only generate 0/1 valid individuals for initial population.\n",
      "Warning: Could only generate 0/1 valid individuals for initial population.\n",
      "Warning: Could only generate 0/1 valid individuals for initial population.\n",
      "Warning: Could only generate 0/1 valid individuals for initial population.\n",
      "Warning: Could only generate 0/1 valid individuals for initial population.\n",
      "Warning: Could only generate 0/1 valid individuals for initial population.\n",
      "Warning: Could only generate 0/1 valid individuals for initial population.\n",
      "Warning: Could only generate 0/1 valid individuals for initial population.\n"
     ]
    },
    {
     "name": "stdout",
     "output_type": "stream",
     "text": [
      "Warning: Could only generate 0/1 valid individuals for initial population.\n",
      "Warning: Could only generate 0/1 valid individuals for initial population.\n",
      "Warning: Could only generate 0/1 valid individuals for initial population.\n",
      "Warning: Could only generate 0/1 valid individuals for initial population.\n",
      "Warning: Could only generate 0/1 valid individuals for initial population.\n",
      "Warning: Could only generate 0/1 valid individuals for initial population.\n",
      "Warning: Could only generate 0/1 valid individuals for initial population.\n",
      "Warning: Could only generate 0/1 valid individuals for initial population.\n",
      "Warning: Could only generate 0/1 valid individuals for initial population.\n",
      "Warning: Could only generate 0/1 valid individuals for initial population.\n"
     ]
    },
    {
     "name": "stdout",
     "output_type": "stream",
     "text": [
      "Warning: Could only generate 0/1 valid individuals for initial population.\n",
      "Warning: Could only generate 0/1 valid individuals for initial population.\n",
      "Warning: Could only generate 0/1 valid individuals for initial population.\n",
      "Warning: Could only generate 0/1 valid individuals for initial population.\n",
      "Warning: Could only generate 0/1 valid individuals for initial population.\n",
      "Warning: Could only generate 0/1 valid individuals for initial population.\n",
      "Warning: Could only generate 0/1 valid individuals for initial population.\n",
      "Warning: Could only generate 0/1 valid individuals for initial population.\n",
      "Warning: Could only generate 0/1 valid individuals for initial population.\n",
      "Warning: Could only generate 0/1 valid individuals for initial population.\n"
     ]
    },
    {
     "name": "stdout",
     "output_type": "stream",
     "text": [
      "Warning: Could only generate 0/1 valid individuals for initial population.\n",
      "Warning: Could only generate 0/1 valid individuals for initial population.\n",
      "Warning: Could only generate 0/1 valid individuals for initial population.\n",
      "Warning: Could only generate 0/1 valid individuals for initial population.\n",
      "Warning: Could only generate 0/1 valid individuals for initial population.\n",
      "Warning: Could only generate 0/1 valid individuals for initial population.\n"
     ]
    },
    {
     "name": "stdout",
     "output_type": "stream",
     "text": [
      "Warning: Could only generate 0/1 valid individuals for initial population.\n",
      "Warning: Could only generate 0/1 valid individuals for initial population.\n"
     ]
    },
    {
     "name": "stdout",
     "output_type": "stream",
     "text": [
      "Warning: Could only generate 0/1 valid individuals for initial population.\n"
     ]
    },
    {
     "name": "stdout",
     "output_type": "stream",
     "text": [
      "Warning: Could only generate 0/1 valid individuals for initial population.\n"
     ]
    },
    {
     "name": "stdout",
     "output_type": "stream",
     "text": [
      "Warning: Could only generate 0/1 valid individuals for initial population.\n"
     ]
    },
    {
     "name": "stdout",
     "output_type": "stream",
     "text": [
      "Warning: Could only generate 0/1 valid individuals for initial population.\n"
     ]
    },
    {
     "name": "stdout",
     "output_type": "stream",
     "text": [
      "  GA_Config_2 (TargetExch,UnifPreferV,Ranking) - Run 7/30...\n",
      "Warning: Could only generate 0/50 valid individuals for initial population.\n",
      "Error: Initial population is empty. GA cannot proceed.\n",
      "    GA_Config_2 (TargetExch,UnifPreferV,Ranking) - Run 7 failed to produce a solution.\n",
      "  GA_Config_2 (TargetExch,UnifPreferV,Ranking) - Run 8/30...\n",
      "Warning: Could only generate 0/50 valid individuals for initial population.\n",
      "Error: Initial population is empty. GA cannot proceed.\n",
      "    GA_Config_2 (TargetExch,UnifPreferV,Ranking) - Run 8 failed to produce a solution.\n",
      "  GA_Config_2 (TargetExch,UnifPreferV,Ranking) - Run 9/30...\n"
     ]
    },
    {
     "name": "stdout",
     "output_type": "stream",
     "text": [
      "Warning: Could only generate 0/50 valid individuals for initial population.\n",
      "Error: Initial population is empty. GA cannot proceed.\n",
      "    GA_Config_2 (TargetExch,UnifPreferV,Ranking) - Run 9 failed to produce a solution.\n",
      "  GA_Config_2 (TargetExch,UnifPreferV,Ranking) - Run 10/30...\n",
      "Warning: Could only generate 0/50 valid individuals for initial population.\n",
      "Error: Initial population is empty. GA cannot proceed.\n",
      "    GA_Config_2 (TargetExch,UnifPreferV,Ranking) - Run 10 failed to produce a solution.\n",
      "  GA_Config_2 (TargetExch,UnifPreferV,Ranking) - Run 11/30...\n",
      "Warning: Could only generate 0/50 valid individuals for initial population.\n",
      "Error: Initial population is empty. GA cannot proceed.\n",
      "    GA_Config_2 (TargetExch,UnifPreferV,Ranking) - Run 11 failed to produce a solution.\n",
      "  GA_Config_2 (TargetExch,UnifPreferV,Ranking) - Run 12/30...\n"
     ]
    },
    {
     "name": "stdout",
     "output_type": "stream",
     "text": [
      "Warning: Could only generate 0/50 valid individuals for initial population.\n",
      "Error: Initial population is empty. GA cannot proceed.\n",
      "    GA_Config_2 (TargetExch,UnifPreferV,Ranking) - Run 12 failed to produce a solution.\n",
      "  GA_Config_2 (TargetExch,UnifPreferV,Ranking) - Run 13/30...\n",
      "Warning: Could only generate 0/50 valid individuals for initial population.\n",
      "Error: Initial population is empty. GA cannot proceed.\n",
      "    GA_Config_2 (TargetExch,UnifPreferV,Ranking) - Run 13 failed to produce a solution.\n",
      "  GA_Config_2 (TargetExch,UnifPreferV,Ranking) - Run 14/30...\n"
     ]
    },
    {
     "name": "stdout",
     "output_type": "stream",
     "text": [
      "Warning: Could only generate 0/50 valid individuals for initial population.\n",
      "Error: Initial population is empty. GA cannot proceed.\n",
      "    GA_Config_2 (TargetExch,UnifPreferV,Ranking) - Run 14 failed to produce a solution.\n",
      "  GA_Config_2 (TargetExch,UnifPreferV,Ranking) - Run 15/30...\n",
      "Warning: Could only generate 0/50 valid individuals for initial population.\n",
      "Error: Initial population is empty. GA cannot proceed.\n",
      "    GA_Config_2 (TargetExch,UnifPreferV,Ranking) - Run 15 failed to produce a solution.\n",
      "  GA_Config_2 (TargetExch,UnifPreferV,Ranking) - Run 16/30...\n",
      "Warning: Could only generate 0/50 valid individuals for initial population.\n",
      "Error: Initial population is empty. GA cannot proceed.\n",
      "    GA_Config_2 (TargetExch,UnifPreferV,Ranking) - Run 16 failed to produce a solution.\n",
      "  GA_Config_2 (TargetExch,UnifPreferV,Ranking) - Run 17/30...\n"
     ]
    },
    {
     "name": "stdout",
     "output_type": "stream",
     "text": [
      "Warning: Could only generate 0/50 valid individuals for initial population.\n",
      "Error: Initial population is empty. GA cannot proceed.\n",
      "    GA_Config_2 (TargetExch,UnifPreferV,Ranking) - Run 17 failed to produce a solution.\n",
      "  GA_Config_2 (TargetExch,UnifPreferV,Ranking) - Run 18/30...\n",
      "Warning: Could only generate 0/50 valid individuals for initial population.\n",
      "Error: Initial population is empty. GA cannot proceed.\n",
      "    GA_Config_2 (TargetExch,UnifPreferV,Ranking) - Run 18 failed to produce a solution.\n",
      "  GA_Config_2 (TargetExch,UnifPreferV,Ranking) - Run 19/30...\n"
     ]
    },
    {
     "name": "stdout",
     "output_type": "stream",
     "text": [
      "Warning: Could only generate 0/50 valid individuals for initial population.\n",
      "Error: Initial population is empty. GA cannot proceed.\n",
      "    GA_Config_2 (TargetExch,UnifPreferV,Ranking) - Run 19 failed to produce a solution.\n",
      "  GA_Config_2 (TargetExch,UnifPreferV,Ranking) - Run 20/30...\n",
      "Warning: Could only generate 0/50 valid individuals for initial population.\n",
      "Error: Initial population is empty. GA cannot proceed.\n",
      "    GA_Config_2 (TargetExch,UnifPreferV,Ranking) - Run 20 failed to produce a solution.\n",
      "  GA_Config_2 (TargetExch,UnifPreferV,Ranking) - Run 21/30...\n",
      "Warning: Could only generate 0/50 valid individuals for initial population.\n",
      "Error: Initial population is empty. GA cannot proceed.\n",
      "    GA_Config_2 (TargetExch,UnifPreferV,Ranking) - Run 21 failed to produce a solution.\n",
      "  GA_Config_2 (TargetExch,UnifPreferV,Ranking) - Run 22/30...\n"
     ]
    },
    {
     "name": "stdout",
     "output_type": "stream",
     "text": [
      "Warning: Could only generate 1/50 valid individuals for initial population.\n"
     ]
    },
    {
     "name": "stdout",
     "output_type": "stream",
     "text": [
      "Warning: Could only generate 0/1 valid individuals for initial population.\n",
      "Warning: Could only generate 0/1 valid individuals for initial population.\n",
      "Warning: Could only generate 0/1 valid individuals for initial population.\n",
      "Warning: Could only generate 0/1 valid individuals for initial population.\n"
     ]
    },
    {
     "name": "stdout",
     "output_type": "stream",
     "text": [
      "Warning: Could only generate 0/1 valid individuals for initial population.\n",
      "Warning: Could only generate 0/1 valid individuals for initial population.\n",
      "Warning: Could only generate 0/1 valid individuals for initial population.\n",
      "Warning: Could only generate 0/1 valid individuals for initial population.\n",
      "Warning: Could only generate 0/1 valid individuals for initial population.\n"
     ]
    },
    {
     "name": "stdout",
     "output_type": "stream",
     "text": [
      "Warning: Could only generate 0/1 valid individuals for initial population.\n",
      "Warning: Could only generate 0/1 valid individuals for initial population.\n",
      "Warning: Could only generate 0/1 valid individuals for initial population.\n",
      "Warning: Could only generate 0/1 valid individuals for initial population.\n",
      "Warning: Could only generate 0/1 valid individuals for initial population.\n",
      "Warning: Could only generate 0/1 valid individuals for initial population.\n"
     ]
    },
    {
     "name": "stdout",
     "output_type": "stream",
     "text": [
      "Warning: Could only generate 0/1 valid individuals for initial population.\n",
      "Warning: Could only generate 0/1 valid individuals for initial population.\n",
      "Warning: Could only generate 0/1 valid individuals for initial population.\n",
      "Warning: Could only generate 0/1 valid individuals for initial population.\n"
     ]
    },
    {
     "name": "stdout",
     "output_type": "stream",
     "text": [
      "Warning: Could only generate 0/1 valid individuals for initial population.\n",
      "Warning: Could only generate 0/1 valid individuals for initial population.\n",
      "Warning: Could only generate 0/1 valid individuals for initial population.\n",
      "Warning: Could only generate 0/1 valid individuals for initial population.\n",
      "Warning: Could only generate 0/1 valid individuals for initial population.\n",
      "Warning: Could only generate 0/1 valid individuals for initial population.\n",
      "Warning: Could only generate 0/1 valid individuals for initial population.\n"
     ]
    },
    {
     "name": "stdout",
     "output_type": "stream",
     "text": [
      "Warning: Could only generate 0/1 valid individuals for initial population.\n",
      "Warning: Could only generate 0/1 valid individuals for initial population.\n",
      "Warning: Could only generate 0/1 valid individuals for initial population.\n"
     ]
    },
    {
     "name": "stdout",
     "output_type": "stream",
     "text": [
      "Warning: Could only generate 0/1 valid individuals for initial population.\n",
      "Warning: Could only generate 0/1 valid individuals for initial population.\n",
      "Warning: Could only generate 0/1 valid individuals for initial population.\n",
      "Warning: Could only generate 0/1 valid individuals for initial population.\n",
      "Warning: Could only generate 0/1 valid individuals for initial population.\n",
      "Warning: Could only generate 0/1 valid individuals for initial population.\n"
     ]
    },
    {
     "name": "stdout",
     "output_type": "stream",
     "text": [
      "Warning: Could only generate 0/1 valid individuals for initial population.\n",
      "Warning: Could only generate 0/1 valid individuals for initial population.\n",
      "Warning: Could only generate 0/1 valid individuals for initial population.\n",
      "Warning: Could only generate 0/1 valid individuals for initial population.\n",
      "Warning: Could only generate 0/1 valid individuals for initial population.\n"
     ]
    },
    {
     "name": "stdout",
     "output_type": "stream",
     "text": [
      "Warning: Could only generate 0/1 valid individuals for initial population.\n"
     ]
    },
    {
     "name": "stdout",
     "output_type": "stream",
     "text": [
      "Warning: Could only generate 0/1 valid individuals for initial population.\n",
      "Warning: Could only generate 0/1 valid individuals for initial population.\n",
      "Warning: Could only generate 0/1 valid individuals for initial population.\n",
      "Warning: Could only generate 0/1 valid individuals for initial population.\n"
     ]
    },
    {
     "name": "stdout",
     "output_type": "stream",
     "text": [
      "Warning: Could only generate 0/1 valid individuals for initial population.\n",
      "Warning: Could only generate 0/1 valid individuals for initial population.\n",
      "Warning: Could only generate 0/1 valid individuals for initial population.\n",
      "Warning: Could only generate 0/1 valid individuals for initial population.\n"
     ]
    },
    {
     "name": "stdout",
     "output_type": "stream",
     "text": [
      "Warning: Could only generate 0/1 valid individuals for initial population.\n",
      "Warning: Could only generate 0/1 valid individuals for initial population.\n",
      "Warning: Could only generate 0/1 valid individuals for initial population.\n",
      "Warning: Could only generate 0/1 valid individuals for initial population.\n",
      "Warning: Could only generate 0/1 valid individuals for initial population.\n"
     ]
    },
    {
     "name": "stdout",
     "output_type": "stream",
     "text": [
      "Warning: Could only generate 0/1 valid individuals for initial population.\n",
      "Warning: Could only generate 0/1 valid individuals for initial population.\n",
      "Warning: Could only generate 0/1 valid individuals for initial population.\n",
      "Warning: Could only generate 0/1 valid individuals for initial population.\n",
      "Warning: Could only generate 0/1 valid individuals for initial population.\n",
      "Warning: Could only generate 0/1 valid individuals for initial population.\n"
     ]
    },
    {
     "name": "stdout",
     "output_type": "stream",
     "text": [
      "Warning: Could only generate 0/1 valid individuals for initial population.\n",
      "Warning: Could only generate 0/1 valid individuals for initial population.\n",
      "Warning: Could only generate 0/1 valid individuals for initial population.\n",
      "Warning: Could only generate 0/1 valid individuals for initial population.\n",
      "Warning: Could only generate 0/1 valid individuals for initial population.\n"
     ]
    },
    {
     "name": "stdout",
     "output_type": "stream",
     "text": [
      "Warning: Could only generate 0/1 valid individuals for initial population.\n",
      "Warning: Could only generate 0/1 valid individuals for initial population.\n",
      "Warning: Could only generate 0/1 valid individuals for initial population.\n",
      "Warning: Could only generate 0/1 valid individuals for initial population.\n",
      "Warning: Could only generate 0/1 valid individuals for initial population.\n"
     ]
    },
    {
     "name": "stdout",
     "output_type": "stream",
     "text": [
      "Warning: Could only generate 0/1 valid individuals for initial population.\n",
      "Warning: Could only generate 0/1 valid individuals for initial population.\n",
      "Warning: Could only generate 0/1 valid individuals for initial population.\n",
      "Warning: Could only generate 0/1 valid individuals for initial population.\n",
      "Warning: Could only generate 0/1 valid individuals for initial population.\n"
     ]
    },
    {
     "name": "stdout",
     "output_type": "stream",
     "text": [
      "Warning: Could only generate 0/1 valid individuals for initial population.\n",
      "Warning: Could only generate 0/1 valid individuals for initial population.\n",
      "Warning: Could only generate 0/1 valid individuals for initial population.\n",
      "Warning: Could only generate 0/1 valid individuals for initial population.\n"
     ]
    },
    {
     "name": "stdout",
     "output_type": "stream",
     "text": [
      "Warning: Could only generate 0/1 valid individuals for initial population.\n",
      "Warning: Could only generate 0/1 valid individuals for initial population.\n",
      "Warning: Could only generate 0/1 valid individuals for initial population.\n",
      "Warning: Could only generate 0/1 valid individuals for initial population.\n"
     ]
    },
    {
     "name": "stdout",
     "output_type": "stream",
     "text": [
      "Warning: Could only generate 0/1 valid individuals for initial population.\n",
      "Warning: Could only generate 0/1 valid individuals for initial population.\n",
      "Warning: Could only generate 0/1 valid individuals for initial population.\n",
      "Warning: Could only generate 0/1 valid individuals for initial population.\n",
      "Warning: Could only generate 0/1 valid individuals for initial population.\n",
      "Warning: Could only generate 0/1 valid individuals for initial population.\n",
      "Warning: Could only generate 0/1 valid individuals for initial population.\n"
     ]
    },
    {
     "name": "stdout",
     "output_type": "stream",
     "text": [
      "Warning: Could only generate 0/1 valid individuals for initial population.\n",
      "Warning: Could only generate 0/1 valid individuals for initial population.\n",
      "Warning: Could only generate 0/1 valid individuals for initial population.\n",
      "Warning: Could only generate 0/1 valid individuals for initial population.\n",
      "Warning: Could only generate 0/1 valid individuals for initial population.\n"
     ]
    },
    {
     "name": "stdout",
     "output_type": "stream",
     "text": [
      "Warning: Could only generate 0/1 valid individuals for initial population.\n",
      "Warning: Could only generate 0/1 valid individuals for initial population.\n",
      "Warning: Could only generate 0/1 valid individuals for initial population.\n",
      "Warning: Could only generate 0/1 valid individuals for initial population.\n",
      "Warning: Could only generate 0/1 valid individuals for initial population.\n",
      "Warning: Could only generate 0/1 valid individuals for initial population.\n",
      "Warning: Could only generate 0/1 valid individuals for initial population.\n"
     ]
    },
    {
     "name": "stdout",
     "output_type": "stream",
     "text": [
      "Warning: Could only generate 0/1 valid individuals for initial population.\n",
      "Warning: Could only generate 0/1 valid individuals for initial population.\n",
      "Warning: Could only generate 0/1 valid individuals for initial population.\n",
      "Warning: Could only generate 0/1 valid individuals for initial population.\n",
      "Warning: Could only generate 0/1 valid individuals for initial population.\n"
     ]
    },
    {
     "name": "stdout",
     "output_type": "stream",
     "text": [
      "Warning: Could only generate 0/1 valid individuals for initial population.\n",
      "Warning: Could only generate 0/1 valid individuals for initial population.\n",
      "Warning: Could only generate 0/1 valid individuals for initial population.\n",
      "Warning: Could only generate 0/1 valid individuals for initial population.\n",
      "Warning: Could only generate 0/1 valid individuals for initial population.\n"
     ]
    },
    {
     "name": "stdout",
     "output_type": "stream",
     "text": [
      "Warning: Could only generate 0/1 valid individuals for initial population.\n",
      "Warning: Could only generate 0/1 valid individuals for initial population.\n",
      "Warning: Could only generate 0/1 valid individuals for initial population.\n",
      "Warning: Could only generate 0/1 valid individuals for initial population.\n",
      "Warning: Could only generate 0/1 valid individuals for initial population.\n"
     ]
    },
    {
     "name": "stdout",
     "output_type": "stream",
     "text": [
      "Warning: Could only generate 0/1 valid individuals for initial population.\n",
      "Warning: Could only generate 0/1 valid individuals for initial population.\n",
      "Warning: Could only generate 0/1 valid individuals for initial population.\n",
      "Warning: Could only generate 0/1 valid individuals for initial population.\n",
      "Warning: Could only generate 0/1 valid individuals for initial population.\n"
     ]
    },
    {
     "name": "stdout",
     "output_type": "stream",
     "text": [
      "Warning: Could only generate 0/1 valid individuals for initial population.\n",
      "Warning: Could only generate 0/1 valid individuals for initial population.\n",
      "Warning: Could only generate 0/1 valid individuals for initial population.\n",
      "Warning: Could only generate 0/1 valid individuals for initial population.\n"
     ]
    },
    {
     "name": "stdout",
     "output_type": "stream",
     "text": [
      "Warning: Could only generate 0/1 valid individuals for initial population.\n",
      "Warning: Could only generate 0/1 valid individuals for initial population.\n",
      "Warning: Could only generate 0/1 valid individuals for initial population.\n",
      "Warning: Could only generate 0/1 valid individuals for initial population.\n"
     ]
    },
    {
     "name": "stdout",
     "output_type": "stream",
     "text": [
      "Warning: Could only generate 0/1 valid individuals for initial population.\n",
      "Warning: Could only generate 0/1 valid individuals for initial population.\n",
      "Warning: Could only generate 0/1 valid individuals for initial population.\n"
     ]
    },
    {
     "name": "stdout",
     "output_type": "stream",
     "text": [
      "Warning: Could only generate 0/1 valid individuals for initial population.\n",
      "Warning: Could only generate 0/1 valid individuals for initial population.\n",
      "Warning: Could only generate 0/1 valid individuals for initial population.\n"
     ]
    },
    {
     "name": "stdout",
     "output_type": "stream",
     "text": [
      "Warning: Could only generate 0/1 valid individuals for initial population.\n",
      "Warning: Could only generate 0/1 valid individuals for initial population.\n",
      "Warning: Could only generate 0/1 valid individuals for initial population.\n",
      "Warning: Could only generate 0/1 valid individuals for initial population.\n"
     ]
    },
    {
     "name": "stdout",
     "output_type": "stream",
     "text": [
      "Warning: Could only generate 0/1 valid individuals for initial population.\n",
      "Warning: Could only generate 0/1 valid individuals for initial population.\n",
      "Warning: Could only generate 0/1 valid individuals for initial population.\n",
      "Warning: Could only generate 0/1 valid individuals for initial population.\n"
     ]
    },
    {
     "name": "stdout",
     "output_type": "stream",
     "text": [
      "Warning: Could only generate 0/1 valid individuals for initial population.\n"
     ]
    },
    {
     "name": "stdout",
     "output_type": "stream",
     "text": [
      "Warning: Could only generate 0/1 valid individuals for initial population.\n",
      "Warning: Could only generate 0/1 valid individuals for initial population.\n",
      "Warning: Could only generate 0/1 valid individuals for initial population.\n"
     ]
    },
    {
     "name": "stdout",
     "output_type": "stream",
     "text": [
      "Warning: Could only generate 0/1 valid individuals for initial population.\n",
      "Warning: Could only generate 0/1 valid individuals for initial population.\n",
      "Warning: Could only generate 0/1 valid individuals for initial population.\n",
      "Warning: Could only generate 0/1 valid individuals for initial population.\n"
     ]
    },
    {
     "name": "stdout",
     "output_type": "stream",
     "text": [
      "Warning: Could only generate 0/1 valid individuals for initial population.\n"
     ]
    },
    {
     "name": "stdout",
     "output_type": "stream",
     "text": [
      "Warning: Could only generate 0/1 valid individuals for initial population.\n",
      "Warning: Could only generate 0/1 valid individuals for initial population.\n",
      "Warning: Could only generate 0/1 valid individuals for initial population.\n",
      "Warning: Could only generate 0/1 valid individuals for initial population.\n",
      "Warning: Could only generate 0/1 valid individuals for initial population.\n"
     ]
    },
    {
     "name": "stdout",
     "output_type": "stream",
     "text": [
      "Warning: Could only generate 0/1 valid individuals for initial population.\n",
      "Warning: Could only generate 0/1 valid individuals for initial population.\n",
      "Warning: Could only generate 0/1 valid individuals for initial population.\n"
     ]
    },
    {
     "name": "stdout",
     "output_type": "stream",
     "text": [
      "Warning: Could only generate 0/1 valid individuals for initial population.\n"
     ]
    },
    {
     "name": "stdout",
     "output_type": "stream",
     "text": [
      "Warning: Could only generate 0/1 valid individuals for initial population.\n"
     ]
    },
    {
     "name": "stdout",
     "output_type": "stream",
     "text": [
      "Warning: Could only generate 0/1 valid individuals for initial population.\n"
     ]
    },
    {
     "name": "stdout",
     "output_type": "stream",
     "text": [
      "  GA_Config_2 (TargetExch,UnifPreferV,Ranking) - Run 23/30...\n",
      "Warning: Could only generate 0/50 valid individuals for initial population.\n",
      "Error: Initial population is empty. GA cannot proceed.\n",
      "    GA_Config_2 (TargetExch,UnifPreferV,Ranking) - Run 23 failed to produce a solution.\n",
      "  GA_Config_2 (TargetExch,UnifPreferV,Ranking) - Run 24/30...\n",
      "Warning: Could only generate 0/50 valid individuals for initial population.\n",
      "Error: Initial population is empty. GA cannot proceed.\n",
      "    GA_Config_2 (TargetExch,UnifPreferV,Ranking) - Run 24 failed to produce a solution.\n",
      "  GA_Config_2 (TargetExch,UnifPreferV,Ranking) - Run 25/30...\n"
     ]
    },
    {
     "name": "stdout",
     "output_type": "stream",
     "text": [
      "Warning: Could only generate 0/50 valid individuals for initial population.\n",
      "Error: Initial population is empty. GA cannot proceed.\n",
      "    GA_Config_2 (TargetExch,UnifPreferV,Ranking) - Run 25 failed to produce a solution.\n",
      "  GA_Config_2 (TargetExch,UnifPreferV,Ranking) - Run 26/30...\n",
      "Warning: Could only generate 0/50 valid individuals for initial population.\n",
      "Error: Initial population is empty. GA cannot proceed.\n",
      "    GA_Config_2 (TargetExch,UnifPreferV,Ranking) - Run 26 failed to produce a solution.\n",
      "  GA_Config_2 (TargetExch,UnifPreferV,Ranking) - Run 27/30...\n",
      "Warning: Could only generate 1/50 valid individuals for initial population.\n"
     ]
    },
    {
     "name": "stdout",
     "output_type": "stream",
     "text": [
      "Warning: Could only generate 0/1 valid individuals for initial population.\n"
     ]
    },
    {
     "name": "stdout",
     "output_type": "stream",
     "text": [
      "Warning: Could only generate 0/1 valid individuals for initial population.\n",
      "Warning: Could only generate 0/1 valid individuals for initial population.\n",
      "Warning: Could only generate 0/1 valid individuals for initial population.\n",
      "Warning: Could only generate 0/1 valid individuals for initial population.\n"
     ]
    },
    {
     "name": "stdout",
     "output_type": "stream",
     "text": [
      "Warning: Could only generate 0/1 valid individuals for initial population.\n",
      "Warning: Could only generate 0/1 valid individuals for initial population.\n"
     ]
    },
    {
     "name": "stdout",
     "output_type": "stream",
     "text": [
      "Warning: Could only generate 0/1 valid individuals for initial population.\n"
     ]
    },
    {
     "name": "stdout",
     "output_type": "stream",
     "text": [
      "Warning: Could only generate 0/1 valid individuals for initial population.\n",
      "Warning: Could only generate 0/1 valid individuals for initial population.\n"
     ]
    },
    {
     "name": "stdout",
     "output_type": "stream",
     "text": [
      "Warning: Could only generate 0/1 valid individuals for initial population.\n",
      "Warning: Could only generate 0/1 valid individuals for initial population.\n",
      "Warning: Could only generate 0/1 valid individuals for initial population.\n",
      "Warning: Could only generate 0/1 valid individuals for initial population.\n",
      "Warning: Could only generate 0/1 valid individuals for initial population.\n",
      "Warning: Could only generate 0/1 valid individuals for initial population.\n"
     ]
    },
    {
     "name": "stdout",
     "output_type": "stream",
     "text": [
      "Warning: Could only generate 0/1 valid individuals for initial population.\n"
     ]
    },
    {
     "name": "stdout",
     "output_type": "stream",
     "text": [
      "Warning: Could only generate 0/1 valid individuals for initial population.\n",
      "Warning: Could only generate 0/1 valid individuals for initial population.\n",
      "Warning: Could only generate 0/1 valid individuals for initial population.\n",
      "Warning: Could only generate 0/1 valid individuals for initial population.\n"
     ]
    },
    {
     "name": "stdout",
     "output_type": "stream",
     "text": [
      "Warning: Could only generate 0/1 valid individuals for initial population.\n"
     ]
    },
    {
     "name": "stdout",
     "output_type": "stream",
     "text": [
      "Warning: Could only generate 0/1 valid individuals for initial population.\n",
      "Warning: Could only generate 0/1 valid individuals for initial population.\n"
     ]
    },
    {
     "name": "stdout",
     "output_type": "stream",
     "text": [
      "Warning: Could only generate 0/1 valid individuals for initial population.\n"
     ]
    },
    {
     "name": "stdout",
     "output_type": "stream",
     "text": [
      "Warning: Could only generate 0/1 valid individuals for initial population.\n",
      "Warning: Could only generate 0/1 valid individuals for initial population.\n"
     ]
    },
    {
     "name": "stdout",
     "output_type": "stream",
     "text": [
      "Warning: Could only generate 0/1 valid individuals for initial population.\n",
      "Warning: Could only generate 0/1 valid individuals for initial population.\n"
     ]
    },
    {
     "name": "stdout",
     "output_type": "stream",
     "text": [
      "Warning: Could only generate 0/1 valid individuals for initial population.\n",
      "Warning: Could only generate 0/1 valid individuals for initial population.\n",
      "Warning: Could only generate 0/1 valid individuals for initial population.\n",
      "Warning: Could only generate 0/1 valid individuals for initial population.\n"
     ]
    },
    {
     "name": "stdout",
     "output_type": "stream",
     "text": [
      "Warning: Could only generate 0/1 valid individuals for initial population.\n",
      "Warning: Could only generate 0/1 valid individuals for initial population.\n"
     ]
    },
    {
     "name": "stdout",
     "output_type": "stream",
     "text": [
      "Warning: Could only generate 0/1 valid individuals for initial population.\n",
      "Warning: Could only generate 0/1 valid individuals for initial population.\n",
      "Warning: Could only generate 0/1 valid individuals for initial population.\n"
     ]
    },
    {
     "name": "stdout",
     "output_type": "stream",
     "text": [
      "Warning: Could only generate 0/1 valid individuals for initial population.\n",
      "Warning: Could only generate 0/1 valid individuals for initial population.\n",
      "Warning: Could only generate 0/1 valid individuals for initial population.\n"
     ]
    },
    {
     "name": "stdout",
     "output_type": "stream",
     "text": [
      "Warning: Could only generate 0/1 valid individuals for initial population.\n",
      "Warning: Could only generate 0/1 valid individuals for initial population.\n"
     ]
    },
    {
     "name": "stdout",
     "output_type": "stream",
     "text": [
      "Warning: Could only generate 0/1 valid individuals for initial population.\n"
     ]
    },
    {
     "name": "stdout",
     "output_type": "stream",
     "text": [
      "Warning: Could only generate 0/1 valid individuals for initial population.\n"
     ]
    },
    {
     "name": "stdout",
     "output_type": "stream",
     "text": [
      "  GA_Config_2 (TargetExch,UnifPreferV,Ranking) - Run 28/30...\n",
      "Warning: Could only generate 1/50 valid individuals for initial population.\n"
     ]
    },
    {
     "name": "stdout",
     "output_type": "stream",
     "text": [
      "Warning: Could only generate 0/1 valid individuals for initial population.\n"
     ]
    },
    {
     "name": "stdout",
     "output_type": "stream",
     "text": [
      "Warning: Could only generate 0/1 valid individuals for initial population.\n",
      "Warning: Could only generate 0/1 valid individuals for initial population.\n",
      "Warning: Could only generate 0/1 valid individuals for initial population.\n"
     ]
    },
    {
     "name": "stdout",
     "output_type": "stream",
     "text": [
      "Warning: Could only generate 0/1 valid individuals for initial population.\n",
      "Warning: Could only generate 0/1 valid individuals for initial population.\n"
     ]
    },
    {
     "name": "stdout",
     "output_type": "stream",
     "text": [
      "Warning: Could only generate 0/1 valid individuals for initial population.\n",
      "Warning: Could only generate 0/1 valid individuals for initial population.\n",
      "Warning: Could only generate 0/1 valid individuals for initial population.\n",
      "Warning: Could only generate 0/1 valid individuals for initial population.\n",
      "Warning: Could only generate 0/1 valid individuals for initial population.\n",
      "Warning: Could only generate 0/1 valid individuals for initial population.\n",
      "Warning: Could only generate 0/1 valid individuals for initial population.\n",
      "Warning: Could only generate 0/1 valid individuals for initial population.\n",
      "Warning: Could only generate 0/1 valid individuals for initial population.\n"
     ]
    },
    {
     "name": "stdout",
     "output_type": "stream",
     "text": [
      "Warning: Could only generate 0/1 valid individuals for initial population.\n",
      "Warning: Could only generate 0/1 valid individuals for initial population.\n",
      "Warning: Could only generate 0/1 valid individuals for initial population.\n",
      "Warning: Could only generate 0/1 valid individuals for initial population.\n",
      "Warning: Could only generate 0/1 valid individuals for initial population.\n",
      "Warning: Could only generate 0/1 valid individuals for initial population.\n",
      "Warning: Could only generate 0/1 valid individuals for initial population.\n"
     ]
    },
    {
     "name": "stdout",
     "output_type": "stream",
     "text": [
      "Warning: Could only generate 0/1 valid individuals for initial population.\n",
      "Warning: Could only generate 0/1 valid individuals for initial population.\n",
      "Warning: Could only generate 0/1 valid individuals for initial population.\n",
      "Warning: Could only generate 0/1 valid individuals for initial population.\n"
     ]
    },
    {
     "name": "stdout",
     "output_type": "stream",
     "text": [
      "Warning: Could only generate 0/1 valid individuals for initial population.\n",
      "Warning: Could only generate 0/1 valid individuals for initial population.\n",
      "Warning: Could only generate 0/1 valid individuals for initial population.\n",
      "Warning: Could only generate 0/1 valid individuals for initial population.\n",
      "Warning: Could only generate 0/1 valid individuals for initial population.\n",
      "Warning: Could only generate 0/1 valid individuals for initial population.\n",
      "Warning: Could only generate 0/1 valid individuals for initial population.\n"
     ]
    },
    {
     "name": "stdout",
     "output_type": "stream",
     "text": [
      "Warning: Could only generate 0/1 valid individuals for initial population.\n",
      "Warning: Could only generate 0/1 valid individuals for initial population.\n",
      "Warning: Could only generate 0/1 valid individuals for initial population.\n",
      "Warning: Could only generate 0/1 valid individuals for initial population.\n",
      "Warning: Could only generate 0/1 valid individuals for initial population.\n",
      "Warning: Could only generate 0/1 valid individuals for initial population.\n",
      "Warning: Could only generate 0/1 valid individuals for initial population.\n",
      "Warning: Could only generate 0/1 valid individuals for initial population.\n"
     ]
    },
    {
     "name": "stdout",
     "output_type": "stream",
     "text": [
      "Warning: Could only generate 0/1 valid individuals for initial population.\n",
      "Warning: Could only generate 0/1 valid individuals for initial population.\n",
      "Warning: Could only generate 0/1 valid individuals for initial population.\n",
      "Warning: Could only generate 0/1 valid individuals for initial population.\n",
      "Warning: Could only generate 0/1 valid individuals for initial population.\n"
     ]
    },
    {
     "name": "stdout",
     "output_type": "stream",
     "text": [
      "Warning: Could only generate 0/1 valid individuals for initial population.\n",
      "Warning: Could only generate 0/1 valid individuals for initial population.\n",
      "Warning: Could only generate 0/1 valid individuals for initial population.\n",
      "Warning: Could only generate 0/1 valid individuals for initial population.\n",
      "Warning: Could only generate 0/1 valid individuals for initial population.\n",
      "Warning: Could only generate 0/1 valid individuals for initial population.\n",
      "Warning: Could only generate 0/1 valid individuals for initial population.\n",
      "Warning: Could only generate 0/1 valid individuals for initial population.\n"
     ]
    },
    {
     "name": "stdout",
     "output_type": "stream",
     "text": [
      "Warning: Could only generate 0/1 valid individuals for initial population.\n",
      "Warning: Could only generate 0/1 valid individuals for initial population.\n",
      "Warning: Could only generate 0/1 valid individuals for initial population.\n",
      "Warning: Could only generate 0/1 valid individuals for initial population.\n",
      "Warning: Could only generate 0/1 valid individuals for initial population.\n",
      "Warning: Could only generate 0/1 valid individuals for initial population.\n",
      "Warning: Could only generate 0/1 valid individuals for initial population.\n",
      "Warning: Could only generate 0/1 valid individuals for initial population.\n",
      "Warning: Could only generate 0/1 valid individuals for initial population.\n",
      "Warning: Could only generate 0/1 valid individuals for initial population.\n",
      "Warning: Could only generate 0/1 valid individuals for initial population.\n"
     ]
    },
    {
     "name": "stdout",
     "output_type": "stream",
     "text": [
      "Warning: Could only generate 0/1 valid individuals for initial population.\n",
      "Warning: Could only generate 0/1 valid individuals for initial population.\n",
      "Warning: Could only generate 0/1 valid individuals for initial population.\n",
      "Warning: Could only generate 0/1 valid individuals for initial population.\n",
      "Warning: Could only generate 0/1 valid individuals for initial population.\n",
      "Warning: Could only generate 0/1 valid individuals for initial population.\n",
      "Warning: Could only generate 0/1 valid individuals for initial population.\n",
      "Warning: Could only generate 0/1 valid individuals for initial population.\n",
      "Warning: Could only generate 0/1 valid individuals for initial population.\n",
      "Warning: Could only generate 0/1 valid individuals for initial population.\n",
      "Warning: Could only generate 0/1 valid individuals for initial population.\n",
      "Warning: Could only generate 0/1 valid individuals for initial population.\n"
     ]
    },
    {
     "name": "stdout",
     "output_type": "stream",
     "text": [
      "Warning: Could only generate 0/1 valid individuals for initial population.\n",
      "Warning: Could only generate 0/1 valid individuals for initial population.\n",
      "Warning: Could only generate 0/1 valid individuals for initial population.\n",
      "Warning: Could only generate 0/1 valid individuals for initial population.\n",
      "Warning: Could only generate 0/1 valid individuals for initial population.\n",
      "Warning: Could only generate 0/1 valid individuals for initial population.\n",
      "Warning: Could only generate 0/1 valid individuals for initial population.\n",
      "Warning: Could only generate 0/1 valid individuals for initial population.\n",
      "Warning: Could only generate 0/1 valid individuals for initial population.\n"
     ]
    },
    {
     "name": "stdout",
     "output_type": "stream",
     "text": [
      "Warning: Could only generate 0/1 valid individuals for initial population.\n",
      "Warning: Could only generate 0/1 valid individuals for initial population.\n",
      "Warning: Could only generate 0/1 valid individuals for initial population.\n",
      "Warning: Could only generate 0/1 valid individuals for initial population.\n",
      "Warning: Could only generate 0/1 valid individuals for initial population.\n",
      "Warning: Could only generate 0/1 valid individuals for initial population.\n",
      "Warning: Could only generate 0/1 valid individuals for initial population.\n",
      "Warning: Could only generate 0/1 valid individuals for initial population.\n",
      "Warning: Could only generate 0/1 valid individuals for initial population.\n",
      "Warning: Could only generate 0/1 valid individuals for initial population.\n"
     ]
    },
    {
     "name": "stdout",
     "output_type": "stream",
     "text": [
      "Warning: Could only generate 0/1 valid individuals for initial population.\n",
      "Warning: Could only generate 0/1 valid individuals for initial population.\n",
      "Warning: Could only generate 0/1 valid individuals for initial population.\n",
      "Warning: Could only generate 0/1 valid individuals for initial population.\n",
      "Warning: Could only generate 0/1 valid individuals for initial population.\n",
      "Warning: Could only generate 0/1 valid individuals for initial population.\n",
      "Warning: Could only generate 0/1 valid individuals for initial population.\n",
      "Warning: Could only generate 0/1 valid individuals for initial population.\n",
      "Warning: Could only generate 0/1 valid individuals for initial population.\n",
      "Warning: Could only generate 0/1 valid individuals for initial population.\n"
     ]
    },
    {
     "name": "stdout",
     "output_type": "stream",
     "text": [
      "Warning: Could only generate 0/1 valid individuals for initial population.\n",
      "Warning: Could only generate 0/1 valid individuals for initial population.\n",
      "Warning: Could only generate 0/1 valid individuals for initial population.\n",
      "Warning: Could only generate 0/1 valid individuals for initial population.\n",
      "Warning: Could only generate 0/1 valid individuals for initial population.\n",
      "Warning: Could only generate 0/1 valid individuals for initial population.\n",
      "Warning: Could only generate 0/1 valid individuals for initial population.\n"
     ]
    },
    {
     "name": "stdout",
     "output_type": "stream",
     "text": [
      "Warning: Could only generate 0/1 valid individuals for initial population.\n",
      "Warning: Could only generate 0/1 valid individuals for initial population.\n",
      "Warning: Could only generate 0/1 valid individuals for initial population.\n",
      "Warning: Could only generate 0/1 valid individuals for initial population.\n",
      "Warning: Could only generate 0/1 valid individuals for initial population.\n",
      "Warning: Could only generate 0/1 valid individuals for initial population.\n",
      "Warning: Could only generate 0/1 valid individuals for initial population.\n",
      "Warning: Could only generate 0/1 valid individuals for initial population.\n",
      "Warning: Could only generate 0/1 valid individuals for initial population.\n",
      "Warning: Could only generate 0/1 valid individuals for initial population.\n",
      "Warning: Could only generate 0/1 valid individuals for initial population.\n",
      "Warning: Could only generate 0/1 valid individuals for initial population.\n"
     ]
    },
    {
     "name": "stdout",
     "output_type": "stream",
     "text": [
      "Warning: Could only generate 0/1 valid individuals for initial population.\n",
      "Warning: Could only generate 0/1 valid individuals for initial population.\n",
      "Warning: Could only generate 0/1 valid individuals for initial population.\n",
      "Warning: Could only generate 0/1 valid individuals for initial population.\n",
      "Warning: Could only generate 0/1 valid individuals for initial population.\n",
      "Warning: Could only generate 0/1 valid individuals for initial population.\n",
      "Warning: Could only generate 0/1 valid individuals for initial population.\n",
      "Warning: Could only generate 0/1 valid individuals for initial population.\n",
      "Warning: Could only generate 0/1 valid individuals for initial population.\n"
     ]
    },
    {
     "name": "stdout",
     "output_type": "stream",
     "text": [
      "Warning: Could only generate 0/1 valid individuals for initial population.\n",
      "Warning: Could only generate 0/1 valid individuals for initial population.\n",
      "Warning: Could only generate 0/1 valid individuals for initial population.\n",
      "Warning: Could only generate 0/1 valid individuals for initial population.\n",
      "Warning: Could only generate 0/1 valid individuals for initial population.\n",
      "Warning: Could only generate 0/1 valid individuals for initial population.\n",
      "Warning: Could only generate 0/1 valid individuals for initial population.\n",
      "Warning: Could only generate 0/1 valid individuals for initial population.\n",
      "Warning: Could only generate 0/1 valid individuals for initial population.\n",
      "Warning: Could only generate 0/1 valid individuals for initial population.\n",
      "Warning: Could only generate 0/1 valid individuals for initial population.\n",
      "Warning: Could only generate 0/1 valid individuals for initial population.\n",
      "Warning: Could only generate 0/1 valid individuals for initial population.\n"
     ]
    },
    {
     "name": "stdout",
     "output_type": "stream",
     "text": [
      "Warning: Could only generate 0/1 valid individuals for initial population.\n",
      "Warning: Could only generate 0/1 valid individuals for initial population.\n",
      "Warning: Could only generate 0/1 valid individuals for initial population.\n",
      "Warning: Could only generate 0/1 valid individuals for initial population.\n",
      "Warning: Could only generate 0/1 valid individuals for initial population.\n",
      "Warning: Could only generate 0/1 valid individuals for initial population.\n",
      "Warning: Could only generate 0/1 valid individuals for initial population.\n",
      "Warning: Could only generate 0/1 valid individuals for initial population.\n",
      "Warning: Could only generate 0/1 valid individuals for initial population.\n",
      "Warning: Could only generate 0/1 valid individuals for initial population.\n",
      "Warning: Could only generate 0/1 valid individuals for initial population.\n",
      "Warning: Could only generate 0/1 valid individuals for initial population.\n",
      "Warning: Could only generate 0/1 valid individuals for initial population.\n"
     ]
    },
    {
     "name": "stdout",
     "output_type": "stream",
     "text": [
      "Warning: Could only generate 0/1 valid individuals for initial population.\n",
      "Warning: Could only generate 0/1 valid individuals for initial population.\n",
      "Warning: Could only generate 0/1 valid individuals for initial population.\n",
      "Warning: Could only generate 0/1 valid individuals for initial population.\n",
      "Warning: Could only generate 0/1 valid individuals for initial population.\n",
      "Warning: Could only generate 0/1 valid individuals for initial population.\n",
      "Warning: Could only generate 0/1 valid individuals for initial population.\n",
      "Warning: Could only generate 0/1 valid individuals for initial population.\n",
      "Warning: Could only generate 0/1 valid individuals for initial population.\n",
      "Warning: Could only generate 0/1 valid individuals for initial population.\n",
      "Warning: Could only generate 0/1 valid individuals for initial population.\n",
      "Warning: Could only generate 0/1 valid individuals for initial population.\n",
      "Warning: Could only generate 0/1 valid individuals for initial population.\n",
      "Warning: Could only generate 0/1 valid individuals for initial population.\n",
      "Warning: Could only generate 0/1 valid individuals for initial population.\n",
      "Warning: Could only generate 0/1 valid individuals for initial population.\n"
     ]
    },
    {
     "name": "stdout",
     "output_type": "stream",
     "text": [
      "Warning: Could only generate 0/1 valid individuals for initial population.\n",
      "Warning: Could only generate 0/1 valid individuals for initial population.\n",
      "Warning: Could only generate 0/1 valid individuals for initial population.\n",
      "Warning: Could only generate 0/1 valid individuals for initial population.\n",
      "Warning: Could only generate 0/1 valid individuals for initial population.\n",
      "Warning: Could only generate 0/1 valid individuals for initial population.\n",
      "Warning: Could only generate 0/1 valid individuals for initial population.\n",
      "Warning: Could only generate 0/1 valid individuals for initial population.\n",
      "Warning: Could only generate 0/1 valid individuals for initial population.\n",
      "Warning: Could only generate 0/1 valid individuals for initial population.\n",
      "Warning: Could only generate 0/1 valid individuals for initial population.\n",
      "Warning: Could only generate 0/1 valid individuals for initial population.\n",
      "Warning: Could only generate 0/1 valid individuals for initial population.\n"
     ]
    },
    {
     "name": "stdout",
     "output_type": "stream",
     "text": [
      "Warning: Could only generate 0/1 valid individuals for initial population.\n",
      "Warning: Could only generate 0/1 valid individuals for initial population.\n",
      "Warning: Could only generate 0/1 valid individuals for initial population.\n",
      "Warning: Could only generate 0/1 valid individuals for initial population.\n",
      "Warning: Could only generate 0/1 valid individuals for initial population.\n",
      "Warning: Could only generate 0/1 valid individuals for initial population.\n",
      "Warning: Could only generate 0/1 valid individuals for initial population.\n",
      "Warning: Could only generate 0/1 valid individuals for initial population.\n",
      "Warning: Could only generate 0/1 valid individuals for initial population.\n",
      "Warning: Could only generate 0/1 valid individuals for initial population.\n",
      "Warning: Could only generate 0/1 valid individuals for initial population.\n",
      "Warning: Could only generate 0/1 valid individuals for initial population.\n",
      "Warning: Could only generate 0/1 valid individuals for initial population.\n",
      "Warning: Could only generate 0/1 valid individuals for initial population.\n",
      "Warning: Could only generate 0/1 valid individuals for initial population.\n"
     ]
    },
    {
     "name": "stdout",
     "output_type": "stream",
     "text": [
      "Warning: Could only generate 0/1 valid individuals for initial population.\n",
      "Warning: Could only generate 0/1 valid individuals for initial population.\n",
      "Warning: Could only generate 0/1 valid individuals for initial population.\n",
      "Warning: Could only generate 0/1 valid individuals for initial population.\n",
      "Warning: Could only generate 0/1 valid individuals for initial population.\n",
      "Warning: Could only generate 0/1 valid individuals for initial population.\n",
      "Warning: Could only generate 0/1 valid individuals for initial population.\n",
      "Warning: Could only generate 0/1 valid individuals for initial population.\n",
      "Warning: Could only generate 0/1 valid individuals for initial population.\n",
      "Warning: Could only generate 0/1 valid individuals for initial population.\n"
     ]
    },
    {
     "name": "stdout",
     "output_type": "stream",
     "text": [
      "Warning: Could only generate 0/1 valid individuals for initial population.\n",
      "Warning: Could only generate 0/1 valid individuals for initial population.\n",
      "Warning: Could only generate 0/1 valid individuals for initial population.\n",
      "Warning: Could only generate 0/1 valid individuals for initial population.\n",
      "Warning: Could only generate 0/1 valid individuals for initial population.\n",
      "Warning: Could only generate 0/1 valid individuals for initial population.\n",
      "Warning: Could only generate 0/1 valid individuals for initial population.\n",
      "Warning: Could only generate 0/1 valid individuals for initial population.\n",
      "Warning: Could only generate 0/1 valid individuals for initial population.\n",
      "Warning: Could only generate 0/1 valid individuals for initial population.\n",
      "Warning: Could only generate 0/1 valid individuals for initial population.\n",
      "Warning: Could only generate 0/1 valid individuals for initial population.\n",
      "Warning: Could only generate 0/1 valid individuals for initial population.\n"
     ]
    },
    {
     "name": "stdout",
     "output_type": "stream",
     "text": [
      "Warning: Could only generate 0/1 valid individuals for initial population.\n",
      "Warning: Could only generate 0/1 valid individuals for initial population.\n",
      "Warning: Could only generate 0/1 valid individuals for initial population.\n",
      "Warning: Could only generate 0/1 valid individuals for initial population.\n",
      "Warning: Could only generate 0/1 valid individuals for initial population.\n",
      "Warning: Could only generate 0/1 valid individuals for initial population.\n",
      "Warning: Could only generate 0/1 valid individuals for initial population.\n",
      "Warning: Could only generate 0/1 valid individuals for initial population.\n",
      "Warning: Could only generate 0/1 valid individuals for initial population.\n",
      "Warning: Could only generate 0/1 valid individuals for initial population.\n",
      "Warning: Could only generate 0/1 valid individuals for initial population.\n",
      "Warning: Could only generate 0/1 valid individuals for initial population.\n",
      "Warning: Could only generate 0/1 valid individuals for initial population.\n"
     ]
    },
    {
     "name": "stdout",
     "output_type": "stream",
     "text": [
      "Warning: Could only generate 0/1 valid individuals for initial population.\n",
      "Warning: Could only generate 0/1 valid individuals for initial population.\n",
      "Warning: Could only generate 0/1 valid individuals for initial population.\n",
      "Warning: Could only generate 0/1 valid individuals for initial population.\n",
      "Warning: Could only generate 0/1 valid individuals for initial population.\n",
      "Warning: Could only generate 0/1 valid individuals for initial population.\n",
      "Warning: Could only generate 0/1 valid individuals for initial population.\n",
      "Warning: Could only generate 0/1 valid individuals for initial population.\n",
      "Warning: Could only generate 0/1 valid individuals for initial population.\n",
      "Warning: Could only generate 0/1 valid individuals for initial population.\n",
      "Warning: Could only generate 0/1 valid individuals for initial population.\n",
      "Warning: Could only generate 0/1 valid individuals for initial population.\n",
      "Warning: Could only generate 0/1 valid individuals for initial population.\n",
      "Warning: Could only generate 0/1 valid individuals for initial population.\n"
     ]
    },
    {
     "name": "stdout",
     "output_type": "stream",
     "text": [
      "Warning: Could only generate 0/1 valid individuals for initial population.\n",
      "Warning: Could only generate 0/1 valid individuals for initial population.\n",
      "Warning: Could only generate 0/1 valid individuals for initial population.\n",
      "Warning: Could only generate 0/1 valid individuals for initial population.\n",
      "Warning: Could only generate 0/1 valid individuals for initial population.\n",
      "Warning: Could only generate 0/1 valid individuals for initial population.\n",
      "Warning: Could only generate 0/1 valid individuals for initial population.\n",
      "Warning: Could only generate 0/1 valid individuals for initial population.\n",
      "Warning: Could only generate 0/1 valid individuals for initial population.\n",
      "Warning: Could only generate 0/1 valid individuals for initial population.\n"
     ]
    },
    {
     "name": "stdout",
     "output_type": "stream",
     "text": [
      "Warning: Could only generate 0/1 valid individuals for initial population.\n",
      "Warning: Could only generate 0/1 valid individuals for initial population.\n",
      "Warning: Could only generate 0/1 valid individuals for initial population.\n",
      "Warning: Could only generate 0/1 valid individuals for initial population.\n",
      "Warning: Could only generate 0/1 valid individuals for initial population.\n",
      "Warning: Could only generate 0/1 valid individuals for initial population.\n",
      "Warning: Could only generate 0/1 valid individuals for initial population.\n",
      "Warning: Could only generate 0/1 valid individuals for initial population.\n",
      "Warning: Could only generate 0/1 valid individuals for initial population.\n",
      "Warning: Could only generate 0/1 valid individuals for initial population.\n"
     ]
    },
    {
     "name": "stdout",
     "output_type": "stream",
     "text": [
      "Warning: Could only generate 0/1 valid individuals for initial population.\n",
      "Warning: Could only generate 0/1 valid individuals for initial population.\n",
      "Warning: Could only generate 0/1 valid individuals for initial population.\n",
      "Warning: Could only generate 0/1 valid individuals for initial population.\n",
      "Warning: Could only generate 0/1 valid individuals for initial population.\n",
      "Warning: Could only generate 0/1 valid individuals for initial population.\n",
      "Warning: Could only generate 0/1 valid individuals for initial population.\n",
      "Warning: Could only generate 0/1 valid individuals for initial population.\n",
      "Warning: Could only generate 0/1 valid individuals for initial population.\n",
      "Warning: Could only generate 0/1 valid individuals for initial population.\n",
      "Warning: Could only generate 0/1 valid individuals for initial population.\n"
     ]
    },
    {
     "name": "stdout",
     "output_type": "stream",
     "text": [
      "Warning: Could only generate 0/1 valid individuals for initial population.\n",
      "Warning: Could only generate 0/1 valid individuals for initial population.\n",
      "Warning: Could only generate 0/1 valid individuals for initial population.\n",
      "Warning: Could only generate 0/1 valid individuals for initial population.\n",
      "Warning: Could only generate 0/1 valid individuals for initial population.\n",
      "Warning: Could only generate 0/1 valid individuals for initial population.\n",
      "Warning: Could only generate 0/1 valid individuals for initial population.\n",
      "Warning: Could only generate 0/1 valid individuals for initial population.\n",
      "Warning: Could only generate 0/1 valid individuals for initial population.\n",
      "Warning: Could only generate 0/1 valid individuals for initial population.\n",
      "Warning: Could only generate 0/1 valid individuals for initial population.\n"
     ]
    },
    {
     "name": "stdout",
     "output_type": "stream",
     "text": [
      "Warning: Could only generate 0/1 valid individuals for initial population.\n",
      "Warning: Could only generate 0/1 valid individuals for initial population.\n",
      "Warning: Could only generate 0/1 valid individuals for initial population.\n",
      "Warning: Could only generate 0/1 valid individuals for initial population.\n",
      "Warning: Could only generate 0/1 valid individuals for initial population.\n",
      "Warning: Could only generate 0/1 valid individuals for initial population.\n",
      "Warning: Could only generate 0/1 valid individuals for initial population.\n",
      "Warning: Could only generate 0/1 valid individuals for initial population.\n",
      "Warning: Could only generate 0/1 valid individuals for initial population.\n",
      "Warning: Could only generate 0/1 valid individuals for initial population.\n",
      "Warning: Could only generate 0/1 valid individuals for initial population.\n"
     ]
    },
    {
     "name": "stdout",
     "output_type": "stream",
     "text": [
      "Warning: Could only generate 0/1 valid individuals for initial population.\n",
      "Warning: Could only generate 0/1 valid individuals for initial population.\n",
      "Warning: Could only generate 0/1 valid individuals for initial population.\n",
      "Warning: Could only generate 0/1 valid individuals for initial population.\n",
      "Warning: Could only generate 0/1 valid individuals for initial population.\n",
      "Warning: Could only generate 0/1 valid individuals for initial population.\n",
      "Warning: Could only generate 0/1 valid individuals for initial population.\n",
      "Warning: Could only generate 0/1 valid individuals for initial population.\n",
      "Warning: Could only generate 0/1 valid individuals for initial population.\n",
      "Warning: Could only generate 0/1 valid individuals for initial population.\n",
      "Warning: Could only generate 0/1 valid individuals for initial population.\n"
     ]
    },
    {
     "name": "stdout",
     "output_type": "stream",
     "text": [
      "Warning: Could only generate 0/1 valid individuals for initial population.\n",
      "Warning: Could only generate 0/1 valid individuals for initial population.\n",
      "Warning: Could only generate 0/1 valid individuals for initial population.\n",
      "Warning: Could only generate 0/1 valid individuals for initial population.\n",
      "Warning: Could only generate 0/1 valid individuals for initial population.\n",
      "Warning: Could only generate 0/1 valid individuals for initial population.\n",
      "Warning: Could only generate 0/1 valid individuals for initial population.\n",
      "Warning: Could only generate 0/1 valid individuals for initial population.\n",
      "Warning: Could only generate 0/1 valid individuals for initial population.\n",
      "Warning: Could only generate 0/1 valid individuals for initial population.\n",
      "Warning: Could only generate 0/1 valid individuals for initial population.\n"
     ]
    },
    {
     "name": "stdout",
     "output_type": "stream",
     "text": [
      "Warning: Could only generate 0/1 valid individuals for initial population.\n",
      "Warning: Could only generate 0/1 valid individuals for initial population.\n",
      "Warning: Could only generate 0/1 valid individuals for initial population.\n",
      "Warning: Could only generate 0/1 valid individuals for initial population.\n",
      "Warning: Could only generate 0/1 valid individuals for initial population.\n",
      "Warning: Could only generate 0/1 valid individuals for initial population.\n",
      "Warning: Could only generate 0/1 valid individuals for initial population.\n",
      "Warning: Could only generate 0/1 valid individuals for initial population.\n",
      "Warning: Could only generate 0/1 valid individuals for initial population.\n",
      "Warning: Could only generate 0/1 valid individuals for initial population.\n",
      "Warning: Could only generate 0/1 valid individuals for initial population.\n",
      "Warning: Could only generate 0/1 valid individuals for initial population.\n"
     ]
    },
    {
     "name": "stdout",
     "output_type": "stream",
     "text": [
      "Warning: Could only generate 0/1 valid individuals for initial population.\n",
      "Warning: Could only generate 0/1 valid individuals for initial population.\n",
      "Warning: Could only generate 0/1 valid individuals for initial population.\n",
      "Warning: Could only generate 0/1 valid individuals for initial population.\n",
      "Warning: Could only generate 0/1 valid individuals for initial population.\n",
      "Warning: Could only generate 0/1 valid individuals for initial population.\n",
      "Warning: Could only generate 0/1 valid individuals for initial population.\n",
      "Warning: Could only generate 0/1 valid individuals for initial population.\n",
      "Warning: Could only generate 0/1 valid individuals for initial population.\n",
      "Warning: Could only generate 0/1 valid individuals for initial population.\n",
      "Warning: Could only generate 0/1 valid individuals for initial population.\n",
      "Warning: Could only generate 0/1 valid individuals for initial population.\n",
      "Warning: Could only generate 0/1 valid individuals for initial population.\n"
     ]
    },
    {
     "name": "stdout",
     "output_type": "stream",
     "text": [
      "Warning: Could only generate 0/1 valid individuals for initial population.\n",
      "Warning: Could only generate 0/1 valid individuals for initial population.\n",
      "Warning: Could only generate 0/1 valid individuals for initial population.\n",
      "Warning: Could only generate 0/1 valid individuals for initial population.\n",
      "Warning: Could only generate 0/1 valid individuals for initial population.\n",
      "Warning: Could only generate 0/1 valid individuals for initial population.\n",
      "Warning: Could only generate 0/1 valid individuals for initial population.\n",
      "Warning: Could only generate 0/1 valid individuals for initial population.\n",
      "Warning: Could only generate 0/1 valid individuals for initial population.\n",
      "Warning: Could only generate 0/1 valid individuals for initial population.\n",
      "Warning: Could only generate 0/1 valid individuals for initial population.\n"
     ]
    },
    {
     "name": "stdout",
     "output_type": "stream",
     "text": [
      "Warning: Could only generate 0/1 valid individuals for initial population.\n",
      "Warning: Could only generate 0/1 valid individuals for initial population.\n",
      "Warning: Could only generate 0/1 valid individuals for initial population.\n",
      "Warning: Could only generate 0/1 valid individuals for initial population.\n",
      "Warning: Could only generate 0/1 valid individuals for initial population.\n",
      "Warning: Could only generate 0/1 valid individuals for initial population.\n",
      "Warning: Could only generate 0/1 valid individuals for initial population.\n",
      "Warning: Could only generate 0/1 valid individuals for initial population.\n",
      "Warning: Could only generate 0/1 valid individuals for initial population.\n",
      "Warning: Could only generate 0/1 valid individuals for initial population.\n",
      "Warning: Could only generate 0/1 valid individuals for initial population.\n",
      "Warning: Could only generate 0/1 valid individuals for initial population.\n",
      "Warning: Could only generate 0/1 valid individuals for initial population.\n"
     ]
    },
    {
     "name": "stdout",
     "output_type": "stream",
     "text": [
      "Warning: Could only generate 0/1 valid individuals for initial population.\n",
      "Warning: Could only generate 0/1 valid individuals for initial population.\n",
      "Warning: Could only generate 0/1 valid individuals for initial population.\n",
      "Warning: Could only generate 0/1 valid individuals for initial population.\n",
      "Warning: Could only generate 0/1 valid individuals for initial population.\n",
      "Warning: Could only generate 0/1 valid individuals for initial population.\n",
      "Warning: Could only generate 0/1 valid individuals for initial population.\n",
      "Warning: Could only generate 0/1 valid individuals for initial population.\n",
      "Warning: Could only generate 0/1 valid individuals for initial population.\n"
     ]
    },
    {
     "name": "stdout",
     "output_type": "stream",
     "text": [
      "Warning: Could only generate 0/1 valid individuals for initial population.\n",
      "Warning: Could only generate 0/1 valid individuals for initial population.\n",
      "Warning: Could only generate 0/1 valid individuals for initial population.\n",
      "Warning: Could only generate 0/1 valid individuals for initial population.\n",
      "Warning: Could only generate 0/1 valid individuals for initial population.\n",
      "Warning: Could only generate 0/1 valid individuals for initial population.\n",
      "Warning: Could only generate 0/1 valid individuals for initial population.\n",
      "Warning: Could only generate 0/1 valid individuals for initial population.\n",
      "Warning: Could only generate 0/1 valid individuals for initial population.\n",
      "Warning: Could only generate 0/1 valid individuals for initial population.\n",
      "Warning: Could only generate 0/1 valid individuals for initial population.\n"
     ]
    },
    {
     "name": "stdout",
     "output_type": "stream",
     "text": [
      "Warning: Could only generate 0/1 valid individuals for initial population.\n",
      "Warning: Could only generate 0/1 valid individuals for initial population.\n",
      "Warning: Could only generate 0/1 valid individuals for initial population.\n",
      "Warning: Could only generate 0/1 valid individuals for initial population.\n",
      "Warning: Could only generate 0/1 valid individuals for initial population.\n",
      "Warning: Could only generate 0/1 valid individuals for initial population.\n",
      "Warning: Could only generate 0/1 valid individuals for initial population.\n"
     ]
    },
    {
     "name": "stdout",
     "output_type": "stream",
     "text": [
      "Warning: Could only generate 0/1 valid individuals for initial population.\n",
      "Warning: Could only generate 0/1 valid individuals for initial population.\n",
      "Warning: Could only generate 0/1 valid individuals for initial population.\n",
      "Warning: Could only generate 0/1 valid individuals for initial population.\n",
      "Warning: Could only generate 0/1 valid individuals for initial population.\n",
      "Warning: Could only generate 0/1 valid individuals for initial population.\n",
      "Warning: Could only generate 0/1 valid individuals for initial population.\n",
      "Warning: Could only generate 0/1 valid individuals for initial population.\n",
      "Warning: Could only generate 0/1 valid individuals for initial population.\n",
      "Warning: Could only generate 0/1 valid individuals for initial population.\n"
     ]
    },
    {
     "name": "stdout",
     "output_type": "stream",
     "text": [
      "Warning: Could only generate 0/1 valid individuals for initial population.\n",
      "Warning: Could only generate 0/1 valid individuals for initial population.\n",
      "Warning: Could only generate 0/1 valid individuals for initial population.\n",
      "Warning: Could only generate 0/1 valid individuals for initial population.\n",
      "Warning: Could only generate 0/1 valid individuals for initial population.\n",
      "Warning: Could only generate 0/1 valid individuals for initial population.\n",
      "Warning: Could only generate 0/1 valid individuals for initial population.\n",
      "Warning: Could only generate 0/1 valid individuals for initial population.\n",
      "Warning: Could only generate 0/1 valid individuals for initial population.\n",
      "Warning: Could only generate 0/1 valid individuals for initial population.\n",
      "Warning: Could only generate 0/1 valid individuals for initial population.\n"
     ]
    },
    {
     "name": "stdout",
     "output_type": "stream",
     "text": [
      "Warning: Could only generate 0/1 valid individuals for initial population.\n",
      "Warning: Could only generate 0/1 valid individuals for initial population.\n",
      "Warning: Could only generate 0/1 valid individuals for initial population.\n",
      "Warning: Could only generate 0/1 valid individuals for initial population.\n",
      "Warning: Could only generate 0/1 valid individuals for initial population.\n",
      "Warning: Could only generate 0/1 valid individuals for initial population.\n",
      "Warning: Could only generate 0/1 valid individuals for initial population.\n",
      "Warning: Could only generate 0/1 valid individuals for initial population.\n",
      "Warning: Could only generate 0/1 valid individuals for initial population.\n",
      "Warning: Could only generate 0/1 valid individuals for initial population.\n",
      "Warning: Could only generate 0/1 valid individuals for initial population.\n",
      "Warning: Could only generate 0/1 valid individuals for initial population.\n"
     ]
    },
    {
     "name": "stdout",
     "output_type": "stream",
     "text": [
      "Warning: Could only generate 0/1 valid individuals for initial population.\n",
      "Warning: Could only generate 0/1 valid individuals for initial population.\n",
      "Warning: Could only generate 0/1 valid individuals for initial population.\n",
      "Warning: Could only generate 0/1 valid individuals for initial population.\n",
      "Warning: Could only generate 0/1 valid individuals for initial population.\n",
      "Warning: Could only generate 0/1 valid individuals for initial population.\n",
      "Warning: Could only generate 0/1 valid individuals for initial population.\n",
      "Warning: Could only generate 0/1 valid individuals for initial population.\n",
      "Warning: Could only generate 0/1 valid individuals for initial population.\n",
      "Warning: Could only generate 0/1 valid individuals for initial population.\n",
      "Warning: Could only generate 0/1 valid individuals for initial population.\n",
      "Warning: Could only generate 0/1 valid individuals for initial population.\n",
      "Warning: Could only generate 0/1 valid individuals for initial population.\n",
      "Warning: Could only generate 0/1 valid individuals for initial population.\n"
     ]
    },
    {
     "name": "stdout",
     "output_type": "stream",
     "text": [
      "Warning: Could only generate 0/1 valid individuals for initial population.\n",
      "Warning: Could only generate 0/1 valid individuals for initial population.\n",
      "Warning: Could only generate 0/1 valid individuals for initial population.\n",
      "Warning: Could only generate 0/1 valid individuals for initial population.\n",
      "Warning: Could only generate 0/1 valid individuals for initial population.\n",
      "Warning: Could only generate 0/1 valid individuals for initial population.\n",
      "Warning: Could only generate 0/1 valid individuals for initial population.\n",
      "Warning: Could only generate 0/1 valid individuals for initial population.\n",
      "Warning: Could only generate 0/1 valid individuals for initial population.\n",
      "Warning: Could only generate 0/1 valid individuals for initial population.\n",
      "Warning: Could only generate 0/1 valid individuals for initial population.\n"
     ]
    },
    {
     "name": "stdout",
     "output_type": "stream",
     "text": [
      "Warning: Could only generate 0/1 valid individuals for initial population.\n",
      "Warning: Could only generate 0/1 valid individuals for initial population.\n",
      "Warning: Could only generate 0/1 valid individuals for initial population.\n",
      "Warning: Could only generate 0/1 valid individuals for initial population.\n",
      "Warning: Could only generate 0/1 valid individuals for initial population.\n",
      "Warning: Could only generate 0/1 valid individuals for initial population.\n",
      "Warning: Could only generate 0/1 valid individuals for initial population.\n",
      "Warning: Could only generate 0/1 valid individuals for initial population.\n",
      "Warning: Could only generate 0/1 valid individuals for initial population.\n",
      "Warning: Could only generate 0/1 valid individuals for initial population.\n",
      "Warning: Could only generate 0/1 valid individuals for initial population.\n"
     ]
    },
    {
     "name": "stdout",
     "output_type": "stream",
     "text": [
      "Warning: Could only generate 0/1 valid individuals for initial population.\n",
      "Warning: Could only generate 0/1 valid individuals for initial population.\n",
      "Warning: Could only generate 0/1 valid individuals for initial population.\n",
      "Warning: Could only generate 0/1 valid individuals for initial population.\n",
      "Warning: Could only generate 0/1 valid individuals for initial population.\n",
      "Warning: Could only generate 0/1 valid individuals for initial population.\n",
      "Warning: Could only generate 0/1 valid individuals for initial population.\n",
      "Warning: Could only generate 0/1 valid individuals for initial population.\n",
      "Warning: Could only generate 0/1 valid individuals for initial population.\n",
      "Warning: Could only generate 0/1 valid individuals for initial population.\n",
      "Warning: Could only generate 0/1 valid individuals for initial population.\n",
      "Warning: Could only generate 0/1 valid individuals for initial population.\n",
      "Warning: Could only generate 0/1 valid individuals for initial population.\n"
     ]
    },
    {
     "name": "stdout",
     "output_type": "stream",
     "text": [
      "Warning: Could only generate 0/1 valid individuals for initial population.\n",
      "Warning: Could only generate 0/1 valid individuals for initial population.\n",
      "Warning: Could only generate 0/1 valid individuals for initial population.\n",
      "Warning: Could only generate 0/1 valid individuals for initial population.\n",
      "Warning: Could only generate 0/1 valid individuals for initial population.\n",
      "Warning: Could only generate 0/1 valid individuals for initial population.\n",
      "Warning: Could only generate 0/1 valid individuals for initial population.\n",
      "Warning: Could only generate 0/1 valid individuals for initial population.\n",
      "Warning: Could only generate 0/1 valid individuals for initial population.\n"
     ]
    },
    {
     "name": "stdout",
     "output_type": "stream",
     "text": [
      "Warning: Could only generate 0/1 valid individuals for initial population.\n",
      "Warning: Could only generate 0/1 valid individuals for initial population.\n",
      "Warning: Could only generate 0/1 valid individuals for initial population.\n",
      "Warning: Could only generate 0/1 valid individuals for initial population.\n",
      "Warning: Could only generate 0/1 valid individuals for initial population.\n",
      "Warning: Could only generate 0/1 valid individuals for initial population.\n",
      "Warning: Could only generate 0/1 valid individuals for initial population.\n",
      "Warning: Could only generate 0/1 valid individuals for initial population.\n",
      "Warning: Could only generate 0/1 valid individuals for initial population.\n"
     ]
    },
    {
     "name": "stdout",
     "output_type": "stream",
     "text": [
      "Warning: Could only generate 0/1 valid individuals for initial population.\n",
      "Warning: Could only generate 0/1 valid individuals for initial population.\n",
      "Warning: Could only generate 0/1 valid individuals for initial population.\n",
      "Warning: Could only generate 0/1 valid individuals for initial population.\n",
      "Warning: Could only generate 0/1 valid individuals for initial population.\n",
      "Warning: Could only generate 0/1 valid individuals for initial population.\n",
      "Warning: Could only generate 0/1 valid individuals for initial population.\n",
      "Warning: Could only generate 0/1 valid individuals for initial population.\n",
      "Warning: Could only generate 0/1 valid individuals for initial population.\n"
     ]
    },
    {
     "name": "stdout",
     "output_type": "stream",
     "text": [
      "Warning: Could only generate 0/1 valid individuals for initial population.\n",
      "Warning: Could only generate 0/1 valid individuals for initial population.\n",
      "Warning: Could only generate 0/1 valid individuals for initial population.\n",
      "Warning: Could only generate 0/1 valid individuals for initial population.\n",
      "Warning: Could only generate 0/1 valid individuals for initial population.\n",
      "Warning: Could only generate 0/1 valid individuals for initial population.\n",
      "Warning: Could only generate 0/1 valid individuals for initial population.\n",
      "Warning: Could only generate 0/1 valid individuals for initial population.\n",
      "Warning: Could only generate 0/1 valid individuals for initial population.\n"
     ]
    },
    {
     "name": "stdout",
     "output_type": "stream",
     "text": [
      "Warning: Could only generate 0/1 valid individuals for initial population.\n",
      "Warning: Could only generate 0/1 valid individuals for initial population.\n",
      "Warning: Could only generate 0/1 valid individuals for initial population.\n",
      "Warning: Could only generate 0/1 valid individuals for initial population.\n",
      "Warning: Could only generate 0/1 valid individuals for initial population.\n",
      "Warning: Could only generate 0/1 valid individuals for initial population.\n",
      "Warning: Could only generate 0/1 valid individuals for initial population.\n"
     ]
    },
    {
     "name": "stdout",
     "output_type": "stream",
     "text": [
      "Warning: Could only generate 0/1 valid individuals for initial population.\n",
      "Warning: Could only generate 0/1 valid individuals for initial population.\n",
      "Warning: Could only generate 0/1 valid individuals for initial population.\n",
      "Warning: Could only generate 0/1 valid individuals for initial population.\n"
     ]
    },
    {
     "name": "stdout",
     "output_type": "stream",
     "text": [
      "Warning: Could only generate 0/1 valid individuals for initial population.\n",
      "Warning: Could only generate 0/1 valid individuals for initial population.\n",
      "Warning: Could only generate 0/1 valid individuals for initial population.\n",
      "Warning: Could only generate 0/1 valid individuals for initial population.\n"
     ]
    },
    {
     "name": "stdout",
     "output_type": "stream",
     "text": [
      "Warning: Could only generate 0/1 valid individuals for initial population.\n"
     ]
    },
    {
     "name": "stdout",
     "output_type": "stream",
     "text": [
      "Warning: Could only generate 0/1 valid individuals for initial population.\n",
      "Warning: Could only generate 0/1 valid individuals for initial population.\n"
     ]
    },
    {
     "name": "stdout",
     "output_type": "stream",
     "text": [
      "Warning: Could only generate 0/1 valid individuals for initial population.\n",
      "Warning: Could only generate 0/1 valid individuals for initial population.\n",
      "Warning: Could only generate 0/1 valid individuals for initial population.\n"
     ]
    },
    {
     "name": "stdout",
     "output_type": "stream",
     "text": [
      "Warning: Could only generate 0/1 valid individuals for initial population.\n",
      "Warning: Could only generate 0/1 valid individuals for initial population.\n",
      "Warning: Could only generate 0/1 valid individuals for initial population.\n",
      "Warning: Could only generate 0/1 valid individuals for initial population.\n"
     ]
    },
    {
     "name": "stdout",
     "output_type": "stream",
     "text": [
      "Warning: Could only generate 0/1 valid individuals for initial population.\n",
      "Warning: Could only generate 0/1 valid individuals for initial population.\n",
      "Warning: Could only generate 0/1 valid individuals for initial population.\n"
     ]
    },
    {
     "name": "stdout",
     "output_type": "stream",
     "text": [
      "Warning: Could only generate 0/1 valid individuals for initial population.\n",
      "Warning: Could only generate 0/1 valid individuals for initial population.\n",
      "Warning: Could only generate 0/1 valid individuals for initial population.\n",
      "Warning: Could only generate 0/1 valid individuals for initial population.\n"
     ]
    },
    {
     "name": "stdout",
     "output_type": "stream",
     "text": [
      "Warning: Could only generate 0/1 valid individuals for initial population.\n",
      "Warning: Could only generate 0/1 valid individuals for initial population.\n",
      "Warning: Could only generate 0/1 valid individuals for initial population.\n",
      "Warning: Could only generate 0/1 valid individuals for initial population.\n"
     ]
    },
    {
     "name": "stdout",
     "output_type": "stream",
     "text": [
      "Warning: Could only generate 0/1 valid individuals for initial population.\n"
     ]
    },
    {
     "name": "stdout",
     "output_type": "stream",
     "text": [
      "Warning: Could only generate 0/1 valid individuals for initial population.\n"
     ]
    },
    {
     "name": "stdout",
     "output_type": "stream",
     "text": [
      "Warning: Could only generate 0/1 valid individuals for initial population.\n"
     ]
    },
    {
     "name": "stdout",
     "output_type": "stream",
     "text": [
      "Warning: Could only generate 0/1 valid individuals for initial population.\n"
     ]
    },
    {
     "name": "stdout",
     "output_type": "stream",
     "text": [
      "Warning: Could only generate 0/1 valid individuals for initial population.\n"
     ]
    },
    {
     "name": "stdout",
     "output_type": "stream",
     "text": [
      "Warning: Could only generate 0/1 valid individuals for initial population.\n"
     ]
    },
    {
     "name": "stdout",
     "output_type": "stream",
     "text": [
      "Warning: Could only generate 0/1 valid individuals for initial population.\n"
     ]
    },
    {
     "name": "stdout",
     "output_type": "stream",
     "text": [
      "Warning: Could only generate 0/1 valid individuals for initial population.\n",
      "Warning: Could only generate 0/1 valid individuals for initial population.\n"
     ]
    },
    {
     "name": "stdout",
     "output_type": "stream",
     "text": [
      "Warning: Could only generate 0/1 valid individuals for initial population.\n"
     ]
    },
    {
     "name": "stdout",
     "output_type": "stream",
     "text": [
      "Warning: Could only generate 0/1 valid individuals for initial population.\n"
     ]
    },
    {
     "name": "stdout",
     "output_type": "stream",
     "text": [
      "Warning: Could only generate 0/1 valid individuals for initial population.\n"
     ]
    },
    {
     "name": "stdout",
     "output_type": "stream",
     "text": [
      "Warning: Could only generate 0/1 valid individuals for initial population.\n",
      "Warning: Could only generate 0/1 valid individuals for initial population.\n"
     ]
    },
    {
     "name": "stdout",
     "output_type": "stream",
     "text": [
      "Warning: Could only generate 0/1 valid individuals for initial population.\n"
     ]
    },
    {
     "name": "stdout",
     "output_type": "stream",
     "text": [
      "Warning: Could only generate 0/1 valid individuals for initial population.\n",
      "  GA_Config_2 (TargetExch,UnifPreferV,Ranking) - Run 29/30...\n",
      "Warning: Could only generate 0/50 valid individuals for initial population.\n",
      "Error: Initial population is empty. GA cannot proceed.\n",
      "    GA_Config_2 (TargetExch,UnifPreferV,Ranking) - Run 29 failed to produce a solution.\n",
      "  GA_Config_2 (TargetExch,UnifPreferV,Ranking) - Run 30/30...\n"
     ]
    },
    {
     "name": "stdout",
     "output_type": "stream",
     "text": [
      "Warning: Could only generate 0/50 valid individuals for initial population.\n",
      "Error: Initial population is empty. GA cannot proceed.\n",
      "    GA_Config_2 (TargetExch,UnifPreferV,Ranking) - Run 30 failed to produce a solution.\n",
      "GA_Config_2 (TargetExch,UnifPreferV,Ranking) (30 runs) summary:\n",
      "  Mean Best Fitness: 0.0571\n",
      "  Std Dev Best Fitness: 0.0000\n",
      "  Mean Execution Time: 22.30s\n",
      "  Overall Best Fitness for this config: 0.05714285714285552\n",
      "----------------------------------------------------\n",
      "\n",
      "Running GA_Config_3 (ShuffleWithin,1PtPreferV,Boltzmann) for 30 runs...\n",
      "  GA_Config_3 (ShuffleWithin,1PtPreferV,Boltzmann) - Run 1/30...\n",
      "Warning: Could only generate 0/50 valid individuals for initial population.\n",
      "Error: Initial population is empty. GA cannot proceed.\n",
      "    GA_Config_3 (ShuffleWithin,1PtPreferV,Boltzmann) - Run 1 failed to produce a solution.\n",
      "  GA_Config_3 (ShuffleWithin,1PtPreferV,Boltzmann) - Run 2/30...\n",
      "Warning: Could only generate 0/50 valid individuals for initial population.\n",
      "Error: Initial population is empty. GA cannot proceed.\n",
      "    GA_Config_3 (ShuffleWithin,1PtPreferV,Boltzmann) - Run 2 failed to produce a solution.\n",
      "  GA_Config_3 (ShuffleWithin,1PtPreferV,Boltzmann) - Run 3/30...\n"
     ]
    },
    {
     "name": "stdout",
     "output_type": "stream",
     "text": [
      "Warning: Could only generate 0/50 valid individuals for initial population.\n",
      "Error: Initial population is empty. GA cannot proceed.\n",
      "    GA_Config_3 (ShuffleWithin,1PtPreferV,Boltzmann) - Run 3 failed to produce a solution.\n",
      "  GA_Config_3 (ShuffleWithin,1PtPreferV,Boltzmann) - Run 4/30...\n",
      "Warning: Could only generate 0/50 valid individuals for initial population.\n",
      "Error: Initial population is empty. GA cannot proceed.\n",
      "    GA_Config_3 (ShuffleWithin,1PtPreferV,Boltzmann) - Run 4 failed to produce a solution.\n",
      "  GA_Config_3 (ShuffleWithin,1PtPreferV,Boltzmann) - Run 5/30...\n",
      "Warning: Could only generate 0/50 valid individuals for initial population.\n",
      "Error: Initial population is empty. GA cannot proceed.\n",
      "    GA_Config_3 (ShuffleWithin,1PtPreferV,Boltzmann) - Run 5 failed to produce a solution.\n",
      "  GA_Config_3 (ShuffleWithin,1PtPreferV,Boltzmann) - Run 6/30...\n"
     ]
    },
    {
     "name": "stdout",
     "output_type": "stream",
     "text": [
      "Warning: Could only generate 1/50 valid individuals for initial population.\n"
     ]
    },
    {
     "name": "stdout",
     "output_type": "stream",
     "text": [
      "Warning: Could only generate 0/1 valid individuals for initial population.\n",
      "Warning: Could only generate 0/1 valid individuals for initial population.\n",
      "Warning: Could only generate 0/1 valid individuals for initial population.\n"
     ]
    },
    {
     "name": "stdout",
     "output_type": "stream",
     "text": [
      "Warning: Could only generate 0/1 valid individuals for initial population.\n",
      "Warning: Could only generate 0/1 valid individuals for initial population.\n"
     ]
    },
    {
     "name": "stdout",
     "output_type": "stream",
     "text": [
      "Warning: Could only generate 0/1 valid individuals for initial population.\n",
      "Warning: Could only generate 0/1 valid individuals for initial population.\n",
      "Warning: Could only generate 0/1 valid individuals for initial population.\n"
     ]
    },
    {
     "name": "stdout",
     "output_type": "stream",
     "text": [
      "Warning: Could only generate 0/1 valid individuals for initial population.\n",
      "Warning: Could only generate 0/1 valid individuals for initial population.\n"
     ]
    },
    {
     "name": "stdout",
     "output_type": "stream",
     "text": [
      "Warning: Could only generate 0/1 valid individuals for initial population.\n",
      "Warning: Could only generate 0/1 valid individuals for initial population.\n",
      "Warning: Could only generate 0/1 valid individuals for initial population.\n",
      "Warning: Could only generate 0/1 valid individuals for initial population.\n"
     ]
    },
    {
     "name": "stdout",
     "output_type": "stream",
     "text": [
      "Warning: Could only generate 0/1 valid individuals for initial population.\n"
     ]
    },
    {
     "name": "stdout",
     "output_type": "stream",
     "text": [
      "Warning: Could only generate 0/1 valid individuals for initial population.\n",
      "Warning: Could only generate 0/1 valid individuals for initial population.\n",
      "Warning: Could only generate 0/1 valid individuals for initial population.\n"
     ]
    },
    {
     "name": "stdout",
     "output_type": "stream",
     "text": [
      "Warning: Could only generate 0/1 valid individuals for initial population.\n",
      "Warning: Could only generate 0/1 valid individuals for initial population.\n"
     ]
    },
    {
     "name": "stdout",
     "output_type": "stream",
     "text": [
      "Warning: Could only generate 0/1 valid individuals for initial population.\n",
      "Warning: Could only generate 0/1 valid individuals for initial population.\n",
      "Warning: Could only generate 0/1 valid individuals for initial population.\n",
      "Warning: Could only generate 0/1 valid individuals for initial population.\n"
     ]
    },
    {
     "name": "stdout",
     "output_type": "stream",
     "text": [
      "Warning: Could only generate 0/1 valid individuals for initial population.\n",
      "Warning: Could only generate 0/1 valid individuals for initial population.\n",
      "Warning: Could only generate 0/1 valid individuals for initial population.\n"
     ]
    },
    {
     "name": "stdout",
     "output_type": "stream",
     "text": [
      "Warning: Could only generate 0/1 valid individuals for initial population.\n"
     ]
    },
    {
     "name": "stdout",
     "output_type": "stream",
     "text": [
      "Warning: Could only generate 0/1 valid individuals for initial population.\n",
      "Warning: Could only generate 0/1 valid individuals for initial population.\n",
      "Warning: Could only generate 0/1 valid individuals for initial population.\n",
      "Warning: Could only generate 0/1 valid individuals for initial population.\n",
      "Warning: Could only generate 0/1 valid individuals for initial population.\n"
     ]
    },
    {
     "name": "stdout",
     "output_type": "stream",
     "text": [
      "Warning: Could only generate 0/1 valid individuals for initial population.\n",
      "Warning: Could only generate 0/1 valid individuals for initial population.\n",
      "Warning: Could only generate 0/1 valid individuals for initial population.\n",
      "Warning: Could only generate 0/1 valid individuals for initial population.\n"
     ]
    },
    {
     "name": "stdout",
     "output_type": "stream",
     "text": [
      "Warning: Could only generate 0/1 valid individuals for initial population.\n",
      "Warning: Could only generate 0/1 valid individuals for initial population.\n",
      "Warning: Could only generate 0/1 valid individuals for initial population.\n",
      "Warning: Could only generate 0/1 valid individuals for initial population.\n"
     ]
    },
    {
     "name": "stdout",
     "output_type": "stream",
     "text": [
      "Warning: Could only generate 0/1 valid individuals for initial population.\n",
      "Warning: Could only generate 0/1 valid individuals for initial population.\n",
      "Warning: Could only generate 0/1 valid individuals for initial population.\n",
      "Warning: Could only generate 0/1 valid individuals for initial population.\n",
      "Warning: Could only generate 0/1 valid individuals for initial population.\n"
     ]
    },
    {
     "name": "stdout",
     "output_type": "stream",
     "text": [
      "Warning: Could only generate 0/1 valid individuals for initial population.\n",
      "Warning: Could only generate 0/1 valid individuals for initial population.\n"
     ]
    },
    {
     "name": "stdout",
     "output_type": "stream",
     "text": [
      "Warning: Could only generate 0/1 valid individuals for initial population.\n",
      "Warning: Could only generate 0/1 valid individuals for initial population.\n"
     ]
    },
    {
     "name": "stdout",
     "output_type": "stream",
     "text": [
      "Warning: Could only generate 0/1 valid individuals for initial population.\n",
      "Warning: Could only generate 0/1 valid individuals for initial population.\n"
     ]
    },
    {
     "name": "stdout",
     "output_type": "stream",
     "text": [
      "Warning: Could only generate 0/1 valid individuals for initial population.\n"
     ]
    },
    {
     "name": "stdout",
     "output_type": "stream",
     "text": [
      "Warning: Could only generate 0/1 valid individuals for initial population.\n",
      "Warning: Could only generate 0/1 valid individuals for initial population.\n"
     ]
    },
    {
     "name": "stdout",
     "output_type": "stream",
     "text": [
      "Warning: Could only generate 0/1 valid individuals for initial population.\n"
     ]
    },
    {
     "name": "stdout",
     "output_type": "stream",
     "text": [
      "Warning: Could only generate 0/1 valid individuals for initial population.\n",
      "Warning: Could only generate 0/1 valid individuals for initial population.\n"
     ]
    },
    {
     "name": "stdout",
     "output_type": "stream",
     "text": [
      "Warning: Could only generate 0/1 valid individuals for initial population.\n"
     ]
    },
    {
     "name": "stdout",
     "output_type": "stream",
     "text": [
      "Warning: Could only generate 0/1 valid individuals for initial population.\n"
     ]
    },
    {
     "name": "stdout",
     "output_type": "stream",
     "text": [
      "Warning: Could only generate 0/1 valid individuals for initial population.\n",
      "Warning: Could only generate 0/1 valid individuals for initial population.\n"
     ]
    },
    {
     "name": "stdout",
     "output_type": "stream",
     "text": [
      "Warning: Could only generate 0/1 valid individuals for initial population.\n",
      "Warning: Could only generate 0/1 valid individuals for initial population.\n"
     ]
    },
    {
     "name": "stdout",
     "output_type": "stream",
     "text": [
      "Warning: Could only generate 0/1 valid individuals for initial population.\n",
      "Warning: Could only generate 0/1 valid individuals for initial population.\n",
      "Warning: Could only generate 0/1 valid individuals for initial population.\n"
     ]
    },
    {
     "name": "stdout",
     "output_type": "stream",
     "text": [
      "Warning: Could only generate 0/1 valid individuals for initial population.\n",
      "Warning: Could only generate 0/1 valid individuals for initial population.\n"
     ]
    },
    {
     "name": "stdout",
     "output_type": "stream",
     "text": [
      "Warning: Could only generate 0/1 valid individuals for initial population.\n",
      "Warning: Could only generate 0/1 valid individuals for initial population.\n",
      "Warning: Could only generate 0/1 valid individuals for initial population.\n"
     ]
    },
    {
     "name": "stdout",
     "output_type": "stream",
     "text": [
      "Warning: Could only generate 0/1 valid individuals for initial population.\n",
      "Warning: Could only generate 0/1 valid individuals for initial population.\n"
     ]
    },
    {
     "name": "stdout",
     "output_type": "stream",
     "text": [
      "Warning: Could only generate 0/1 valid individuals for initial population.\n",
      "Warning: Could only generate 0/1 valid individuals for initial population.\n"
     ]
    },
    {
     "name": "stdout",
     "output_type": "stream",
     "text": [
      "Warning: Could only generate 0/1 valid individuals for initial population.\n",
      "Warning: Could only generate 0/1 valid individuals for initial population.\n"
     ]
    },
    {
     "name": "stdout",
     "output_type": "stream",
     "text": [
      "Warning: Could only generate 0/1 valid individuals for initial population.\n",
      "Warning: Could only generate 0/1 valid individuals for initial population.\n"
     ]
    },
    {
     "name": "stdout",
     "output_type": "stream",
     "text": [
      "Warning: Could only generate 0/1 valid individuals for initial population.\n",
      "Warning: Could only generate 0/1 valid individuals for initial population.\n",
      "Warning: Could only generate 0/1 valid individuals for initial population.\n",
      "Warning: Could only generate 0/1 valid individuals for initial population.\n"
     ]
    },
    {
     "name": "stdout",
     "output_type": "stream",
     "text": [
      "Warning: Could only generate 0/1 valid individuals for initial population.\n",
      "Warning: Could only generate 0/1 valid individuals for initial population.\n"
     ]
    },
    {
     "name": "stdout",
     "output_type": "stream",
     "text": [
      "Warning: Could only generate 0/1 valid individuals for initial population.\n",
      "Warning: Could only generate 0/1 valid individuals for initial population.\n"
     ]
    },
    {
     "name": "stdout",
     "output_type": "stream",
     "text": [
      "Warning: Could only generate 0/1 valid individuals for initial population.\n",
      "Warning: Could only generate 0/1 valid individuals for initial population.\n",
      "Warning: Could only generate 0/1 valid individuals for initial population.\n"
     ]
    },
    {
     "name": "stdout",
     "output_type": "stream",
     "text": [
      "Warning: Could only generate 0/1 valid individuals for initial population.\n",
      "Warning: Could only generate 0/1 valid individuals for initial population.\n"
     ]
    },
    {
     "name": "stdout",
     "output_type": "stream",
     "text": [
      "Warning: Could only generate 0/1 valid individuals for initial population.\n",
      "Warning: Could only generate 0/1 valid individuals for initial population.\n",
      "Warning: Could only generate 0/1 valid individuals for initial population.\n",
      "Warning: Could only generate 0/1 valid individuals for initial population.\n"
     ]
    },
    {
     "name": "stdout",
     "output_type": "stream",
     "text": [
      "Warning: Could only generate 0/1 valid individuals for initial population.\n",
      "Warning: Could only generate 0/1 valid individuals for initial population.\n",
      "Warning: Could only generate 0/1 valid individuals for initial population.\n"
     ]
    },
    {
     "name": "stdout",
     "output_type": "stream",
     "text": [
      "Warning: Could only generate 0/1 valid individuals for initial population.\n"
     ]
    },
    {
     "name": "stdout",
     "output_type": "stream",
     "text": [
      "Warning: Could only generate 0/1 valid individuals for initial population.\n",
      "Warning: Could only generate 0/1 valid individuals for initial population.\n",
      "Warning: Could only generate 0/1 valid individuals for initial population.\n"
     ]
    },
    {
     "name": "stdout",
     "output_type": "stream",
     "text": [
      "Warning: Could only generate 0/1 valid individuals for initial population.\n",
      "Warning: Could only generate 0/1 valid individuals for initial population.\n"
     ]
    },
    {
     "name": "stdout",
     "output_type": "stream",
     "text": [
      "Warning: Could only generate 0/1 valid individuals for initial population.\n",
      "Warning: Could only generate 0/1 valid individuals for initial population.\n",
      "Warning: Could only generate 0/1 valid individuals for initial population.\n"
     ]
    },
    {
     "name": "stdout",
     "output_type": "stream",
     "text": [
      "Warning: Could only generate 0/1 valid individuals for initial population.\n",
      "Warning: Could only generate 0/1 valid individuals for initial population.\n",
      "Warning: Could only generate 0/1 valid individuals for initial population.\n",
      "Warning: Could only generate 0/1 valid individuals for initial population.\n"
     ]
    },
    {
     "name": "stdout",
     "output_type": "stream",
     "text": [
      "Warning: Could only generate 0/1 valid individuals for initial population.\n",
      "Warning: Could only generate 0/1 valid individuals for initial population.\n",
      "Warning: Could only generate 0/1 valid individuals for initial population.\n",
      "Warning: Could only generate 0/1 valid individuals for initial population.\n"
     ]
    },
    {
     "name": "stdout",
     "output_type": "stream",
     "text": [
      "Warning: Could only generate 0/1 valid individuals for initial population.\n",
      "Warning: Could only generate 0/1 valid individuals for initial population.\n"
     ]
    },
    {
     "name": "stdout",
     "output_type": "stream",
     "text": [
      "Warning: Could only generate 0/1 valid individuals for initial population.\n",
      "Warning: Could only generate 0/1 valid individuals for initial population.\n",
      "Warning: Could only generate 0/1 valid individuals for initial population.\n"
     ]
    },
    {
     "name": "stdout",
     "output_type": "stream",
     "text": [
      "Warning: Could only generate 0/1 valid individuals for initial population.\n",
      "Warning: Could only generate 0/1 valid individuals for initial population.\n",
      "Warning: Could only generate 0/1 valid individuals for initial population.\n",
      "Warning: Could only generate 0/1 valid individuals for initial population.\n"
     ]
    },
    {
     "name": "stdout",
     "output_type": "stream",
     "text": [
      "Warning: Could only generate 0/1 valid individuals for initial population.\n",
      "Warning: Could only generate 0/1 valid individuals for initial population.\n"
     ]
    },
    {
     "name": "stdout",
     "output_type": "stream",
     "text": [
      "Warning: Could only generate 0/1 valid individuals for initial population.\n"
     ]
    },
    {
     "name": "stdout",
     "output_type": "stream",
     "text": [
      "Warning: Could only generate 0/1 valid individuals for initial population.\n",
      "  GA_Config_3 (ShuffleWithin,1PtPreferV,Boltzmann) - Run 7/30...\n",
      "Warning: Could only generate 0/50 valid individuals for initial population.\n",
      "Error: Initial population is empty. GA cannot proceed.\n",
      "    GA_Config_3 (ShuffleWithin,1PtPreferV,Boltzmann) - Run 7 failed to produce a solution.\n",
      "  GA_Config_3 (ShuffleWithin,1PtPreferV,Boltzmann) - Run 8/30...\n"
     ]
    },
    {
     "name": "stdout",
     "output_type": "stream",
     "text": [
      "Warning: Could only generate 0/50 valid individuals for initial population.\n",
      "Error: Initial population is empty. GA cannot proceed.\n",
      "    GA_Config_3 (ShuffleWithin,1PtPreferV,Boltzmann) - Run 8 failed to produce a solution.\n",
      "  GA_Config_3 (ShuffleWithin,1PtPreferV,Boltzmann) - Run 9/30...\n",
      "Warning: Could only generate 0/50 valid individuals for initial population.\n",
      "Error: Initial population is empty. GA cannot proceed.\n",
      "    GA_Config_3 (ShuffleWithin,1PtPreferV,Boltzmann) - Run 9 failed to produce a solution.\n",
      "  GA_Config_3 (ShuffleWithin,1PtPreferV,Boltzmann) - Run 10/30...\n"
     ]
    },
    {
     "name": "stdout",
     "output_type": "stream",
     "text": [
      "Warning: Could only generate 0/50 valid individuals for initial population.\n",
      "Error: Initial population is empty. GA cannot proceed.\n",
      "    GA_Config_3 (ShuffleWithin,1PtPreferV,Boltzmann) - Run 10 failed to produce a solution.\n",
      "  GA_Config_3 (ShuffleWithin,1PtPreferV,Boltzmann) - Run 11/30...\n",
      "Warning: Could only generate 0/50 valid individuals for initial population.\n",
      "Error: Initial population is empty. GA cannot proceed.\n",
      "    GA_Config_3 (ShuffleWithin,1PtPreferV,Boltzmann) - Run 11 failed to produce a solution.\n",
      "  GA_Config_3 (ShuffleWithin,1PtPreferV,Boltzmann) - Run 12/30...\n",
      "Warning: Could only generate 0/50 valid individuals for initial population.\n",
      "Error: Initial population is empty. GA cannot proceed.\n",
      "    GA_Config_3 (ShuffleWithin,1PtPreferV,Boltzmann) - Run 12 failed to produce a solution.\n",
      "  GA_Config_3 (ShuffleWithin,1PtPreferV,Boltzmann) - Run 13/30...\n"
     ]
    },
    {
     "name": "stdout",
     "output_type": "stream",
     "text": [
      "Warning: Could only generate 0/50 valid individuals for initial population.\n",
      "Error: Initial population is empty. GA cannot proceed.\n",
      "    GA_Config_3 (ShuffleWithin,1PtPreferV,Boltzmann) - Run 13 failed to produce a solution.\n",
      "  GA_Config_3 (ShuffleWithin,1PtPreferV,Boltzmann) - Run 14/30...\n",
      "Warning: Could only generate 0/50 valid individuals for initial population.\n",
      "Error: Initial population is empty. GA cannot proceed.\n",
      "    GA_Config_3 (ShuffleWithin,1PtPreferV,Boltzmann) - Run 14 failed to produce a solution.\n",
      "  GA_Config_3 (ShuffleWithin,1PtPreferV,Boltzmann) - Run 15/30...\n",
      "Warning: Could only generate 0/50 valid individuals for initial population.\n",
      "Error: Initial population is empty. GA cannot proceed.\n",
      "    GA_Config_3 (ShuffleWithin,1PtPreferV,Boltzmann) - Run 15 failed to produce a solution.\n",
      "  GA_Config_3 (ShuffleWithin,1PtPreferV,Boltzmann) - Run 16/30...\n"
     ]
    },
    {
     "name": "stdout",
     "output_type": "stream",
     "text": [
      "Warning: Could only generate 1/50 valid individuals for initial population.\n"
     ]
    },
    {
     "name": "stdout",
     "output_type": "stream",
     "text": [
      "Warning: Could only generate 0/1 valid individuals for initial population.\n"
     ]
    },
    {
     "name": "stdout",
     "output_type": "stream",
     "text": [
      "Warning: Could only generate 0/1 valid individuals for initial population.\n"
     ]
    },
    {
     "name": "stdout",
     "output_type": "stream",
     "text": [
      "Warning: Could only generate 0/1 valid individuals for initial population.\n",
      "Warning: Could only generate 0/1 valid individuals for initial population.\n",
      "Warning: Could only generate 0/1 valid individuals for initial population.\n"
     ]
    },
    {
     "name": "stdout",
     "output_type": "stream",
     "text": [
      "Warning: Could only generate 0/1 valid individuals for initial population.\n"
     ]
    },
    {
     "name": "stdout",
     "output_type": "stream",
     "text": [
      "Warning: Could only generate 0/1 valid individuals for initial population.\n",
      "Warning: Could only generate 0/1 valid individuals for initial population.\n"
     ]
    },
    {
     "name": "stdout",
     "output_type": "stream",
     "text": [
      "Warning: Could only generate 0/1 valid individuals for initial population.\n"
     ]
    },
    {
     "name": "stdout",
     "output_type": "stream",
     "text": [
      "Warning: Could only generate 0/1 valid individuals for initial population.\n"
     ]
    },
    {
     "name": "stdout",
     "output_type": "stream",
     "text": [
      "Warning: Could only generate 0/1 valid individuals for initial population.\n"
     ]
    },
    {
     "name": "stdout",
     "output_type": "stream",
     "text": [
      "Warning: Could only generate 0/1 valid individuals for initial population.\n"
     ]
    },
    {
     "name": "stdout",
     "output_type": "stream",
     "text": [
      "Warning: Could only generate 0/1 valid individuals for initial population.\n",
      "Warning: Could only generate 0/1 valid individuals for initial population.\n"
     ]
    },
    {
     "name": "stdout",
     "output_type": "stream",
     "text": [
      "Warning: Could only generate 0/1 valid individuals for initial population.\n"
     ]
    },
    {
     "name": "stdout",
     "output_type": "stream",
     "text": [
      "Warning: Could only generate 0/1 valid individuals for initial population.\n"
     ]
    },
    {
     "name": "stdout",
     "output_type": "stream",
     "text": [
      "Warning: Could only generate 0/1 valid individuals for initial population.\n",
      "Warning: Could only generate 0/1 valid individuals for initial population.\n"
     ]
    },
    {
     "name": "stdout",
     "output_type": "stream",
     "text": [
      "Warning: Could only generate 0/1 valid individuals for initial population.\n"
     ]
    },
    {
     "name": "stdout",
     "output_type": "stream",
     "text": [
      "Warning: Could only generate 0/1 valid individuals for initial population.\n"
     ]
    },
    {
     "name": "stdout",
     "output_type": "stream",
     "text": [
      "Warning: Could only generate 0/1 valid individuals for initial population.\n",
      "Warning: Could only generate 0/1 valid individuals for initial population.\n",
      "Warning: Could only generate 0/1 valid individuals for initial population.\n"
     ]
    },
    {
     "name": "stdout",
     "output_type": "stream",
     "text": [
      "Warning: Could only generate 0/1 valid individuals for initial population.\n",
      "Warning: Could only generate 0/1 valid individuals for initial population.\n",
      "Warning: Could only generate 0/1 valid individuals for initial population.\n",
      "Warning: Could only generate 0/1 valid individuals for initial population.\n"
     ]
    },
    {
     "name": "stdout",
     "output_type": "stream",
     "text": [
      "Warning: Could only generate 0/1 valid individuals for initial population.\n"
     ]
    },
    {
     "name": "stdout",
     "output_type": "stream",
     "text": [
      "Warning: Could only generate 0/1 valid individuals for initial population.\n"
     ]
    },
    {
     "name": "stdout",
     "output_type": "stream",
     "text": [
      "Warning: Could only generate 0/1 valid individuals for initial population.\n"
     ]
    },
    {
     "name": "stdout",
     "output_type": "stream",
     "text": [
      "Warning: Could only generate 0/1 valid individuals for initial population.\n"
     ]
    },
    {
     "name": "stdout",
     "output_type": "stream",
     "text": [
      "Warning: Could only generate 0/1 valid individuals for initial population.\n"
     ]
    },
    {
     "name": "stdout",
     "output_type": "stream",
     "text": [
      "Warning: Could only generate 0/1 valid individuals for initial population.\n"
     ]
    },
    {
     "name": "stdout",
     "output_type": "stream",
     "text": [
      "Warning: Could only generate 0/1 valid individuals for initial population.\n",
      "Warning: Could only generate 0/1 valid individuals for initial population.\n"
     ]
    },
    {
     "name": "stdout",
     "output_type": "stream",
     "text": [
      "Warning: Could only generate 0/1 valid individuals for initial population.\n",
      "Warning: Could only generate 0/1 valid individuals for initial population.\n",
      "Warning: Could only generate 0/1 valid individuals for initial population.\n"
     ]
    },
    {
     "name": "stdout",
     "output_type": "stream",
     "text": [
      "Warning: Could only generate 0/1 valid individuals for initial population.\n",
      "Warning: Could only generate 0/1 valid individuals for initial population.\n",
      "Warning: Could only generate 0/1 valid individuals for initial population.\n"
     ]
    },
    {
     "name": "stdout",
     "output_type": "stream",
     "text": [
      "Warning: Could only generate 0/1 valid individuals for initial population.\n",
      "Warning: Could only generate 0/1 valid individuals for initial population.\n",
      "Warning: Could only generate 0/1 valid individuals for initial population.\n",
      "Warning: Could only generate 0/1 valid individuals for initial population.\n",
      "Warning: Could only generate 0/1 valid individuals for initial population.\n",
      "Warning: Could only generate 0/1 valid individuals for initial population.\n"
     ]
    },
    {
     "name": "stdout",
     "output_type": "stream",
     "text": [
      "Warning: Could only generate 0/1 valid individuals for initial population.\n",
      "Warning: Could only generate 0/1 valid individuals for initial population.\n"
     ]
    },
    {
     "name": "stdout",
     "output_type": "stream",
     "text": [
      "Warning: Could only generate 0/1 valid individuals for initial population.\n"
     ]
    },
    {
     "name": "stdout",
     "output_type": "stream",
     "text": [
      "Warning: Could only generate 0/1 valid individuals for initial population.\n",
      "Warning: Could only generate 0/1 valid individuals for initial population.\n",
      "Warning: Could only generate 0/1 valid individuals for initial population.\n"
     ]
    },
    {
     "name": "stdout",
     "output_type": "stream",
     "text": [
      "Warning: Could only generate 0/1 valid individuals for initial population.\n"
     ]
    },
    {
     "name": "stdout",
     "output_type": "stream",
     "text": [
      "Warning: Could only generate 0/1 valid individuals for initial population.\n",
      "Warning: Could only generate 0/1 valid individuals for initial population.\n"
     ]
    },
    {
     "name": "stdout",
     "output_type": "stream",
     "text": [
      "Warning: Could only generate 0/1 valid individuals for initial population.\n",
      "Warning: Could only generate 0/1 valid individuals for initial population.\n",
      "Warning: Could only generate 0/1 valid individuals for initial population.\n"
     ]
    },
    {
     "name": "stdout",
     "output_type": "stream",
     "text": [
      "Warning: Could only generate 0/1 valid individuals for initial population.\n"
     ]
    },
    {
     "name": "stdout",
     "output_type": "stream",
     "text": [
      "Warning: Could only generate 0/1 valid individuals for initial population.\n",
      "Warning: Could only generate 0/1 valid individuals for initial population.\n"
     ]
    },
    {
     "name": "stdout",
     "output_type": "stream",
     "text": [
      "Warning: Could only generate 0/1 valid individuals for initial population.\n",
      "Warning: Could only generate 0/1 valid individuals for initial population.\n"
     ]
    },
    {
     "name": "stdout",
     "output_type": "stream",
     "text": [
      "Warning: Could only generate 0/1 valid individuals for initial population.\n"
     ]
    },
    {
     "name": "stdout",
     "output_type": "stream",
     "text": [
      "Warning: Could only generate 0/1 valid individuals for initial population.\n",
      "Warning: Could only generate 0/1 valid individuals for initial population.\n"
     ]
    },
    {
     "name": "stdout",
     "output_type": "stream",
     "text": [
      "Warning: Could only generate 0/1 valid individuals for initial population.\n"
     ]
    },
    {
     "name": "stdout",
     "output_type": "stream",
     "text": [
      "Warning: Could only generate 0/1 valid individuals for initial population.\n"
     ]
    },
    {
     "name": "stdout",
     "output_type": "stream",
     "text": [
      "Warning: Could only generate 0/1 valid individuals for initial population.\n"
     ]
    },
    {
     "name": "stdout",
     "output_type": "stream",
     "text": [
      "Warning: Could only generate 0/1 valid individuals for initial population.\n",
      "Warning: Could only generate 0/1 valid individuals for initial population.\n"
     ]
    },
    {
     "name": "stdout",
     "output_type": "stream",
     "text": [
      "Warning: Could only generate 0/1 valid individuals for initial population.\n",
      "  GA_Config_3 (ShuffleWithin,1PtPreferV,Boltzmann) - Run 17/30...\n",
      "Warning: Could only generate 0/50 valid individuals for initial population.\n",
      "Error: Initial population is empty. GA cannot proceed.\n",
      "    GA_Config_3 (ShuffleWithin,1PtPreferV,Boltzmann) - Run 17 failed to produce a solution.\n",
      "  GA_Config_3 (ShuffleWithin,1PtPreferV,Boltzmann) - Run 18/30...\n"
     ]
    },
    {
     "name": "stdout",
     "output_type": "stream",
     "text": [
      "Warning: Could only generate 0/50 valid individuals for initial population.\n",
      "Error: Initial population is empty. GA cannot proceed.\n",
      "    GA_Config_3 (ShuffleWithin,1PtPreferV,Boltzmann) - Run 18 failed to produce a solution.\n",
      "  GA_Config_3 (ShuffleWithin,1PtPreferV,Boltzmann) - Run 19/30...\n",
      "Warning: Could only generate 0/50 valid individuals for initial population.\n",
      "Error: Initial population is empty. GA cannot proceed.\n",
      "    GA_Config_3 (ShuffleWithin,1PtPreferV,Boltzmann) - Run 19 failed to produce a solution.\n",
      "  GA_Config_3 (ShuffleWithin,1PtPreferV,Boltzmann) - Run 20/30...\n",
      "Warning: Could only generate 0/50 valid individuals for initial population.\n",
      "Error: Initial population is empty. GA cannot proceed.\n",
      "    GA_Config_3 (ShuffleWithin,1PtPreferV,Boltzmann) - Run 20 failed to produce a solution.\n",
      "  GA_Config_3 (ShuffleWithin,1PtPreferV,Boltzmann) - Run 21/30...\n"
     ]
    },
    {
     "name": "stdout",
     "output_type": "stream",
     "text": [
      "Warning: Could only generate 0/50 valid individuals for initial population.\n",
      "Error: Initial population is empty. GA cannot proceed.\n",
      "    GA_Config_3 (ShuffleWithin,1PtPreferV,Boltzmann) - Run 21 failed to produce a solution.\n",
      "  GA_Config_3 (ShuffleWithin,1PtPreferV,Boltzmann) - Run 22/30...\n",
      "Warning: Could only generate 0/50 valid individuals for initial population.\n",
      "Error: Initial population is empty. GA cannot proceed.\n",
      "    GA_Config_3 (ShuffleWithin,1PtPreferV,Boltzmann) - Run 22 failed to produce a solution.\n",
      "  GA_Config_3 (ShuffleWithin,1PtPreferV,Boltzmann) - Run 23/30...\n",
      "Warning: Could only generate 0/50 valid individuals for initial population.\n",
      "Error: Initial population is empty. GA cannot proceed.\n",
      "    GA_Config_3 (ShuffleWithin,1PtPreferV,Boltzmann) - Run 23 failed to produce a solution.\n",
      "  GA_Config_3 (ShuffleWithin,1PtPreferV,Boltzmann) - Run 24/30...\n"
     ]
    },
    {
     "name": "stdout",
     "output_type": "stream",
     "text": [
      "Warning: Could only generate 0/50 valid individuals for initial population.\n",
      "Error: Initial population is empty. GA cannot proceed.\n",
      "    GA_Config_3 (ShuffleWithin,1PtPreferV,Boltzmann) - Run 24 failed to produce a solution.\n",
      "  GA_Config_3 (ShuffleWithin,1PtPreferV,Boltzmann) - Run 25/30...\n",
      "Warning: Could only generate 0/50 valid individuals for initial population.\n",
      "Error: Initial population is empty. GA cannot proceed.\n",
      "    GA_Config_3 (ShuffleWithin,1PtPreferV,Boltzmann) - Run 25 failed to produce a solution.\n",
      "  GA_Config_3 (ShuffleWithin,1PtPreferV,Boltzmann) - Run 26/30...\n",
      "Warning: Could only generate 0/50 valid individuals for initial population.\n",
      "Error: Initial population is empty. GA cannot proceed.\n",
      "    GA_Config_3 (ShuffleWithin,1PtPreferV,Boltzmann) - Run 26 failed to produce a solution.\n",
      "  GA_Config_3 (ShuffleWithin,1PtPreferV,Boltzmann) - Run 27/30...\n"
     ]
    },
    {
     "name": "stdout",
     "output_type": "stream",
     "text": [
      "Warning: Could only generate 0/50 valid individuals for initial population.\n",
      "Error: Initial population is empty. GA cannot proceed.\n",
      "    GA_Config_3 (ShuffleWithin,1PtPreferV,Boltzmann) - Run 27 failed to produce a solution.\n",
      "  GA_Config_3 (ShuffleWithin,1PtPreferV,Boltzmann) - Run 28/30...\n",
      "Warning: Could only generate 0/50 valid individuals for initial population.\n",
      "Error: Initial population is empty. GA cannot proceed.\n",
      "    GA_Config_3 (ShuffleWithin,1PtPreferV,Boltzmann) - Run 28 failed to produce a solution.\n",
      "  GA_Config_3 (ShuffleWithin,1PtPreferV,Boltzmann) - Run 29/30...\n",
      "Warning: Could only generate 1/50 valid individuals for initial population.\n"
     ]
    },
    {
     "name": "stdout",
     "output_type": "stream",
     "text": [
      "Warning: Could only generate 0/1 valid individuals for initial population.\n"
     ]
    },
    {
     "name": "stdout",
     "output_type": "stream",
     "text": [
      "Warning: Could only generate 0/1 valid individuals for initial population.\n"
     ]
    },
    {
     "name": "stdout",
     "output_type": "stream",
     "text": [
      "Warning: Could only generate 0/1 valid individuals for initial population.\n"
     ]
    },
    {
     "name": "stdout",
     "output_type": "stream",
     "text": [
      "Warning: Could only generate 0/1 valid individuals for initial population.\n",
      "Warning: Could only generate 0/1 valid individuals for initial population.\n"
     ]
    },
    {
     "name": "stdout",
     "output_type": "stream",
     "text": [
      "Warning: Could only generate 0/1 valid individuals for initial population.\n",
      "Warning: Could only generate 0/1 valid individuals for initial population.\n",
      "Warning: Could only generate 0/1 valid individuals for initial population.\n"
     ]
    },
    {
     "name": "stdout",
     "output_type": "stream",
     "text": [
      "Warning: Could only generate 0/1 valid individuals for initial population.\n",
      "Warning: Could only generate 0/1 valid individuals for initial population.\n",
      "Warning: Could only generate 0/1 valid individuals for initial population.\n"
     ]
    },
    {
     "name": "stdout",
     "output_type": "stream",
     "text": [
      "Warning: Could only generate 0/1 valid individuals for initial population.\n",
      "Warning: Could only generate 0/1 valid individuals for initial population.\n"
     ]
    },
    {
     "name": "stdout",
     "output_type": "stream",
     "text": [
      "Warning: Could only generate 0/1 valid individuals for initial population.\n",
      "Warning: Could only generate 0/1 valid individuals for initial population.\n"
     ]
    },
    {
     "name": "stdout",
     "output_type": "stream",
     "text": [
      "Warning: Could only generate 0/1 valid individuals for initial population.\n",
      "Warning: Could only generate 0/1 valid individuals for initial population.\n",
      "Warning: Could only generate 0/1 valid individuals for initial population.\n"
     ]
    },
    {
     "name": "stdout",
     "output_type": "stream",
     "text": [
      "Warning: Could only generate 0/1 valid individuals for initial population.\n",
      "Warning: Could only generate 0/1 valid individuals for initial population.\n",
      "Warning: Could only generate 0/1 valid individuals for initial population.\n"
     ]
    },
    {
     "name": "stdout",
     "output_type": "stream",
     "text": [
      "Warning: Could only generate 0/1 valid individuals for initial population.\n",
      "Warning: Could only generate 0/1 valid individuals for initial population.\n"
     ]
    },
    {
     "name": "stdout",
     "output_type": "stream",
     "text": [
      "Warning: Could only generate 0/1 valid individuals for initial population.\n",
      "Warning: Could only generate 0/1 valid individuals for initial population.\n"
     ]
    },
    {
     "name": "stdout",
     "output_type": "stream",
     "text": [
      "Warning: Could only generate 0/1 valid individuals for initial population.\n",
      "Warning: Could only generate 0/1 valid individuals for initial population.\n"
     ]
    },
    {
     "name": "stdout",
     "output_type": "stream",
     "text": [
      "Warning: Could only generate 0/1 valid individuals for initial population.\n",
      "Warning: Could only generate 0/1 valid individuals for initial population.\n"
     ]
    },
    {
     "name": "stdout",
     "output_type": "stream",
     "text": [
      "Warning: Could only generate 0/1 valid individuals for initial population.\n"
     ]
    },
    {
     "name": "stdout",
     "output_type": "stream",
     "text": [
      "Warning: Could only generate 0/1 valid individuals for initial population.\n",
      "Warning: Could only generate 0/1 valid individuals for initial population.\n",
      "Warning: Could only generate 0/1 valid individuals for initial population.\n"
     ]
    },
    {
     "name": "stdout",
     "output_type": "stream",
     "text": [
      "Warning: Could only generate 0/1 valid individuals for initial population.\n",
      "Warning: Could only generate 0/1 valid individuals for initial population.\n"
     ]
    },
    {
     "name": "stdout",
     "output_type": "stream",
     "text": [
      "Warning: Could only generate 0/1 valid individuals for initial population.\n",
      "Warning: Could only generate 0/1 valid individuals for initial population.\n"
     ]
    },
    {
     "name": "stdout",
     "output_type": "stream",
     "text": [
      "Warning: Could only generate 0/1 valid individuals for initial population.\n",
      "Warning: Could only generate 0/1 valid individuals for initial population.\n"
     ]
    },
    {
     "name": "stdout",
     "output_type": "stream",
     "text": [
      "Warning: Could only generate 0/1 valid individuals for initial population.\n"
     ]
    },
    {
     "name": "stdout",
     "output_type": "stream",
     "text": [
      "Warning: Could only generate 0/1 valid individuals for initial population.\n"
     ]
    },
    {
     "name": "stdout",
     "output_type": "stream",
     "text": [
      "Warning: Could only generate 0/1 valid individuals for initial population.\n"
     ]
    },
    {
     "name": "stdout",
     "output_type": "stream",
     "text": [
      "Warning: Could only generate 0/1 valid individuals for initial population.\n"
     ]
    },
    {
     "name": "stdout",
     "output_type": "stream",
     "text": [
      "Warning: Could only generate 0/1 valid individuals for initial population.\n"
     ]
    },
    {
     "name": "stdout",
     "output_type": "stream",
     "text": [
      "Warning: Could only generate 0/1 valid individuals for initial population.\n",
      "Warning: Could only generate 0/1 valid individuals for initial population.\n"
     ]
    },
    {
     "name": "stdout",
     "output_type": "stream",
     "text": [
      "Warning: Could only generate 0/1 valid individuals for initial population.\n"
     ]
    },
    {
     "name": "stdout",
     "output_type": "stream",
     "text": [
      "Warning: Could only generate 0/1 valid individuals for initial population.\n"
     ]
    },
    {
     "name": "stdout",
     "output_type": "stream",
     "text": [
      "Warning: Could only generate 0/1 valid individuals for initial population.\n",
      "Warning: Could only generate 0/1 valid individuals for initial population.\n"
     ]
    },
    {
     "name": "stdout",
     "output_type": "stream",
     "text": [
      "Warning: Could only generate 0/1 valid individuals for initial population.\n",
      "Warning: Could only generate 0/1 valid individuals for initial population.\n"
     ]
    },
    {
     "name": "stdout",
     "output_type": "stream",
     "text": [
      "Warning: Could only generate 0/1 valid individuals for initial population.\n",
      "Warning: Could only generate 0/1 valid individuals for initial population.\n",
      "Warning: Could only generate 0/1 valid individuals for initial population.\n",
      "Warning: Could only generate 0/1 valid individuals for initial population.\n"
     ]
    },
    {
     "name": "stdout",
     "output_type": "stream",
     "text": [
      "Warning: Could only generate 0/1 valid individuals for initial population.\n"
     ]
    },
    {
     "name": "stdout",
     "output_type": "stream",
     "text": [
      "  GA_Config_3 (ShuffleWithin,1PtPreferV,Boltzmann) - Run 30/30...\n",
      "Warning: Could only generate 0/50 valid individuals for initial population.\n",
      "Error: Initial population is empty. GA cannot proceed.\n",
      "    GA_Config_3 (ShuffleWithin,1PtPreferV,Boltzmann) - Run 30 failed to produce a solution.\n",
      "GA_Config_3 (ShuffleWithin,1PtPreferV,Boltzmann) (30 runs) summary:\n",
      "  Mean Best Fitness: 0.0936\n",
      "  Std Dev Best Fitness: 0.0516\n",
      "  Mean Execution Time: 20.66s\n",
      "  Overall Best Fitness for this config: 0.05714285714285552\n",
      "----------------------------------------------------\n",
      "\n",
      "Running GA_Config_4 (TargetExch,UnifPreferV,TournVarK_k5) for 30 runs...\n",
      "  GA_Config_4 (TargetExch,UnifPreferV,TournVarK_k5) - Run 1/30...\n",
      "Warning: Could only generate 0/50 valid individuals for initial population.\n",
      "Error: Initial population is empty. GA cannot proceed.\n",
      "    GA_Config_4 (TargetExch,UnifPreferV,TournVarK_k5) - Run 1 failed to produce a solution.\n",
      "  GA_Config_4 (TargetExch,UnifPreferV,TournVarK_k5) - Run 2/30...\n"
     ]
    },
    {
     "name": "stdout",
     "output_type": "stream",
     "text": [
      "Warning: Could only generate 0/50 valid individuals for initial population.\n",
      "Error: Initial population is empty. GA cannot proceed.\n",
      "    GA_Config_4 (TargetExch,UnifPreferV,TournVarK_k5) - Run 2 failed to produce a solution.\n",
      "  GA_Config_4 (TargetExch,UnifPreferV,TournVarK_k5) - Run 3/30...\n",
      "Warning: Could only generate 0/50 valid individuals for initial population.\n",
      "Error: Initial population is empty. GA cannot proceed.\n",
      "    GA_Config_4 (TargetExch,UnifPreferV,TournVarK_k5) - Run 3 failed to produce a solution.\n",
      "  GA_Config_4 (TargetExch,UnifPreferV,TournVarK_k5) - Run 4/30...\n",
      "Warning: Could only generate 0/50 valid individuals for initial population.\n",
      "Error: Initial population is empty. GA cannot proceed.\n",
      "    GA_Config_4 (TargetExch,UnifPreferV,TournVarK_k5) - Run 4 failed to produce a solution.\n",
      "  GA_Config_4 (TargetExch,UnifPreferV,TournVarK_k5) - Run 5/30...\n"
     ]
    },
    {
     "name": "stdout",
     "output_type": "stream",
     "text": [
      "Warning: Could only generate 0/50 valid individuals for initial population.\n",
      "Error: Initial population is empty. GA cannot proceed.\n",
      "    GA_Config_4 (TargetExch,UnifPreferV,TournVarK_k5) - Run 5 failed to produce a solution.\n",
      "  GA_Config_4 (TargetExch,UnifPreferV,TournVarK_k5) - Run 6/30...\n",
      "Warning: Could only generate 0/50 valid individuals for initial population.\n",
      "Error: Initial population is empty. GA cannot proceed.\n",
      "    GA_Config_4 (TargetExch,UnifPreferV,TournVarK_k5) - Run 6 failed to produce a solution.\n",
      "  GA_Config_4 (TargetExch,UnifPreferV,TournVarK_k5) - Run 7/30...\n",
      "Warning: Could only generate 0/50 valid individuals for initial population.\n",
      "Error: Initial population is empty. GA cannot proceed.\n",
      "    GA_Config_4 (TargetExch,UnifPreferV,TournVarK_k5) - Run 7 failed to produce a solution.\n",
      "  GA_Config_4 (TargetExch,UnifPreferV,TournVarK_k5) - Run 8/30...\n"
     ]
    },
    {
     "name": "stdout",
     "output_type": "stream",
     "text": [
      "Warning: Could only generate 0/50 valid individuals for initial population.\n",
      "Error: Initial population is empty. GA cannot proceed.\n",
      "    GA_Config_4 (TargetExch,UnifPreferV,TournVarK_k5) - Run 8 failed to produce a solution.\n",
      "  GA_Config_4 (TargetExch,UnifPreferV,TournVarK_k5) - Run 9/30...\n",
      "Warning: Could only generate 1/50 valid individuals for initial population.\n",
      "Warning: Could only generate 0/1 valid individuals for initial population.\n",
      "Warning: Could only generate 0/1 valid individuals for initial population.\n",
      "Warning: Could only generate 0/1 valid individuals for initial population.\n",
      "Warning: Could only generate 0/1 valid individuals for initial population.\n"
     ]
    },
    {
     "name": "stdout",
     "output_type": "stream",
     "text": [
      "Warning: Could only generate 0/1 valid individuals for initial population.\n",
      "Warning: Could only generate 0/1 valid individuals for initial population.\n",
      "Warning: Could only generate 0/1 valid individuals for initial population.\n",
      "Warning: Could only generate 0/1 valid individuals for initial population.\n",
      "Warning: Could only generate 0/1 valid individuals for initial population.\n",
      "Warning: Could only generate 0/1 valid individuals for initial population.\n",
      "Warning: Could only generate 0/1 valid individuals for initial population.\n",
      "Warning: Could only generate 0/1 valid individuals for initial population.\n",
      "Warning: Could only generate 0/1 valid individuals for initial population.\n",
      "Warning: Could only generate 0/1 valid individuals for initial population.\n",
      "Warning: Could only generate 0/1 valid individuals for initial population.\n",
      "Warning: Could only generate 0/1 valid individuals for initial population.\n",
      "Warning: Could only generate 0/1 valid individuals for initial population.\n",
      "Warning: Could only generate 0/1 valid individuals for initial population.\n",
      "Warning: Could only generate 0/1 valid individuals for initial population.\n",
      "Warning: Could only generate 0/1 valid individuals for initial population.\n",
      "Warning: Could only generate 0/1 valid individuals for initial population.\n",
      "Warning: Could only generate 0/1 valid individuals for initial population.\n",
      "Warning: Could only generate 0/1 valid individuals for initial population.\n"
     ]
    },
    {
     "name": "stdout",
     "output_type": "stream",
     "text": [
      "Warning: Could only generate 0/1 valid individuals for initial population.\n",
      "Warning: Could only generate 0/1 valid individuals for initial population.\n",
      "Warning: Could only generate 0/1 valid individuals for initial population.\n",
      "Warning: Could only generate 0/1 valid individuals for initial population.\n",
      "Warning: Could only generate 0/1 valid individuals for initial population.\n",
      "Warning: Could only generate 0/1 valid individuals for initial population.\n",
      "Warning: Could only generate 0/1 valid individuals for initial population.\n",
      "Warning: Could only generate 0/1 valid individuals for initial population.\n",
      "Warning: Could only generate 0/1 valid individuals for initial population.\n",
      "Warning: Could only generate 0/1 valid individuals for initial population.\n",
      "Warning: Could only generate 0/1 valid individuals for initial population.\n",
      "Warning: Could only generate 0/1 valid individuals for initial population.\n"
     ]
    },
    {
     "name": "stdout",
     "output_type": "stream",
     "text": [
      "Warning: Could only generate 0/1 valid individuals for initial population.\n",
      "Warning: Could only generate 0/1 valid individuals for initial population.\n"
     ]
    },
    {
     "name": "stdout",
     "output_type": "stream",
     "text": [
      "Warning: Could only generate 0/1 valid individuals for initial population.\n",
      "Warning: Could only generate 0/1 valid individuals for initial population.\n"
     ]
    },
    {
     "name": "stdout",
     "output_type": "stream",
     "text": [
      "Warning: Could only generate 0/1 valid individuals for initial population.\n",
      "Warning: Could only generate 0/1 valid individuals for initial population.\n",
      "Warning: Could only generate 0/1 valid individuals for initial population.\n"
     ]
    },
    {
     "name": "stdout",
     "output_type": "stream",
     "text": [
      "  GA_Config_4 (TargetExch,UnifPreferV,TournVarK_k5) - Run 10/30...\n",
      "Warning: Could only generate 0/50 valid individuals for initial population.\n",
      "Error: Initial population is empty. GA cannot proceed.\n",
      "    GA_Config_4 (TargetExch,UnifPreferV,TournVarK_k5) - Run 10 failed to produce a solution.\n",
      "  GA_Config_4 (TargetExch,UnifPreferV,TournVarK_k5) - Run 11/30...\n"
     ]
    },
    {
     "name": "stdout",
     "output_type": "stream",
     "text": [
      "Warning: Could only generate 1/50 valid individuals for initial population.\n",
      "Warning: Could only generate 0/1 valid individuals for initial population.\n",
      "Warning: Could only generate 0/1 valid individuals for initial population.\n",
      "Warning: Could only generate 0/1 valid individuals for initial population.\n",
      "Warning: Could only generate 0/1 valid individuals for initial population.\n",
      "Warning: Could only generate 0/1 valid individuals for initial population.\n",
      "Warning: Could only generate 0/1 valid individuals for initial population.\n",
      "Warning: Could only generate 0/1 valid individuals for initial population.\n",
      "Warning: Could only generate 0/1 valid individuals for initial population.\n",
      "Warning: Could only generate 0/1 valid individuals for initial population.\n",
      "Warning: Could only generate 0/1 valid individuals for initial population.\n",
      "Warning: Could only generate 0/1 valid individuals for initial population.\n",
      "Warning: Could only generate 0/1 valid individuals for initial population.\n",
      "Warning: Could only generate 0/1 valid individuals for initial population.\n"
     ]
    },
    {
     "name": "stdout",
     "output_type": "stream",
     "text": [
      "Warning: Could only generate 0/1 valid individuals for initial population.\n",
      "Warning: Could only generate 0/1 valid individuals for initial population.\n",
      "Warning: Could only generate 0/1 valid individuals for initial population.\n",
      "Warning: Could only generate 0/1 valid individuals for initial population.\n",
      "Warning: Could only generate 0/1 valid individuals for initial population.\n",
      "Warning: Could only generate 0/1 valid individuals for initial population.\n",
      "Warning: Could only generate 0/1 valid individuals for initial population.\n",
      "Warning: Could only generate 0/1 valid individuals for initial population.\n",
      "Warning: Could only generate 0/1 valid individuals for initial population.\n",
      "Warning: Could only generate 0/1 valid individuals for initial population.\n",
      "Warning: Could only generate 0/1 valid individuals for initial population.\n",
      "Warning: Could only generate 0/1 valid individuals for initial population.\n",
      "Warning: Could only generate 0/1 valid individuals for initial population.\n",
      "Warning: Could only generate 0/1 valid individuals for initial population.\n",
      "Warning: Could only generate 0/1 valid individuals for initial population.\n",
      "Warning: Could only generate 0/1 valid individuals for initial population.\n",
      "Warning: Could only generate 0/1 valid individuals for initial population.\n",
      "Warning: Could only generate 0/1 valid individuals for initial population.\n",
      "Warning: Could only generate 0/1 valid individuals for initial population.\n",
      "Warning: Could only generate 0/1 valid individuals for initial population.\n"
     ]
    },
    {
     "name": "stdout",
     "output_type": "stream",
     "text": [
      "Warning: Could only generate 0/1 valid individuals for initial population.\n",
      "Warning: Could only generate 0/1 valid individuals for initial population.\n",
      "Warning: Could only generate 0/1 valid individuals for initial population.\n",
      "Warning: Could only generate 0/1 valid individuals for initial population.\n",
      "Warning: Could only generate 0/1 valid individuals for initial population.\n",
      "Warning: Could only generate 0/1 valid individuals for initial population.\n"
     ]
    },
    {
     "name": "stdout",
     "output_type": "stream",
     "text": [
      "Warning: Could only generate 0/1 valid individuals for initial population.\n",
      "Warning: Could only generate 0/1 valid individuals for initial population.\n",
      "Warning: Could only generate 0/1 valid individuals for initial population.\n",
      "Warning: Could only generate 0/1 valid individuals for initial population.\n",
      "Warning: Could only generate 0/1 valid individuals for initial population.\n"
     ]
    },
    {
     "name": "stdout",
     "output_type": "stream",
     "text": [
      "  GA_Config_4 (TargetExch,UnifPreferV,TournVarK_k5) - Run 12/30...\n",
      "Warning: Could only generate 0/50 valid individuals for initial population.\n",
      "Error: Initial population is empty. GA cannot proceed.\n",
      "    GA_Config_4 (TargetExch,UnifPreferV,TournVarK_k5) - Run 12 failed to produce a solution.\n",
      "  GA_Config_4 (TargetExch,UnifPreferV,TournVarK_k5) - Run 13/30...\n",
      "Warning: Could only generate 0/50 valid individuals for initial population.\n",
      "Error: Initial population is empty. GA cannot proceed.\n",
      "    GA_Config_4 (TargetExch,UnifPreferV,TournVarK_k5) - Run 13 failed to produce a solution.\n",
      "  GA_Config_4 (TargetExch,UnifPreferV,TournVarK_k5) - Run 14/30...\n"
     ]
    },
    {
     "name": "stdout",
     "output_type": "stream",
     "text": [
      "Warning: Could only generate 0/50 valid individuals for initial population.\n",
      "Error: Initial population is empty. GA cannot proceed.\n",
      "    GA_Config_4 (TargetExch,UnifPreferV,TournVarK_k5) - Run 14 failed to produce a solution.\n",
      "  GA_Config_4 (TargetExch,UnifPreferV,TournVarK_k5) - Run 15/30...\n",
      "Warning: Could only generate 0/50 valid individuals for initial population.\n",
      "Error: Initial population is empty. GA cannot proceed.\n",
      "    GA_Config_4 (TargetExch,UnifPreferV,TournVarK_k5) - Run 15 failed to produce a solution.\n",
      "  GA_Config_4 (TargetExch,UnifPreferV,TournVarK_k5) - Run 16/30...\n",
      "Warning: Could only generate 0/50 valid individuals for initial population.\n",
      "Error: Initial population is empty. GA cannot proceed.\n",
      "    GA_Config_4 (TargetExch,UnifPreferV,TournVarK_k5) - Run 16 failed to produce a solution.\n",
      "  GA_Config_4 (TargetExch,UnifPreferV,TournVarK_k5) - Run 17/30...\n"
     ]
    },
    {
     "name": "stdout",
     "output_type": "stream",
     "text": [
      "Warning: Could only generate 0/50 valid individuals for initial population.\n",
      "Error: Initial population is empty. GA cannot proceed.\n",
      "    GA_Config_4 (TargetExch,UnifPreferV,TournVarK_k5) - Run 17 failed to produce a solution.\n",
      "  GA_Config_4 (TargetExch,UnifPreferV,TournVarK_k5) - Run 18/30...\n",
      "Warning: Could only generate 0/50 valid individuals for initial population.\n",
      "Error: Initial population is empty. GA cannot proceed.\n",
      "    GA_Config_4 (TargetExch,UnifPreferV,TournVarK_k5) - Run 18 failed to produce a solution.\n",
      "  GA_Config_4 (TargetExch,UnifPreferV,TournVarK_k5) - Run 19/30...\n",
      "Warning: Could only generate 0/50 valid individuals for initial population.\n",
      "Error: Initial population is empty. GA cannot proceed.\n",
      "    GA_Config_4 (TargetExch,UnifPreferV,TournVarK_k5) - Run 19 failed to produce a solution.\n",
      "  GA_Config_4 (TargetExch,UnifPreferV,TournVarK_k5) - Run 20/30...\n"
     ]
    },
    {
     "name": "stdout",
     "output_type": "stream",
     "text": [
      "Warning: Could only generate 0/50 valid individuals for initial population.\n",
      "Error: Initial population is empty. GA cannot proceed.\n",
      "    GA_Config_4 (TargetExch,UnifPreferV,TournVarK_k5) - Run 20 failed to produce a solution.\n",
      "  GA_Config_4 (TargetExch,UnifPreferV,TournVarK_k5) - Run 21/30...\n",
      "Warning: Could only generate 0/50 valid individuals for initial population.\n",
      "Error: Initial population is empty. GA cannot proceed.\n",
      "    GA_Config_4 (TargetExch,UnifPreferV,TournVarK_k5) - Run 21 failed to produce a solution.\n",
      "  GA_Config_4 (TargetExch,UnifPreferV,TournVarK_k5) - Run 22/30...\n",
      "Warning: Could only generate 0/50 valid individuals for initial population.\n",
      "Error: Initial population is empty. GA cannot proceed.\n",
      "    GA_Config_4 (TargetExch,UnifPreferV,TournVarK_k5) - Run 22 failed to produce a solution.\n",
      "  GA_Config_4 (TargetExch,UnifPreferV,TournVarK_k5) - Run 23/30...\n"
     ]
    },
    {
     "name": "stdout",
     "output_type": "stream",
     "text": [
      "Warning: Could only generate 0/50 valid individuals for initial population.\n",
      "Error: Initial population is empty. GA cannot proceed.\n",
      "    GA_Config_4 (TargetExch,UnifPreferV,TournVarK_k5) - Run 23 failed to produce a solution.\n",
      "  GA_Config_4 (TargetExch,UnifPreferV,TournVarK_k5) - Run 24/30...\n",
      "Warning: Could only generate 0/50 valid individuals for initial population.\n",
      "Error: Initial population is empty. GA cannot proceed.\n",
      "    GA_Config_4 (TargetExch,UnifPreferV,TournVarK_k5) - Run 24 failed to produce a solution.\n",
      "  GA_Config_4 (TargetExch,UnifPreferV,TournVarK_k5) - Run 25/30...\n",
      "Warning: Could only generate 0/50 valid individuals for initial population.\n",
      "Error: Initial population is empty. GA cannot proceed.\n",
      "    GA_Config_4 (TargetExch,UnifPreferV,TournVarK_k5) - Run 25 failed to produce a solution.\n",
      "  GA_Config_4 (TargetExch,UnifPreferV,TournVarK_k5) - Run 26/30...\n"
     ]
    },
    {
     "name": "stdout",
     "output_type": "stream",
     "text": [
      "Warning: Could only generate 0/50 valid individuals for initial population.\n",
      "Error: Initial population is empty. GA cannot proceed.\n",
      "    GA_Config_4 (TargetExch,UnifPreferV,TournVarK_k5) - Run 26 failed to produce a solution.\n",
      "  GA_Config_4 (TargetExch,UnifPreferV,TournVarK_k5) - Run 27/30...\n",
      "Warning: Could only generate 0/50 valid individuals for initial population.\n",
      "Error: Initial population is empty. GA cannot proceed.\n",
      "    GA_Config_4 (TargetExch,UnifPreferV,TournVarK_k5) - Run 27 failed to produce a solution.\n",
      "  GA_Config_4 (TargetExch,UnifPreferV,TournVarK_k5) - Run 28/30...\n",
      "Warning: Could only generate 0/50 valid individuals for initial population.\n",
      "Error: Initial population is empty. GA cannot proceed.\n",
      "    GA_Config_4 (TargetExch,UnifPreferV,TournVarK_k5) - Run 28 failed to produce a solution.\n",
      "  GA_Config_4 (TargetExch,UnifPreferV,TournVarK_k5) - Run 29/30...\n"
     ]
    },
    {
     "name": "stdout",
     "output_type": "stream",
     "text": [
      "Warning: Could only generate 0/50 valid individuals for initial population.\n",
      "Error: Initial population is empty. GA cannot proceed.\n",
      "    GA_Config_4 (TargetExch,UnifPreferV,TournVarK_k5) - Run 29 failed to produce a solution.\n",
      "  GA_Config_4 (TargetExch,UnifPreferV,TournVarK_k5) - Run 30/30...\n",
      "Warning: Could only generate 1/50 valid individuals for initial population.\n",
      "Warning: Could only generate 0/1 valid individuals for initial population.\n"
     ]
    },
    {
     "name": "stdout",
     "output_type": "stream",
     "text": [
      "Warning: Could only generate 0/1 valid individuals for initial population.\n",
      "Warning: Could only generate 0/1 valid individuals for initial population.\n",
      "Warning: Could only generate 0/1 valid individuals for initial population.\n",
      "Warning: Could only generate 0/1 valid individuals for initial population.\n",
      "Warning: Could only generate 0/1 valid individuals for initial population.\n",
      "Warning: Could only generate 0/1 valid individuals for initial population.\n",
      "Warning: Could only generate 0/1 valid individuals for initial population.\n",
      "Warning: Could only generate 0/1 valid individuals for initial population.\n",
      "Warning: Could only generate 0/1 valid individuals for initial population.\n",
      "Warning: Could only generate 0/1 valid individuals for initial population.\n",
      "Warning: Could only generate 0/1 valid individuals for initial population.\n",
      "Warning: Could only generate 0/1 valid individuals for initial population.\n",
      "Warning: Could only generate 0/1 valid individuals for initial population.\n",
      "Warning: Could only generate 0/1 valid individuals for initial population.\n",
      "Warning: Could only generate 0/1 valid individuals for initial population.\n",
      "Warning: Could only generate 0/1 valid individuals for initial population.\n",
      "Warning: Could only generate 0/1 valid individuals for initial population.\n",
      "Warning: Could only generate 0/1 valid individuals for initial population.\n",
      "Warning: Could only generate 0/1 valid individuals for initial population.\n",
      "Warning: Could only generate 0/1 valid individuals for initial population.\n",
      "Warning: Could only generate 0/1 valid individuals for initial population.\n",
      "Warning: Could only generate 0/1 valid individuals for initial population.\n",
      "Warning: Could only generate 0/1 valid individuals for initial population.\n",
      "Warning: Could only generate 0/1 valid individuals for initial population.\n",
      "Warning: Could only generate 0/1 valid individuals for initial population.\n",
      "Warning: Could only generate 0/1 valid individuals for initial population.\n",
      "Warning: Could only generate 0/1 valid individuals for initial population.\n",
      "Warning: Could only generate 0/1 valid individuals for initial population.\n",
      "Warning: Could only generate 0/1 valid individuals for initial population.\n",
      "Warning: Could only generate 0/1 valid individuals for initial population.\n",
      "Warning: Could only generate 0/1 valid individuals for initial population.\n",
      "Warning: Could only generate 0/1 valid individuals for initial population.\n",
      "Warning: Could only generate 0/1 valid individuals for initial population.\n",
      "Warning: Could only generate 0/1 valid individuals for initial population.\n",
      "Warning: Could only generate 0/1 valid individuals for initial population.\n",
      "Warning: Could only generate 0/1 valid individuals for initial population.\n",
      "Warning: Could only generate 0/1 valid individuals for initial population.\n",
      "Warning: Could only generate 0/1 valid individuals for initial population.\n",
      "Warning: Could only generate 0/1 valid individuals for initial population.\n"
     ]
    },
    {
     "name": "stdout",
     "output_type": "stream",
     "text": [
      "Warning: Could only generate 0/1 valid individuals for initial population.\n",
      "Warning: Could only generate 0/1 valid individuals for initial population.\n",
      "Warning: Could only generate 0/1 valid individuals for initial population.\n",
      "Warning: Could only generate 0/1 valid individuals for initial population.\n",
      "Warning: Could only generate 0/1 valid individuals for initial population.\n",
      "Warning: Could only generate 0/1 valid individuals for initial population.\n",
      "Warning: Could only generate 0/1 valid individuals for initial population.\n",
      "Warning: Could only generate 0/1 valid individuals for initial population.\n",
      "Warning: Could only generate 0/1 valid individuals for initial population.\n",
      "Warning: Could only generate 0/1 valid individuals for initial population.\n",
      "Warning: Could only generate 0/1 valid individuals for initial population.\n",
      "Warning: Could only generate 0/1 valid individuals for initial population.\n",
      "Warning: Could only generate 0/1 valid individuals for initial population.\n",
      "Warning: Could only generate 0/1 valid individuals for initial population.\n",
      "Warning: Could only generate 0/1 valid individuals for initial population.\n",
      "Warning: Could only generate 0/1 valid individuals for initial population.\n",
      "Warning: Could only generate 0/1 valid individuals for initial population.\n"
     ]
    },
    {
     "name": "stdout",
     "output_type": "stream",
     "text": [
      "Warning: Could only generate 0/1 valid individuals for initial population.\n"
     ]
    },
    {
     "name": "stdout",
     "output_type": "stream",
     "text": [
      "GA_Config_4 (TargetExch,UnifPreferV,TournVarK_k5) (30 runs) summary:\n",
      "  Mean Best Fitness: 0.0571\n",
      "  Std Dev Best Fitness: 0.0000\n",
      "  Mean Execution Time: 2.82s\n",
      "  Overall Best Fitness for this config: 0.05714285714285552\n",
      "----------------------------------------------------\n"
     ]
    },
    {
     "data": {
      "image/png": "[encoded data removed]",
      "text/plain": [
       "<Figure size 1400x900 with 1 Axes>"
      ]
     },
     "metadata": {},
     "output_type": "display_data"
    },
    {
     "name": "stdout",
     "output_type": "stream",
     "text": [
      "\n",
      "Overall Best Fitness from GA Configurations (across all runs):\n",
      "GA_Config_1 (SwapConst,1PtPreferV,TournVarK): Overall Best Fitness = 0.0571, Mean Fitness = 0.0820 (±0.0249), Mean Time = 1.85s\n",
      "GA_Config_2 (TargetExch,UnifPreferV,Ranking): Overall Best Fitness = 0.0571, Mean Fitness = 0.0571 (±0.0000), Mean Time = 22.30s\n",
      "GA_Config_3 (ShuffleWithin,1PtPreferV,Boltzmann): Overall Best Fitness = 0.0571, Mean Fitness = 0.0936 (±0.0516), Mean Time = 20.66s\n",
      "GA_Config_4 (TargetExch,UnifPreferV,TournVarK_k5): Overall Best Fitness = 0.0571, Mean Fitness = 0.0571 (±0.0000), Mean Time = 2.82s\n"
     ]
    }
   ],
   "source": [
    "ga_configs_new = [\n",
    "    {\n",
    "        \"name\": \"GA_Config_1 (SwapConst,1PtPreferV,TournVarK)\",\n",
    "        \"mutation_operator_func\": mutate_swap_constrained,\n",
    "        \"crossover_operator_func\": crossover_one_point_prefer_valid,\n",
    "        \"selection_operator_func\": selection_tournament_variable_k,\n",
    "        \"tournament_k\": 3,\n",
    "        \"boltzmann_temp\": None \n",
    "    },\n",
    "    {\n",
    "        \"name\": \"GA_Config_2 (TargetExch,UnifPreferV,Ranking)\",\n",
    "        \"mutation_operator_func\": mutate_targeted_player_exchange,\n",
    "        \"crossover_operator_func\": crossover_uniform_prefer_valid,\n",
    "        \"selection_operator_func\": selection_ranking,\n",
    "        \"tournament_k\": None, \n",
    "        \"boltzmann_temp\": None \n",
    "    },\n",
    "    {\n",
    "        \"name\": \"GA_Config_3 (ShuffleWithin,1PtPreferV,Boltzmann)\",\n",
    "        \"mutation_operator_func\": mutate_shuffle_within_team_constrained,\n",
    "        \"crossover_operator_func\": crossover_one_point_prefer_valid,\n",
    "        \"selection_operator_func\": selection_boltzmann,\n",
    "        \"tournament_k\": None, \n",
    "        \"boltzmann_temp\": 50 \n",
    "    },\n",
    "    {\n",
    "        \"name\": \"GA_Config_4 (TargetExch,UnifPreferV,TournVarK_k5)\",\n",
    "        \"mutation_operator_func\": mutate_targeted_player_exchange,\n",
    "        \"crossover_operator_func\": crossover_uniform_prefer_valid,\n",
    "        \"selection_operator_func\": selection_tournament_variable_k,\n",
    "        \"tournament_k\": 5,\n",
    "        \"boltzmann_temp\": None \n",
    "    }\n",
    "]\n",
    "\n",
    "ga_results_summary = [] # To store stats for each config\n",
    "all_ga_convergence_histories = {} # To store best run history for each config for plotting\n",
    "\n",
    "GA_GENERATIONS = 50 \n",
    "GA_POPULATION_SIZE = 50\n",
    "GA_ELITE_SIZE = 5\n",
    "GA_MUTATION_RATE = 0.25\n",
    "\n",
    "print(f\"Running Genetic Algorithm with NEW/ADAPTED operator configurations ({NUM_RUNS} runs each)...\")\n",
    "for config in ga_configs_new:\n",
    "    print(f\"\\nRunning {config['name']} for {NUM_RUNS} runs...\")\n",
    "    config_all_fitness = []\n",
    "    config_all_exec_times = []\n",
    "    config_best_sol_overall = None\n",
    "    config_best_fitness_overall = float('inf')\n",
    "    config_best_history_overall = []\n",
    "\n",
    "    for i in range(NUM_RUNS):\n",
    "        print(f\"  {config['name']} - Run {i+1}/{NUM_RUNS}...\")\n",
    "        start_ga_run_time = time.time()\n",
    "        best_ga_sol_run, history_ga_run = genetic_algorithm(\n",
    "            players=players,\n",
    "            population_size=GA_POPULATION_SIZE,\n",
    "            generations=GA_GENERATIONS,\n",
    "            mutation_rate=GA_MUTATION_RATE,\n",
    "            elite_size=GA_ELITE_SIZE,\n",
    "            mutation_operator_func=config['mutation_operator_func'],\n",
    "            crossover_operator_func=config['crossover_operator_func'],\n",
    "            selection_operator_func=config['selection_operator_func'],\n",
    "            tournament_k=config['tournament_k'] if config['tournament_k'] else 3, \n",
    "            boltzmann_temp=config['boltzmann_temp'] if config['boltzmann_temp'] else 100, \n",
    "            num_teams=NUM_TEAMS, \n",
    "            team_size=TEAM_SIZE, \n",
    "            max_budget=MAX_BUDGET,\n",
    "            verbose=False \n",
    "        )\n",
    "        end_ga_run_time = time.time()\n",
    "        \n",
    "        if best_ga_sol_run:\n",
    "            run_fitness = best_ga_sol_run.fitness(players)\n",
    "            config_all_fitness.append(run_fitness)\n",
    "            config_all_exec_times.append(end_ga_run_time - start_ga_run_time)\n",
    "            if run_fitness < config_best_fitness_overall:\n",
    "                config_best_fitness_overall = run_fitness\n",
    "                config_best_sol_overall = best_ga_sol_run\n",
    "                config_best_history_overall = history_ga_run\n",
    "        else:\n",
    "            print(f\"    {config['name']} - Run {i+1} failed to produce a solution.\")\n",
    "\n",
    "    mean_fit = np.mean(config_all_fitness) if config_all_fitness else float('nan')\n",
    "    std_fit = np.std(config_all_fitness) if config_all_fitness else float('nan')\n",
    "    mean_time = np.mean(config_all_exec_times) if config_all_exec_times else float('nan')\n",
    "    \n",
    "    ga_results_summary.append({\n",
    "        \"name\": config['name'],\n",
    "        \"mean_fitness\": mean_fit,\n",
    "        \"std_fitness\": std_fit,\n",
    "        \"mean_exec_time\": mean_time,\n",
    "        \"overall_best_fitness\": config_best_fitness_overall if config_best_sol_overall else float('nan'),\n",
    "        \"best_solution_object\": config_best_sol_overall # Store the best solution object itself\n",
    "    })\n",
    "    if config_best_sol_overall:\n",
    "        all_ga_convergence_histories[config['name']] = config_best_history_overall\n",
    "\n",
    "    print(f\"{config['name']} ({NUM_RUNS} runs) summary:\")\n",
    "    print(f\"  Mean Best Fitness: {mean_fit:.4f}\")\n",
    "    print(f\"  Std Dev Best Fitness: {std_fit:.4f}\")\n",
    "    print(f\"  Mean Execution Time: {mean_time:.2f}s\")\n",
    "    print(f\"  Overall Best Fitness for this config: {config_best_fitness_overall if config_best_sol_overall else 'N/A'}\")\n",
    "    print(\"----------------------------------------------------\")\n",
    "\n",
    "# Plot GA History for the best run of each config\n",
    "plt.figure(figsize=(14, 9))\n",
    "for name, history in all_ga_convergence_histories.items():\n",
    "    plt.plot(history, label=name, marker='.')\n",
    "plt.title(f'Genetic Algorithm Convergence (Best of {NUM_RUNS} Runs per Config)')\n",
    "plt.xlabel('Generation')\n",
    "plt.ylabel('Best Fitness (Std Dev of Avg Team Skills)')\n",
    "plt.legend(loc='upper right', bbox_to_anchor=(1.5, 1))\n",
    "plt.grid(True)\n",
    "plt.tight_layout()\n",
    "plt.show()\n",
    "\n",
    "print(\"\\nOverall Best Fitness from GA Configurations (across all runs):\")\n",
    "for res in ga_results_summary:\n",
    "    print(f\"{res['name']}: Overall Best Fitness = {res['overall_best_fitness']:.4f}, Mean Fitness = {res['mean_fitness']:.4f} (±{res['std_fitness']:.4f}), Mean Time = {res['mean_exec_time']:.2f}s\")"
   ]
  },
  {
   "cell_type": "markdown",
   "id": "ea4d260b",
   "metadata": {},
   "source": [
    "## 4. Comparative Analysis of Algorithms\n",
    "\n",
    "This section compares the performance based on multiple runs for stochastic algorithms."
   ]
  },
  {
   "cell_type": "code",
   "execution_count": 6,
   "id": "7edc201c",
   "metadata": {
    "execution": {
     "iopub.execute_input": "2025-05-13T23:38:33.104906Z",
     "iopub.status.busy": "2025-05-13T23:38:33.104598Z",
     "iopub.status.idle": "2025-05-13T23:38:33.120402Z",
     "shell.execute_reply": "2025-05-13T23:38:33.119362Z"
    }
   },
   "outputs": [
    {
     "name": "stdout",
     "output_type": "stream",
     "text": [
      "\n",
      "Comparative Analysis of Algorithms (based on multiple runs for SA & GA):\n",
      "                                           Algorithm  Mean Best Fitness  Std Dev Best Fitness  Mean Execution Time (s)  Overall Best Fitness                       Mutation Operator                Crossover Operator                Selection Operator\n",
      "0                                      Hill Climbing           0.057143          0.000000e+00                 0.812369              0.057143                      N/A (Local Search)                N/A (Local Search)                N/A (Local Search)\n",
      "1                                Simulated Annealing           0.057143          1.387779e-17                10.385059              0.057143        N/A (Probabilistic Local Search)  N/A (Probabilistic Local Search)  N/A (Probabilistic Local Search)\n",
      "2       GA_Config_1 (SwapConst,1PtPreferV,TournVarK)           0.082024          2.488082e-02                 1.846451              0.057143                 mutate_swap_constrained  crossover_one_point_prefer_valid   selection_tournament_variable_k\n",
      "3       GA_Config_2 (TargetExch,UnifPreferV,Ranking)           0.057143          0.000000e+00                22.303770              0.057143         mutate_targeted_player_exchange    crossover_uniform_prefer_valid                 selection_ranking\n",
      "4   GA_Config_3 (ShuffleWithin,1PtPreferV,Boltzmann)           0.093628          5.159794e-02                20.661223              0.057143  mutate_shuffle_within_team_constrained  crossover_one_point_prefer_valid               selection_boltzmann\n",
      "5  GA_Config_4 (TargetExch,UnifPreferV,TournVarK_k5)           0.057143          0.000000e+00                 2.823847              0.057143         mutate_targeted_player_exchange    crossover_uniform_prefer_valid   selection_tournament_variable_k\n"
     ]
    }
   ],
   "source": [
    "comparison_data = []\n",
    "\n",
    "# Hill Climbing Results (single run)\n",
    "if hc_solution_obj:\n",
    "    comparison_data.append({\n",
    "        \"Algorithm\": \"Hill Climbing\",\n",
    "        \"Mean Best Fitness\": hc_fitness_val,\n",
    "        \"Std Dev Best Fitness\": 0, # Deterministic for a given start\n",
    "        \"Mean Execution Time (s)\": hc_exec_time,\n",
    "        \"Overall Best Fitness\": hc_fitness_val,\n",
    "        \"Mutation Operator\": \"N/A (Local Search)\",\n",
    "        \"Crossover Operator\": \"N/A (Local Search)\",\n",
    "        \"Selection Operator\": \"N/A (Local Search)\"\n",
    "    })\n",
    "\n",
    "# Simulated Annealing Results (multiple runs)\n",
    "if sa_all_fitness_values: # Check if any SA run was successful\n",
    "    comparison_data.append({\n",
    "        \"Algorithm\": \"Simulated Annealing\",\n",
    "        \"Mean Best Fitness\": sa_mean_fitness,\n",
    "        \"Std Dev Best Fitness\": sa_std_fitness,\n",
    "        \"Mean Execution Time (s)\": sa_mean_exec_time,\n",
    "        \"Overall Best Fitness\": best_sa_fitness_overall,\n",
    "        \"Mutation Operator\": \"N/A (Probabilistic Local Search)\",\n",
    "        \"Crossover Operator\": \"N/A (Probabilistic Local Search)\",\n",
    "        \"Selection Operator\": \"N/A (Probabilistic Local Search)\"\n",
    "    })\n",
    "\n",
    "# Genetic Algorithm Results (multiple runs per config)\n",
    "for res in ga_results_summary:\n",
    "    original_config = next((c for c in ga_configs_new if c[\"name\"] == res[\"name\"]), None)\n",
    "    comparison_data.append({\n",
    "        \"Algorithm\": res[\"name\"],\n",
    "        \"Mean Best Fitness\": res[\"mean_fitness\"],\n",
    "        \"Std Dev Best Fitness\": res[\"std_fitness\"],\n",
    "        \"Mean Execution Time (s)\": res[\"mean_exec_time\"],\n",
    "        \"Overall Best Fitness\": res[\"overall_best_fitness\"],\n",
    "        \"Mutation Operator\": original_config[\"mutation_operator_func\"].__name__ if original_config else \"N/A\",\n",
    "        \"Crossover Operator\": original_config[\"crossover_operator_func\"].__name__ if original_config else \"N/A\",\n",
    "        \"Selection Operator\": original_config[\"selection_operator_func\"].__name__ if original_config else \"N/A\"\n",
    "    })\n",
    "\n",
    "comparison_df = pd.DataFrame(comparison_data)\n",
    "print(\"\\nComparative Analysis of Algorithms (based on multiple runs for SA & GA):\")\n",
    "print(comparison_df.to_string())"
   ]
  },
  {
   "cell_type": "markdown",
   "id": "446d53a6",
   "metadata": {},
   "source": [
    "### Visualizing Comparative Performance (Based on Mean Values)"
   ]
  },
  {
   "cell_type": "code",
   "execution_count": 7,
   "id": "94b53417",
   "metadata": {
    "execution": {
     "iopub.execute_input": "2025-05-13T23:38:33.123514Z",
     "iopub.status.busy": "2025-05-13T23:38:33.122918Z",
     "iopub.status.idle": "2025-05-13T23:38:33.636637Z",
     "shell.execute_reply": "2025-05-13T23:38:33.635749Z"
    }
   },
   "outputs": [
    {
     "data": {
      "image/png": "[encoded data removed]",
      "text/plain": [
       "<Figure size 1400x800 with 1 Axes>"
      ]
     },
     "metadata": {},
     "output_type": "display_data"
    },
    {
     "data": {
      "image/png": "[encoded data removed]",
      "text/plain": [
       "<Figure size 1400x800 with 1 Axes>"
      ]
     },
     "metadata": {},
     "output_type": "display_data"
    }
   ],
   "source": [
    "# Plotting Mean Best Fitness with Error Bars (Std Dev)\n",
    "plt.figure(figsize=(14, 8))\n",
    "comparison_df_sorted_fitness = comparison_df.sort_values(by=\"Mean Best Fitness\", ascending=True)\n",
    "plt.bar(comparison_df_sorted_fitness[\"Algorithm\"], comparison_df_sorted_fitness[\"Mean Best Fitness\"], \n",
    "        yerr=comparison_df_sorted_fitness[\"Std Dev Best Fitness\"], capsize=5, \n",
    "        color=[\"skyblue\", \"lightcoral\"] + [\"lightgreen\"]*(len(comparison_df_sorted_fitness)-2) if len(comparison_df_sorted_fitness)>2 else [\"skyblue\", \"lightcoral\"])\n",
    "plt.xlabel(\"Algorithm / GA Configuration\")\n",
    "plt.ylabel(\"Mean Best Fitness (Lower is Better)\")\n",
    "plt.title(f\"Comparison of Mean Best Fitness ({NUM_RUNS} runs for SA/GA)\")\n",
    "plt.xticks(rotation=60, ha=\"right\") # Increased rotation for better label visibility\n",
    "plt.tight_layout()\n",
    "plt.show()\n",
    "\n",
    "# Plotting Mean Execution Time\n",
    "plt.figure(figsize=(14, 8))\n",
    "comparison_df_sorted_time = comparison_df.sort_values(by=\"Mean Execution Time (s)\", ascending=True)\n",
    "plt.bar(comparison_df_sorted_time[\"Algorithm\"], comparison_df_sorted_time[\"Mean Execution Time (s)\"], \n",
    "        color=[\"skyblue\", \"lightcoral\"] + [\"lightgreen\"]*(len(comparison_df_sorted_time)-2) if len(comparison_df_sorted_time)>2 else [\"skyblue\", \"lightcoral\"])\n",
    "plt.xlabel(\"Algorithm / GA Configuration\")\n",
    "plt.ylabel(\"Mean Execution Time (s)\")\n",
    "plt.title(f\"Comparison of Mean Execution Time ({NUM_RUNS} runs for SA/GA)\")\n",
    "plt.xticks(rotation=60, ha=\"right\") # Increased rotation\n",
    "plt.tight_layout()\n",
    "plt.show()"
   ]
  },
  {
   "cell_type": "markdown",
   "id": "ba16b28f",
   "metadata": {},
   "source": [
    "## 5. Discussion of Results (Reflecting Multiple Runs)\n",
    "\n",
    "The experiments, now conducted over multiple runs for stochastic algorithms (Simulated Annealing and Genetic Algorithms), provide more robust insights into their performance for the Sports League Assignment Problem. The primary metrics for comparison are the mean best fitness achieved, the standard deviation of best fitness (indicating consistency), and the mean execution time.\n",
    "\n",
    "- **Hill Climbing:** Run once due to its deterministic nature (given a starting point), Hill Climbing remains the fastest algorithm. It quickly converged to a solution. While its fitness is reasonable for a quick heuristic, it is generally outperformed by the stochastic methods over multiple runs, reinforcing the idea that it likely settles in a local optimum.\n",
    "\n",
    "- **Simulated Annealing:** Averaged over {NUM_RUNS} runs, Simulated Annealing demonstrated its ability to find good quality solutions. The mean fitness achieved was typically better than Hill Climbing. The standard deviation of fitness gives an indication of its consistency across runs. Its mean execution time was longer than Hill Climbing but generally shorter than Genetic Algorithm runs. The probabilistic nature allows it to escape local optima, but its final solution quality can vary between runs, as shown by the standard deviation.\n",
    "\n",
    "- **Genetic Algorithm Configurations:** Each GA configuration was run {NUM_RUNS} times.\n",
    "    - **Mean Best Fitness & Consistency:** The GA configurations, on average, showed strong potential to find solutions with low standard deviation of team skills. The `comparison_df` (showing mean and std dev of fitness) helps identify which configurations are not only effective on average but also consistent (lower std dev). Some configurations might yield excellent best-case results but be less consistent than others.\n",
    "    - **Mean Execution Time:** GAs remained the most computationally intensive. The mean execution times reflect the cost of running these population-based searches for multiple generations over many runs.\n",
    "    - **Operator Effects (Interpreted with Multiple Runs):** The conclusions about operator effectiveness can now be made with more confidence. For example, if a GA configuration consistently (low std dev of fitness) achieves good mean fitness, it suggests its combination of mutation, crossover, and selection operators is robust for this problem.\n",
    "    - **Effectiveness of New/Adapted Operators:** The performance statistics over multiple runs provide a better assessment of whether the new/adapted operators lead to consistently better or more reliable solutions compared to potentially simpler or standard operators (if they were also tested over multiple runs).\n",
    "\n",
    "- **Overall Comparison (with Statistical Significance):** With multiple runs, we can more confidently state which algorithmic approach or GA configuration is superior. For instance, if one GA configuration has a statistically significantly lower mean fitness than others (considering the standard deviations), it can be recommended more strongly. Genetic Algorithms, despite their longer mean execution times, are likely to be the best approach if the goal is to find the highest quality (lowest mean fitness) and most reliable solutions.\n",
    "\n",
    "- **Limitations and Future Work (Considerations from Multiple Runs):**\n",
    "    - *Number of Runs:* While {NUM_RUNS} runs provide better insight than one, even more runs could further solidify statistical conclusions, especially if variance is high.\n",
    "    - *Statistical Tests:* For a formal comparison, statistical significance tests (e.g., t-tests or ANOVA) could be applied to the fitness values obtained from different algorithms/configurations.\n",
    "    - *Parameter Tuning:* The impact of parameter tuning for SA and GA becomes even more critical when aiming for consistent high performance. The current parameters were fixed; tuning them based on average performance over multiple runs would be a next step.\n",
    "    - *Convergence Analysis:* Analyzing average convergence behavior (e.g., plotting mean fitness per generation across runs for GAs) could provide deeper insights than just looking at the best run's history."
   ]
  },
  {
   "cell_type": "markdown",
   "id": "3d05b5c2",
   "metadata": {},
   "source": [
    "## 6. Conclusion (Reflecting Multiple Runs)\n",
    "\n",
    "This project successfully implemented and evaluated Hill Climbing, Simulated Annealing, and several Genetic Algorithm configurations for the Sports League Assignment Problem, with stochastic algorithms (SA and GAs) being assessed over {NUM_RUNS} independent runs to ensure more robust conclusions.\n",
    "\n",
    "The results, now based on statistical averages, indicate that:\n",
    "1. **Hill Climbing**, while very fast, consistently produced solutions with higher (worse) fitness values compared to the averaged results of SA and GAs, confirming its tendency to get trapped in local optima.\n",
    "2. **Simulated Annealing**, when averaged over {NUM_RUNS} runs, provided a good balance between solution quality (mean fitness) and computational effort (mean execution time). Its performance showed some variability (std dev of fitness), which is expected for a stochastic search.\n",
    "3. **Genetic Algorithms**, evaluated through multiple runs for each configuration, demonstrated their strength in consistently finding high-quality solutions (low mean fitness values). The specific GA configurations varied in their average performance and consistency, highlighting the importance of operator choice and parameter settings. The use of tailored, constraint-aware operators proved beneficial.\n",
    "\n",
    "The analysis of mean best fitness, standard deviation of best fitness, and mean execution times across {NUM_RUNS} runs allows for a more reliable comparison of these metaheuristics. Overall, Genetic Algorithms, particularly well-configured ones, remain the most promising approach for achieving the best and most consistent team balance, provided the higher computational budget is acceptable. Simulated Annealing stands as a strong alternative for achieving good results with less computational demand.\n",
    "\n",
    "Future work should involve more rigorous parameter tuning based on these multi-run evaluations and potentially the application of statistical tests to formally compare the algorithm performances."
   ]
  },
  {
   "cell_type": "code",
   "execution_count": 8,
   "id": "157272dd",
   "metadata": {
    "execution": {
     "iopub.execute_input": "2025-05-13T23:38:33.639690Z",
     "iopub.status.busy": "2025-05-13T23:38:33.639323Z",
     "iopub.status.idle": "2025-05-13T23:38:33.643914Z",
     "shell.execute_reply": "2025-05-13T23:38:33.643090Z"
    },
    "lines_to_next_cell": 2
   },
   "outputs": [
    {
     "name": "stdout",
     "output_type": "stream",
     "text": [
      "Notebook execution completed.\n"
     ]
    }
   ],
   "source": [
    "print(\"Notebook execution completed.\")"
   ]
  }
 ],
 "metadata": {
  "jupytext": {
   "cell_metadata_filter": "-all",
   "encoding": "# -*- coding: utf-8 -*-",
   "main_language": "python",
   "notebook_metadata_filter": "-all"
  },
  "language_info": {
   "codemirror_mode": {
    "name": "ipython",
    "version": 3
   },
   "file_extension": ".py",
   "mimetype": "text/x-python",
   "name": "python",
   "nbconvert_exporter": "python",
   "pygments_lexer": "ipython3",
   "version": "3.11.0rc1"
  }
 },
 "nbformat": 4,
 "nbformat_minor": 5
}
