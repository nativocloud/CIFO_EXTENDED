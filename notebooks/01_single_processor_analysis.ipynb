{
 "cells": [
  {
   "cell_type": "code",
   "execution_count": null,
   "id": "735a3611",
   "metadata": {
    "lines_to_next_cell": 0
   },
   "outputs": [],
   "source": []
  },
  {
   "cell_type": "markdown",
   "id": "3fe59b9b",
   "metadata": {},
   "source": [
    "# Introduction\n",
    "\n",
    "This work presents a constrained combinatorial optimization approach to the **Sports League Assignment Problem** using **Genetic Algorithms (GAs)**. The objective is to allocate a fixed pool of professional players into a set of 5 structurally valid teams in such a way that the **standard deviation of the teams\\\" average skill ratings** is minimized—promoting competitive balance across the league.\n",
    "\n",
    "Each player is defined by three attributes: **position** (one of `GK`, `DEF`, `MID`, `FWD`), **skill rating** (a numerical measure of ability), and **cost** (in million euros). A valid solution must satisfy the following **hard constraints**:\n",
    "\n",
    "- Each team must consist of exactly **7 players**, with a specific positional structure: **1 GK, 2 DEF, 2 MID, and 2 FWD**\n",
    "- Each team must have a **total cost ≤ 750 million €**\n",
    "- Each player must be assigned to **exactly one team** (no overlaps)\n",
    "\n",
    "The **search space** is therefore highly constrained and discrete, and infeasible configurations are explicitly excluded from the solution space. The optimization objective is to identify league configurations where teams are not only valid but also **skill-balanced**, quantified by the **standard deviation of average skill ratings across teams**, which serves as the **fitness function** (to be minimized).\n",
    "\n",
    "To address this, we implement a domain-adapted **Genetic Algorithm framework** featuring:\n",
    "\n",
    "- A custom **representation** based on team-to-player mappings\n",
    "- Validity-preserving **mutation** and **crossover** operators\n",
    "- Multiple **selection mechanisms**\n",
    "- Optional **elitism** and population-level diversity handling\n",
    "\n",
    "This report provides a formal problem definition, details the design of the solution encoding and operators, and presents empirical results comparing different GA configurations. The overall objective is to evaluate how well GA-based metaheuristics can navigate this complex constrained search space and evolve solutions that both satisfy domain constraints and optimize league balance.\n",
    "\n",
    "In addition to Genetic Algorithms, this project also explores and evaluates alternative optimization strategies, such as **Hill Climbing** and **Simulated Annealing**, which are well-suited for navigating discrete and constrained search spaces. These algorithms offer different trade-offs in terms of exploration, exploitation, and convergence speed. By implementing and benchmarking multiple approaches on the same problem, we aim to gain deeper insights into their relative effectiveness and robustness when applied to complex constrained optimization tasks such as the Sports League Assignment. This comparative analysis enhances the interpretability of results and supports a broader understanding of the strengths and limitations of population-based versus local search-based heuristics."
   ]
  },
  {
   "cell_type": "markdown",
   "id": "2c821ad6",
   "metadata": {},
   "source": [
    "## Cell 1: Setup and Critical Data Loading"
   ]
  },
  {
   "cell_type": "code",
   "execution_count": null,
   "id": "7503753d",
   "metadata": {},
   "outputs": [],
   "source": [
    "import pandas as pd\n",
    "import numpy as np\n",
    "import matplotlib.pyplot as plt\n",
    "import time\n",
    "import os # Added for path joining\n",
    "\n",
    "from solution import LeagueSolution, LeagueHillClimbingSolution, LeagueSASolution\n",
    "from evolution import genetic_algorithm, hill_climbing, simulated_annealing \n",
    "from operators import (\n",
    "    # Base Mutations\n",
    "    mutate_swap,\n",
    "    mutate_team_shift,\n",
    "    mutate_shuffle_team,\n",
    "    # New/Adapted Mutations\n",
    "    mutate_swap_constrained,\n",
    "    mutate_targeted_player_exchange,\n",
    "    mutate_shuffle_within_team_constrained,\n",
    "    # Base Crossovers\n",
    "    crossover_one_point,\n",
    "    crossover_uniform,\n",
    "    # New/Adapted Crossovers\n",
    "    crossover_one_point_prefer_valid,\n",
    "    crossover_uniform_prefer_valid,\n",
    "    # Selection Operators\n",
    "    selection_ranking,\n",
    "    selection_tournament_variable_k,\n",
    "    selection_boltzmann\n",
    ")\n",
    "\n",
    "# Define the directory for saving graphs and results\n",
    "IMAGES_SP_DIR = \"/home/ubuntu/CIFO_EXTENDED_Project/images_sp\" # Updated directory\n",
    "# Ensure the directory exists\n",
    "if not os.path.exists(IMAGES_SP_DIR):\n",
    "    os.makedirs(IMAGES_SP_DIR)\n",
    "    print(f\"[{time.strftime('%Y-%m-%d %H:%M:%S')}] Created directory: {IMAGES_SP_DIR}\")\n",
    "\n",
    "# Load player data\n",
    "players_df = pd.read_csv(\"players.csv\", sep=\";\")\n",
    "players_data = players_df.to_dict(orient=\"records\") # Renamed to players_data for clarity"
   ]
  },
  {
   "cell_type": "markdown",
   "id": "3a009d33",
   "metadata": {},
   "source": [
    "## Cell 2: Further Setup, Data Inspection, and Experiment Parameters"
   ]
  },
  {
   "cell_type": "code",
   "execution_count": null,
   "id": "1f869fde",
   "metadata": {
    "lines_to_next_cell": 1
   },
   "outputs": [],
   "source": ["all_results_summary = []\n", "# Define problem parameters\n", "NUM_TEAMS = 5\n", "TEAM_SIZE = 7\n", "MAX_BUDGET = 750\n", "\n", "# Define number of runs for stochastic algorithms (and now Hill Climbing)\n", "NUM_RUNS = 30 # Parameter for number of runs (e.g., 10, 30)"]
  },
  {
   "cell_type": "markdown",
   "id": "e8f874eb",
   "metadata": {},
   "source": [
    "## Problem Representation Details (from original notebook)"
   ]
  },
  {
   "cell_type": "markdown",
   "id": "4c1788e4",
   "metadata": {},
   "source": [
    "### A. Team-based Representation (Structured Encoding)\n",
    "\n",
    "Let:\n",
    "\n",
    "- $P = \\{p_1, p_2, \\dots, p_{35}\\}$ be the set of players  \n",
    "- $T = \\{t_1, t_2, \\dots, t_5\\}$ be the set of teams\n",
    "\n",
    "Define the assignment function:\n",
    "\n",
    "$$\n",
    "A: P \\rightarrow T\n",
    "$$\n",
    "\n",
    "such that each player is assigned to exactly one team, and the following constraints are satisfied:\n",
    "\n",
    "**Team Size:**\n",
    "\n",
    "$$\n",
    "\\forall t_j \\in T,\\quad \\left|\\{p_i \\in P \\mid A(p_i) = t_j\\}\\right| = 7\n",
    "$$\n",
    "\n",
    "**Positional Requirements:** For each team $t_j \\in T$:\n",
    "\n",
    "$$\n",
    "\\begin{aligned}\n",
    "&|\\{p_i \\in P \\mid A(p_i) = t_j \\land pos(p_i) = \\text{GK}\\}| = 1 \\\\\n",
    "&|\\{p_i \\in P \\mid A(p_i) = t_j \\land pos(p_i) = \\text{DEF}\\}| = 2 \\\\\n",
    "&|\\{p_i \\in P \\mid A(p_i) = t_j \\land pos(p_i) = \\text{MID}\\}| = 2 \\\\\n",
    "&|\\{p_i \\in P \\mid A(p_i) = t_j \\land pos(p_i) = \\text{FWD}\\}| = 2\n",
    "\\end{aligned}\n",
    "$$\n",
    "\n",
    "**Budget Constraint:**\n",
    "\n",
    "$$\n",
    "\\forall t_j \\in T,\\quad \\sum_{p_i \\in P \\mid A(p_i) = t_j} cost(p_i) \\leq 750\n",
    "$$\n",
    "\n",
    "**Objective Function:** Minimize the standard deviation of average team skill:\n",
    "\n",
    "$$\n",
    "f(A) = \\sigma\\left(\\left\\{\\frac{1}{7} \\sum_{p_i \\in P \\mid A(p_i) = t_j} skill(p_i) \\,\\middle|\\, t_j \\in T\\right\\}\\right)\n",
    "$$"
   ]
  },
  {
   "cell_type": "markdown",
   "id": "80322761",
   "metadata": {},
   "source": [
    "### B. Player-assignment Representation (Linear Encoding) - This is what is implemented\n",
    "\n",
    "Let:\n",
    "\n",
    "- $P = \\{p_1, p_2, \\dots, p_{35}\\}$ be the set of players  \n",
    "- $T = \\{0, 1, 2, 3, 4\\}$ be team IDs\n",
    "\n",
    "A solution is represented by a vector:\n",
    "\n",
    "$$\n",
    "\\mathbf{a} = [a_1, a_2, \\dots, a_{35}] \\in T^{35}\n",
    "$$\n",
    "\n",
    "where $a_i$ is the team assignment for player $p_i$.\n",
    "\n",
    "**Team Definitions:**\n",
    "\n",
    "$$\n",
    "P_j = \\{p_i \\in P \\mid a_i = j\\}, \\quad \\forall j \\in T\n",
    "$$\n",
    "\n",
    "**Constraints:**\n",
    "\n",
    "$$\n",
    "|P_j| = 7 \\quad \\text{and}\n",
    "$$\n",
    "\n",
    "$$\n",
    "\\begin{aligned}\n",
    "&|\\{p \\in P_j \\mid pos(p) = \\text{GK}\\}| = 1 \\\\\n",
    "&|\\{p \\in P_j \\mid pos(p) = \\text{DEF}\\}| = 2 \\\\\n",
    "&|\\{p \\in P_j \\mid pos(p) = \\text{MID}\\}| = 2 \\\\\n",
    "&|\\{p \\in P_j \\mid pos(p) = \\text{FWD}\\}| = 2 \\\\\n",
    "&\\sum_{p \\in P_j} cost(p) \\leq 750\n",
    "\\end{aligned}\n",
    "$$\n",
    "\n",
    "**Objective Function:**\n",
    "\n",
    "$$\n",
    "f(\\mathbf{a}) = \\sigma\\left(\\left\\{\\frac{1}{7} \\sum_{p \\in P_j} skill(p) \\,\\middle|\\, j \\in T\\right\\}\\right)\n",
    "$$"
   ]
  },
  {
   "cell_type": "markdown",
   "id": "363f2ab8",
   "metadata": {},
   "source": [
    "## Main Execution Block"
   ]
  },
  {
   "cell_type": "code",
   "execution_count": null,
   "id": "32f66742",
   "metadata": {
    "lines_to_next_cell": 1
   },
   "outputs": [],
   "source": [
    "def main():\n",
    "    script_total_start_time = time.time()\n",
    "    print(f\"[{time.strftime('%Y-%m-%d %H:%M:%S')}] Single-Processor Script execution started.\")\n",
    "\n",
    "    data_load_start_time = time.time()\n",
    "    print(f\"[{time.strftime('%Y-%m-%d %H:%M:%S')}] Loading player data...\")\n",
    "     # Player data is already loaded globally\n", \"Std Dev Fitness\": ga_std_fitness_config, \n",
    "                \"Mean Exec Time (s)\": ga_mean_exec_time_config,\n",
    "                \"Overall Best Fitness\": float('nan'),\n",
    "                \"Mutation Op\": ga_config_dict[\"mutation_operator_func\"].__name__,\n",
    "                \"Crossover Op\": ga_config_dict[\"crossover_operator_func\"].__name__,\n",
    "                \"Selection Op\": ga_config_dict[\"selection_operator_func\"].__name__\n",
    "            })\n",
    "    ga_section_end_time = time.time()\n",
    "    print(f\"[{time.strftime('%Y-%m-%d %H:%M:%S')}] Genetic Algorithms section took {ga_section_end_time - ga_section_start_time:.2f} seconds.\")"
   ]
  },
  {
   "cell_type": "markdown",
   "id": "d734dc6f",
   "metadata": {},
   "source": [
    "    # ## 4. Comparative Analysis"
   ]
  },
  {
   "cell_type": "code",
   "execution_count": null,
   "id": "877d8352",
   "metadata": {},
   "outputs": [],
   "source": [
    "    print(f\"\\n[{time.strftime('%Y-%m-%d %H:%M:%S')}] --- Generating Comparative Analysis Plots (SP) ---\")\n",
    "    results_df = pd.DataFrame(all_results_summary)\n",
    "    print(\"\\nOverall Results Summary Table (Single-Processor):\")\n",
    "    with pd.option_context(\"display.max_rows\", None, \"display.max_columns\", None, \"display.width\", 1000):\n",
    "        print(results_df)\n",
    "    results_df.to_csv(os.path.join(IMAGES_SP_DIR, \"comparative_results_sp.csv\"), index=False) # Updated path\n",
    "    print(f\"[{time.strftime('%Y-%m-%d %H:%M:%S')}] Saved comparative results CSV to {IMAGES_SP_DIR}/comparative_results_sp.csv\")\n",
    "\n",
    "\n",
    "    plt.figure(figsize=(15, 8)) \n",
    "    plot_df_fitness = results_df.dropna(subset=[\"Overall Best Fitness\"])\n",
    "    plt.bar(plot_df_fitness[\"Algorithm\"], plot_df_fitness[\"Overall Best Fitness\"], color=\"skyblue\")\n",
    "    plt.xlabel(\"Algorithm Configuration\")\n",
    "    plt.ylabel(\"Overall Best Fitness (Std Dev)\")\n",
    "    plt.title(\"Comparative Overall Best Fitness (Single-Processor)\")\n",
    "    plt.xticks(rotation=90) \n",
    "    plt.tight_layout() \n",
    "    plt.savefig(os.path.join(IMAGES_SP_DIR, \"comparative_fitness_sp.png\")) # Updated path\n",
    "    plt.close()\n",
    "    print(f\"[{time.strftime('%Y-%m-%d %H:%M:%S')}] Saved comparative fitness plot to {IMAGES_SP_DIR}/comparative_fitness_sp.png\")\n",
    "\n",
    "    plt.figure(figsize=(15, 8)) \n",
    "    plot_df_time = results_df.dropna(subset=[\"Mean Exec Time (s)\"])\n",
    "    plt.bar(plot_df_time[\"Algorithm\"], plot_df_time[\"Mean Exec Time (s)\"], color=\"lightcoral\")\n",
    "    plt.xlabel(\"Algorithm Configuration\")\n",
    "    plt.ylabel(\"Mean Execution Time per Run (s)\")\n",
    "    plt.title(\"Comparative Mean Execution Time (Single-Processor)\")\n",
    "    plt.xticks(rotation=90)\n",
    "    plt.tight_layout()\n",
    "    plt.savefig(os.path.join(IMAGES_SP_DIR, \"comparative_times_sp.png\")) # Updated path\n",
    "    plt.close()\n",
    "    print(f\"[{time.strftime('%Y-%m-%d %H:%M:%S')}] Saved comparative execution time plot to {IMAGES_SP_DIR}/comparative_times_sp.png\")\n",
    "\n",
    "    script_total_end_time = time.time()\n",
    "    print(f\"\\n[{time.strftime('%Y-%m-%d %H:%M:%S')}] Single-Processor Script execution finished. Total time: {script_total_end_time - script_total_start_time:.2f} seconds.\")"
   ]
  },
  {
   "cell_type": "code",
   "execution_count": null,
   "id": "abdb97f7",
   "metadata": {
    "lines_to_next_cell": 2
   },
   "outputs": [],
   "source": [
    "if __name__ == \"__main__\":\n",
    "    main()"
   ]
  }
 ],
 "metadata": {
  "jupytext": {
   "cell_metadata_filter": "-all",
   "encoding": "# -*- coding: utf-8 -*-",
   "main_language": "python",
   "notebook_metadata_filter": "-all"
  }
 },
 "nbformat": 4,
 "nbformat_minor": 5
}
