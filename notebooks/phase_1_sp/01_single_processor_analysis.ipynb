{
  "cells": [
    {
      "cell_type": "code",
      "execution_count": null,
      "id": "4e855f58",
      "metadata": {
        "lines_to_next_cell": 0
      },
      "outputs": [],
      "source": []
    },
    {
      "cell_type": "markdown",
      "id": "b258d719",
      "metadata": {},
      "source": [
        "# Introduction\n",
        "\n",
        "This work presents a constrained combinatorial optimization approach to the **Sports League Assignment Problem** using **Genetic Algorithms (GAs)**. The objective is to allocate a fixed pool of professional players into a set of 5 structurally valid teams in such a way that the **standard deviation of the teams\\\" average skill ratings** is minimized\u2014promoting competitive balance across the league.\n",
        "\n",
        "Each player is defined by three attributes: **position** (one of `GK`, `DEF`, `MID`, `FWD`), **skill rating** (a numerical measure of ability), and **cost** (in million euros). A valid solution must satisfy the following **hard constraints**:\n",
        "\n",
        "- Each team must consist of exactly **7 players**, with a specific positional structure: **1 GK, 2 DEF, 2 MID, and 2 FWD**\n",
        "- Each team must have a **total cost \u2264 750 million \u20ac**\n",
        "- Each player must be assigned to **exactly one team** (no overlaps)\n",
        "\n",
        "The **search space** is therefore highly constrained and discrete, and infeasible configurations are explicitly excluded from the solution space. The optimization objective is to identify league configurations where teams are not only valid but also **skill-balanced**, quantified by the **standard deviation of average skill ratings across teams**, which serves as the **fitness function** (to be minimized).\n",
        "\n",
        "To address this, we implement a domain-adapted **Genetic Algorithm framework** featuring:\n",
        "\n",
        "- A custom **representation** based on team-to-player mappings\n",
        "- Validity-preserving **mutation** and **crossover** operators\n",
        "- Multiple **selection mechanisms**\n",
        "- Optional **elitism** and population-level diversity handling\n",
        "\n",
        "This report provides a formal problem definition, details the design of the solution encoding and operators, and presents empirical results comparing different GA configurations. The overall objective is to evaluate how well GA-based metaheuristics can navigate this complex constrained search space and evolve solutions that both satisfy domain constraints and optimize league balance.\n",
        "\n",
        "In addition to Genetic Algorithms, this project also explores and evaluates alternative optimization strategies, such as **Hill Climbing** and **Simulated Annealing**, which are well-suited for navigating discrete and constrained search spaces. These algorithms offer different trade-offs in terms of exploration, exploitation, and convergence speed. By implementing and benchmarking multiple approaches on the same problem, we aim to gain deeper insights into their relative effectiveness and robustness when applied to complex constrained optimization tasks such as the Sports League Assignment. This comparative analysis enhances the interpretability of results and supports a broader understanding of the strengths and limitations of population-based versus local search-based heuristics."
      ]
    },
    {
      "cell_type": "markdown",
      "id": "e4255d42",
      "metadata": {},
      "source": [
        "## Cell 1: Setup and Critical Data Loading"
      ]
    },
    {
      "cell_type": "code",
      "execution_count": null,
      "id": "e89107e0",
      "metadata": {},
      "outputs": [],
      "source": [
        "import pandas as pd\n",
        "import numpy as np\n",
        "import matplotlib.pyplot as plt\n",
        "import time\n",
        "import os\n",
        "from pathlib import Path\n",
        "\n",
        "from solution import LeagueSolution, LeagueHillClimbingSolution, LeagueSASolution\n",
        "from evolution import genetic_algorithm, hill_climbing, simulated_annealing\n",
        "from parameters import ProblemParameters, AlgorithmParameters\n",
        "from operators import (\n",
        "    # Base Mutations\n",
        "    mutate_swap,\n",
        "    mutate_team_shift,\n",
        "    mutate_shuffle_team,\n",
        "    # New/Adapted Mutations\n",
        "    mutate_swap_constrained,\n",
        "    mutate_targeted_player_exchange,\n",
        "    mutate_shuffle_within_team_constrained,\n",
        "    # Base Crossovers\n",
        "    crossover_one_point,\n",
        "    crossover_uniform,\n",
        "    # New/Adapted Crossovers\n",
        "    crossover_one_point_prefer_valid,\n",
        "    crossover_uniform_prefer_valid,\n",
        "    # Selection Operators\n",
        "    selection_ranking,\n",
        "    selection_tournament_variable_k,\n",
        "    selection_boltzmann\n",
        ")\n",
        "\n",
        "# Define caminhos relativos para resultados\n",
        "# Determina o diretório raiz do projeto\n",
        "notebook_dir = Path(os.path.dirname(os.path.abspath(__file__)))\n",
        "project_root = notebook_dir.parent.parent  # Ajusta para a raiz do projeto\n",
        "\n",
        "# Define diretórios de resultados\n",
        "RESULTS_DIR = project_root / \"results\"\n",
        "PHASE_1_DIR = RESULTS_DIR / \"phase_1_sp\"\n",
        "IMAGES_DIR = PHASE_1_DIR / \"images\"\n",
        "DATA_DIR = PHASE_1_DIR / \"data\"\n",
        "\n",
        "# Garante que os diretórios existem\n",
        "for dir_path in [RESULTS_DIR, PHASE_1_DIR, IMAGES_DIR, DATA_DIR]:\n",
        "    if not os.path.exists(dir_path):\n",
        "        os.makedirs(dir_path)\n",
        "        print(f\"[{time.strftime('%Y-%m-%d %H:%M:%S')}] Created directory: {dir_path}\")\n",
        "\n",
        "# Inicializa parâmetros do problema e algoritmos\n",
        "problem_params = ProblemParameters()\n",
        "algo_params = AlgorithmParameters()\n",
        "\n",
        "# Exibe os parâmetros para referência\n",
        "print(\"\\nParâmetros do problema:\")\n",
        "print(problem_params)\n",
        "print(\"\\nParâmetros dos algoritmos:\")\n",
        "print(algo_params)\n",
        "\n",
        "# Load player data\n",
        "# Caminho relativo para o arquivo de dados\n",
        "data_file = project_root / \"data\" / \"players.csv\"\n",
        "players_df = pd.read_csv(data_file, sep=\";\")\n",
        "# Não usamos a primeira coluna como índice\n",
        "players_data = players_df.values.tolist()  # Convertendo para lista de listas em vez de dicionários"
      ]
    },
    {
      "cell_type": "markdown",
      "id": "a1be18ec",
      "metadata": {},
      "source": [
        "## Cell 2: Hill Climbing Implementation"
      ]
    }
  ],
  "metadata": {
    "jupytext": {
      "formats": "ipynb,py:percent",
      "text_representation": {
        "extension": ".py",
        "format_name": "percent",
        "format_version": "1.3"
      }
    },
    "kernelspec": {
      "display_name": "Project Kernel",
      "language": "python",
      "name": "project_kernel"
    }
  },
  "nbformat": 4,
  "nbformat_minor": 5
}
