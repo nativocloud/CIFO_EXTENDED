{
  "cells": [
    {
      "cell_type": "markdown",
      "metadata": {},
      "source": [
        "# Relat\u00f3rio da Fase de Multiprocessamento (5 Execu\u00e7\u00f5es)\n",
        "\n",
        "**Equipa CIFO**\n",
        "\n",
        "**Data:** 15 de maio de 2025\n",
        "\n",
        "## 1. Introdu\u00e7\u00e3o\n",
        "\n",
        "Esta sec\u00e7\u00e3o do projeto foca-se na avalia\u00e7\u00e3o do desempenho dos algoritmos de otimiza\u00e7\u00e3o (Hill Climbing, Simulated Annealing e quatro configura\u00e7\u00f5es de Algoritmos Gen\u00e9ticos) quando executados m\u00faltiplas vezes em paralelo. O objetivo principal desta fase foi obter dados estatisticamente mais robustos sobre a efic\u00e1cia e efici\u00eancia de cada abordagem, executando cada algoritmo 5 vezes. A utiliza\u00e7\u00e3o de multiprocessamento permitiu realizar estas execu\u00e7\u00f5es concorrentes, otimizando o tempo total de experimenta\u00e7\u00e3o.\n",
        "\n",
        "Os resultados desta fase s\u00e3o cruciais para identificar os algoritmos e configura\u00e7\u00f5es mais promissores, que ser\u00e3o posteriormente submetidos a um n\u00famero mais elevado de execu\u00e7\u00f5es (30 runs) para uma an\u00e1lise de desempenho ainda mais aprofundada.\n"
      ]
    },
    {
      "cell_type": "markdown",
      "metadata": {},
      "source": [
        "## 2. Metodologia Experimental\n",
        "\n",
        "### 2.1. Algoritmos Avaliados\n",
        "\n",
        "Os seguintes algoritmos e configura\u00e7\u00f5es foram avaliados nesta fase:\n",
        "\n",
        "1.  **Hill Climbing (HC)**: Um algoritmo de busca local iterativo.\n",
        "2.  **Simulated Annealing (SA)**: Um algoritmo probabil\u00edstico inspirado no processo de recozimento em metalurgia.\n",
        "3.  **Algoritmos Gen\u00e9ticos (AG)**: Quatro configura\u00e7\u00f5es distintas foram testadas, variando operadores de muta\u00e7\u00e3o, cruzamento e sele\u00e7\u00e3o:\n",
        "    *   **GA_Config_1_SwapConst1PtPreferVTournVarK**: Muta\u00e7\u00e3o Swap Constrained, Cruzamento One-Point Prefer Valid, Sele\u00e7\u00e3o Tournament Variable K (k=3).\n",
        "    *   **GA_Config_2_TargetExchUnifPreferVRanking**: Muta\u00e7\u00e3o Targeted Player Exchange, Cruzamento Uniform Prefer Valid, Sele\u00e7\u00e3o Ranking.\n",
        "    *   **GA_Config_3_ShuffleWithin1PtPreferVBoltzmann**: Muta\u00e7\u00e3o Shuffle Within Team Constrained, Cruzamento One-Point Prefer Valid, Sele\u00e7\u00e3o Boltzmann.\n",
        "    *   **GA_Config_4_TargetExchUnifPreferVTournVarK_k5**: Muta\u00e7\u00e3o Targeted Player Exchange, Cruzamento Uniform Prefer Valid, Sele\u00e7\u00e3o Tournament Variable K (k=5).\n",
        "\n",
        "### 2.2. Par\u00e2metros de Execu\u00e7\u00e3o\n",
        "\n",
        "*   **N\u00famero de Execu\u00e7\u00f5es por Algoritmo**: Cada algoritmo/configura\u00e7\u00e3o foi executado 5 vezes.\n",
        "*   **Paraleliza\u00e7\u00e3o**: As execu\u00e7\u00f5es foram realizadas em paralelo utilizando o m\u00f3dulo `multiprocessing` do Python.\n",
        "*   **M\u00e9tricas Coletadas**: Melhor Fitness Geral, Fitness M\u00e9dia, Desvio Padr\u00e3o da Fitness, Tempo M\u00e9dio de Execu\u00e7\u00e3o.\n",
        "*   **Ambiente**: Sandbox fornecido, dados de `players.csv`.\n",
        "\n",
        "### 2.3. Gera\u00e7\u00e3o de Popula\u00e7\u00e3o e Validade das Solu\u00e7\u00f5es\n",
        "\n",
        "A gera\u00e7\u00e3o da popula\u00e7\u00e3o inicial e a manuten\u00e7\u00e3o da validade das solu\u00e7\u00f5es seguiram as restri\u00e7\u00f5es definidas (estrutura das equipas, or\u00e7amento m\u00e1ximo, etc.).\n"
      ]
    },
    {
      "cell_type": "markdown",
      "metadata": {},
      "source": [
        "## 3. Resultados e Discuss\u00e3o\n",
        "\n",
        "Ap\u00f3s a execu\u00e7\u00e3o do script `main_script_mp.py` para 5 execu\u00e7\u00f5es de cada algoritmo, os resultados foram compilados. Vamos carregar e exibir o sum\u00e1rio dos resultados.\n"
      ]
    },
    {
      "cell_type": "code",
      "execution_count": null,
      "metadata": {},
      "outputs": [],
      "source": [
        "import pandas as pd\n",
        "import matplotlib.pyplot as plt\n",
        "import seaborn as sns\n",
        "import os\n",
        "\n",
        "# Definir o estilo dos plots\n",
        "plt.style.use('seaborn-v0_8-whitegrid')\n",
        "\n",
        "results_file_path = \"/home/ubuntu/CIFO_EXTENDED_Project/images_mp/run_5_results/all_algorithms_summary_mp_5runs.csv\"\n",
        "output_image_dir = \"/home/ubuntu/CIFO_EXTENDED_Project/images_mp/run_5_results/notebook_generated/\"\n",
        "\n",
        "# Criar diret\u00f3rio de sa\u00edda para imagens se n\u00e3o existir\n",
        "os.makedirs(output_image_dir, exist_ok=True)\n",
        "\n",
        "try:\n",
        "    df_results_5_runs = pd.read_csv(results_file_path)\n",
        "    print(\"Sum\u00e1rio dos Resultados (5 Execu\u00e7\u00f5es):\")\n",
        "    display(df_results_5_runs)\n",
        "except FileNotFoundError:\n",
        "    print(f\"Erro: O ficheiro {results_file_path} n\u00e3o foi encontrado.\")\n",
        "except Exception as e:\n",
        "    print(f\"Erro ao ler o ficheiro de resultados: {e}\")\n"
      ]
    },
    {
      "cell_type": "markdown",
      "metadata": {},
      "source": [
        "### 3.1. An\u00e1lise da Qualidade da Solu\u00e7\u00e3o (Fitness)\n",
        "\n",
        "Observa-se um resultado not\u00e1vel: todos os algoritmos/configura\u00e7\u00f5es (Simulated Annealing, GA_Config_1, GA_Config_2, GA_Config_3, e GA_Config_4) conseguiram alcan\u00e7ar o mesmo valor de **Melhor Fitness Geral (Overall Best Fitness)** de aproximadamente **0.057143**. O Hill Climbing, embora tenha atingido este valor em algumas execu\u00e7\u00f5es, apresentou uma **Fitness M\u00e9dia** ligeiramente superior (0.0671), indicando menor consist\u00eancia em atingir a melhor solu\u00e7\u00e3o encontrada pelos outros.\n",
        "\n",
        "O **Simulated Annealing** e a configura\u00e7\u00e3o **GA_Config_4_TargetExchUnifPreferVTournVarK_k5** destacaram-se pela consist\u00eancia, ambos apresentando um **Desvio Padr\u00e3o da Fitness** de **0.0**. Isto significa que, em todas as 5 execu\u00e7\u00f5es, estes dois algoritmos convergiram para o mesmo valor \u00f3timo de fitness. As outras configura\u00e7\u00f5es de AG (Config_1, Config_2, Config_3) e o HC mostraram maior variabilidade nos resultados de fitness entre as execu\u00e7\u00f5es.\n",
        "\n",
        "A **Fitness M\u00e9dia** da GA_Config_4 (0.057143) foi a melhor entre os AGs, igualando o SA. As GA_Config_1, GA_Config_2 e GA_Config_3 apresentaram fitness m\u00e9dias piores (0.0770, 0.0890, e 0.0936, respetivamente).\n"
      ]
    },
    {
      "cell_type": "code",
      "execution_count": null,
      "metadata": {},
      "outputs": [],
      "source": [
        "if 'df_results_5_runs' in locals():\n",
        "    # Gr\u00e1fico de Barras: Fitness M\u00e9dia\n",
        "    plt.figure(figsize=(12, 7))\n",
        "    sns.barplot(x='Mean Fitness', y='Algorithm', data=df_results_5_runs, palette='viridis')\n",
        "    plt.title('Fitness M\u00e9dia por Algoritmo (5 Execu\u00e7\u00f5es)')\n",
        "    plt.xlabel('Fitness M\u00e9dia (Quanto menor, melhor)')\n",
        "    plt.ylabel('Algoritmo')\n",
        "    plt.tight_layout()\n",
        "    mean_fitness_path = os.path.join(output_image_dir, 'mp_5runs_mean_fitness.png')\n",
        "    plt.savefig(mean_fitness_path)\n",
        "    plt.show()\n",
        "    print(f\"Gr\u00e1fico de Fitness M\u00e9dia guardado em: {mean_fitness_path}\")\n",
        "    \n",
        "    # Gr\u00e1fico de Barras: Melhor Fitness Geral\n",
        "    plt.figure(figsize=(12, 7))\n",
        "    sns.barplot(x='Overall Best Fitness', y='Algorithm', data=df_results_5_runs, palette='mako')\n",
        "    plt.title('Melhor Fitness Geral por Algoritmo (5 Execu\u00e7\u00f5es)')\n",
        "    plt.xlabel('Melhor Fitness Geral (Quanto menor, melhor)')\n",
        "    plt.ylabel('Algoritmo')\n",
        "    plt.tight_layout()\n",
        "    overall_best_fitness_path = os.path.join(output_image_dir, 'mp_5runs_overall_best_fitness.png')\n",
        "    plt.savefig(overall_best_fitness_path)\n",
        "    plt.show()\n",
        "    print(f\"Gr\u00e1fico de Melhor Fitness Geral guardado em: {overall_best_fitness_path}\")\n",
        "    \n",
        "    # Gr\u00e1fico de Barras: Desvio Padr\u00e3o da Fitness\n",
        "    plt.figure(figsize=(12, 7))\n",
        "    sns.barplot(x='Std Dev Fitness', y='Algorithm', data=df_results_5_runs, palette='crest')\n",
        "    plt.title('Desvio Padr\u00e3o da Fitness por Algoritmo (5 Execu\u00e7\u00f5es)')\n",
        "    plt.xlabel('Desvio Padr\u00e3o da Fitness (Quanto menor, mais consistente)')\n",
        "    plt.ylabel('Algoritmo')\n",
        "    plt.tight_layout()\n",
        "    std_dev_fitness_path = os.path.join(output_image_dir, 'mp_5runs_std_dev_fitness.png')\n",
        "    plt.savefig(std_dev_fitness_path)\n",
        "    plt.show()\n",
        "    print(f\"Gr\u00e1fico de Desvio Padr\u00e3o da Fitness guardado em: {std_dev_fitness_path}\")\n",
        "else:\n",
        "    print(\"DataFrame 'df_results_5_runs' n\u00e3o encontrado. Execute a c\u00e9lula anterior para carregar os dados.\")\n"
      ]
    },
    {
      "cell_type": "markdown",
      "metadata": {},
      "source": [
        "### 3.2. An\u00e1lise da Efici\u00eancia (Tempo de Execu\u00e7\u00e3o)\n",
        "\n",
        "No que diz respeito ao **Tempo M\u00e9dio de Execu\u00e7\u00e3o**, as diferen\u00e7as s\u00e3o significativas:\n",
        "\n",
        "*   **Hill Climbing** foi, de longe, o mais r\u00e1pido, com um tempo m\u00e9dio de aproximadamente **0.47 segundos** por execu\u00e7\u00e3o.\n",
        "*   Entre os Algoritmos Gen\u00e9ticos, a **GA_Config_1_SwapConst1PtPreferVTournVarK** foi a mais r\u00e1pida, com cerca de **6.05 segundos**.\n",
        "*   A **GA_Config_4_TargetExchUnifPreferVTournVarK_k5**, que demonstrou excelente consist\u00eancia e qualidade de solu\u00e7\u00e3o, teve um tempo m\u00e9dio de **8.19 segundos**.\n",
        "*   O **Simulated Annealing**, apesar da sua \u00f3tima performance em fitness e consist\u00eancia, foi consideravelmente mais lento, com uma m\u00e9dia de **17.60 segundos**.\n",
        "*   As configura\u00e7\u00f5es **GA_Config_2** e **GA_Config_3** foram as mais lentas, com tempos m\u00e9dios de execu\u00e7\u00e3o a rondar os **61-62 segundos**, o que as torna menos atrativas apesar de terem alcan\u00e7ado a melhor fitness geral em algumas execu\u00e7\u00f5es.\n"
      ]
    },
    {
      "cell_type": "code",
      "execution_count": null,
      "metadata": {},
      "outputs": [],
      "source": [
        "if 'df_results_5_runs' in locals():\n",
        "    # Gr\u00e1fico de Barras: Tempo M\u00e9dio de Execu\u00e7\u00e3o\n",
        "    plt.figure(figsize=(12, 7))\n",
        "    sns.barplot(x='Mean Exec Time (s)', y='Algorithm', data=df_results_5_runs, palette='rocket')\n",
        "    plt.title('Tempo M\u00e9dio de Execu\u00e7\u00e3o por Algoritmo (5 Execu\u00e7\u00f5es)')\n",
        "    plt.xlabel('Tempo M\u00e9dio de Execu\u00e7\u00e3o (s)')\n",
        "    plt.ylabel('Algoritmo')\n",
        "    plt.tight_layout()\n",
        "    mean_exec_time_path = os.path.join(output_image_dir, 'mp_5runs_mean_exec_time.png')\n",
        "    plt.savefig(mean_exec_time_path)\n",
        "    plt.show()\n",
        "    print(f\"Gr\u00e1fico de Tempo M\u00e9dio de Execu\u00e7\u00e3o guardado em: {mean_exec_time_path}\")\n",
        "else:\n",
        "    print(\"DataFrame 'df_results_5_runs' n\u00e3o encontrado. Execute a c\u00e9lula anterior para carregar os dados.\")\n"
      ]
    },
    {
      "cell_type": "markdown",
      "metadata": {},
      "source": [
        "### 3.3. Observa\u00e7\u00f5es Adicionais\n",
        "\n",
        "*   A capacidade de todos os algoritmos (exceto, em m\u00e9dia, o HC) de encontrar a mesma melhor fitness sugere que, para 5 execu\u00e7\u00f5es e os par\u00e2metros atuais, este pode ser um \u00f3timo local robusto ou mesmo o \u00f3timo global para o problema com os dados fornecidos.\n",
        "*   A consist\u00eancia (baixo desvio padr\u00e3o da fitness) \u00e9 uma caracter\u00edstica desej\u00e1vel, e o SA e a GA_Config_4 foram exemplares neste aspeto.\n",
        "*   O compromisso entre a qualidade da solu\u00e7\u00e3o, a consist\u00eancia e o tempo de execu\u00e7\u00e3o \u00e9 um fator chave na sele\u00e7\u00e3o dos algoritmos para testes mais extensivos.\n",
        "\n",
        "(Nota: Os gr\u00e1ficos de converg\u00eancia individuais para a melhor execu\u00e7\u00e3o de cada algoritmo foram gerados pelo script `main_script_mp.py` e guardados em `/home/ubuntu/CIFO_EXTENDED_Project/images_mp/run_5_results/`. Para inclu\u00ed-los diretamente aqui, precisar\u00edamos do c\u00f3digo que os gera ou carregar os ficheiros de imagem.)\n"
      ]
    },
    {
      "cell_type": "markdown",
      "metadata": {},
      "source": [
        "## 4. Conclus\u00f5es Preliminares e Pr\u00f3ximos Passos\n",
        "\n",
        "Com base nos resultados de 5 execu\u00e7\u00f5es em multiprocessamento:\n",
        "\n",
        "*   O **Hill Climbing** \u00e9 extremamente r\u00e1pido, mas menos consistente em encontrar a melhor solu\u00e7\u00e3o em compara\u00e7\u00e3o com os outros.\n",
        "*   O **Simulated Annealing** encontra consistentemente a melhor solu\u00e7\u00e3o, mas com um custo de tempo de execu\u00e7\u00e3o moderado.\n",
        "*   A configura\u00e7\u00e3o de Algoritmo Gen\u00e9tico **GA_Config_4_TargetExchUnifPreferVTournVarK_k5** emerge como uma candidata muito forte, pois igualou o SA e o HC na melhor fitness geral, demonstrou consist\u00eancia perfeita (std dev = 0) e teve um tempo de execu\u00e7\u00e3o significativamente mais baixo que o SA e as outras duas configura\u00e7\u00f5es de AG mais lentas (Config_2 e Config_3).\n",
        "*   A **GA_Config_1_SwapConst1PtPreferVTournVarK** tamb\u00e9m \u00e9 not\u00e1vel pela sua rapidez entre os AGs, embora com menor consist\u00eancia na fitness m\u00e9dia.\n",
        "\n",
        "Estes resultados fornecem uma base s\u00f3lida para a pr\u00f3xima fase do projeto: a sele\u00e7\u00e3o dos algoritmos mais promissores para serem executados 30 vezes. A an\u00e1lise detalhada destes resultados permitir\u00e1 refinar a escolha dos algoritmos e dos seus par\u00e2metros para investiga\u00e7\u00f5es futuras.\n"
      ]
    }
  ],
  "metadata": {
    "kernelspec": {
      "display_name": "Python 3 (ipykernel)",
      "language": "python",
      "name": "python3"
    },
    "language_info": {
      "codemirror_mode": {
        "name": "ipython",
        "version": 3
      },
      "file_extension": ".py",
      "mimetype": "text/x-python",
      "name": "python",
      "nbconvert_exporter": "python",
      "pygments_lexer": "ipython3",
      "version": "3.11.0rc1"
    }
  },
  "nbformat": 4,
  "nbformat_minor": 5
}
